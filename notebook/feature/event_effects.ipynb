{
    "cells": [
        {
            "cell_type": "markdown",
            "id": "21cfea06-af98-496a-b13b-106c335a2e65",
            "metadata": {},
            "source": [
                "# Understand Events and their Effects\n",
                "\n",
                "Effects are useful to create conditional relationships in your data: if some events happen `Effect`s can be configured to modify vectors in order to reflect the induced change of the event."
            ]
        },
        {
            "cell_type": "code",
            "execution_count": 1,
            "id": "1bf67328-efe5-4c88-9c36-ce2d4b20d89f",
            "metadata": {},
            "outputs": [],
            "source": [
                "%pip install superlinked==12.20.0"
            ]
        },
        {
            "cell_type": "code",
            "execution_count": 2,
            "id": "11664035-fff3-4c38-97f3-f2fbb0d46778",
            "metadata": {},
            "outputs": [],
            "source": [
                "from datetime import datetime, timedelta\n",
                "import pandas as pd\n",
                "from superlinked import framework as sl\n",
                "\n",
                "pd.set_option(\"display.max_colwidth\", 100)\n",
                "\n",
                "# set \"NOW\" for a fixed data so the notebook runs the same regardless of the date\n",
                "date_time_obj = datetime(year=2024, month=8, day=7, hour=0, minute=0, second=0)\n",
                "now_timestamp = int(date_time_obj.timestamp())\n",
                "EXECUTOR_DATA = {sl.CONTEXT_COMMON: {sl.CONTEXT_COMMON_NOW: now_timestamp}}"
            ]
        },
        {
            "cell_type": "markdown",
            "id": "70951ddc-ef9d-44af-a984-bebe69ca70e6",
            "metadata": {},
            "source": [
                "## Setting up event schemas\n",
                "\n",
                "Events generally have:\n",
                "- `SchemaReference`s: these contain ids that are resolved in the referenced schema. These reflect the items which were constituents of the event.\n",
                "- event_type as a string: used to group events so that `Effect`s can be applied to a subset of events\n",
                "- and id of course"
            ]
        },
        {
            "cell_type": "code",
            "execution_count": 3,
            "id": "2df24eaf-f9b8-404b-8b7f-0a9d2c2284df",
            "metadata": {},
            "outputs": [],
            "source": [
                "class Paragraph(sl.Schema):\n",
                "    id: sl.IdField\n",
                "    body: sl.String\n",
                "\n",
                "\n",
                "class User(sl.Schema):\n",
                "    id: sl.IdField\n",
                "    interest: sl.String\n",
                "\n",
                "\n",
                "class Event(sl.EventSchema):\n",
                "    id: sl.IdField\n",
                "    created_at: sl.CreatedAtField\n",
                "    paragraph: sl.SchemaReference[Paragraph]\n",
                "    user: sl.SchemaReference[User]\n",
                "    event_type: sl.String\n",
                "\n",
                "\n",
                "paragraph = Paragraph()\n",
                "user = User()\n",
                "event = Event()\n",
                "\n",
                "relevance_space = sl.TextSimilaritySpace(\n",
                "    text=[user.interest, paragraph.body],\n",
                "    model=\"sentence-transformers/all-mpnet-base-v2\",\n",
                ")\n",
                "\n",
                "# weights in effects control importance between events\n",
                "# effectively doesn't matter if there is only one effect in the index.\n",
                "event_effects = [\n",
                "    sl.Effect(\n",
                "        relevance_space,\n",
                "        event.user,\n",
                "        0.8 * event.paragraph,\n",
                "        event.event_type == \"read\",\n",
                "    )\n",
                "]\n",
                "\n",
                "# for this index, only initial data of the user will matter as temperature is 0.\n",
                "index_low_temp = sl.Index(\n",
                "    spaces=relevance_space, effects=event_effects, temperature=0.0\n",
                ")\n",
                "# for this index, initial data and events of the user will matter equally as temperature is 0.5.\n",
                "index_mid_temp = sl.Index(\n",
                "    spaces=relevance_space, effects=event_effects, temperature=0.5\n",
                ")\n",
                "# high temperature means the emphasis shifts to event data, and the initial vector will matter less.\n",
                "# Eventually it will not matter when `temperature = 1.0`.\n",
                "index_hot_temp = sl.Index(\n",
                "    spaces=relevance_space, effects=event_effects, temperature=1.0\n",
                ")"
            ]
        },
        {
            "cell_type": "markdown",
            "id": "3655ac4d-8960-41ae-b912-5099c3576d29",
            "metadata": {},
            "source": [
                "**_NOTE 1:_**  Temperature can be any number between 0 and 1 and controls the tradeoff between initial entity vectors and event effects. Its value can be set based on business logic or parameter tuning. `0.5` is a sensible default."
            ]
        },
        {
            "cell_type": "markdown",
            "id": "4ff6934a-47a4-49cd-9db5-2817f9f58492",
            "metadata": {},
            "source": [
                "**_NOTE 2:_**  `Index` argument `max_age` defaults to `None` if omitted meaning no restriction. If set, events older than it will be filtered out and will not affect the vector."
            ]
        },
        {
            "cell_type": "markdown",
            "id": "674e70c2-82a2-416c-b718-e52906b996ba",
            "metadata": {},
            "source": [
                "**_NOTE 3:_**  `Index` argument `max_count` only takes effect in our batch system."
            ]
        },
        {
            "cell_type": "code",
            "execution_count": 4,
            "id": "4aed826a-470e-4e53-8f2a-e8e529373b61",
            "metadata": {},
            "outputs": [],
            "source": [
                "source_paragraph: sl.InMemorySource = sl.InMemorySource(paragraph)\n",
                "source_user: sl.InMemorySource = sl.InMemorySource(user)\n",
                "source_event: sl.InMemorySource = sl.InMemorySource(event)\n",
                "executor = sl.InMemoryExecutor(\n",
                "    sources=[source_paragraph, source_user, source_event],\n",
                "    indices=[index_low_temp, index_mid_temp, index_hot_temp],\n",
                ")\n",
                "app = executor.run()"
            ]
        },
        {
            "cell_type": "code",
            "execution_count": 5,
            "id": "61d76e31-72f4-4404-8cc1-31c08d08d978",
            "metadata": {},
            "outputs": [],
            "source": [
                "source_paragraph.put(\n",
                "    [\n",
                "        {\"id\": \"paragraph-1\", \"body\": \"Glorious animals live in the wilderness.\"},\n",
                "        {\n",
                "            \"id\": \"paragraph-2\",\n",
                "            \"body\": \"Growing computation power enables advancements in AI.\",\n",
                "        },\n",
                "    ]\n",
                ")\n",
                "\n",
                "source_user.put([{\"id\": \"user-1\", \"interest\": \"I am interested in wild animals.\"}])\n",
                "\n",
                "source_event.put(\n",
                "    [\n",
                "        {\n",
                "            \"id\": \"event-1\",\n",
                "            \"created_at\": int(\n",
                "                (date_time_obj - timedelta(days=2)).timestamp()\n",
                "            ),  # 2 days old event\n",
                "            \"paragraph\": \"paragraph-2\",\n",
                "            \"user\": \"user-1\",\n",
                "            \"event_type\": \"read\",\n",
                "        }\n",
                "    ]\n",
                ")"
            ]
        },
        {
            "cell_type": "markdown",
            "id": "32fdafca-ccee-4760-a7dc-d8cff993df9b",
            "metadata": {},
            "source": [
                "The creation time of events matter - more recent events are more important. The time related modifier of event weights is linearly correlated with the creation time (`created_at` field) of the event and it's relative position between `NOW` and `NOW - max_age`."
            ]
        },
        {
            "cell_type": "markdown",
            "id": "5572403d-b848-4da7-9c8c-7655abd0bc1e",
            "metadata": {},
            "source": [
                "## Making the initial vector count more\n",
                "\n",
                "Setting `temperature` to 0 in `index_low_temp`, the fact the user read a different paragraph (about AI) does not matter - the initial interest in wild animals will prevail. The index is unaffected by the event."
            ]
        },
        {
            "cell_type": "code",
            "execution_count": 6,
            "id": "aaa75750-3b1c-4d68-af9c-133a249f6b0b",
            "metadata": {
                "scrolled": true
            },
            "outputs": [
                {
                    "data": {
                        "text/html": [
                            "<div>\n",
                            "<style scoped>\n",
                            "    .dataframe tbody tr th:only-of-type {\n",
                            "        vertical-align: middle;\n",
                            "    }\n",
                            "\n",
                            "    .dataframe tbody tr th {\n",
                            "        vertical-align: top;\n",
                            "    }\n",
                            "\n",
                            "    .dataframe thead th {\n",
                            "        text-align: right;\n",
                            "    }\n",
                            "</style>\n",
                            "<table border=\"1\" class=\"dataframe\">\n",
                            "  <thead>\n",
                            "    <tr style=\"text-align: right;\">\n",
                            "      <th></th>\n",
                            "      <th>body</th>\n",
                            "      <th>id</th>\n",
                            "      <th>similarity_score</th>\n",
                            "    </tr>\n",
                            "  </thead>\n",
                            "  <tbody>\n",
                            "    <tr>\n",
                            "      <th>0</th>\n",
                            "      <td>Glorious animals live in the wilderness.</td>\n",
                            "      <td>paragraph-1</td>\n",
                            "      <td>0.490420</td>\n",
                            "    </tr>\n",
                            "    <tr>\n",
                            "      <th>1</th>\n",
                            "      <td>Growing computation power enables advancements in AI.</td>\n",
                            "      <td>paragraph-2</td>\n",
                            "      <td>0.020562</td>\n",
                            "    </tr>\n",
                            "  </tbody>\n",
                            "</table>\n",
                            "</div>"
                        ],
                        "text/plain": [
                            "                                                    body           id  \\\n",
                            "0               Glorious animals live in the wilderness.  paragraph-1   \n",
                            "1  Growing computation power enables advancements in AI.  paragraph-2   \n",
                            "\n",
                            "   similarity_score  \n",
                            "0          0.490420  \n",
                            "1          0.020562  "
                        ]
                    },
                    "execution_count": 6,
                    "metadata": {},
                    "output_type": "execute_result"
                }
            ],
            "source": [
                "query_low_temp = (\n",
                "    sl.Query(index_low_temp).find(paragraph).with_vector(user, sl.Param(\"user_id\"))\n",
                ")\n",
                "\n",
                "result_low_temp = app.query(\n",
                "    query_low_temp,\n",
                "    user_id=\"user-1\",\n",
                ")\n",
                "\n",
                "result_low_temp.to_pandas()"
            ]
        },
        {
            "cell_type": "markdown",
            "id": "66e9ade3-0f54-4a0c-88e8-85641b6a140f",
            "metadata": {},
            "source": [
                "## The power of events\n",
                "\n",
                "Increasing temperature switches the effect of events on, and shifts the user vector away from the initial interest (wild animals) towards newly read topics (AI). Even though the user expressed interest in wild animals, as an other document about AI was read the preferences shifted towards the actual empirical assessment of their interest. "
            ]
        },
        {
            "cell_type": "code",
            "execution_count": 7,
            "id": "efce4bfc-e21e-4f06-97e3-d33e07da228c",
            "metadata": {
                "scrolled": true
            },
            "outputs": [
                {
                    "data": {
                        "text/html": [
                            "<div>\n",
                            "<style scoped>\n",
                            "    .dataframe tbody tr th:only-of-type {\n",
                            "        vertical-align: middle;\n",
                            "    }\n",
                            "\n",
                            "    .dataframe tbody tr th {\n",
                            "        vertical-align: top;\n",
                            "    }\n",
                            "\n",
                            "    .dataframe thead th {\n",
                            "        text-align: right;\n",
                            "    }\n",
                            "</style>\n",
                            "<table border=\"1\" class=\"dataframe\">\n",
                            "  <thead>\n",
                            "    <tr style=\"text-align: right;\">\n",
                            "      <th></th>\n",
                            "      <th>body</th>\n",
                            "      <th>id</th>\n",
                            "      <th>similarity_score</th>\n",
                            "    </tr>\n",
                            "  </thead>\n",
                            "  <tbody>\n",
                            "    <tr>\n",
                            "      <th>0</th>\n",
                            "      <td>Growing computation power enables advancements in AI.</td>\n",
                            "      <td>paragraph-2</td>\n",
                            "      <td>0.714340</td>\n",
                            "    </tr>\n",
                            "    <tr>\n",
                            "      <th>1</th>\n",
                            "      <td>Glorious animals live in the wilderness.</td>\n",
                            "      <td>paragraph-1</td>\n",
                            "      <td>0.368305</td>\n",
                            "    </tr>\n",
                            "  </tbody>\n",
                            "</table>\n",
                            "</div>"
                        ],
                        "text/plain": [
                            "                                                    body           id  \\\n",
                            "0  Growing computation power enables advancements in AI.  paragraph-2   \n",
                            "1               Glorious animals live in the wilderness.  paragraph-1   \n",
                            "\n",
                            "   similarity_score  \n",
                            "0          0.714340  \n",
                            "1          0.368305  "
                        ]
                    },
                    "execution_count": 7,
                    "metadata": {},
                    "output_type": "execute_result"
                }
            ],
            "source": [
                "query_mid_temp = (\n",
                "    sl.Query(index_mid_temp).find(paragraph).with_vector(user, sl.Param(\"user_id\"))\n",
                ")\n",
                "\n",
                "result_mid_temp = app.query(\n",
                "    query_mid_temp,\n",
                "    user_id=\"user-1\",\n",
                ")\n",
                "\n",
                "result_mid_temp.to_pandas()"
            ]
        },
        {
            "cell_type": "markdown",
            "id": "36b747ae-845d-42ac-bf36-19358b63d4f7",
            "metadata": {},
            "source": [
                "### Driven fully by events\n",
                "\n",
                "Setting `temperature` to 1 means similarities are driven entirely by the event data: hence the `1.0` similarity to the read paragraph."
            ]
        },
        {
            "cell_type": "code",
            "execution_count": 8,
            "id": "108be352-ec0b-4764-8523-05ab36723752",
            "metadata": {},
            "outputs": [
                {
                    "data": {
                        "text/html": [
                            "<div>\n",
                            "<style scoped>\n",
                            "    .dataframe tbody tr th:only-of-type {\n",
                            "        vertical-align: middle;\n",
                            "    }\n",
                            "\n",
                            "    .dataframe tbody tr th {\n",
                            "        vertical-align: top;\n",
                            "    }\n",
                            "\n",
                            "    .dataframe thead th {\n",
                            "        text-align: right;\n",
                            "    }\n",
                            "</style>\n",
                            "<table border=\"1\" class=\"dataframe\">\n",
                            "  <thead>\n",
                            "    <tr style=\"text-align: right;\">\n",
                            "      <th></th>\n",
                            "      <th>body</th>\n",
                            "      <th>id</th>\n",
                            "      <th>similarity_score</th>\n",
                            "    </tr>\n",
                            "  </thead>\n",
                            "  <tbody>\n",
                            "    <tr>\n",
                            "      <th>0</th>\n",
                            "      <td>Growing computation power enables advancements in AI.</td>\n",
                            "      <td>paragraph-2</td>\n",
                            "      <td>1.000000</td>\n",
                            "    </tr>\n",
                            "    <tr>\n",
                            "      <th>1</th>\n",
                            "      <td>Glorious animals live in the wilderness.</td>\n",
                            "      <td>paragraph-1</td>\n",
                            "      <td>0.035769</td>\n",
                            "    </tr>\n",
                            "  </tbody>\n",
                            "</table>\n",
                            "</div>"
                        ],
                        "text/plain": [
                            "                                                    body           id  \\\n",
                            "0  Growing computation power enables advancements in AI.  paragraph-2   \n",
                            "1               Glorious animals live in the wilderness.  paragraph-1   \n",
                            "\n",
                            "   similarity_score  \n",
                            "0          1.000000  \n",
                            "1          0.035769  "
                        ]
                    },
                    "execution_count": 8,
                    "metadata": {},
                    "output_type": "execute_result"
                }
            ],
            "source": [
                "query_hot_temp = (\n",
                "    sl.Query(index_hot_temp).find(paragraph).with_vector(user, sl.Param(\"user_id\"))\n",
                ")\n",
                "\n",
                "result_hot_temp = app.query(\n",
                "    query_hot_temp,\n",
                "    user_id=\"user-1\",\n",
                ")\n",
                "\n",
                "result_hot_temp.to_pandas()"
            ]
        }
    ],
    "metadata": {
        "kernelspec": {
            "display_name": "Python 3 (ipykernel)",
            "language": "python",
            "name": "python3"
        },
        "language_info": {
            "codemirror_mode": {
                "name": "ipython",
                "version": 3
            },
            "file_extension": ".py",
            "mimetype": "text/x-python",
            "name": "python",
            "nbconvert_exporter": "python",
            "pygments_lexer": "ipython3",
            "version": "3.10.9"
        }
    },
    "nbformat": 4,
    "nbformat_minor": 5
}
