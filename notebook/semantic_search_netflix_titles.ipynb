{
 "cells": [
  {
   "cell_type": "markdown",
   "id": "9b043a5f-b961-4c6c-9107-f9ae8f0778f3",
   "metadata": {},
   "source": [
    "# Netflix movie search\n",
    "\n",
    "Finding out what to watch is tough choice mainly because of the abundance of options and the scarcity of time.\n",
    "Let's follow a data-driven approach to arrive at a decision!\n",
    "\n",
    "In our [dataset](https://www.kaggle.com/datasets/dgoenrique/netflix-movies-and-tv-shows) of movies, we know the\n",
    "- description,\n",
    "- genre\n",
    "- title\n",
    "- and the release_year\n",
    "of the movie.\n",
    "\n",
    "Putting together a vector index on top of these embedded inputs will create a space where we can search semantically to find our movie choice for tonight.\n",
    "\n",
    "We are going to browse the movies\n",
    "\n",
    "- searching with an idea (heartfelt romantic comedy)\n",
    "- tweak around the results giving more importance to matches in certain input fields\n",
    "- search in description, genre and title with different search terms for each\n",
    "- and after finding a close enough movie (that is not quite it), search around utilizing that one, too"
   ]
  },
  {
   "cell_type": "markdown",
   "id": "80fdfc22-58c9-4355-97e9-685ced8a8a1e",
   "metadata": {},
   "source": [
    "## Boilerplate\n",
    "\n",
    "### Installation"
   ]
  },
  {
   "cell_type": "code",
   "execution_count": 1,
   "id": "782788ff-ea73-4e06-8fd2-b4a114b5f25d",
   "metadata": {
    "scrolled": true
   },
   "outputs": [],
   "source": [
    "%pip install superlinked==12.23.0"
   ]
  },
  {
   "cell_type": "markdown",
   "id": "cb50885c-536e-480a-b3a1-3c0d4449d64b",
   "metadata": {},
   "source": [
    "### Imports and constants"
   ]
  },
  {
   "cell_type": "code",
   "execution_count": 2,
   "id": "f641dd4c-2df4-460d-bd96-f0b654e1bd05",
   "metadata": {},
   "outputs": [],
   "source": [
    "import ast\n",
    "from datetime import timedelta, datetime\n",
    "import os\n",
    "import sys\n",
    "\n",
    "import altair as alt\n",
    "import pandas as pd\n",
    "from superlinked import framework as sl\n",
    "\n",
    "alt.renderers.enable(sl.get_altair_renderer())\n",
    "alt.data_transformers.disable_max_rows()\n",
    "pd.set_option(\"display.max_colwidth\", 190)"
   ]
  },
  {
   "cell_type": "code",
   "execution_count": 3,
   "id": "2b55a3d8-dbe3-4f35-be21-11864226252d",
   "metadata": {},
   "outputs": [],
   "source": [
    "YEAR_IN_DAYS = 365\n",
    "TOP_N = 10\n",
    "DATASET_URL = \"https://storage.googleapis.com/superlinked-notebook-netflix-shows-dataset/titles.csv\"\n",
    "# as our latest movie is from 2022 we can set this as the time of the analysis\n",
    "END_OF_2022_TS = int(datetime(2022, 12, 31, 23, 59).timestamp())\n",
    "EXECUTOR_DATA = {sl.CONTEXT_COMMON: {sl.CONTEXT_COMMON_NOW: END_OF_2022_TS}}"
   ]
  },
  {
   "cell_type": "markdown",
   "id": "480739b3-b03f-426d-9eec-affb54d86228",
   "metadata": {},
   "source": [
    "## Prepare dataset"
   ]
  },
  {
   "cell_type": "code",
   "execution_count": 4,
   "id": "339d4fcf-50d2-4d5c-a800-14807a2d4cfb",
   "metadata": {},
   "outputs": [
    {
     "data": {
      "text/html": [
       "<div>\n",
       "<style scoped>\n",
       "    .dataframe tbody tr th:only-of-type {\n",
       "        vertical-align: middle;\n",
       "    }\n",
       "\n",
       "    .dataframe tbody tr th {\n",
       "        vertical-align: top;\n",
       "    }\n",
       "\n",
       "    .dataframe thead th {\n",
       "        text-align: right;\n",
       "    }\n",
       "</style>\n",
       "<table border=\"1\" class=\"dataframe\">\n",
       "  <thead>\n",
       "    <tr style=\"text-align: right;\">\n",
       "      <th></th>\n",
       "      <th>description</th>\n",
       "      <th>genres</th>\n",
       "      <th>title</th>\n",
       "      <th>release_year</th>\n",
       "      <th>id</th>\n",
       "      <th>timestamp</th>\n",
       "    </tr>\n",
       "  </thead>\n",
       "  <tbody>\n",
       "    <tr>\n",
       "      <th>0</th>\n",
       "      <td>This collection includes 12 World War II-era propaganda films — many of which are graphic and offensive — discussed in the docuseries \"Five Came Back.\"</td>\n",
       "      <td>documentation</td>\n",
       "      <td>Five Came Back: The Reference Films</td>\n",
       "      <td>1945</td>\n",
       "      <td>ts300399</td>\n",
       "      <td>-788918400</td>\n",
       "    </tr>\n",
       "    <tr>\n",
       "      <th>1</th>\n",
       "      <td>A mentally unstable Vietnam War veteran works as a night-time taxi driver in New York City where the perceived decadence and sleaze feed his urge for violent action.</td>\n",
       "      <td>drama crime</td>\n",
       "      <td>Taxi Driver</td>\n",
       "      <td>1976</td>\n",
       "      <td>tm84618</td>\n",
       "      <td>189302400</td>\n",
       "    </tr>\n",
       "    <tr>\n",
       "      <th>2</th>\n",
       "      <td>Intent on seeing the Cahulawassee River before it's turned into one huge lake, outdoor fanatic Lewis Medlock takes his friends on a river-rafting trip they'll never forget into the dange...</td>\n",
       "      <td>drama action thriller european</td>\n",
       "      <td>Deliverance</td>\n",
       "      <td>1972</td>\n",
       "      <td>tm154986</td>\n",
       "      <td>63072000</td>\n",
       "    </tr>\n",
       "    <tr>\n",
       "      <th>3</th>\n",
       "      <td>King Arthur, accompanied by his squire, recruits his Knights of the Round Table, including Sir Bedevere the Wise, Sir Lancelot the Brave, Sir Robin the Not-Quite-So-Brave-As-Sir-Lancelot...</td>\n",
       "      <td>fantasy action comedy</td>\n",
       "      <td>Monty Python and the Holy Grail</td>\n",
       "      <td>1975</td>\n",
       "      <td>tm127384</td>\n",
       "      <td>157766400</td>\n",
       "    </tr>\n",
       "    <tr>\n",
       "      <th>4</th>\n",
       "      <td>12 American military prisoners in World War II are ordered to infiltrate a well-guarded enemy château and kill the Nazi officers vacationing there. The soldiers, most of whom are facing ...</td>\n",
       "      <td>war action</td>\n",
       "      <td>The Dirty Dozen</td>\n",
       "      <td>1967</td>\n",
       "      <td>tm120801</td>\n",
       "      <td>-94694400</td>\n",
       "    </tr>\n",
       "  </tbody>\n",
       "</table>\n",
       "</div>"
      ],
      "text/plain": [
       "                                                                                                                                                                                     description  \\\n",
       "0                                        This collection includes 12 World War II-era propaganda films — many of which are graphic and offensive — discussed in the docuseries \"Five Came Back.\"   \n",
       "1                          A mentally unstable Vietnam War veteran works as a night-time taxi driver in New York City where the perceived decadence and sleaze feed his urge for violent action.   \n",
       "2  Intent on seeing the Cahulawassee River before it's turned into one huge lake, outdoor fanatic Lewis Medlock takes his friends on a river-rafting trip they'll never forget into the dange...   \n",
       "3  King Arthur, accompanied by his squire, recruits his Knights of the Round Table, including Sir Bedevere the Wise, Sir Lancelot the Brave, Sir Robin the Not-Quite-So-Brave-As-Sir-Lancelot...   \n",
       "4  12 American military prisoners in World War II are ordered to infiltrate a well-guarded enemy château and kill the Nazi officers vacationing there. The soldiers, most of whom are facing ...   \n",
       "\n",
       "                           genres                                title  \\\n",
       "0                   documentation  Five Came Back: The Reference Films   \n",
       "1                     drama crime                          Taxi Driver   \n",
       "2  drama action thriller european                          Deliverance   \n",
       "3           fantasy action comedy      Monty Python and the Holy Grail   \n",
       "4                      war action                      The Dirty Dozen   \n",
       "\n",
       "   release_year        id  timestamp  \n",
       "0          1945  ts300399 -788918400  \n",
       "1          1976   tm84618  189302400  \n",
       "2          1972  tm154986   63072000  \n",
       "3          1975  tm127384  157766400  \n",
       "4          1967  tm120801  -94694400  "
      ]
     },
     "execution_count": 4,
     "metadata": {},
     "output_type": "execute_result"
    }
   ],
   "source": [
    "NROWS = int(os.getenv(\"NOTEBOOK_TEST_ROW_LIMIT\", str(sys.maxsize)))\n",
    "movie_df = pd.read_csv(DATASET_URL, nrows=NROWS)\n",
    "# keep only relevant columns\n",
    "movie_df = (\n",
    "    movie_df[[\"description\", \"genres\", \"title\", \"release_year\", \"id\"]]\n",
    "    .drop_duplicates(subset=[\"description\"])\n",
    "    .dropna(how=\"any\")\n",
    ")\n",
    "# join genres to create a textual column\n",
    "movie_df[\"genres\"] = movie_df[\"genres\"].apply(lambda x: \" \".join(ast.literal_eval(x)))\n",
    "# convert release year to a timestamp - always the 1st of January\n",
    "movie_df[\"timestamp\"] = [\n",
    "    int(pd.Timestamp(year=year, month=1, day=1).timestamp())\n",
    "    for year in movie_df[\"release_year\"].tolist()\n",
    "]\n",
    "movie_df.head()"
   ]
  },
  {
   "cell_type": "code",
   "execution_count": 5,
   "id": "4cfe8e4b-a22d-4b79-acf3-e1dc91bb3ec7",
   "metadata": {},
   "outputs": [
    {
     "data": {
      "application/vnd.vegalite.v5+json": {
       "$schema": "https://vega.github.io/schema/vega-lite/v5.16.3.json",
       "config": {
        "view": {
         "continuousHeight": 300,
         "continuousWidth": 300
        }
       },
       "data": {
        "name": "data-1193ce539508db5243d364ac44c0c4ed"
       },
       "datasets": {
        "data-1193ce539508db5243d364ac44c0c4ed": [
         {
          "release_year": "1945"
         },
         {
          "release_year": "1976"
         },
         {
          "release_year": "1972"
         },
         {
          "release_year": "1975"
         },
         {
          "release_year": "1967"
         },
         {
          "release_year": "1969"
         },
         {
          "release_year": "1979"
         },
         {
          "release_year": "1971"
         },
         {
          "release_year": "1967"
         },
         {
          "release_year": "1980"
         },
         {
          "release_year": "1961"
         },
         {
          "release_year": "1966"
         },
         {
          "release_year": "1979"
         },
         {
          "release_year": "1954"
         },
         {
          "release_year": "1958"
         },
         {
          "release_year": "1977"
         },
         {
          "release_year": "1972"
         },
         {
          "release_year": "1979"
         },
         {
          "release_year": "1969"
         },
         {
          "release_year": "1980"
         },
         {
          "release_year": "1963"
         },
         {
          "release_year": "1979"
         },
         {
          "release_year": "1954"
         },
         {
          "release_year": "1956"
         },
         {
          "release_year": "1979"
         },
         {
          "release_year": "1960"
         },
         {
          "release_year": "1972"
         },
         {
          "release_year": "1975"
         },
         {
          "release_year": "1976"
         },
         {
          "release_year": "1973"
         },
         {
          "release_year": "1974"
         },
         {
          "release_year": "1959"
         },
         {
          "release_year": "1980"
         },
         {
          "release_year": "1976"
         },
         {
          "release_year": "1978"
         },
         {
          "release_year": "1989"
         },
         {
          "release_year": "1990"
         },
         {
          "release_year": "1987"
         },
         {
          "release_year": "1984"
         },
         {
          "release_year": "1989"
         },
         {
          "release_year": "1984"
         },
         {
          "release_year": "1989"
         },
         {
          "release_year": "1984"
         },
         {
          "release_year": "1983"
         },
         {
          "release_year": "1982"
         },
         {
          "release_year": "1984"
         },
         {
          "release_year": "1989"
         },
         {
          "release_year": "1990"
         },
         {
          "release_year": "1983"
         },
         {
          "release_year": "1989"
         },
         {
          "release_year": "1989"
         },
         {
          "release_year": "1987"
         },
         {
          "release_year": "1986"
         },
         {
          "release_year": "1989"
         },
         {
          "release_year": "1981"
         },
         {
          "release_year": "1981"
         },
         {
          "release_year": "1983"
         },
         {
          "release_year": "1988"
         },
         {
          "release_year": "1981"
         },
         {
          "release_year": "1987"
         },
         {
          "release_year": "1987"
         },
         {
          "release_year": "1985"
         },
         {
          "release_year": "1990"
         },
         {
          "release_year": "1982"
         },
         {
          "release_year": "1982"
         },
         {
          "release_year": "1982"
         },
         {
          "release_year": "1990"
         },
         {
          "release_year": "1989"
         },
         {
          "release_year": "1988"
         },
         {
          "release_year": "1988"
         },
         {
          "release_year": "1989"
         },
         {
          "release_year": "1990"
         },
         {
          "release_year": "1986"
         },
         {
          "release_year": "1988"
         },
         {
          "release_year": "1990"
         },
         {
          "release_year": "1989"
         },
         {
          "release_year": "1989"
         },
         {
          "release_year": "1988"
         },
         {
          "release_year": "1989"
         },
         {
          "release_year": "1984"
         },
         {
          "release_year": "1987"
         },
         {
          "release_year": "1986"
         },
         {
          "release_year": "1988"
         },
         {
          "release_year": "1988"
         },
         {
          "release_year": "1987"
         },
         {
          "release_year": "1986"
         },
         {
          "release_year": "1984"
         },
         {
          "release_year": "1983"
         },
         {
          "release_year": "1982"
         },
         {
          "release_year": "1982"
         },
         {
          "release_year": "1990"
         },
         {
          "release_year": "2000"
         },
         {
          "release_year": "1996"
         },
         {
          "release_year": "1997"
         },
         {
          "release_year": "1995"
         },
         {
          "release_year": "1997"
         },
         {
          "release_year": "1997"
         },
         {
          "release_year": "1994"
         },
         {
          "release_year": "2000"
         },
         {
          "release_year": "1999"
         },
         {
          "release_year": "1999"
         },
         {
          "release_year": "1998"
         },
         {
          "release_year": "1997"
         },
         {
          "release_year": "1998"
         },
         {
          "release_year": "1997"
         },
         {
          "release_year": "2000"
         },
         {
          "release_year": "1994"
         },
         {
          "release_year": "1995"
         },
         {
          "release_year": "1997"
         },
         {
          "release_year": "1994"
         },
         {
          "release_year": "2000"
         },
         {
          "release_year": "1994"
         },
         {
          "release_year": "1995"
         },
         {
          "release_year": "1998"
         },
         {
          "release_year": "1993"
         },
         {
          "release_year": "1999"
         },
         {
          "release_year": "1998"
         },
         {
          "release_year": "1998"
         },
         {
          "release_year": "1997"
         },
         {
          "release_year": "1994"
         },
         {
          "release_year": "1995"
         },
         {
          "release_year": "2000"
         },
         {
          "release_year": "1992"
         },
         {
          "release_year": "1999"
         },
         {
          "release_year": "1993"
         },
         {
          "release_year": "1994"
         },
         {
          "release_year": "1991"
         },
         {
          "release_year": "1994"
         },
         {
          "release_year": "1996"
         },
         {
          "release_year": "1997"
         },
         {
          "release_year": "1997"
         },
         {
          "release_year": "1993"
         },
         {
          "release_year": "1994"
         },
         {
          "release_year": "1998"
         },
         {
          "release_year": "1992"
         },
         {
          "release_year": "1997"
         },
         {
          "release_year": "1996"
         },
         {
          "release_year": "2000"
         },
         {
          "release_year": "1997"
         },
         {
          "release_year": "1995"
         },
         {
          "release_year": "1993"
         },
         {
          "release_year": "1993"
         },
         {
          "release_year": "1995"
         },
         {
          "release_year": "1994"
         },
         {
          "release_year": "1998"
         },
         {
          "release_year": "1991"
         },
         {
          "release_year": "1997"
         },
         {
          "release_year": "1998"
         },
         {
          "release_year": "1997"
         },
         {
          "release_year": "1993"
         },
         {
          "release_year": "1998"
         },
         {
          "release_year": "2000"
         },
         {
          "release_year": "1994"
         },
         {
          "release_year": "1993"
         },
         {
          "release_year": "1997"
         },
         {
          "release_year": "1995"
         },
         {
          "release_year": "1998"
         },
         {
          "release_year": "1999"
         },
         {
          "release_year": "1994"
         },
         {
          "release_year": "1996"
         },
         {
          "release_year": "1994"
         },
         {
          "release_year": "1999"
         },
         {
          "release_year": "1998"
         },
         {
          "release_year": "1994"
         },
         {
          "release_year": "1991"
         },
         {
          "release_year": "2000"
         },
         {
          "release_year": "1994"
         },
         {
          "release_year": "1998"
         },
         {
          "release_year": "1998"
         },
         {
          "release_year": "1998"
         },
         {
          "release_year": "1993"
         },
         {
          "release_year": "1999"
         },
         {
          "release_year": "1993"
         },
         {
          "release_year": "1998"
         },
         {
          "release_year": "1991"
         },
         {
          "release_year": "1993"
         },
         {
          "release_year": "1995"
         },
         {
          "release_year": "1991"
         },
         {
          "release_year": "1999"
         },
         {
          "release_year": "1998"
         },
         {
          "release_year": "1991"
         },
         {
          "release_year": "1996"
         },
         {
          "release_year": "1993"
         },
         {
          "release_year": "1999"
         },
         {
          "release_year": "1997"
         },
         {
          "release_year": "1996"
         },
         {
          "release_year": "1995"
         },
         {
          "release_year": "1998"
         },
         {
          "release_year": "1998"
         },
         {
          "release_year": "1997"
         },
         {
          "release_year": "1998"
         },
         {
          "release_year": "1996"
         },
         {
          "release_year": "1994"
         },
         {
          "release_year": "1991"
         },
         {
          "release_year": "2000"
         },
         {
          "release_year": "1999"
         },
         {
          "release_year": "1992"
         },
         {
          "release_year": "1991"
         },
         {
          "release_year": "1991"
         },
         {
          "release_year": "1998"
         },
         {
          "release_year": "1993"
         },
         {
          "release_year": "1991"
         },
         {
          "release_year": "1993"
         },
         {
          "release_year": "1998"
         },
         {
          "release_year": "1993"
         },
         {
          "release_year": "2000"
         },
         {
          "release_year": "2000"
         },
         {
          "release_year": "1999"
         },
         {
          "release_year": "1991"
         },
         {
          "release_year": "1994"
         },
         {
          "release_year": "1999"
         },
         {
          "release_year": "1995"
         },
         {
          "release_year": "1998"
         },
         {
          "release_year": "1991"
         },
         {
          "release_year": "1999"
         },
         {
          "release_year": "1991"
         },
         {
          "release_year": "2008"
         },
         {
          "release_year": "2002"
         },
         {
          "release_year": "2010"
         },
         {
          "release_year": "2005"
         },
         {
          "release_year": "2007"
         },
         {
          "release_year": "2004"
         },
         {
          "release_year": "2010"
         },
         {
          "release_year": "2006"
         },
         {
          "release_year": "2010"
         },
         {
          "release_year": "2009"
         },
         {
          "release_year": "2002"
         },
         {
          "release_year": "2005"
         },
         {
          "release_year": "2003"
         },
         {
          "release_year": "2007"
         },
         {
          "release_year": "2004"
         },
         {
          "release_year": "2003"
         },
         {
          "release_year": "2003"
         },
         {
          "release_year": "2005"
         },
         {
          "release_year": "2004"
         },
         {
          "release_year": "2006"
         },
         {
          "release_year": "2006"
         },
         {
          "release_year": "2010"
         },
         {
          "release_year": "2008"
         },
         {
          "release_year": "2006"
         },
         {
          "release_year": "2005"
         },
         {
          "release_year": "2010"
         },
         {
          "release_year": "2005"
         },
         {
          "release_year": "2006"
         },
         {
          "release_year": "2009"
         },
         {
          "release_year": "2002"
         },
         {
          "release_year": "2008"
         },
         {
          "release_year": "2006"
         },
         {
          "release_year": "2010"
         },
         {
          "release_year": "2007"
         },
         {
          "release_year": "2003"
         },
         {
          "release_year": "2004"
         },
         {
          "release_year": "2007"
         },
         {
          "release_year": "2002"
         },
         {
          "release_year": "2010"
         },
         {
          "release_year": "2003"
         },
         {
          "release_year": "2008"
         },
         {
          "release_year": "2004"
         },
         {
          "release_year": "2009"
         },
         {
          "release_year": "2001"
         },
         {
          "release_year": "2003"
         },
         {
          "release_year": "2003"
         },
         {
          "release_year": "2008"
         },
         {
          "release_year": "2008"
         },
         {
          "release_year": "2009"
         },
         {
          "release_year": "2001"
         },
         {
          "release_year": "2003"
         },
         {
          "release_year": "2007"
         },
         {
          "release_year": "2001"
         },
         {
          "release_year": "2010"
         },
         {
          "release_year": "2004"
         },
         {
          "release_year": "2004"
         },
         {
          "release_year": "2010"
         },
         {
          "release_year": "2009"
         },
         {
          "release_year": "2001"
         },
         {
          "release_year": "2001"
         },
         {
          "release_year": "2008"
         },
         {
          "release_year": "2007"
         },
         {
          "release_year": "2006"
         },
         {
          "release_year": "2003"
         },
         {
          "release_year": "2008"
         },
         {
          "release_year": "2003"
         },
         {
          "release_year": "2004"
         },
         {
          "release_year": "2001"
         },
         {
          "release_year": "2008"
         },
         {
          "release_year": "2010"
         },
         {
          "release_year": "2009"
         },
         {
          "release_year": "2001"
         },
         {
          "release_year": "2010"
         },
         {
          "release_year": "2007"
         },
         {
          "release_year": "2006"
         },
         {
          "release_year": "2002"
         },
         {
          "release_year": "2008"
         },
         {
          "release_year": "2006"
         },
         {
          "release_year": "2007"
         },
         {
          "release_year": "2010"
         },
         {
          "release_year": "2006"
         },
         {
          "release_year": "2005"
         },
         {
          "release_year": "2008"
         },
         {
          "release_year": "2008"
         },
         {
          "release_year": "2009"
         },
         {
          "release_year": "2007"
         },
         {
          "release_year": "2010"
         },
         {
          "release_year": "2008"
         },
         {
          "release_year": "2010"
         },
         {
          "release_year": "2004"
         },
         {
          "release_year": "2005"
         },
         {
          "release_year": "2007"
         },
         {
          "release_year": "2010"
         },
         {
          "release_year": "2003"
         },
         {
          "release_year": "2006"
         },
         {
          "release_year": "2002"
         },
         {
          "release_year": "2010"
         },
         {
          "release_year": "2007"
         },
         {
          "release_year": "2005"
         },
         {
          "release_year": "2002"
         },
         {
          "release_year": "2009"
         },
         {
          "release_year": "2001"
         },
         {
          "release_year": "2006"
         },
         {
          "release_year": "2003"
         },
         {
          "release_year": "2002"
         },
         {
          "release_year": "2003"
         },
         {
          "release_year": "2003"
         },
         {
          "release_year": "2010"
         },
         {
          "release_year": "2008"
         },
         {
          "release_year": "2006"
         },
         {
          "release_year": "2009"
         },
         {
          "release_year": "2003"
         },
         {
          "release_year": "2007"
         },
         {
          "release_year": "2004"
         },
         {
          "release_year": "2009"
         },
         {
          "release_year": "2003"
         },
         {
          "release_year": "2007"
         },
         {
          "release_year": "2007"
         },
         {
          "release_year": "2008"
         },
         {
          "release_year": "2009"
         },
         {
          "release_year": "2006"
         },
         {
          "release_year": "2007"
         },
         {
          "release_year": "2008"
         },
         {
          "release_year": "2010"
         },
         {
          "release_year": "2005"
         },
         {
          "release_year": "2004"
         },
         {
          "release_year": "2004"
         },
         {
          "release_year": "2005"
         },
         {
          "release_year": "2002"
         },
         {
          "release_year": "2006"
         },
         {
          "release_year": "2009"
         },
         {
          "release_year": "2001"
         },
         {
          "release_year": "2005"
         },
         {
          "release_year": "2007"
         },
         {
          "release_year": "2002"
         },
         {
          "release_year": "2005"
         },
         {
          "release_year": "2006"
         },
         {
          "release_year": "2010"
         },
         {
          "release_year": "2010"
         },
         {
          "release_year": "2010"
         },
         {
          "release_year": "2005"
         },
         {
          "release_year": "2007"
         },
         {
          "release_year": "2007"
         },
         {
          "release_year": "2004"
         },
         {
          "release_year": "2004"
         },
         {
          "release_year": "2006"
         },
         {
          "release_year": "2007"
         },
         {
          "release_year": "2006"
         },
         {
          "release_year": "2009"
         },
         {
          "release_year": "2010"
         },
         {
          "release_year": "2010"
         },
         {
          "release_year": "2008"
         },
         {
          "release_year": "2006"
         },
         {
          "release_year": "2010"
         },
         {
          "release_year": "2008"
         },
         {
          "release_year": "2009"
         },
         {
          "release_year": "2007"
         },
         {
          "release_year": "2009"
         },
         {
          "release_year": "2002"
         },
         {
          "release_year": "2009"
         },
         {
          "release_year": "2009"
         },
         {
          "release_year": "2002"
         },
         {
          "release_year": "2003"
         },
         {
          "release_year": "2010"
         },
         {
          "release_year": "2004"
         },
         {
          "release_year": "2006"
         },
         {
          "release_year": "2009"
         },
         {
          "release_year": "2010"
         },
         {
          "release_year": "2003"
         },
         {
          "release_year": "2008"
         },
         {
          "release_year": "2007"
         },
         {
          "release_year": "2008"
         },
         {
          "release_year": "2005"
         },
         {
          "release_year": "2007"
         },
         {
          "release_year": "2009"
         },
         {
          "release_year": "2007"
         },
         {
          "release_year": "2009"
         },
         {
          "release_year": "2005"
         },
         {
          "release_year": "2006"
         },
         {
          "release_year": "2010"
         },
         {
          "release_year": "2006"
         },
         {
          "release_year": "2005"
         },
         {
          "release_year": "2004"
         },
         {
          "release_year": "2010"
         },
         {
          "release_year": "2006"
         },
         {
          "release_year": "2007"
         },
         {
          "release_year": "2010"
         },
         {
          "release_year": "2007"
         },
         {
          "release_year": "2009"
         },
         {
          "release_year": "2002"
         },
         {
          "release_year": "2001"
         },
         {
          "release_year": "2003"
         },
         {
          "release_year": "2007"
         },
         {
          "release_year": "2008"
         },
         {
          "release_year": "2004"
         },
         {
          "release_year": "2008"
         },
         {
          "release_year": "2008"
         },
         {
          "release_year": "2007"
         },
         {
          "release_year": "2010"
         },
         {
          "release_year": "2007"
         },
         {
          "release_year": "2008"
         },
         {
          "release_year": "2001"
         },
         {
          "release_year": "2001"
         },
         {
          "release_year": "2004"
         },
         {
          "release_year": "2006"
         },
         {
          "release_year": "2006"
         },
         {
          "release_year": "2010"
         },
         {
          "release_year": "2006"
         },
         {
          "release_year": "2009"
         },
         {
          "release_year": "2006"
         },
         {
          "release_year": "2009"
         },
         {
          "release_year": "2009"
         },
         {
          "release_year": "2007"
         },
         {
          "release_year": "2010"
         },
         {
          "release_year": "2007"
         },
         {
          "release_year": "2009"
         },
         {
          "release_year": "2008"
         },
         {
          "release_year": "2010"
         },
         {
          "release_year": "2001"
         },
         {
          "release_year": "2003"
         },
         {
          "release_year": "2001"
         },
         {
          "release_year": "2008"
         },
         {
          "release_year": "2006"
         },
         {
          "release_year": "2008"
         },
         {
          "release_year": "2007"
         },
         {
          "release_year": "2009"
         },
         {
          "release_year": "2006"
         },
         {
          "release_year": "2010"
         },
         {
          "release_year": "2002"
         },
         {
          "release_year": "2005"
         },
         {
          "release_year": "2004"
         },
         {
          "release_year": "2009"
         },
         {
          "release_year": "2010"
         },
         {
          "release_year": "2008"
         },
         {
          "release_year": "2006"
         },
         {
          "release_year": "2006"
         },
         {
          "release_year": "2009"
         },
         {
          "release_year": "2008"
         },
         {
          "release_year": "2004"
         },
         {
          "release_year": "2009"
         },
         {
          "release_year": "2010"
         },
         {
          "release_year": "2004"
         },
         {
          "release_year": "2009"
         },
         {
          "release_year": "2001"
         },
         {
          "release_year": "2004"
         },
         {
          "release_year": "2005"
         },
         {
          "release_year": "2008"
         },
         {
          "release_year": "2007"
         },
         {
          "release_year": "2002"
         },
         {
          "release_year": "2008"
         },
         {
          "release_year": "2002"
         },
         {
          "release_year": "2004"
         },
         {
          "release_year": "2010"
         },
         {
          "release_year": "2005"
         },
         {
          "release_year": "2010"
         },
         {
          "release_year": "2008"
         },
         {
          "release_year": "2008"
         },
         {
          "release_year": "2009"
         },
         {
          "release_year": "2006"
         },
         {
          "release_year": "2003"
         },
         {
          "release_year": "2004"
         },
         {
          "release_year": "2006"
         },
         {
          "release_year": "2004"
         },
         {
          "release_year": "2005"
         },
         {
          "release_year": "2008"
         },
         {
          "release_year": "2009"
         },
         {
          "release_year": "2008"
         },
         {
          "release_year": "2002"
         },
         {
          "release_year": "2006"
         },
         {
          "release_year": "2005"
         },
         {
          "release_year": "2006"
         },
         {
          "release_year": "2010"
         },
         {
          "release_year": "2007"
         },
         {
          "release_year": "2007"
         },
         {
          "release_year": "2006"
         },
         {
          "release_year": "2010"
         },
         {
          "release_year": "2004"
         },
         {
          "release_year": "2009"
         },
         {
          "release_year": "2005"
         },
         {
          "release_year": "2008"
         },
         {
          "release_year": "2010"
         },
         {
          "release_year": "2007"
         },
         {
          "release_year": "2010"
         },
         {
          "release_year": "2009"
         },
         {
          "release_year": "2006"
         },
         {
          "release_year": "2005"
         },
         {
          "release_year": "2009"
         },
         {
          "release_year": "2008"
         },
         {
          "release_year": "2008"
         },
         {
          "release_year": "2005"
         },
         {
          "release_year": "2007"
         },
         {
          "release_year": "2007"
         },
         {
          "release_year": "2010"
         },
         {
          "release_year": "2004"
         },
         {
          "release_year": "2008"
         },
         {
          "release_year": "2009"
         },
         {
          "release_year": "2010"
         },
         {
          "release_year": "2008"
         },
         {
          "release_year": "2001"
         },
         {
          "release_year": "2010"
         },
         {
          "release_year": "2009"
         },
         {
          "release_year": "2002"
         },
         {
          "release_year": "2010"
         },
         {
          "release_year": "2009"
         },
         {
          "release_year": "2003"
         },
         {
          "release_year": "2005"
         },
         {
          "release_year": "2008"
         },
         {
          "release_year": "2008"
         },
         {
          "release_year": "2005"
         },
         {
          "release_year": "2007"
         },
         {
          "release_year": "2002"
         },
         {
          "release_year": "2004"
         },
         {
          "release_year": "2009"
         },
         {
          "release_year": "2009"
         },
         {
          "release_year": "2005"
         },
         {
          "release_year": "2007"
         },
         {
          "release_year": "2009"
         },
         {
          "release_year": "2006"
         },
         {
          "release_year": "2009"
         },
         {
          "release_year": "2009"
         },
         {
          "release_year": "2006"
         },
         {
          "release_year": "2008"
         },
         {
          "release_year": "2004"
         },
         {
          "release_year": "2001"
         },
         {
          "release_year": "2006"
         },
         {
          "release_year": "2008"
         },
         {
          "release_year": "2010"
         },
         {
          "release_year": "2004"
         },
         {
          "release_year": "2008"
         },
         {
          "release_year": "2005"
         },
         {
          "release_year": "2003"
         },
         {
          "release_year": "2008"
         },
         {
          "release_year": "2008"
         },
         {
          "release_year": "2010"
         },
         {
          "release_year": "2010"
         },
         {
          "release_year": "2009"
         },
         {
          "release_year": "2004"
         },
         {
          "release_year": "2004"
         },
         {
          "release_year": "2003"
         },
         {
          "release_year": "2010"
         },
         {
          "release_year": "2008"
         },
         {
          "release_year": "2009"
         },
         {
          "release_year": "2001"
         },
         {
          "release_year": "2010"
         },
         {
          "release_year": "2008"
         },
         {
          "release_year": "2010"
         },
         {
          "release_year": "2002"
         },
         {
          "release_year": "2005"
         },
         {
          "release_year": "2009"
         },
         {
          "release_year": "2009"
         },
         {
          "release_year": "2003"
         },
         {
          "release_year": "2008"
         },
         {
          "release_year": "2007"
         },
         {
          "release_year": "2007"
         },
         {
          "release_year": "2008"
         },
         {
          "release_year": "2005"
         },
         {
          "release_year": "2003"
         },
         {
          "release_year": "2003"
         },
         {
          "release_year": "2010"
         },
         {
          "release_year": "2010"
         },
         {
          "release_year": "2002"
         },
         {
          "release_year": "2009"
         },
         {
          "release_year": "2008"
         },
         {
          "release_year": "2009"
         },
         {
          "release_year": "2003"
         },
         {
          "release_year": "2008"
         },
         {
          "release_year": "2008"
         },
         {
          "release_year": "2006"
         },
         {
          "release_year": "2008"
         },
         {
          "release_year": "2004"
         },
         {
          "release_year": "2008"
         },
         {
          "release_year": "2008"
         },
         {
          "release_year": "2009"
         },
         {
          "release_year": "2003"
         },
         {
          "release_year": "2004"
         },
         {
          "release_year": "2010"
         },
         {
          "release_year": "2010"
         },
         {
          "release_year": "2007"
         },
         {
          "release_year": "2004"
         },
         {
          "release_year": "2008"
         },
         {
          "release_year": "2008"
         },
         {
          "release_year": "2008"
         },
         {
          "release_year": "2009"
         },
         {
          "release_year": "2007"
         },
         {
          "release_year": "2001"
         },
         {
          "release_year": "2005"
         },
         {
          "release_year": "2007"
         },
         {
          "release_year": "2010"
         },
         {
          "release_year": "2010"
         },
         {
          "release_year": "2009"
         },
         {
          "release_year": "2010"
         },
         {
          "release_year": "2004"
         },
         {
          "release_year": "2009"
         },
         {
          "release_year": "2009"
         },
         {
          "release_year": "2009"
         },
         {
          "release_year": "2008"
         },
         {
          "release_year": "2010"
         },
         {
          "release_year": "2007"
         },
         {
          "release_year": "2009"
         },
         {
          "release_year": "2006"
         },
         {
          "release_year": "2007"
         },
         {
          "release_year": "2002"
         },
         {
          "release_year": "2003"
         },
         {
          "release_year": "2009"
         },
         {
          "release_year": "2005"
         },
         {
          "release_year": "2010"
         },
         {
          "release_year": "2009"
         },
         {
          "release_year": "2010"
         },
         {
          "release_year": "2009"
         },
         {
          "release_year": "2008"
         },
         {
          "release_year": "2010"
         },
         {
          "release_year": "2007"
         },
         {
          "release_year": "2010"
         },
         {
          "release_year": "2001"
         },
         {
          "release_year": "2007"
         },
         {
          "release_year": "2004"
         },
         {
          "release_year": "2010"
         },
         {
          "release_year": "2008"
         },
         {
          "release_year": "2010"
         },
         {
          "release_year": "2006"
         },
         {
          "release_year": "2004"
         },
         {
          "release_year": "2006"
         },
         {
          "release_year": "2003"
         },
         {
          "release_year": "2011"
         },
         {
          "release_year": "2012"
         },
         {
          "release_year": "2012"
         },
         {
          "release_year": "2012"
         },
         {
          "release_year": "2012"
         },
         {
          "release_year": "2012"
         },
         {
          "release_year": "2011"
         },
         {
          "release_year": "2011"
         },
         {
          "release_year": "2012"
         },
         {
          "release_year": "2011"
         },
         {
          "release_year": "2011"
         },
         {
          "release_year": "2012"
         },
         {
          "release_year": "2012"
         },
         {
          "release_year": "2011"
         },
         {
          "release_year": "2012"
         },
         {
          "release_year": "2012"
         },
         {
          "release_year": "2012"
         },
         {
          "release_year": "2012"
         },
         {
          "release_year": "2012"
         },
         {
          "release_year": "2011"
         },
         {
          "release_year": "2011"
         },
         {
          "release_year": "2012"
         },
         {
          "release_year": "2012"
         },
         {
          "release_year": "2012"
         },
         {
          "release_year": "2012"
         },
         {
          "release_year": "2011"
         },
         {
          "release_year": "2012"
         },
         {
          "release_year": "2012"
         },
         {
          "release_year": "2011"
         },
         {
          "release_year": "2012"
         },
         {
          "release_year": "2011"
         },
         {
          "release_year": "2012"
         },
         {
          "release_year": "2012"
         },
         {
          "release_year": "2012"
         },
         {
          "release_year": "2012"
         },
         {
          "release_year": "2011"
         },
         {
          "release_year": "2011"
         },
         {
          "release_year": "2012"
         },
         {
          "release_year": "2011"
         },
         {
          "release_year": "2012"
         },
         {
          "release_year": "2011"
         },
         {
          "release_year": "2012"
         },
         {
          "release_year": "2012"
         },
         {
          "release_year": "2011"
         },
         {
          "release_year": "2012"
         },
         {
          "release_year": "2011"
         },
         {
          "release_year": "2012"
         },
         {
          "release_year": "2012"
         },
         {
          "release_year": "2011"
         },
         {
          "release_year": "2011"
         },
         {
          "release_year": "2012"
         },
         {
          "release_year": "2011"
         },
         {
          "release_year": "2011"
         },
         {
          "release_year": "2011"
         },
         {
          "release_year": "2012"
         },
         {
          "release_year": "2012"
         },
         {
          "release_year": "2012"
         },
         {
          "release_year": "2012"
         },
         {
          "release_year": "2011"
         },
         {
          "release_year": "2011"
         },
         {
          "release_year": "2012"
         },
         {
          "release_year": "2011"
         },
         {
          "release_year": "2012"
         },
         {
          "release_year": "2011"
         },
         {
          "release_year": "2011"
         },
         {
          "release_year": "2011"
         },
         {
          "release_year": "2012"
         },
         {
          "release_year": "2011"
         },
         {
          "release_year": "2012"
         },
         {
          "release_year": "2011"
         },
         {
          "release_year": "2012"
         },
         {
          "release_year": "2011"
         },
         {
          "release_year": "2011"
         },
         {
          "release_year": "2012"
         },
         {
          "release_year": "2012"
         },
         {
          "release_year": "2011"
         },
         {
          "release_year": "2012"
         },
         {
          "release_year": "2011"
         },
         {
          "release_year": "2012"
         },
         {
          "release_year": "2011"
         },
         {
          "release_year": "2012"
         },
         {
          "release_year": "2011"
         },
         {
          "release_year": "2012"
         },
         {
          "release_year": "2012"
         },
         {
          "release_year": "2012"
         },
         {
          "release_year": "2012"
         },
         {
          "release_year": "2011"
         },
         {
          "release_year": "2012"
         },
         {
          "release_year": "2011"
         },
         {
          "release_year": "2012"
         },
         {
          "release_year": "2012"
         },
         {
          "release_year": "2011"
         },
         {
          "release_year": "2011"
         },
         {
          "release_year": "2011"
         },
         {
          "release_year": "2011"
         },
         {
          "release_year": "2012"
         },
         {
          "release_year": "2012"
         },
         {
          "release_year": "2011"
         },
         {
          "release_year": "2011"
         },
         {
          "release_year": "2012"
         },
         {
          "release_year": "2011"
         },
         {
          "release_year": "2011"
         },
         {
          "release_year": "2012"
         },
         {
          "release_year": "2011"
         },
         {
          "release_year": "2012"
         },
         {
          "release_year": "2012"
         },
         {
          "release_year": "2011"
         },
         {
          "release_year": "2011"
         },
         {
          "release_year": "2012"
         },
         {
          "release_year": "2011"
         },
         {
          "release_year": "2011"
         },
         {
          "release_year": "2012"
         },
         {
          "release_year": "2011"
         },
         {
          "release_year": "2012"
         },
         {
          "release_year": "2012"
         },
         {
          "release_year": "2011"
         },
         {
          "release_year": "2012"
         },
         {
          "release_year": "2011"
         },
         {
          "release_year": "2011"
         },
         {
          "release_year": "2011"
         },
         {
          "release_year": "2012"
         },
         {
          "release_year": "2012"
         },
         {
          "release_year": "2012"
         },
         {
          "release_year": "2011"
         },
         {
          "release_year": "2011"
         },
         {
          "release_year": "2012"
         },
         {
          "release_year": "2012"
         },
         {
          "release_year": "2012"
         },
         {
          "release_year": "2012"
         },
         {
          "release_year": "2011"
         },
         {
          "release_year": "2012"
         },
         {
          "release_year": "2011"
         },
         {
          "release_year": "2012"
         },
         {
          "release_year": "2011"
         },
         {
          "release_year": "2011"
         },
         {
          "release_year": "2012"
         },
         {
          "release_year": "2012"
         },
         {
          "release_year": "2011"
         },
         {
          "release_year": "2012"
         },
         {
          "release_year": "2012"
         },
         {
          "release_year": "2011"
         },
         {
          "release_year": "2012"
         },
         {
          "release_year": "2011"
         },
         {
          "release_year": "2011"
         },
         {
          "release_year": "2012"
         },
         {
          "release_year": "2012"
         },
         {
          "release_year": "2011"
         },
         {
          "release_year": "2012"
         },
         {
          "release_year": "2012"
         },
         {
          "release_year": "2011"
         },
         {
          "release_year": "2012"
         },
         {
          "release_year": "2012"
         },
         {
          "release_year": "2011"
         },
         {
          "release_year": "2012"
         },
         {
          "release_year": "2011"
         },
         {
          "release_year": "2011"
         },
         {
          "release_year": "2011"
         },
         {
          "release_year": "2012"
         },
         {
          "release_year": "2012"
         },
         {
          "release_year": "2012"
         },
         {
          "release_year": "2011"
         },
         {
          "release_year": "2012"
         },
         {
          "release_year": "2012"
         },
         {
          "release_year": "2011"
         },
         {
          "release_year": "2011"
         },
         {
          "release_year": "2012"
         },
         {
          "release_year": "2012"
         },
         {
          "release_year": "2011"
         },
         {
          "release_year": "2011"
         },
         {
          "release_year": "2012"
         },
         {
          "release_year": "2012"
         },
         {
          "release_year": "2012"
         },
         {
          "release_year": "2012"
         },
         {
          "release_year": "2012"
         },
         {
          "release_year": "2012"
         },
         {
          "release_year": "2012"
         },
         {
          "release_year": "2012"
         },
         {
          "release_year": "2011"
         },
         {
          "release_year": "2012"
         },
         {
          "release_year": "2011"
         },
         {
          "release_year": "2011"
         },
         {
          "release_year": "2011"
         },
         {
          "release_year": "2012"
         },
         {
          "release_year": "2011"
         },
         {
          "release_year": "2012"
         },
         {
          "release_year": "2011"
         },
         {
          "release_year": "2011"
         },
         {
          "release_year": "2011"
         },
         {
          "release_year": "2012"
         },
         {
          "release_year": "2012"
         },
         {
          "release_year": "2012"
         },
         {
          "release_year": "2012"
         },
         {
          "release_year": "2011"
         },
         {
          "release_year": "2013"
         },
         {
          "release_year": "2014"
         },
         {
          "release_year": "2013"
         },
         {
          "release_year": "2013"
         },
         {
          "release_year": "2013"
         },
         {
          "release_year": "2014"
         },
         {
          "release_year": "2014"
         },
         {
          "release_year": "2014"
         },
         {
          "release_year": "2013"
         },
         {
          "release_year": "2014"
         },
         {
          "release_year": "2014"
         },
         {
          "release_year": "2014"
         },
         {
          "release_year": "2013"
         },
         {
          "release_year": "2014"
         },
         {
          "release_year": "2014"
         },
         {
          "release_year": "2014"
         },
         {
          "release_year": "2013"
         },
         {
          "release_year": "2014"
         },
         {
          "release_year": "2014"
         },
         {
          "release_year": "2013"
         },
         {
          "release_year": "2013"
         },
         {
          "release_year": "2014"
         },
         {
          "release_year": "2013"
         },
         {
          "release_year": "2014"
         },
         {
          "release_year": "2014"
         },
         {
          "release_year": "2013"
         },
         {
          "release_year": "2013"
         },
         {
          "release_year": "2014"
         },
         {
          "release_year": "2013"
         },
         {
          "release_year": "2013"
         },
         {
          "release_year": "2014"
         },
         {
          "release_year": "2014"
         },
         {
          "release_year": "2013"
         },
         {
          "release_year": "2014"
         },
         {
          "release_year": "2014"
         },
         {
          "release_year": "2013"
         },
         {
          "release_year": "2014"
         },
         {
          "release_year": "2013"
         },
         {
          "release_year": "2013"
         },
         {
          "release_year": "2013"
         },
         {
          "release_year": "2014"
         },
         {
          "release_year": "2013"
         },
         {
          "release_year": "2013"
         },
         {
          "release_year": "2014"
         },
         {
          "release_year": "2014"
         },
         {
          "release_year": "2014"
         },
         {
          "release_year": "2013"
         },
         {
          "release_year": "2013"
         },
         {
          "release_year": "2014"
         },
         {
          "release_year": "2013"
         },
         {
          "release_year": "2013"
         },
         {
          "release_year": "2013"
         },
         {
          "release_year": "2014"
         },
         {
          "release_year": "2014"
         },
         {
          "release_year": "2013"
         },
         {
          "release_year": "2013"
         },
         {
          "release_year": "2013"
         },
         {
          "release_year": "2013"
         },
         {
          "release_year": "2013"
         },
         {
          "release_year": "2013"
         },
         {
          "release_year": "2014"
         },
         {
          "release_year": "2014"
         },
         {
          "release_year": "2014"
         },
         {
          "release_year": "2013"
         },
         {
          "release_year": "2014"
         },
         {
          "release_year": "2013"
         },
         {
          "release_year": "2013"
         },
         {
          "release_year": "2014"
         },
         {
          "release_year": "2014"
         },
         {
          "release_year": "2014"
         },
         {
          "release_year": "2013"
         },
         {
          "release_year": "2013"
         },
         {
          "release_year": "2013"
         },
         {
          "release_year": "2013"
         },
         {
          "release_year": "2014"
         },
         {
          "release_year": "2013"
         },
         {
          "release_year": "2014"
         },
         {
          "release_year": "2014"
         },
         {
          "release_year": "2014"
         },
         {
          "release_year": "2013"
         },
         {
          "release_year": "2014"
         },
         {
          "release_year": "2014"
         },
         {
          "release_year": "2013"
         },
         {
          "release_year": "2014"
         },
         {
          "release_year": "2014"
         },
         {
          "release_year": "2014"
         },
         {
          "release_year": "2014"
         },
         {
          "release_year": "2013"
         },
         {
          "release_year": "2013"
         },
         {
          "release_year": "2013"
         },
         {
          "release_year": "2013"
         },
         {
          "release_year": "2014"
         },
         {
          "release_year": "2014"
         },
         {
          "release_year": "2013"
         },
         {
          "release_year": "2013"
         },
         {
          "release_year": "2013"
         },
         {
          "release_year": "2014"
         },
         {
          "release_year": "2014"
         },
         {
          "release_year": "2013"
         },
         {
          "release_year": "2014"
         },
         {
          "release_year": "2013"
         },
         {
          "release_year": "2013"
         },
         {
          "release_year": "2013"
         },
         {
          "release_year": "2014"
         },
         {
          "release_year": "2013"
         },
         {
          "release_year": "2013"
         },
         {
          "release_year": "2013"
         },
         {
          "release_year": "2014"
         },
         {
          "release_year": "2013"
         },
         {
          "release_year": "2013"
         },
         {
          "release_year": "2014"
         },
         {
          "release_year": "2014"
         },
         {
          "release_year": "2013"
         },
         {
          "release_year": "2014"
         },
         {
          "release_year": "2013"
         },
         {
          "release_year": "2014"
         },
         {
          "release_year": "2013"
         },
         {
          "release_year": "2014"
         },
         {
          "release_year": "2014"
         },
         {
          "release_year": "2014"
         },
         {
          "release_year": "2014"
         },
         {
          "release_year": "2014"
         },
         {
          "release_year": "2014"
         },
         {
          "release_year": "2013"
         },
         {
          "release_year": "2013"
         },
         {
          "release_year": "2014"
         },
         {
          "release_year": "2014"
         },
         {
          "release_year": "2013"
         },
         {
          "release_year": "2014"
         },
         {
          "release_year": "2014"
         },
         {
          "release_year": "2013"
         },
         {
          "release_year": "2014"
         },
         {
          "release_year": "2013"
         },
         {
          "release_year": "2014"
         },
         {
          "release_year": "2013"
         },
         {
          "release_year": "2013"
         },
         {
          "release_year": "2013"
         },
         {
          "release_year": "2014"
         },
         {
          "release_year": "2014"
         },
         {
          "release_year": "2013"
         },
         {
          "release_year": "2013"
         },
         {
          "release_year": "2013"
         },
         {
          "release_year": "2014"
         },
         {
          "release_year": "2013"
         },
         {
          "release_year": "2013"
         },
         {
          "release_year": "2013"
         },
         {
          "release_year": "2014"
         },
         {
          "release_year": "2014"
         },
         {
          "release_year": "2014"
         },
         {
          "release_year": "2013"
         },
         {
          "release_year": "2014"
         },
         {
          "release_year": "2014"
         },
         {
          "release_year": "2014"
         },
         {
          "release_year": "2014"
         },
         {
          "release_year": "2014"
         },
         {
          "release_year": "2013"
         },
         {
          "release_year": "2013"
         },
         {
          "release_year": "2014"
         },
         {
          "release_year": "2014"
         },
         {
          "release_year": "2013"
         },
         {
          "release_year": "2013"
         },
         {
          "release_year": "2014"
         },
         {
          "release_year": "2014"
         },
         {
          "release_year": "2014"
         },
         {
          "release_year": "2013"
         },
         {
          "release_year": "2014"
         },
         {
          "release_year": "2013"
         },
         {
          "release_year": "2013"
         },
         {
          "release_year": "2013"
         },
         {
          "release_year": "2013"
         },
         {
          "release_year": "2014"
         },
         {
          "release_year": "2014"
         },
         {
          "release_year": "2014"
         },
         {
          "release_year": "2014"
         },
         {
          "release_year": "2014"
         },
         {
          "release_year": "2013"
         },
         {
          "release_year": "2013"
         },
         {
          "release_year": "2014"
         },
         {
          "release_year": "2014"
         },
         {
          "release_year": "2014"
         },
         {
          "release_year": "2013"
         },
         {
          "release_year": "2014"
         },
         {
          "release_year": "2013"
         },
         {
          "release_year": "2013"
         },
         {
          "release_year": "2014"
         },
         {
          "release_year": "2014"
         },
         {
          "release_year": "2014"
         },
         {
          "release_year": "2014"
         },
         {
          "release_year": "2014"
         },
         {
          "release_year": "2014"
         },
         {
          "release_year": "2013"
         },
         {
          "release_year": "2014"
         },
         {
          "release_year": "2013"
         },
         {
          "release_year": "2014"
         },
         {
          "release_year": "2014"
         },
         {
          "release_year": "2014"
         },
         {
          "release_year": "2014"
         },
         {
          "release_year": "2014"
         },
         {
          "release_year": "2013"
         },
         {
          "release_year": "2013"
         },
         {
          "release_year": "2014"
         },
         {
          "release_year": "2014"
         },
         {
          "release_year": "2014"
         },
         {
          "release_year": "2014"
         },
         {
          "release_year": "2014"
         },
         {
          "release_year": "2014"
         },
         {
          "release_year": "2014"
         },
         {
          "release_year": "2013"
         },
         {
          "release_year": "2013"
         },
         {
          "release_year": "2014"
         },
         {
          "release_year": "2014"
         },
         {
          "release_year": "2014"
         },
         {
          "release_year": "2014"
         },
         {
          "release_year": "2013"
         },
         {
          "release_year": "2014"
         },
         {
          "release_year": "2014"
         },
         {
          "release_year": "2013"
         },
         {
          "release_year": "2013"
         },
         {
          "release_year": "2014"
         },
         {
          "release_year": "2013"
         },
         {
          "release_year": "2013"
         },
         {
          "release_year": "2014"
         },
         {
          "release_year": "2013"
         },
         {
          "release_year": "2014"
         },
         {
          "release_year": "2014"
         },
         {
          "release_year": "2013"
         },
         {
          "release_year": "2013"
         },
         {
          "release_year": "2013"
         },
         {
          "release_year": "2014"
         },
         {
          "release_year": "2013"
         },
         {
          "release_year": "2014"
         },
         {
          "release_year": "2013"
         },
         {
          "release_year": "2014"
         },
         {
          "release_year": "2013"
         },
         {
          "release_year": "2013"
         },
         {
          "release_year": "2014"
         },
         {
          "release_year": "2013"
         },
         {
          "release_year": "2013"
         },
         {
          "release_year": "2013"
         },
         {
          "release_year": "2014"
         },
         {
          "release_year": "2014"
         },
         {
          "release_year": "2014"
         },
         {
          "release_year": "2014"
         },
         {
          "release_year": "2014"
         },
         {
          "release_year": "2013"
         },
         {
          "release_year": "2013"
         },
         {
          "release_year": "2013"
         },
         {
          "release_year": "2013"
         },
         {
          "release_year": "2014"
         },
         {
          "release_year": "2014"
         },
         {
          "release_year": "2014"
         },
         {
          "release_year": "2013"
         },
         {
          "release_year": "2014"
         },
         {
          "release_year": "2013"
         },
         {
          "release_year": "2013"
         },
         {
          "release_year": "2013"
         },
         {
          "release_year": "2014"
         },
         {
          "release_year": "2014"
         },
         {
          "release_year": "2013"
         },
         {
          "release_year": "2013"
         },
         {
          "release_year": "2013"
         },
         {
          "release_year": "2014"
         },
         {
          "release_year": "2014"
         },
         {
          "release_year": "2013"
         },
         {
          "release_year": "2013"
         },
         {
          "release_year": "2014"
         },
         {
          "release_year": "2014"
         },
         {
          "release_year": "2013"
         },
         {
          "release_year": "2013"
         },
         {
          "release_year": "2013"
         },
         {
          "release_year": "2013"
         },
         {
          "release_year": "2014"
         },
         {
          "release_year": "2014"
         },
         {
          "release_year": "2014"
         },
         {
          "release_year": "2014"
         },
         {
          "release_year": "2014"
         },
         {
          "release_year": "2013"
         },
         {
          "release_year": "2014"
         },
         {
          "release_year": "2013"
         },
         {
          "release_year": "2013"
         },
         {
          "release_year": "2014"
         },
         {
          "release_year": "2014"
         },
         {
          "release_year": "2014"
         },
         {
          "release_year": "2013"
         },
         {
          "release_year": "2014"
         },
         {
          "release_year": "2013"
         },
         {
          "release_year": "2015"
         },
         {
          "release_year": "2015"
         },
         {
          "release_year": "2016"
         },
         {
          "release_year": "2015"
         },
         {
          "release_year": "2016"
         },
         {
          "release_year": "2015"
         },
         {
          "release_year": "2016"
         },
         {
          "release_year": "2015"
         },
         {
          "release_year": "2015"
         },
         {
          "release_year": "2016"
         },
         {
          "release_year": "2016"
         },
         {
          "release_year": "2015"
         },
         {
          "release_year": "2015"
         },
         {
          "release_year": "2016"
         },
         {
          "release_year": "2016"
         },
         {
          "release_year": "2016"
         },
         {
          "release_year": "2015"
         },
         {
          "release_year": "2016"
         },
         {
          "release_year": "2015"
         },
         {
          "release_year": "2016"
         },
         {
          "release_year": "2016"
         },
         {
          "release_year": "2016"
         },
         {
          "release_year": "2015"
         },
         {
          "release_year": "2015"
         },
         {
          "release_year": "2015"
         },
         {
          "release_year": "2016"
         },
         {
          "release_year": "2015"
         },
         {
          "release_year": "2016"
         },
         {
          "release_year": "2016"
         },
         {
          "release_year": "2016"
         },
         {
          "release_year": "2015"
         },
         {
          "release_year": "2015"
         },
         {
          "release_year": "2016"
         },
         {
          "release_year": "2015"
         },
         {
          "release_year": "2015"
         },
         {
          "release_year": "2015"
         },
         {
          "release_year": "2016"
         },
         {
          "release_year": "2016"
         },
         {
          "release_year": "2015"
         },
         {
          "release_year": "2015"
         },
         {
          "release_year": "2015"
         },
         {
          "release_year": "2016"
         },
         {
          "release_year": "2016"
         },
         {
          "release_year": "2016"
         },
         {
          "release_year": "2016"
         },
         {
          "release_year": "2015"
         },
         {
          "release_year": "2016"
         },
         {
          "release_year": "2015"
         },
         {
          "release_year": "2015"
         },
         {
          "release_year": "2015"
         },
         {
          "release_year": "2015"
         },
         {
          "release_year": "2015"
         },
         {
          "release_year": "2015"
         },
         {
          "release_year": "2016"
         },
         {
          "release_year": "2016"
         },
         {
          "release_year": "2016"
         },
         {
          "release_year": "2015"
         },
         {
          "release_year": "2015"
         },
         {
          "release_year": "2016"
         },
         {
          "release_year": "2015"
         },
         {
          "release_year": "2016"
         },
         {
          "release_year": "2016"
         },
         {
          "release_year": "2016"
         },
         {
          "release_year": "2015"
         },
         {
          "release_year": "2015"
         },
         {
          "release_year": "2016"
         },
         {
          "release_year": "2016"
         },
         {
          "release_year": "2015"
         },
         {
          "release_year": "2016"
         },
         {
          "release_year": "2016"
         },
         {
          "release_year": "2015"
         },
         {
          "release_year": "2016"
         },
         {
          "release_year": "2015"
         },
         {
          "release_year": "2016"
         },
         {
          "release_year": "2015"
         },
         {
          "release_year": "2015"
         },
         {
          "release_year": "2016"
         },
         {
          "release_year": "2015"
         },
         {
          "release_year": "2016"
         },
         {
          "release_year": "2016"
         },
         {
          "release_year": "2015"
         },
         {
          "release_year": "2015"
         },
         {
          "release_year": "2016"
         },
         {
          "release_year": "2015"
         },
         {
          "release_year": "2016"
         },
         {
          "release_year": "2016"
         },
         {
          "release_year": "2016"
         },
         {
          "release_year": "2016"
         },
         {
          "release_year": "2015"
         },
         {
          "release_year": "2016"
         },
         {
          "release_year": "2016"
         },
         {
          "release_year": "2015"
         },
         {
          "release_year": "2015"
         },
         {
          "release_year": "2015"
         },
         {
          "release_year": "2016"
         },
         {
          "release_year": "2016"
         },
         {
          "release_year": "2015"
         },
         {
          "release_year": "2016"
         },
         {
          "release_year": "2016"
         },
         {
          "release_year": "2016"
         },
         {
          "release_year": "2015"
         },
         {
          "release_year": "2016"
         },
         {
          "release_year": "2015"
         },
         {
          "release_year": "2016"
         },
         {
          "release_year": "2015"
         },
         {
          "release_year": "2015"
         },
         {
          "release_year": "2016"
         },
         {
          "release_year": "2015"
         },
         {
          "release_year": "2016"
         },
         {
          "release_year": "2015"
         },
         {
          "release_year": "2016"
         },
         {
          "release_year": "2016"
         },
         {
          "release_year": "2015"
         },
         {
          "release_year": "2016"
         },
         {
          "release_year": "2016"
         },
         {
          "release_year": "2015"
         },
         {
          "release_year": "2016"
         },
         {
          "release_year": "2015"
         },
         {
          "release_year": "2015"
         },
         {
          "release_year": "2015"
         },
         {
          "release_year": "2015"
         },
         {
          "release_year": "2016"
         },
         {
          "release_year": "2016"
         },
         {
          "release_year": "2015"
         },
         {
          "release_year": "2016"
         },
         {
          "release_year": "2016"
         },
         {
          "release_year": "2016"
         },
         {
          "release_year": "2016"
         },
         {
          "release_year": "2015"
         },
         {
          "release_year": "2016"
         },
         {
          "release_year": "2016"
         },
         {
          "release_year": "2016"
         },
         {
          "release_year": "2016"
         },
         {
          "release_year": "2015"
         },
         {
          "release_year": "2016"
         },
         {
          "release_year": "2016"
         },
         {
          "release_year": "2016"
         },
         {
          "release_year": "2015"
         },
         {
          "release_year": "2015"
         },
         {
          "release_year": "2016"
         },
         {
          "release_year": "2016"
         },
         {
          "release_year": "2016"
         },
         {
          "release_year": "2016"
         },
         {
          "release_year": "2015"
         },
         {
          "release_year": "2016"
         },
         {
          "release_year": "2016"
         },
         {
          "release_year": "2016"
         },
         {
          "release_year": "2015"
         },
         {
          "release_year": "2016"
         },
         {
          "release_year": "2015"
         },
         {
          "release_year": "2015"
         },
         {
          "release_year": "2016"
         },
         {
          "release_year": "2016"
         },
         {
          "release_year": "2016"
         },
         {
          "release_year": "2016"
         },
         {
          "release_year": "2015"
         },
         {
          "release_year": "2016"
         },
         {
          "release_year": "2016"
         },
         {
          "release_year": "2016"
         },
         {
          "release_year": "2016"
         },
         {
          "release_year": "2015"
         },
         {
          "release_year": "2016"
         },
         {
          "release_year": "2016"
         },
         {
          "release_year": "2015"
         },
         {
          "release_year": "2016"
         },
         {
          "release_year": "2015"
         },
         {
          "release_year": "2016"
         },
         {
          "release_year": "2016"
         },
         {
          "release_year": "2015"
         },
         {
          "release_year": "2015"
         },
         {
          "release_year": "2016"
         },
         {
          "release_year": "2015"
         },
         {
          "release_year": "2016"
         },
         {
          "release_year": "2016"
         },
         {
          "release_year": "2016"
         },
         {
          "release_year": "2016"
         },
         {
          "release_year": "2016"
         },
         {
          "release_year": "2016"
         },
         {
          "release_year": "2016"
         },
         {
          "release_year": "2015"
         },
         {
          "release_year": "2015"
         },
         {
          "release_year": "2016"
         },
         {
          "release_year": "2016"
         },
         {
          "release_year": "2016"
         },
         {
          "release_year": "2015"
         },
         {
          "release_year": "2015"
         },
         {
          "release_year": "2015"
         },
         {
          "release_year": "2016"
         },
         {
          "release_year": "2016"
         },
         {
          "release_year": "2016"
         },
         {
          "release_year": "2015"
         },
         {
          "release_year": "2015"
         },
         {
          "release_year": "2016"
         },
         {
          "release_year": "2015"
         },
         {
          "release_year": "2016"
         },
         {
          "release_year": "2015"
         },
         {
          "release_year": "2016"
         },
         {
          "release_year": "2015"
         },
         {
          "release_year": "2016"
         },
         {
          "release_year": "2016"
         },
         {
          "release_year": "2016"
         },
         {
          "release_year": "2016"
         },
         {
          "release_year": "2016"
         },
         {
          "release_year": "2016"
         },
         {
          "release_year": "2015"
         },
         {
          "release_year": "2016"
         },
         {
          "release_year": "2015"
         },
         {
          "release_year": "2015"
         },
         {
          "release_year": "2015"
         },
         {
          "release_year": "2016"
         },
         {
          "release_year": "2015"
         },
         {
          "release_year": "2015"
         },
         {
          "release_year": "2016"
         },
         {
          "release_year": "2015"
         },
         {
          "release_year": "2015"
         },
         {
          "release_year": "2016"
         },
         {
          "release_year": "2015"
         },
         {
          "release_year": "2015"
         },
         {
          "release_year": "2016"
         },
         {
          "release_year": "2016"
         },
         {
          "release_year": "2016"
         },
         {
          "release_year": "2016"
         },
         {
          "release_year": "2016"
         },
         {
          "release_year": "2016"
         },
         {
          "release_year": "2015"
         },
         {
          "release_year": "2016"
         },
         {
          "release_year": "2015"
         },
         {
          "release_year": "2016"
         },
         {
          "release_year": "2016"
         },
         {
          "release_year": "2016"
         },
         {
          "release_year": "2015"
         },
         {
          "release_year": "2015"
         },
         {
          "release_year": "2016"
         },
         {
          "release_year": "2016"
         },
         {
          "release_year": "2016"
         },
         {
          "release_year": "2015"
         },
         {
          "release_year": "2016"
         },
         {
          "release_year": "2015"
         },
         {
          "release_year": "2016"
         },
         {
          "release_year": "2016"
         },
         {
          "release_year": "2015"
         },
         {
          "release_year": "2016"
         },
         {
          "release_year": "2016"
         },
         {
          "release_year": "2016"
         },
         {
          "release_year": "2016"
         },
         {
          "release_year": "2016"
         },
         {
          "release_year": "2015"
         },
         {
          "release_year": "2015"
         },
         {
          "release_year": "2016"
         },
         {
          "release_year": "2016"
         },
         {
          "release_year": "2015"
         },
         {
          "release_year": "2016"
         },
         {
          "release_year": "2016"
         },
         {
          "release_year": "2016"
         },
         {
          "release_year": "2015"
         },
         {
          "release_year": "2016"
         },
         {
          "release_year": "2016"
         },
         {
          "release_year": "2016"
         },
         {
          "release_year": "2015"
         },
         {
          "release_year": "2015"
         },
         {
          "release_year": "2016"
         },
         {
          "release_year": "2016"
         },
         {
          "release_year": "2015"
         },
         {
          "release_year": "2016"
         },
         {
          "release_year": "2016"
         },
         {
          "release_year": "2015"
         },
         {
          "release_year": "2015"
         },
         {
          "release_year": "2015"
         },
         {
          "release_year": "2016"
         },
         {
          "release_year": "2016"
         },
         {
          "release_year": "2016"
         },
         {
          "release_year": "2016"
         },
         {
          "release_year": "2016"
         },
         {
          "release_year": "2015"
         },
         {
          "release_year": "2016"
         },
         {
          "release_year": "2016"
         },
         {
          "release_year": "2016"
         },
         {
          "release_year": "2015"
         },
         {
          "release_year": "2016"
         },
         {
          "release_year": "2016"
         },
         {
          "release_year": "2015"
         },
         {
          "release_year": "2015"
         },
         {
          "release_year": "2016"
         },
         {
          "release_year": "2015"
         },
         {
          "release_year": "2016"
         },
         {
          "release_year": "2015"
         },
         {
          "release_year": "2016"
         },
         {
          "release_year": "2016"
         },
         {
          "release_year": "2016"
         },
         {
          "release_year": "2015"
         },
         {
          "release_year": "2016"
         },
         {
          "release_year": "2016"
         },
         {
          "release_year": "2016"
         },
         {
          "release_year": "2016"
         },
         {
          "release_year": "2015"
         },
         {
          "release_year": "2016"
         },
         {
          "release_year": "2015"
         },
         {
          "release_year": "2015"
         },
         {
          "release_year": "2015"
         },
         {
          "release_year": "2015"
         },
         {
          "release_year": "2016"
         },
         {
          "release_year": "2015"
         },
         {
          "release_year": "2016"
         },
         {
          "release_year": "2016"
         },
         {
          "release_year": "2016"
         },
         {
          "release_year": "2016"
         },
         {
          "release_year": "2016"
         },
         {
          "release_year": "2015"
         },
         {
          "release_year": "2016"
         },
         {
          "release_year": "2015"
         },
         {
          "release_year": "2016"
         },
         {
          "release_year": "2015"
         },
         {
          "release_year": "2016"
         },
         {
          "release_year": "2016"
         },
         {
          "release_year": "2016"
         },
         {
          "release_year": "2016"
         },
         {
          "release_year": "2015"
         },
         {
          "release_year": "2016"
         },
         {
          "release_year": "2016"
         },
         {
          "release_year": "2016"
         },
         {
          "release_year": "2016"
         },
         {
          "release_year": "2015"
         },
         {
          "release_year": "2016"
         },
         {
          "release_year": "2015"
         },
         {
          "release_year": "2015"
         },
         {
          "release_year": "2015"
         },
         {
          "release_year": "2015"
         },
         {
          "release_year": "2016"
         },
         {
          "release_year": "2016"
         },
         {
          "release_year": "2015"
         },
         {
          "release_year": "2015"
         },
         {
          "release_year": "2016"
         },
         {
          "release_year": "2015"
         },
         {
          "release_year": "2016"
         },
         {
          "release_year": "2015"
         },
         {
          "release_year": "2015"
         },
         {
          "release_year": "2016"
         },
         {
          "release_year": "2015"
         },
         {
          "release_year": "2015"
         },
         {
          "release_year": "2016"
         },
         {
          "release_year": "2015"
         },
         {
          "release_year": "2015"
         },
         {
          "release_year": "2015"
         },
         {
          "release_year": "2016"
         },
         {
          "release_year": "2016"
         },
         {
          "release_year": "2016"
         },
         {
          "release_year": "2015"
         },
         {
          "release_year": "2016"
         },
         {
          "release_year": "2015"
         },
         {
          "release_year": "2016"
         },
         {
          "release_year": "2016"
         },
         {
          "release_year": "2016"
         },
         {
          "release_year": "2016"
         },
         {
          "release_year": "2015"
         },
         {
          "release_year": "2016"
         },
         {
          "release_year": "2016"
         },
         {
          "release_year": "2016"
         },
         {
          "release_year": "2015"
         },
         {
          "release_year": "2016"
         },
         {
          "release_year": "2016"
         },
         {
          "release_year": "2016"
         },
         {
          "release_year": "2016"
         },
         {
          "release_year": "2015"
         },
         {
          "release_year": "2015"
         },
         {
          "release_year": "2016"
         },
         {
          "release_year": "2016"
         },
         {
          "release_year": "2016"
         },
         {
          "release_year": "2016"
         },
         {
          "release_year": "2016"
         },
         {
          "release_year": "2016"
         },
         {
          "release_year": "2016"
         },
         {
          "release_year": "2016"
         },
         {
          "release_year": "2016"
         },
         {
          "release_year": "2015"
         },
         {
          "release_year": "2016"
         },
         {
          "release_year": "2016"
         },
         {
          "release_year": "2016"
         },
         {
          "release_year": "2015"
         },
         {
          "release_year": "2016"
         },
         {
          "release_year": "2016"
         },
         {
          "release_year": "2015"
         },
         {
          "release_year": "2016"
         },
         {
          "release_year": "2016"
         },
         {
          "release_year": "2016"
         },
         {
          "release_year": "2016"
         },
         {
          "release_year": "2015"
         },
         {
          "release_year": "2015"
         },
         {
          "release_year": "2016"
         },
         {
          "release_year": "2016"
         },
         {
          "release_year": "2015"
         },
         {
          "release_year": "2016"
         },
         {
          "release_year": "2016"
         },
         {
          "release_year": "2016"
         },
         {
          "release_year": "2016"
         },
         {
          "release_year": "2015"
         },
         {
          "release_year": "2016"
         },
         {
          "release_year": "2015"
         },
         {
          "release_year": "2016"
         },
         {
          "release_year": "2015"
         },
         {
          "release_year": "2016"
         },
         {
          "release_year": "2015"
         },
         {
          "release_year": "2016"
         },
         {
          "release_year": "2016"
         },
         {
          "release_year": "2016"
         },
         {
          "release_year": "2016"
         },
         {
          "release_year": "2016"
         },
         {
          "release_year": "2016"
         },
         {
          "release_year": "2016"
         },
         {
          "release_year": "2015"
         },
         {
          "release_year": "2016"
         },
         {
          "release_year": "2016"
         },
         {
          "release_year": "2016"
         },
         {
          "release_year": "2016"
         },
         {
          "release_year": "2015"
         },
         {
          "release_year": "2016"
         },
         {
          "release_year": "2016"
         },
         {
          "release_year": "2016"
         },
         {
          "release_year": "2016"
         },
         {
          "release_year": "2016"
         },
         {
          "release_year": "2016"
         },
         {
          "release_year": "2016"
         },
         {
          "release_year": "2016"
         },
         {
          "release_year": "2016"
         },
         {
          "release_year": "2015"
         },
         {
          "release_year": "2016"
         },
         {
          "release_year": "2016"
         },
         {
          "release_year": "2016"
         },
         {
          "release_year": "2016"
         },
         {
          "release_year": "2015"
         },
         {
          "release_year": "2016"
         },
         {
          "release_year": "2015"
         },
         {
          "release_year": "2015"
         },
         {
          "release_year": "2015"
         },
         {
          "release_year": "2016"
         },
         {
          "release_year": "2015"
         },
         {
          "release_year": "2015"
         },
         {
          "release_year": "2016"
         },
         {
          "release_year": "2015"
         },
         {
          "release_year": "2015"
         },
         {
          "release_year": "2015"
         },
         {
          "release_year": "2016"
         },
         {
          "release_year": "2016"
         },
         {
          "release_year": "2016"
         },
         {
          "release_year": "2016"
         },
         {
          "release_year": "2016"
         },
         {
          "release_year": "2016"
         },
         {
          "release_year": "2016"
         },
         {
          "release_year": "2015"
         },
         {
          "release_year": "2016"
         },
         {
          "release_year": "2016"
         },
         {
          "release_year": "2016"
         },
         {
          "release_year": "2016"
         },
         {
          "release_year": "2016"
         },
         {
          "release_year": "2016"
         },
         {
          "release_year": "2015"
         },
         {
          "release_year": "2016"
         },
         {
          "release_year": "2016"
         },
         {
          "release_year": "2015"
         },
         {
          "release_year": "2016"
         },
         {
          "release_year": "2016"
         },
         {
          "release_year": "2015"
         },
         {
          "release_year": "2015"
         },
         {
          "release_year": "2016"
         },
         {
          "release_year": "2015"
         },
         {
          "release_year": "2016"
         },
         {
          "release_year": "2015"
         },
         {
          "release_year": "2016"
         },
         {
          "release_year": "2015"
         },
         {
          "release_year": "2016"
         },
         {
          "release_year": "2016"
         },
         {
          "release_year": "2016"
         },
         {
          "release_year": "2016"
         },
         {
          "release_year": "2016"
         },
         {
          "release_year": "2015"
         },
         {
          "release_year": "2016"
         },
         {
          "release_year": "2015"
         },
         {
          "release_year": "2016"
         },
         {
          "release_year": "2016"
         },
         {
          "release_year": "2016"
         },
         {
          "release_year": "2015"
         },
         {
          "release_year": "2015"
         },
         {
          "release_year": "2015"
         },
         {
          "release_year": "2015"
         },
         {
          "release_year": "2016"
         },
         {
          "release_year": "2015"
         },
         {
          "release_year": "2015"
         },
         {
          "release_year": "2016"
         },
         {
          "release_year": "2016"
         },
         {
          "release_year": "2016"
         },
         {
          "release_year": "2015"
         },
         {
          "release_year": "2016"
         },
         {
          "release_year": "2015"
         },
         {
          "release_year": "2016"
         },
         {
          "release_year": "2016"
         },
         {
          "release_year": "2016"
         },
         {
          "release_year": "2015"
         },
         {
          "release_year": "2016"
         },
         {
          "release_year": "2016"
         },
         {
          "release_year": "2015"
         },
         {
          "release_year": "2016"
         },
         {
          "release_year": "2016"
         },
         {
          "release_year": "2015"
         },
         {
          "release_year": "2015"
         },
         {
          "release_year": "2016"
         },
         {
          "release_year": "2016"
         },
         {
          "release_year": "2016"
         },
         {
          "release_year": "2015"
         },
         {
          "release_year": "2016"
         },
         {
          "release_year": "2016"
         },
         {
          "release_year": "2016"
         },
         {
          "release_year": "2016"
         },
         {
          "release_year": "2016"
         },
         {
          "release_year": "2016"
         },
         {
          "release_year": "2015"
         },
         {
          "release_year": "2016"
         },
         {
          "release_year": "2016"
         },
         {
          "release_year": "2016"
         },
         {
          "release_year": "2015"
         },
         {
          "release_year": "2016"
         },
         {
          "release_year": "2016"
         },
         {
          "release_year": "2016"
         },
         {
          "release_year": "2016"
         },
         {
          "release_year": "2015"
         },
         {
          "release_year": "2016"
         },
         {
          "release_year": "2016"
         },
         {
          "release_year": "2016"
         },
         {
          "release_year": "2016"
         },
         {
          "release_year": "2016"
         },
         {
          "release_year": "2016"
         },
         {
          "release_year": "2015"
         },
         {
          "release_year": "2015"
         },
         {
          "release_year": "2016"
         },
         {
          "release_year": "2016"
         },
         {
          "release_year": "2015"
         },
         {
          "release_year": "2016"
         },
         {
          "release_year": "2016"
         },
         {
          "release_year": "2016"
         },
         {
          "release_year": "2015"
         },
         {
          "release_year": "2016"
         },
         {
          "release_year": "2016"
         },
         {
          "release_year": "2015"
         },
         {
          "release_year": "2016"
         },
         {
          "release_year": "2015"
         },
         {
          "release_year": "2015"
         },
         {
          "release_year": "2016"
         },
         {
          "release_year": "2015"
         },
         {
          "release_year": "2015"
         },
         {
          "release_year": "2015"
         },
         {
          "release_year": "2015"
         },
         {
          "release_year": "2016"
         },
         {
          "release_year": "2016"
         },
         {
          "release_year": "2016"
         },
         {
          "release_year": "2015"
         },
         {
          "release_year": "2016"
         },
         {
          "release_year": "2016"
         },
         {
          "release_year": "2015"
         },
         {
          "release_year": "2015"
         },
         {
          "release_year": "2016"
         },
         {
          "release_year": "2016"
         },
         {
          "release_year": "2016"
         },
         {
          "release_year": "2016"
         },
         {
          "release_year": "2016"
         },
         {
          "release_year": "2016"
         },
         {
          "release_year": "2016"
         },
         {
          "release_year": "2016"
         },
         {
          "release_year": "2016"
         },
         {
          "release_year": "2015"
         },
         {
          "release_year": "2015"
         },
         {
          "release_year": "2016"
         },
         {
          "release_year": "2015"
         },
         {
          "release_year": "2015"
         },
         {
          "release_year": "2015"
         },
         {
          "release_year": "2015"
         },
         {
          "release_year": "2015"
         },
         {
          "release_year": "2016"
         },
         {
          "release_year": "2015"
         },
         {
          "release_year": "2016"
         },
         {
          "release_year": "2016"
         },
         {
          "release_year": "2016"
         },
         {
          "release_year": "2016"
         },
         {
          "release_year": "2016"
         },
         {
          "release_year": "2016"
         },
         {
          "release_year": "2016"
         },
         {
          "release_year": "2015"
         },
         {
          "release_year": "2018"
         },
         {
          "release_year": "2017"
         },
         {
          "release_year": "2018"
         },
         {
          "release_year": "2017"
         },
         {
          "release_year": "2017"
         },
         {
          "release_year": "2017"
         },
         {
          "release_year": "2018"
         },
         {
          "release_year": "2017"
         },
         {
          "release_year": "2018"
         },
         {
          "release_year": "2018"
         },
         {
          "release_year": "2017"
         },
         {
          "release_year": "2017"
         },
         {
          "release_year": "2018"
         },
         {
          "release_year": "2017"
         },
         {
          "release_year": "2018"
         },
         {
          "release_year": "2018"
         },
         {
          "release_year": "2017"
         },
         {
          "release_year": "2017"
         },
         {
          "release_year": "2017"
         },
         {
          "release_year": "2018"
         },
         {
          "release_year": "2018"
         },
         {
          "release_year": "2017"
         },
         {
          "release_year": "2018"
         },
         {
          "release_year": "2018"
         },
         {
          "release_year": "2018"
         },
         {
          "release_year": "2018"
         },
         {
          "release_year": "2017"
         },
         {
          "release_year": "2017"
         },
         {
          "release_year": "2018"
         },
         {
          "release_year": "2017"
         },
         {
          "release_year": "2018"
         },
         {
          "release_year": "2017"
         },
         {
          "release_year": "2018"
         },
         {
          "release_year": "2017"
         },
         {
          "release_year": "2018"
         },
         {
          "release_year": "2017"
         },
         {
          "release_year": "2018"
         },
         {
          "release_year": "2017"
         },
         {
          "release_year": "2017"
         },
         {
          "release_year": "2018"
         },
         {
          "release_year": "2018"
         },
         {
          "release_year": "2017"
         },
         {
          "release_year": "2017"
         },
         {
          "release_year": "2017"
         },
         {
          "release_year": "2018"
         },
         {
          "release_year": "2018"
         },
         {
          "release_year": "2017"
         },
         {
          "release_year": "2017"
         },
         {
          "release_year": "2017"
         },
         {
          "release_year": "2017"
         },
         {
          "release_year": "2018"
         },
         {
          "release_year": "2017"
         },
         {
          "release_year": "2018"
         },
         {
          "release_year": "2017"
         },
         {
          "release_year": "2018"
         },
         {
          "release_year": "2017"
         },
         {
          "release_year": "2018"
         },
         {
          "release_year": "2017"
         },
         {
          "release_year": "2017"
         },
         {
          "release_year": "2017"
         },
         {
          "release_year": "2017"
         },
         {
          "release_year": "2018"
         },
         {
          "release_year": "2018"
         },
         {
          "release_year": "2017"
         },
         {
          "release_year": "2018"
         },
         {
          "release_year": "2017"
         },
         {
          "release_year": "2018"
         },
         {
          "release_year": "2017"
         },
         {
          "release_year": "2018"
         },
         {
          "release_year": "2017"
         },
         {
          "release_year": "2018"
         },
         {
          "release_year": "2017"
         },
         {
          "release_year": "2018"
         },
         {
          "release_year": "2018"
         },
         {
          "release_year": "2017"
         },
         {
          "release_year": "2018"
         },
         {
          "release_year": "2017"
         },
         {
          "release_year": "2018"
         },
         {
          "release_year": "2017"
         },
         {
          "release_year": "2017"
         },
         {
          "release_year": "2017"
         },
         {
          "release_year": "2017"
         },
         {
          "release_year": "2018"
         },
         {
          "release_year": "2018"
         },
         {
          "release_year": "2018"
         },
         {
          "release_year": "2018"
         },
         {
          "release_year": "2017"
         },
         {
          "release_year": "2017"
         },
         {
          "release_year": "2018"
         },
         {
          "release_year": "2018"
         },
         {
          "release_year": "2018"
         },
         {
          "release_year": "2017"
         },
         {
          "release_year": "2018"
         },
         {
          "release_year": "2017"
         },
         {
          "release_year": "2017"
         },
         {
          "release_year": "2018"
         },
         {
          "release_year": "2017"
         },
         {
          "release_year": "2017"
         },
         {
          "release_year": "2018"
         },
         {
          "release_year": "2018"
         },
         {
          "release_year": "2018"
         },
         {
          "release_year": "2018"
         },
         {
          "release_year": "2018"
         },
         {
          "release_year": "2018"
         },
         {
          "release_year": "2018"
         },
         {
          "release_year": "2017"
         },
         {
          "release_year": "2018"
         },
         {
          "release_year": "2018"
         },
         {
          "release_year": "2018"
         },
         {
          "release_year": "2018"
         },
         {
          "release_year": "2018"
         },
         {
          "release_year": "2018"
         },
         {
          "release_year": "2018"
         },
         {
          "release_year": "2018"
         },
         {
          "release_year": "2017"
         },
         {
          "release_year": "2018"
         },
         {
          "release_year": "2017"
         },
         {
          "release_year": "2018"
         },
         {
          "release_year": "2018"
         },
         {
          "release_year": "2017"
         },
         {
          "release_year": "2018"
         },
         {
          "release_year": "2018"
         },
         {
          "release_year": "2018"
         },
         {
          "release_year": "2018"
         },
         {
          "release_year": "2018"
         },
         {
          "release_year": "2018"
         },
         {
          "release_year": "2018"
         },
         {
          "release_year": "2017"
         },
         {
          "release_year": "2018"
         },
         {
          "release_year": "2018"
         },
         {
          "release_year": "2018"
         },
         {
          "release_year": "2017"
         },
         {
          "release_year": "2017"
         },
         {
          "release_year": "2017"
         },
         {
          "release_year": "2017"
         },
         {
          "release_year": "2018"
         },
         {
          "release_year": "2018"
         },
         {
          "release_year": "2018"
         },
         {
          "release_year": "2017"
         },
         {
          "release_year": "2017"
         },
         {
          "release_year": "2018"
         },
         {
          "release_year": "2018"
         },
         {
          "release_year": "2018"
         },
         {
          "release_year": "2018"
         },
         {
          "release_year": "2018"
         },
         {
          "release_year": "2017"
         },
         {
          "release_year": "2018"
         },
         {
          "release_year": "2018"
         },
         {
          "release_year": "2017"
         },
         {
          "release_year": "2017"
         },
         {
          "release_year": "2018"
         },
         {
          "release_year": "2018"
         },
         {
          "release_year": "2018"
         },
         {
          "release_year": "2017"
         },
         {
          "release_year": "2017"
         },
         {
          "release_year": "2018"
         },
         {
          "release_year": "2018"
         },
         {
          "release_year": "2018"
         },
         {
          "release_year": "2017"
         },
         {
          "release_year": "2018"
         },
         {
          "release_year": "2018"
         },
         {
          "release_year": "2017"
         },
         {
          "release_year": "2017"
         },
         {
          "release_year": "2018"
         },
         {
          "release_year": "2018"
         },
         {
          "release_year": "2017"
         },
         {
          "release_year": "2017"
         },
         {
          "release_year": "2017"
         },
         {
          "release_year": "2018"
         },
         {
          "release_year": "2018"
         },
         {
          "release_year": "2018"
         },
         {
          "release_year": "2018"
         },
         {
          "release_year": "2017"
         },
         {
          "release_year": "2017"
         },
         {
          "release_year": "2018"
         },
         {
          "release_year": "2018"
         },
         {
          "release_year": "2018"
         },
         {
          "release_year": "2018"
         },
         {
          "release_year": "2018"
         },
         {
          "release_year": "2018"
         },
         {
          "release_year": "2018"
         },
         {
          "release_year": "2018"
         },
         {
          "release_year": "2018"
         },
         {
          "release_year": "2017"
         },
         {
          "release_year": "2017"
         },
         {
          "release_year": "2017"
         },
         {
          "release_year": "2017"
         },
         {
          "release_year": "2018"
         },
         {
          "release_year": "2018"
         },
         {
          "release_year": "2018"
         },
         {
          "release_year": "2018"
         },
         {
          "release_year": "2017"
         },
         {
          "release_year": "2018"
         },
         {
          "release_year": "2018"
         },
         {
          "release_year": "2017"
         },
         {
          "release_year": "2017"
         },
         {
          "release_year": "2017"
         },
         {
          "release_year": "2018"
         },
         {
          "release_year": "2018"
         },
         {
          "release_year": "2018"
         },
         {
          "release_year": "2018"
         },
         {
          "release_year": "2018"
         },
         {
          "release_year": "2017"
         },
         {
          "release_year": "2018"
         },
         {
          "release_year": "2018"
         },
         {
          "release_year": "2017"
         },
         {
          "release_year": "2018"
         },
         {
          "release_year": "2017"
         },
         {
          "release_year": "2017"
         },
         {
          "release_year": "2018"
         },
         {
          "release_year": "2018"
         },
         {
          "release_year": "2017"
         },
         {
          "release_year": "2017"
         },
         {
          "release_year": "2017"
         },
         {
          "release_year": "2018"
         },
         {
          "release_year": "2018"
         },
         {
          "release_year": "2017"
         },
         {
          "release_year": "2018"
         },
         {
          "release_year": "2018"
         },
         {
          "release_year": "2018"
         },
         {
          "release_year": "2017"
         },
         {
          "release_year": "2017"
         },
         {
          "release_year": "2018"
         },
         {
          "release_year": "2017"
         },
         {
          "release_year": "2017"
         },
         {
          "release_year": "2018"
         },
         {
          "release_year": "2017"
         },
         {
          "release_year": "2017"
         },
         {
          "release_year": "2018"
         },
         {
          "release_year": "2018"
         },
         {
          "release_year": "2018"
         },
         {
          "release_year": "2017"
         },
         {
          "release_year": "2018"
         },
         {
          "release_year": "2018"
         },
         {
          "release_year": "2018"
         },
         {
          "release_year": "2017"
         },
         {
          "release_year": "2018"
         },
         {
          "release_year": "2018"
         },
         {
          "release_year": "2017"
         },
         {
          "release_year": "2018"
         },
         {
          "release_year": "2017"
         },
         {
          "release_year": "2018"
         },
         {
          "release_year": "2017"
         },
         {
          "release_year": "2018"
         },
         {
          "release_year": "2018"
         },
         {
          "release_year": "2018"
         },
         {
          "release_year": "2017"
         },
         {
          "release_year": "2018"
         },
         {
          "release_year": "2018"
         },
         {
          "release_year": "2017"
         },
         {
          "release_year": "2017"
         },
         {
          "release_year": "2018"
         },
         {
          "release_year": "2017"
         },
         {
          "release_year": "2017"
         },
         {
          "release_year": "2017"
         },
         {
          "release_year": "2018"
         },
         {
          "release_year": "2018"
         },
         {
          "release_year": "2017"
         },
         {
          "release_year": "2017"
         },
         {
          "release_year": "2017"
         },
         {
          "release_year": "2017"
         },
         {
          "release_year": "2018"
         },
         {
          "release_year": "2018"
         },
         {
          "release_year": "2018"
         },
         {
          "release_year": "2018"
         },
         {
          "release_year": "2017"
         },
         {
          "release_year": "2018"
         },
         {
          "release_year": "2017"
         },
         {
          "release_year": "2018"
         },
         {
          "release_year": "2018"
         },
         {
          "release_year": "2018"
         },
         {
          "release_year": "2018"
         },
         {
          "release_year": "2018"
         },
         {
          "release_year": "2018"
         },
         {
          "release_year": "2018"
         },
         {
          "release_year": "2018"
         },
         {
          "release_year": "2018"
         },
         {
          "release_year": "2017"
         },
         {
          "release_year": "2017"
         },
         {
          "release_year": "2017"
         },
         {
          "release_year": "2018"
         },
         {
          "release_year": "2017"
         },
         {
          "release_year": "2017"
         },
         {
          "release_year": "2017"
         },
         {
          "release_year": "2018"
         },
         {
          "release_year": "2017"
         },
         {
          "release_year": "2018"
         },
         {
          "release_year": "2017"
         },
         {
          "release_year": "2018"
         },
         {
          "release_year": "2018"
         },
         {
          "release_year": "2018"
         },
         {
          "release_year": "2018"
         },
         {
          "release_year": "2018"
         },
         {
          "release_year": "2017"
         },
         {
          "release_year": "2017"
         },
         {
          "release_year": "2018"
         },
         {
          "release_year": "2017"
         },
         {
          "release_year": "2018"
         },
         {
          "release_year": "2018"
         },
         {
          "release_year": "2017"
         },
         {
          "release_year": "2018"
         },
         {
          "release_year": "2017"
         },
         {
          "release_year": "2018"
         },
         {
          "release_year": "2018"
         },
         {
          "release_year": "2017"
         },
         {
          "release_year": "2018"
         },
         {
          "release_year": "2018"
         },
         {
          "release_year": "2018"
         },
         {
          "release_year": "2018"
         },
         {
          "release_year": "2017"
         },
         {
          "release_year": "2017"
         },
         {
          "release_year": "2018"
         },
         {
          "release_year": "2017"
         },
         {
          "release_year": "2017"
         },
         {
          "release_year": "2018"
         },
         {
          "release_year": "2017"
         },
         {
          "release_year": "2018"
         },
         {
          "release_year": "2018"
         },
         {
          "release_year": "2018"
         },
         {
          "release_year": "2018"
         },
         {
          "release_year": "2017"
         },
         {
          "release_year": "2017"
         },
         {
          "release_year": "2017"
         },
         {
          "release_year": "2017"
         },
         {
          "release_year": "2018"
         },
         {
          "release_year": "2018"
         },
         {
          "release_year": "2018"
         },
         {
          "release_year": "2017"
         },
         {
          "release_year": "2018"
         },
         {
          "release_year": "2018"
         },
         {
          "release_year": "2017"
         },
         {
          "release_year": "2018"
         },
         {
          "release_year": "2017"
         },
         {
          "release_year": "2017"
         },
         {
          "release_year": "2017"
         },
         {
          "release_year": "2017"
         },
         {
          "release_year": "2017"
         },
         {
          "release_year": "2017"
         },
         {
          "release_year": "2017"
         },
         {
          "release_year": "2018"
         },
         {
          "release_year": "2018"
         },
         {
          "release_year": "2018"
         },
         {
          "release_year": "2017"
         },
         {
          "release_year": "2018"
         },
         {
          "release_year": "2017"
         },
         {
          "release_year": "2017"
         },
         {
          "release_year": "2017"
         },
         {
          "release_year": "2018"
         },
         {
          "release_year": "2018"
         },
         {
          "release_year": "2018"
         },
         {
          "release_year": "2018"
         },
         {
          "release_year": "2017"
         },
         {
          "release_year": "2018"
         },
         {
          "release_year": "2018"
         },
         {
          "release_year": "2018"
         },
         {
          "release_year": "2017"
         },
         {
          "release_year": "2018"
         },
         {
          "release_year": "2018"
         },
         {
          "release_year": "2018"
         },
         {
          "release_year": "2018"
         },
         {
          "release_year": "2018"
         },
         {
          "release_year": "2018"
         },
         {
          "release_year": "2018"
         },
         {
          "release_year": "2018"
         },
         {
          "release_year": "2017"
         },
         {
          "release_year": "2018"
         },
         {
          "release_year": "2017"
         },
         {
          "release_year": "2017"
         },
         {
          "release_year": "2017"
         },
         {
          "release_year": "2018"
         },
         {
          "release_year": "2017"
         },
         {
          "release_year": "2018"
         },
         {
          "release_year": "2018"
         },
         {
          "release_year": "2017"
         },
         {
          "release_year": "2018"
         },
         {
          "release_year": "2018"
         },
         {
          "release_year": "2018"
         },
         {
          "release_year": "2017"
         },
         {
          "release_year": "2018"
         },
         {
          "release_year": "2017"
         },
         {
          "release_year": "2018"
         },
         {
          "release_year": "2017"
         },
         {
          "release_year": "2018"
         },
         {
          "release_year": "2017"
         },
         {
          "release_year": "2018"
         },
         {
          "release_year": "2018"
         },
         {
          "release_year": "2018"
         },
         {
          "release_year": "2017"
         },
         {
          "release_year": "2018"
         },
         {
          "release_year": "2017"
         },
         {
          "release_year": "2018"
         },
         {
          "release_year": "2017"
         },
         {
          "release_year": "2017"
         },
         {
          "release_year": "2017"
         },
         {
          "release_year": "2018"
         },
         {
          "release_year": "2017"
         },
         {
          "release_year": "2017"
         },
         {
          "release_year": "2018"
         },
         {
          "release_year": "2017"
         },
         {
          "release_year": "2017"
         },
         {
          "release_year": "2018"
         },
         {
          "release_year": "2018"
         },
         {
          "release_year": "2018"
         },
         {
          "release_year": "2017"
         },
         {
          "release_year": "2017"
         },
         {
          "release_year": "2018"
         },
         {
          "release_year": "2017"
         },
         {
          "release_year": "2018"
         },
         {
          "release_year": "2017"
         },
         {
          "release_year": "2017"
         },
         {
          "release_year": "2017"
         },
         {
          "release_year": "2018"
         },
         {
          "release_year": "2017"
         },
         {
          "release_year": "2018"
         },
         {
          "release_year": "2018"
         },
         {
          "release_year": "2018"
         },
         {
          "release_year": "2017"
         },
         {
          "release_year": "2018"
         },
         {
          "release_year": "2017"
         },
         {
          "release_year": "2018"
         },
         {
          "release_year": "2018"
         },
         {
          "release_year": "2018"
         },
         {
          "release_year": "2018"
         },
         {
          "release_year": "2018"
         },
         {
          "release_year": "2018"
         },
         {
          "release_year": "2017"
         },
         {
          "release_year": "2017"
         },
         {
          "release_year": "2018"
         },
         {
          "release_year": "2018"
         },
         {
          "release_year": "2018"
         },
         {
          "release_year": "2017"
         },
         {
          "release_year": "2018"
         },
         {
          "release_year": "2018"
         },
         {
          "release_year": "2017"
         },
         {
          "release_year": "2018"
         },
         {
          "release_year": "2018"
         },
         {
          "release_year": "2018"
         },
         {
          "release_year": "2018"
         },
         {
          "release_year": "2017"
         },
         {
          "release_year": "2018"
         },
         {
          "release_year": "2017"
         },
         {
          "release_year": "2017"
         },
         {
          "release_year": "2017"
         },
         {
          "release_year": "2017"
         },
         {
          "release_year": "2018"
         },
         {
          "release_year": "2018"
         },
         {
          "release_year": "2017"
         },
         {
          "release_year": "2017"
         },
         {
          "release_year": "2018"
         },
         {
          "release_year": "2017"
         },
         {
          "release_year": "2018"
         },
         {
          "release_year": "2018"
         },
         {
          "release_year": "2018"
         },
         {
          "release_year": "2018"
         },
         {
          "release_year": "2017"
         },
         {
          "release_year": "2017"
         },
         {
          "release_year": "2018"
         },
         {
          "release_year": "2017"
         },
         {
          "release_year": "2018"
         },
         {
          "release_year": "2018"
         },
         {
          "release_year": "2018"
         },
         {
          "release_year": "2018"
         },
         {
          "release_year": "2018"
         },
         {
          "release_year": "2017"
         },
         {
          "release_year": "2017"
         },
         {
          "release_year": "2017"
         },
         {
          "release_year": "2017"
         },
         {
          "release_year": "2017"
         },
         {
          "release_year": "2018"
         },
         {
          "release_year": "2018"
         },
         {
          "release_year": "2018"
         },
         {
          "release_year": "2017"
         },
         {
          "release_year": "2018"
         },
         {
          "release_year": "2018"
         },
         {
          "release_year": "2018"
         },
         {
          "release_year": "2018"
         },
         {
          "release_year": "2017"
         },
         {
          "release_year": "2017"
         },
         {
          "release_year": "2018"
         },
         {
          "release_year": "2018"
         },
         {
          "release_year": "2018"
         },
         {
          "release_year": "2017"
         },
         {
          "release_year": "2018"
         },
         {
          "release_year": "2018"
         },
         {
          "release_year": "2018"
         },
         {
          "release_year": "2018"
         },
         {
          "release_year": "2017"
         },
         {
          "release_year": "2018"
         },
         {
          "release_year": "2018"
         },
         {
          "release_year": "2018"
         },
         {
          "release_year": "2017"
         },
         {
          "release_year": "2018"
         },
         {
          "release_year": "2017"
         },
         {
          "release_year": "2017"
         },
         {
          "release_year": "2018"
         },
         {
          "release_year": "2018"
         },
         {
          "release_year": "2017"
         },
         {
          "release_year": "2018"
         },
         {
          "release_year": "2017"
         },
         {
          "release_year": "2018"
         },
         {
          "release_year": "2017"
         },
         {
          "release_year": "2018"
         },
         {
          "release_year": "2018"
         },
         {
          "release_year": "2017"
         },
         {
          "release_year": "2018"
         },
         {
          "release_year": "2017"
         },
         {
          "release_year": "2017"
         },
         {
          "release_year": "2018"
         },
         {
          "release_year": "2017"
         },
         {
          "release_year": "2018"
         },
         {
          "release_year": "2017"
         },
         {
          "release_year": "2017"
         },
         {
          "release_year": "2018"
         },
         {
          "release_year": "2017"
         },
         {
          "release_year": "2017"
         },
         {
          "release_year": "2018"
         },
         {
          "release_year": "2018"
         },
         {
          "release_year": "2018"
         },
         {
          "release_year": "2018"
         },
         {
          "release_year": "2017"
         },
         {
          "release_year": "2017"
         },
         {
          "release_year": "2018"
         },
         {
          "release_year": "2017"
         },
         {
          "release_year": "2017"
         },
         {
          "release_year": "2018"
         },
         {
          "release_year": "2017"
         },
         {
          "release_year": "2017"
         },
         {
          "release_year": "2018"
         },
         {
          "release_year": "2017"
         },
         {
          "release_year": "2017"
         },
         {
          "release_year": "2017"
         },
         {
          "release_year": "2018"
         },
         {
          "release_year": "2018"
         },
         {
          "release_year": "2018"
         },
         {
          "release_year": "2018"
         },
         {
          "release_year": "2017"
         },
         {
          "release_year": "2018"
         },
         {
          "release_year": "2018"
         },
         {
          "release_year": "2018"
         },
         {
          "release_year": "2018"
         },
         {
          "release_year": "2018"
         },
         {
          "release_year": "2018"
         },
         {
          "release_year": "2018"
         },
         {
          "release_year": "2017"
         },
         {
          "release_year": "2017"
         },
         {
          "release_year": "2017"
         },
         {
          "release_year": "2017"
         },
         {
          "release_year": "2018"
         },
         {
          "release_year": "2018"
         },
         {
          "release_year": "2018"
         },
         {
          "release_year": "2018"
         },
         {
          "release_year": "2017"
         },
         {
          "release_year": "2017"
         },
         {
          "release_year": "2018"
         },
         {
          "release_year": "2017"
         },
         {
          "release_year": "2018"
         },
         {
          "release_year": "2018"
         },
         {
          "release_year": "2018"
         },
         {
          "release_year": "2018"
         },
         {
          "release_year": "2017"
         },
         {
          "release_year": "2018"
         },
         {
          "release_year": "2018"
         },
         {
          "release_year": "2018"
         },
         {
          "release_year": "2018"
         },
         {
          "release_year": "2017"
         },
         {
          "release_year": "2018"
         },
         {
          "release_year": "2017"
         },
         {
          "release_year": "2017"
         },
         {
          "release_year": "2018"
         },
         {
          "release_year": "2017"
         },
         {
          "release_year": "2018"
         },
         {
          "release_year": "2017"
         },
         {
          "release_year": "2018"
         },
         {
          "release_year": "2017"
         },
         {
          "release_year": "2018"
         },
         {
          "release_year": "2017"
         },
         {
          "release_year": "2017"
         },
         {
          "release_year": "2018"
         },
         {
          "release_year": "2017"
         },
         {
          "release_year": "2017"
         },
         {
          "release_year": "2017"
         },
         {
          "release_year": "2017"
         },
         {
          "release_year": "2017"
         },
         {
          "release_year": "2018"
         },
         {
          "release_year": "2017"
         },
         {
          "release_year": "2018"
         },
         {
          "release_year": "2017"
         },
         {
          "release_year": "2018"
         },
         {
          "release_year": "2018"
         },
         {
          "release_year": "2017"
         },
         {
          "release_year": "2018"
         },
         {
          "release_year": "2018"
         },
         {
          "release_year": "2018"
         },
         {
          "release_year": "2018"
         },
         {
          "release_year": "2018"
         },
         {
          "release_year": "2017"
         },
         {
          "release_year": "2018"
         },
         {
          "release_year": "2018"
         },
         {
          "release_year": "2017"
         },
         {
          "release_year": "2018"
         },
         {
          "release_year": "2017"
         },
         {
          "release_year": "2017"
         },
         {
          "release_year": "2018"
         },
         {
          "release_year": "2017"
         },
         {
          "release_year": "2017"
         },
         {
          "release_year": "2017"
         },
         {
          "release_year": "2017"
         },
         {
          "release_year": "2017"
         },
         {
          "release_year": "2018"
         },
         {
          "release_year": "2018"
         },
         {
          "release_year": "2018"
         },
         {
          "release_year": "2018"
         },
         {
          "release_year": "2018"
         },
         {
          "release_year": "2017"
         },
         {
          "release_year": "2017"
         },
         {
          "release_year": "2018"
         },
         {
          "release_year": "2018"
         },
         {
          "release_year": "2017"
         },
         {
          "release_year": "2018"
         },
         {
          "release_year": "2018"
         },
         {
          "release_year": "2018"
         },
         {
          "release_year": "2018"
         },
         {
          "release_year": "2017"
         },
         {
          "release_year": "2017"
         },
         {
          "release_year": "2017"
         },
         {
          "release_year": "2018"
         },
         {
          "release_year": "2018"
         },
         {
          "release_year": "2018"
         },
         {
          "release_year": "2018"
         },
         {
          "release_year": "2017"
         },
         {
          "release_year": "2018"
         },
         {
          "release_year": "2017"
         },
         {
          "release_year": "2017"
         },
         {
          "release_year": "2017"
         },
         {
          "release_year": "2017"
         },
         {
          "release_year": "2018"
         },
         {
          "release_year": "2018"
         },
         {
          "release_year": "2018"
         },
         {
          "release_year": "2017"
         },
         {
          "release_year": "2018"
         },
         {
          "release_year": "2018"
         },
         {
          "release_year": "2018"
         },
         {
          "release_year": "2017"
         },
         {
          "release_year": "2018"
         },
         {
          "release_year": "2018"
         },
         {
          "release_year": "2018"
         },
         {
          "release_year": "2017"
         },
         {
          "release_year": "2017"
         },
         {
          "release_year": "2018"
         },
         {
          "release_year": "2017"
         },
         {
          "release_year": "2018"
         },
         {
          "release_year": "2018"
         },
         {
          "release_year": "2018"
         },
         {
          "release_year": "2018"
         },
         {
          "release_year": "2018"
         },
         {
          "release_year": "2017"
         },
         {
          "release_year": "2018"
         },
         {
          "release_year": "2017"
         },
         {
          "release_year": "2018"
         },
         {
          "release_year": "2017"
         },
         {
          "release_year": "2018"
         },
         {
          "release_year": "2017"
         },
         {
          "release_year": "2017"
         },
         {
          "release_year": "2017"
         },
         {
          "release_year": "2017"
         },
         {
          "release_year": "2017"
         },
         {
          "release_year": "2017"
         },
         {
          "release_year": "2018"
         },
         {
          "release_year": "2017"
         },
         {
          "release_year": "2018"
         },
         {
          "release_year": "2018"
         },
         {
          "release_year": "2017"
         },
         {
          "release_year": "2017"
         },
         {
          "release_year": "2017"
         },
         {
          "release_year": "2018"
         },
         {
          "release_year": "2018"
         },
         {
          "release_year": "2018"
         },
         {
          "release_year": "2017"
         },
         {
          "release_year": "2018"
         },
         {
          "release_year": "2018"
         },
         {
          "release_year": "2017"
         },
         {
          "release_year": "2018"
         },
         {
          "release_year": "2018"
         },
         {
          "release_year": "2018"
         },
         {
          "release_year": "2017"
         },
         {
          "release_year": "2018"
         },
         {
          "release_year": "2018"
         },
         {
          "release_year": "2018"
         },
         {
          "release_year": "2018"
         },
         {
          "release_year": "2018"
         },
         {
          "release_year": "2017"
         },
         {
          "release_year": "2018"
         },
         {
          "release_year": "2018"
         },
         {
          "release_year": "2018"
         },
         {
          "release_year": "2017"
         },
         {
          "release_year": "2017"
         },
         {
          "release_year": "2018"
         },
         {
          "release_year": "2018"
         },
         {
          "release_year": "2017"
         },
         {
          "release_year": "2017"
         },
         {
          "release_year": "2018"
         },
         {
          "release_year": "2017"
         },
         {
          "release_year": "2018"
         },
         {
          "release_year": "2017"
         },
         {
          "release_year": "2017"
         },
         {
          "release_year": "2018"
         },
         {
          "release_year": "2018"
         },
         {
          "release_year": "2018"
         },
         {
          "release_year": "2018"
         },
         {
          "release_year": "2018"
         },
         {
          "release_year": "2017"
         },
         {
          "release_year": "2018"
         },
         {
          "release_year": "2018"
         },
         {
          "release_year": "2017"
         },
         {
          "release_year": "2018"
         },
         {
          "release_year": "2017"
         },
         {
          "release_year": "2018"
         },
         {
          "release_year": "2018"
         },
         {
          "release_year": "2017"
         },
         {
          "release_year": "2017"
         },
         {
          "release_year": "2018"
         },
         {
          "release_year": "2017"
         },
         {
          "release_year": "2018"
         },
         {
          "release_year": "2017"
         },
         {
          "release_year": "2018"
         },
         {
          "release_year": "2018"
         },
         {
          "release_year": "2017"
         },
         {
          "release_year": "2018"
         },
         {
          "release_year": "2017"
         },
         {
          "release_year": "2017"
         },
         {
          "release_year": "2018"
         },
         {
          "release_year": "2018"
         },
         {
          "release_year": "2017"
         },
         {
          "release_year": "2017"
         },
         {
          "release_year": "2018"
         },
         {
          "release_year": "2018"
         },
         {
          "release_year": "2018"
         },
         {
          "release_year": "2018"
         },
         {
          "release_year": "2018"
         },
         {
          "release_year": "2018"
         },
         {
          "release_year": "2018"
         },
         {
          "release_year": "2018"
         },
         {
          "release_year": "2017"
         },
         {
          "release_year": "2018"
         },
         {
          "release_year": "2018"
         },
         {
          "release_year": "2018"
         },
         {
          "release_year": "2018"
         },
         {
          "release_year": "2017"
         },
         {
          "release_year": "2018"
         },
         {
          "release_year": "2017"
         },
         {
          "release_year": "2018"
         },
         {
          "release_year": "2018"
         },
         {
          "release_year": "2018"
         },
         {
          "release_year": "2017"
         },
         {
          "release_year": "2018"
         },
         {
          "release_year": "2018"
         },
         {
          "release_year": "2017"
         },
         {
          "release_year": "2018"
         },
         {
          "release_year": "2017"
         },
         {
          "release_year": "2018"
         },
         {
          "release_year": "2017"
         },
         {
          "release_year": "2017"
         },
         {
          "release_year": "2018"
         },
         {
          "release_year": "2018"
         },
         {
          "release_year": "2017"
         },
         {
          "release_year": "2017"
         },
         {
          "release_year": "2017"
         },
         {
          "release_year": "2018"
         },
         {
          "release_year": "2017"
         },
         {
          "release_year": "2017"
         },
         {
          "release_year": "2018"
         },
         {
          "release_year": "2017"
         },
         {
          "release_year": "2018"
         },
         {
          "release_year": "2017"
         },
         {
          "release_year": "2018"
         },
         {
          "release_year": "2017"
         },
         {
          "release_year": "2017"
         },
         {
          "release_year": "2018"
         },
         {
          "release_year": "2018"
         },
         {
          "release_year": "2018"
         },
         {
          "release_year": "2017"
         },
         {
          "release_year": "2017"
         },
         {
          "release_year": "2018"
         },
         {
          "release_year": "2017"
         },
         {
          "release_year": "2017"
         },
         {
          "release_year": "2018"
         },
         {
          "release_year": "2017"
         },
         {
          "release_year": "2018"
         },
         {
          "release_year": "2018"
         },
         {
          "release_year": "2017"
         },
         {
          "release_year": "2018"
         },
         {
          "release_year": "2017"
         },
         {
          "release_year": "2017"
         },
         {
          "release_year": "2017"
         },
         {
          "release_year": "2018"
         },
         {
          "release_year": "2017"
         },
         {
          "release_year": "2018"
         },
         {
          "release_year": "2018"
         },
         {
          "release_year": "2018"
         },
         {
          "release_year": "2017"
         },
         {
          "release_year": "2018"
         },
         {
          "release_year": "2017"
         },
         {
          "release_year": "2018"
         },
         {
          "release_year": "2017"
         },
         {
          "release_year": "2018"
         },
         {
          "release_year": "2018"
         },
         {
          "release_year": "2018"
         },
         {
          "release_year": "2017"
         },
         {
          "release_year": "2017"
         },
         {
          "release_year": "2017"
         },
         {
          "release_year": "2017"
         },
         {
          "release_year": "2018"
         },
         {
          "release_year": "2018"
         },
         {
          "release_year": "2018"
         },
         {
          "release_year": "2017"
         },
         {
          "release_year": "2017"
         },
         {
          "release_year": "2018"
         },
         {
          "release_year": "2018"
         },
         {
          "release_year": "2018"
         },
         {
          "release_year": "2018"
         },
         {
          "release_year": "2018"
         },
         {
          "release_year": "2018"
         },
         {
          "release_year": "2017"
         },
         {
          "release_year": "2018"
         },
         {
          "release_year": "2018"
         },
         {
          "release_year": "2017"
         },
         {
          "release_year": "2017"
         },
         {
          "release_year": "2017"
         },
         {
          "release_year": "2017"
         },
         {
          "release_year": "2017"
         },
         {
          "release_year": "2018"
         },
         {
          "release_year": "2017"
         },
         {
          "release_year": "2018"
         },
         {
          "release_year": "2017"
         },
         {
          "release_year": "2018"
         },
         {
          "release_year": "2017"
         },
         {
          "release_year": "2018"
         },
         {
          "release_year": "2018"
         },
         {
          "release_year": "2018"
         },
         {
          "release_year": "2017"
         },
         {
          "release_year": "2018"
         },
         {
          "release_year": "2018"
         },
         {
          "release_year": "2017"
         },
         {
          "release_year": "2018"
         },
         {
          "release_year": "2017"
         },
         {
          "release_year": "2018"
         },
         {
          "release_year": "2018"
         },
         {
          "release_year": "2018"
         },
         {
          "release_year": "2018"
         },
         {
          "release_year": "2018"
         },
         {
          "release_year": "2018"
         },
         {
          "release_year": "2017"
         },
         {
          "release_year": "2018"
         },
         {
          "release_year": "2018"
         },
         {
          "release_year": "2017"
         },
         {
          "release_year": "2018"
         },
         {
          "release_year": "2018"
         },
         {
          "release_year": "2017"
         },
         {
          "release_year": "2017"
         },
         {
          "release_year": "2017"
         },
         {
          "release_year": "2018"
         },
         {
          "release_year": "2018"
         },
         {
          "release_year": "2018"
         },
         {
          "release_year": "2018"
         },
         {
          "release_year": "2017"
         },
         {
          "release_year": "2017"
         },
         {
          "release_year": "2018"
         },
         {
          "release_year": "2018"
         },
         {
          "release_year": "2018"
         },
         {
          "release_year": "2017"
         },
         {
          "release_year": "2018"
         },
         {
          "release_year": "2018"
         },
         {
          "release_year": "2018"
         },
         {
          "release_year": "2017"
         },
         {
          "release_year": "2018"
         },
         {
          "release_year": "2018"
         },
         {
          "release_year": "2018"
         },
         {
          "release_year": "2018"
         },
         {
          "release_year": "2018"
         },
         {
          "release_year": "2017"
         },
         {
          "release_year": "2017"
         },
         {
          "release_year": "2018"
         },
         {
          "release_year": "2017"
         },
         {
          "release_year": "2018"
         },
         {
          "release_year": "2017"
         },
         {
          "release_year": "2017"
         },
         {
          "release_year": "2018"
         },
         {
          "release_year": "2017"
         },
         {
          "release_year": "2018"
         },
         {
          "release_year": "2018"
         },
         {
          "release_year": "2018"
         },
         {
          "release_year": "2017"
         },
         {
          "release_year": "2018"
         },
         {
          "release_year": "2017"
         },
         {
          "release_year": "2018"
         },
         {
          "release_year": "2017"
         },
         {
          "release_year": "2018"
         },
         {
          "release_year": "2018"
         },
         {
          "release_year": "2017"
         },
         {
          "release_year": "2017"
         },
         {
          "release_year": "2017"
         },
         {
          "release_year": "2017"
         },
         {
          "release_year": "2018"
         },
         {
          "release_year": "2018"
         },
         {
          "release_year": "2018"
         },
         {
          "release_year": "2017"
         },
         {
          "release_year": "2018"
         },
         {
          "release_year": "2017"
         },
         {
          "release_year": "2017"
         },
         {
          "release_year": "2017"
         },
         {
          "release_year": "2018"
         },
         {
          "release_year": "2017"
         },
         {
          "release_year": "2018"
         },
         {
          "release_year": "2018"
         },
         {
          "release_year": "2017"
         },
         {
          "release_year": "2018"
         },
         {
          "release_year": "2017"
         },
         {
          "release_year": "2017"
         },
         {
          "release_year": "2017"
         },
         {
          "release_year": "2018"
         },
         {
          "release_year": "2017"
         },
         {
          "release_year": "2017"
         },
         {
          "release_year": "2017"
         },
         {
          "release_year": "2018"
         },
         {
          "release_year": "2018"
         },
         {
          "release_year": "2017"
         },
         {
          "release_year": "2018"
         },
         {
          "release_year": "2018"
         },
         {
          "release_year": "2017"
         },
         {
          "release_year": "2017"
         },
         {
          "release_year": "2018"
         },
         {
          "release_year": "2017"
         },
         {
          "release_year": "2017"
         },
         {
          "release_year": "2018"
         },
         {
          "release_year": "2018"
         },
         {
          "release_year": "2018"
         },
         {
          "release_year": "2017"
         },
         {
          "release_year": "2017"
         },
         {
          "release_year": "2017"
         },
         {
          "release_year": "2018"
         },
         {
          "release_year": "2018"
         },
         {
          "release_year": "2018"
         },
         {
          "release_year": "2017"
         },
         {
          "release_year": "2017"
         },
         {
          "release_year": "2018"
         },
         {
          "release_year": "2018"
         },
         {
          "release_year": "2018"
         },
         {
          "release_year": "2018"
         },
         {
          "release_year": "2017"
         },
         {
          "release_year": "2018"
         },
         {
          "release_year": "2017"
         },
         {
          "release_year": "2018"
         },
         {
          "release_year": "2018"
         },
         {
          "release_year": "2017"
         },
         {
          "release_year": "2018"
         },
         {
          "release_year": "2018"
         },
         {
          "release_year": "2018"
         },
         {
          "release_year": "2017"
         },
         {
          "release_year": "2017"
         },
         {
          "release_year": "2017"
         },
         {
          "release_year": "2018"
         },
         {
          "release_year": "2017"
         },
         {
          "release_year": "2018"
         },
         {
          "release_year": "2018"
         },
         {
          "release_year": "2018"
         },
         {
          "release_year": "2017"
         },
         {
          "release_year": "2018"
         },
         {
          "release_year": "2018"
         },
         {
          "release_year": "2017"
         },
         {
          "release_year": "2017"
         },
         {
          "release_year": "2017"
         },
         {
          "release_year": "2017"
         },
         {
          "release_year": "2018"
         },
         {
          "release_year": "2018"
         },
         {
          "release_year": "2018"
         },
         {
          "release_year": "2017"
         },
         {
          "release_year": "2017"
         },
         {
          "release_year": "2017"
         },
         {
          "release_year": "2017"
         },
         {
          "release_year": "2018"
         },
         {
          "release_year": "2017"
         },
         {
          "release_year": "2018"
         },
         {
          "release_year": "2018"
         },
         {
          "release_year": "2018"
         },
         {
          "release_year": "2018"
         },
         {
          "release_year": "2018"
         },
         {
          "release_year": "2018"
         },
         {
          "release_year": "2018"
         },
         {
          "release_year": "2017"
         },
         {
          "release_year": "2017"
         },
         {
          "release_year": "2017"
         },
         {
          "release_year": "2018"
         },
         {
          "release_year": "2017"
         },
         {
          "release_year": "2017"
         },
         {
          "release_year": "2018"
         },
         {
          "release_year": "2017"
         },
         {
          "release_year": "2018"
         },
         {
          "release_year": "2017"
         },
         {
          "release_year": "2018"
         },
         {
          "release_year": "2018"
         },
         {
          "release_year": "2017"
         },
         {
          "release_year": "2018"
         },
         {
          "release_year": "2018"
         },
         {
          "release_year": "2018"
         },
         {
          "release_year": "2018"
         },
         {
          "release_year": "2018"
         },
         {
          "release_year": "2018"
         },
         {
          "release_year": "2018"
         },
         {
          "release_year": "2018"
         },
         {
          "release_year": "2018"
         },
         {
          "release_year": "2017"
         },
         {
          "release_year": "2018"
         },
         {
          "release_year": "2018"
         },
         {
          "release_year": "2017"
         },
         {
          "release_year": "2018"
         },
         {
          "release_year": "2017"
         },
         {
          "release_year": "2017"
         },
         {
          "release_year": "2018"
         },
         {
          "release_year": "2018"
         },
         {
          "release_year": "2018"
         },
         {
          "release_year": "2017"
         },
         {
          "release_year": "2017"
         },
         {
          "release_year": "2018"
         },
         {
          "release_year": "2017"
         },
         {
          "release_year": "2018"
         },
         {
          "release_year": "2017"
         },
         {
          "release_year": "2018"
         },
         {
          "release_year": "2017"
         },
         {
          "release_year": "2018"
         },
         {
          "release_year": "2018"
         },
         {
          "release_year": "2018"
         },
         {
          "release_year": "2017"
         },
         {
          "release_year": "2018"
         },
         {
          "release_year": "2017"
         },
         {
          "release_year": "2018"
         },
         {
          "release_year": "2017"
         },
         {
          "release_year": "2017"
         },
         {
          "release_year": "2017"
         },
         {
          "release_year": "2018"
         },
         {
          "release_year": "2017"
         },
         {
          "release_year": "2017"
         },
         {
          "release_year": "2017"
         },
         {
          "release_year": "2017"
         },
         {
          "release_year": "2017"
         },
         {
          "release_year": "2017"
         },
         {
          "release_year": "2018"
         },
         {
          "release_year": "2018"
         },
         {
          "release_year": "2018"
         },
         {
          "release_year": "2018"
         },
         {
          "release_year": "2018"
         },
         {
          "release_year": "2018"
         },
         {
          "release_year": "2018"
         },
         {
          "release_year": "2018"
         },
         {
          "release_year": "2017"
         },
         {
          "release_year": "2018"
         },
         {
          "release_year": "2017"
         },
         {
          "release_year": "2018"
         },
         {
          "release_year": "2018"
         },
         {
          "release_year": "2018"
         },
         {
          "release_year": "2018"
         },
         {
          "release_year": "2017"
         },
         {
          "release_year": "2018"
         },
         {
          "release_year": "2018"
         },
         {
          "release_year": "2018"
         },
         {
          "release_year": "2017"
         },
         {
          "release_year": "2018"
         },
         {
          "release_year": "2017"
         },
         {
          "release_year": "2018"
         },
         {
          "release_year": "2017"
         },
         {
          "release_year": "2017"
         },
         {
          "release_year": "2018"
         },
         {
          "release_year": "2018"
         },
         {
          "release_year": "2018"
         },
         {
          "release_year": "2018"
         },
         {
          "release_year": "2018"
         },
         {
          "release_year": "2018"
         },
         {
          "release_year": "2017"
         },
         {
          "release_year": "2018"
         },
         {
          "release_year": "2018"
         },
         {
          "release_year": "2018"
         },
         {
          "release_year": "2017"
         },
         {
          "release_year": "2018"
         },
         {
          "release_year": "2018"
         },
         {
          "release_year": "2017"
         },
         {
          "release_year": "2018"
         },
         {
          "release_year": "2017"
         },
         {
          "release_year": "2017"
         },
         {
          "release_year": "2018"
         },
         {
          "release_year": "2017"
         },
         {
          "release_year": "2018"
         },
         {
          "release_year": "2018"
         },
         {
          "release_year": "2018"
         },
         {
          "release_year": "2018"
         },
         {
          "release_year": "2017"
         },
         {
          "release_year": "2018"
         },
         {
          "release_year": "2017"
         },
         {
          "release_year": "2017"
         },
         {
          "release_year": "2018"
         },
         {
          "release_year": "2017"
         },
         {
          "release_year": "2017"
         },
         {
          "release_year": "2017"
         },
         {
          "release_year": "2018"
         },
         {
          "release_year": "2018"
         },
         {
          "release_year": "2017"
         },
         {
          "release_year": "2017"
         },
         {
          "release_year": "2018"
         },
         {
          "release_year": "2017"
         },
         {
          "release_year": "2017"
         },
         {
          "release_year": "2017"
         },
         {
          "release_year": "2018"
         },
         {
          "release_year": "2017"
         },
         {
          "release_year": "2017"
         },
         {
          "release_year": "2018"
         },
         {
          "release_year": "2018"
         },
         {
          "release_year": "2018"
         },
         {
          "release_year": "2018"
         },
         {
          "release_year": "2018"
         },
         {
          "release_year": "2017"
         },
         {
          "release_year": "2018"
         },
         {
          "release_year": "2017"
         },
         {
          "release_year": "2018"
         },
         {
          "release_year": "2018"
         },
         {
          "release_year": "2018"
         },
         {
          "release_year": "2018"
         },
         {
          "release_year": "2018"
         },
         {
          "release_year": "2018"
         },
         {
          "release_year": "2018"
         },
         {
          "release_year": "2017"
         },
         {
          "release_year": "2017"
         },
         {
          "release_year": "2018"
         },
         {
          "release_year": "2017"
         },
         {
          "release_year": "2018"
         },
         {
          "release_year": "2017"
         },
         {
          "release_year": "2017"
         },
         {
          "release_year": "2017"
         },
         {
          "release_year": "2017"
         },
         {
          "release_year": "2017"
         },
         {
          "release_year": "2018"
         },
         {
          "release_year": "2018"
         },
         {
          "release_year": "2017"
         },
         {
          "release_year": "2017"
         },
         {
          "release_year": "2017"
         },
         {
          "release_year": "2018"
         },
         {
          "release_year": "2017"
         },
         {
          "release_year": "2018"
         },
         {
          "release_year": "2018"
         },
         {
          "release_year": "2018"
         },
         {
          "release_year": "2017"
         },
         {
          "release_year": "2017"
         },
         {
          "release_year": "2018"
         },
         {
          "release_year": "2017"
         },
         {
          "release_year": "2017"
         },
         {
          "release_year": "2018"
         },
         {
          "release_year": "2018"
         },
         {
          "release_year": "2018"
         },
         {
          "release_year": "2018"
         },
         {
          "release_year": "2017"
         },
         {
          "release_year": "2018"
         },
         {
          "release_year": "2018"
         },
         {
          "release_year": "2018"
         },
         {
          "release_year": "2017"
         },
         {
          "release_year": "2018"
         },
         {
          "release_year": "2017"
         },
         {
          "release_year": "2018"
         },
         {
          "release_year": "2018"
         },
         {
          "release_year": "2018"
         },
         {
          "release_year": "2017"
         },
         {
          "release_year": "2017"
         },
         {
          "release_year": "2018"
         },
         {
          "release_year": "2018"
         },
         {
          "release_year": "2018"
         },
         {
          "release_year": "2017"
         },
         {
          "release_year": "2017"
         },
         {
          "release_year": "2018"
         },
         {
          "release_year": "2018"
         },
         {
          "release_year": "2018"
         },
         {
          "release_year": "2018"
         },
         {
          "release_year": "2018"
         },
         {
          "release_year": "2018"
         },
         {
          "release_year": "2018"
         },
         {
          "release_year": "2018"
         },
         {
          "release_year": "2018"
         },
         {
          "release_year": "2018"
         },
         {
          "release_year": "2017"
         },
         {
          "release_year": "2017"
         },
         {
          "release_year": "2018"
         },
         {
          "release_year": "2017"
         },
         {
          "release_year": "2018"
         },
         {
          "release_year": "2018"
         },
         {
          "release_year": "2018"
         },
         {
          "release_year": "2017"
         },
         {
          "release_year": "2017"
         },
         {
          "release_year": "2017"
         },
         {
          "release_year": "2017"
         },
         {
          "release_year": "2018"
         },
         {
          "release_year": "2017"
         },
         {
          "release_year": "2017"
         },
         {
          "release_year": "2018"
         },
         {
          "release_year": "2018"
         },
         {
          "release_year": "2018"
         },
         {
          "release_year": "2018"
         },
         {
          "release_year": "2017"
         },
         {
          "release_year": "2018"
         },
         {
          "release_year": "2017"
         },
         {
          "release_year": "2018"
         },
         {
          "release_year": "2018"
         },
         {
          "release_year": "2018"
         },
         {
          "release_year": "2018"
         },
         {
          "release_year": "2018"
         },
         {
          "release_year": "2017"
         },
         {
          "release_year": "2018"
         },
         {
          "release_year": "2018"
         },
         {
          "release_year": "2018"
         },
         {
          "release_year": "2017"
         },
         {
          "release_year": "2018"
         },
         {
          "release_year": "2018"
         },
         {
          "release_year": "2017"
         },
         {
          "release_year": "2018"
         },
         {
          "release_year": "2018"
         },
         {
          "release_year": "2017"
         },
         {
          "release_year": "2017"
         },
         {
          "release_year": "2017"
         },
         {
          "release_year": "2017"
         },
         {
          "release_year": "2017"
         },
         {
          "release_year": "2018"
         },
         {
          "release_year": "2018"
         },
         {
          "release_year": "2018"
         },
         {
          "release_year": "2018"
         },
         {
          "release_year": "2017"
         },
         {
          "release_year": "2018"
         },
         {
          "release_year": "2018"
         },
         {
          "release_year": "2018"
         },
         {
          "release_year": "2017"
         },
         {
          "release_year": "2017"
         },
         {
          "release_year": "2017"
         },
         {
          "release_year": "2018"
         },
         {
          "release_year": "2018"
         },
         {
          "release_year": "2018"
         },
         {
          "release_year": "2018"
         },
         {
          "release_year": "2017"
         },
         {
          "release_year": "2018"
         },
         {
          "release_year": "2017"
         },
         {
          "release_year": "2018"
         },
         {
          "release_year": "2018"
         },
         {
          "release_year": "2017"
         },
         {
          "release_year": "2018"
         },
         {
          "release_year": "2017"
         },
         {
          "release_year": "2017"
         },
         {
          "release_year": "2018"
         },
         {
          "release_year": "2017"
         },
         {
          "release_year": "2018"
         },
         {
          "release_year": "2018"
         },
         {
          "release_year": "2017"
         },
         {
          "release_year": "2017"
         },
         {
          "release_year": "2018"
         },
         {
          "release_year": "2018"
         },
         {
          "release_year": "2017"
         },
         {
          "release_year": "2017"
         },
         {
          "release_year": "2018"
         },
         {
          "release_year": "2018"
         },
         {
          "release_year": "2017"
         },
         {
          "release_year": "2018"
         },
         {
          "release_year": "2017"
         },
         {
          "release_year": "2017"
         },
         {
          "release_year": "2018"
         },
         {
          "release_year": "2017"
         },
         {
          "release_year": "2018"
         },
         {
          "release_year": "2018"
         },
         {
          "release_year": "2018"
         },
         {
          "release_year": "2018"
         },
         {
          "release_year": "2018"
         },
         {
          "release_year": "2017"
         },
         {
          "release_year": "2018"
         },
         {
          "release_year": "2018"
         },
         {
          "release_year": "2017"
         },
         {
          "release_year": "2018"
         },
         {
          "release_year": "2017"
         },
         {
          "release_year": "2018"
         },
         {
          "release_year": "2018"
         },
         {
          "release_year": "2018"
         },
         {
          "release_year": "2018"
         },
         {
          "release_year": "2018"
         },
         {
          "release_year": "2018"
         },
         {
          "release_year": "2017"
         },
         {
          "release_year": "2018"
         },
         {
          "release_year": "2017"
         },
         {
          "release_year": "2018"
         },
         {
          "release_year": "2018"
         },
         {
          "release_year": "2017"
         },
         {
          "release_year": "2018"
         },
         {
          "release_year": "2018"
         },
         {
          "release_year": "2018"
         },
         {
          "release_year": "2018"
         },
         {
          "release_year": "2018"
         },
         {
          "release_year": "2017"
         },
         {
          "release_year": "2017"
         },
         {
          "release_year": "2017"
         },
         {
          "release_year": "2018"
         },
         {
          "release_year": "2017"
         },
         {
          "release_year": "2017"
         },
         {
          "release_year": "2017"
         },
         {
          "release_year": "2018"
         },
         {
          "release_year": "2018"
         },
         {
          "release_year": "2018"
         },
         {
          "release_year": "2018"
         },
         {
          "release_year": "2018"
         },
         {
          "release_year": "2018"
         },
         {
          "release_year": "2017"
         },
         {
          "release_year": "2018"
         },
         {
          "release_year": "2018"
         },
         {
          "release_year": "2017"
         },
         {
          "release_year": "2018"
         },
         {
          "release_year": "2018"
         },
         {
          "release_year": "2017"
         },
         {
          "release_year": "2018"
         },
         {
          "release_year": "2017"
         },
         {
          "release_year": "2017"
         },
         {
          "release_year": "2018"
         },
         {
          "release_year": "2018"
         },
         {
          "release_year": "2017"
         },
         {
          "release_year": "2017"
         },
         {
          "release_year": "2018"
         },
         {
          "release_year": "2018"
         },
         {
          "release_year": "2017"
         },
         {
          "release_year": "2017"
         },
         {
          "release_year": "2018"
         },
         {
          "release_year": "2017"
         },
         {
          "release_year": "2017"
         },
         {
          "release_year": "2018"
         },
         {
          "release_year": "2018"
         },
         {
          "release_year": "2018"
         },
         {
          "release_year": "2019"
         },
         {
          "release_year": "2020"
         },
         {
          "release_year": "2019"
         },
         {
          "release_year": "2019"
         },
         {
          "release_year": "2019"
         },
         {
          "release_year": "2019"
         },
         {
          "release_year": "2019"
         },
         {
          "release_year": "2019"
         },
         {
          "release_year": "2019"
         },
         {
          "release_year": "2019"
         },
         {
          "release_year": "2020"
         },
         {
          "release_year": "2019"
         },
         {
          "release_year": "2020"
         },
         {
          "release_year": "2020"
         },
         {
          "release_year": "2019"
         },
         {
          "release_year": "2019"
         },
         {
          "release_year": "2019"
         },
         {
          "release_year": "2019"
         },
         {
          "release_year": "2019"
         },
         {
          "release_year": "2020"
         },
         {
          "release_year": "2019"
         },
         {
          "release_year": "2019"
         },
         {
          "release_year": "2019"
         },
         {
          "release_year": "2019"
         },
         {
          "release_year": "2019"
         },
         {
          "release_year": "2019"
         },
         {
          "release_year": "2020"
         },
         {
          "release_year": "2020"
         },
         {
          "release_year": "2020"
         },
         {
          "release_year": "2020"
         },
         {
          "release_year": "2020"
         },
         {
          "release_year": "2019"
         },
         {
          "release_year": "2019"
         },
         {
          "release_year": "2020"
         },
         {
          "release_year": "2019"
         },
         {
          "release_year": "2019"
         },
         {
          "release_year": "2019"
         },
         {
          "release_year": "2020"
         },
         {
          "release_year": "2019"
         },
         {
          "release_year": "2020"
         },
         {
          "release_year": "2020"
         },
         {
          "release_year": "2020"
         },
         {
          "release_year": "2020"
         },
         {
          "release_year": "2019"
         },
         {
          "release_year": "2019"
         },
         {
          "release_year": "2020"
         },
         {
          "release_year": "2020"
         },
         {
          "release_year": "2019"
         },
         {
          "release_year": "2020"
         },
         {
          "release_year": "2020"
         },
         {
          "release_year": "2020"
         },
         {
          "release_year": "2019"
         },
         {
          "release_year": "2020"
         },
         {
          "release_year": "2019"
         },
         {
          "release_year": "2020"
         },
         {
          "release_year": "2019"
         },
         {
          "release_year": "2020"
         },
         {
          "release_year": "2019"
         },
         {
          "release_year": "2019"
         },
         {
          "release_year": "2019"
         },
         {
          "release_year": "2020"
         },
         {
          "release_year": "2019"
         },
         {
          "release_year": "2019"
         },
         {
          "release_year": "2019"
         },
         {
          "release_year": "2020"
         },
         {
          "release_year": "2019"
         },
         {
          "release_year": "2019"
         },
         {
          "release_year": "2020"
         },
         {
          "release_year": "2019"
         },
         {
          "release_year": "2020"
         },
         {
          "release_year": "2019"
         },
         {
          "release_year": "2020"
         },
         {
          "release_year": "2020"
         },
         {
          "release_year": "2019"
         },
         {
          "release_year": "2019"
         },
         {
          "release_year": "2019"
         },
         {
          "release_year": "2020"
         },
         {
          "release_year": "2020"
         },
         {
          "release_year": "2019"
         },
         {
          "release_year": "2020"
         },
         {
          "release_year": "2019"
         },
         {
          "release_year": "2019"
         },
         {
          "release_year": "2020"
         },
         {
          "release_year": "2020"
         },
         {
          "release_year": "2019"
         },
         {
          "release_year": "2020"
         },
         {
          "release_year": "2020"
         },
         {
          "release_year": "2019"
         },
         {
          "release_year": "2019"
         },
         {
          "release_year": "2020"
         },
         {
          "release_year": "2019"
         },
         {
          "release_year": "2020"
         },
         {
          "release_year": "2019"
         },
         {
          "release_year": "2020"
         },
         {
          "release_year": "2020"
         },
         {
          "release_year": "2020"
         },
         {
          "release_year": "2019"
         },
         {
          "release_year": "2019"
         },
         {
          "release_year": "2019"
         },
         {
          "release_year": "2019"
         },
         {
          "release_year": "2020"
         },
         {
          "release_year": "2020"
         },
         {
          "release_year": "2020"
         },
         {
          "release_year": "2020"
         },
         {
          "release_year": "2020"
         },
         {
          "release_year": "2019"
         },
         {
          "release_year": "2019"
         },
         {
          "release_year": "2020"
         },
         {
          "release_year": "2019"
         },
         {
          "release_year": "2019"
         },
         {
          "release_year": "2020"
         },
         {
          "release_year": "2020"
         },
         {
          "release_year": "2020"
         },
         {
          "release_year": "2019"
         },
         {
          "release_year": "2020"
         },
         {
          "release_year": "2019"
         },
         {
          "release_year": "2019"
         },
         {
          "release_year": "2019"
         },
         {
          "release_year": "2020"
         },
         {
          "release_year": "2020"
         },
         {
          "release_year": "2020"
         },
         {
          "release_year": "2019"
         },
         {
          "release_year": "2020"
         },
         {
          "release_year": "2019"
         },
         {
          "release_year": "2020"
         },
         {
          "release_year": "2019"
         },
         {
          "release_year": "2020"
         },
         {
          "release_year": "2019"
         },
         {
          "release_year": "2019"
         },
         {
          "release_year": "2020"
         },
         {
          "release_year": "2020"
         },
         {
          "release_year": "2019"
         },
         {
          "release_year": "2020"
         },
         {
          "release_year": "2019"
         },
         {
          "release_year": "2020"
         },
         {
          "release_year": "2019"
         },
         {
          "release_year": "2019"
         },
         {
          "release_year": "2019"
         },
         {
          "release_year": "2019"
         },
         {
          "release_year": "2019"
         },
         {
          "release_year": "2019"
         },
         {
          "release_year": "2020"
         },
         {
          "release_year": "2019"
         },
         {
          "release_year": "2019"
         },
         {
          "release_year": "2020"
         },
         {
          "release_year": "2020"
         },
         {
          "release_year": "2020"
         },
         {
          "release_year": "2019"
         },
         {
          "release_year": "2020"
         },
         {
          "release_year": "2020"
         },
         {
          "release_year": "2020"
         },
         {
          "release_year": "2019"
         },
         {
          "release_year": "2019"
         },
         {
          "release_year": "2020"
         },
         {
          "release_year": "2019"
         },
         {
          "release_year": "2020"
         },
         {
          "release_year": "2020"
         },
         {
          "release_year": "2019"
         },
         {
          "release_year": "2019"
         },
         {
          "release_year": "2020"
         },
         {
          "release_year": "2019"
         },
         {
          "release_year": "2019"
         },
         {
          "release_year": "2019"
         },
         {
          "release_year": "2020"
         },
         {
          "release_year": "2019"
         },
         {
          "release_year": "2020"
         },
         {
          "release_year": "2019"
         },
         {
          "release_year": "2019"
         },
         {
          "release_year": "2020"
         },
         {
          "release_year": "2019"
         },
         {
          "release_year": "2020"
         },
         {
          "release_year": "2019"
         },
         {
          "release_year": "2020"
         },
         {
          "release_year": "2020"
         },
         {
          "release_year": "2020"
         },
         {
          "release_year": "2020"
         },
         {
          "release_year": "2019"
         },
         {
          "release_year": "2019"
         },
         {
          "release_year": "2020"
         },
         {
          "release_year": "2019"
         },
         {
          "release_year": "2020"
         },
         {
          "release_year": "2019"
         },
         {
          "release_year": "2019"
         },
         {
          "release_year": "2020"
         },
         {
          "release_year": "2019"
         },
         {
          "release_year": "2019"
         },
         {
          "release_year": "2020"
         },
         {
          "release_year": "2020"
         },
         {
          "release_year": "2019"
         },
         {
          "release_year": "2019"
         },
         {
          "release_year": "2019"
         },
         {
          "release_year": "2020"
         },
         {
          "release_year": "2020"
         },
         {
          "release_year": "2019"
         },
         {
          "release_year": "2019"
         },
         {
          "release_year": "2020"
         },
         {
          "release_year": "2020"
         },
         {
          "release_year": "2019"
         },
         {
          "release_year": "2019"
         },
         {
          "release_year": "2020"
         },
         {
          "release_year": "2019"
         },
         {
          "release_year": "2020"
         },
         {
          "release_year": "2019"
         },
         {
          "release_year": "2020"
         },
         {
          "release_year": "2019"
         },
         {
          "release_year": "2019"
         },
         {
          "release_year": "2020"
         },
         {
          "release_year": "2019"
         },
         {
          "release_year": "2019"
         },
         {
          "release_year": "2019"
         },
         {
          "release_year": "2019"
         },
         {
          "release_year": "2019"
         },
         {
          "release_year": "2019"
         },
         {
          "release_year": "2020"
         },
         {
          "release_year": "2019"
         },
         {
          "release_year": "2020"
         },
         {
          "release_year": "2019"
         },
         {
          "release_year": "2020"
         },
         {
          "release_year": "2020"
         },
         {
          "release_year": "2020"
         },
         {
          "release_year": "2019"
         },
         {
          "release_year": "2019"
         },
         {
          "release_year": "2019"
         },
         {
          "release_year": "2019"
         },
         {
          "release_year": "2020"
         },
         {
          "release_year": "2019"
         },
         {
          "release_year": "2020"
         },
         {
          "release_year": "2019"
         },
         {
          "release_year": "2020"
         },
         {
          "release_year": "2020"
         },
         {
          "release_year": "2019"
         },
         {
          "release_year": "2020"
         },
         {
          "release_year": "2019"
         },
         {
          "release_year": "2020"
         },
         {
          "release_year": "2019"
         },
         {
          "release_year": "2020"
         },
         {
          "release_year": "2019"
         },
         {
          "release_year": "2020"
         },
         {
          "release_year": "2020"
         },
         {
          "release_year": "2020"
         },
         {
          "release_year": "2020"
         },
         {
          "release_year": "2019"
         },
         {
          "release_year": "2020"
         },
         {
          "release_year": "2019"
         },
         {
          "release_year": "2020"
         },
         {
          "release_year": "2020"
         },
         {
          "release_year": "2019"
         },
         {
          "release_year": "2019"
         },
         {
          "release_year": "2020"
         },
         {
          "release_year": "2020"
         },
         {
          "release_year": "2020"
         },
         {
          "release_year": "2019"
         },
         {
          "release_year": "2019"
         },
         {
          "release_year": "2019"
         },
         {
          "release_year": "2019"
         },
         {
          "release_year": "2020"
         },
         {
          "release_year": "2020"
         },
         {
          "release_year": "2020"
         },
         {
          "release_year": "2019"
         },
         {
          "release_year": "2019"
         },
         {
          "release_year": "2020"
         },
         {
          "release_year": "2019"
         },
         {
          "release_year": "2020"
         },
         {
          "release_year": "2020"
         },
         {
          "release_year": "2019"
         },
         {
          "release_year": "2020"
         },
         {
          "release_year": "2020"
         },
         {
          "release_year": "2020"
         },
         {
          "release_year": "2019"
         },
         {
          "release_year": "2019"
         },
         {
          "release_year": "2019"
         },
         {
          "release_year": "2019"
         },
         {
          "release_year": "2020"
         },
         {
          "release_year": "2019"
         },
         {
          "release_year": "2019"
         },
         {
          "release_year": "2020"
         },
         {
          "release_year": "2019"
         },
         {
          "release_year": "2020"
         },
         {
          "release_year": "2019"
         },
         {
          "release_year": "2020"
         },
         {
          "release_year": "2020"
         },
         {
          "release_year": "2020"
         },
         {
          "release_year": "2020"
         },
         {
          "release_year": "2020"
         },
         {
          "release_year": "2019"
         },
         {
          "release_year": "2020"
         },
         {
          "release_year": "2019"
         },
         {
          "release_year": "2020"
         },
         {
          "release_year": "2020"
         },
         {
          "release_year": "2020"
         },
         {
          "release_year": "2019"
         },
         {
          "release_year": "2019"
         },
         {
          "release_year": "2020"
         },
         {
          "release_year": "2020"
         },
         {
          "release_year": "2020"
         },
         {
          "release_year": "2019"
         },
         {
          "release_year": "2019"
         },
         {
          "release_year": "2020"
         },
         {
          "release_year": "2020"
         },
         {
          "release_year": "2020"
         },
         {
          "release_year": "2020"
         },
         {
          "release_year": "2020"
         },
         {
          "release_year": "2019"
         },
         {
          "release_year": "2020"
         },
         {
          "release_year": "2020"
         },
         {
          "release_year": "2020"
         },
         {
          "release_year": "2019"
         },
         {
          "release_year": "2020"
         },
         {
          "release_year": "2019"
         },
         {
          "release_year": "2020"
         },
         {
          "release_year": "2019"
         },
         {
          "release_year": "2019"
         },
         {
          "release_year": "2020"
         },
         {
          "release_year": "2020"
         },
         {
          "release_year": "2019"
         },
         {
          "release_year": "2019"
         },
         {
          "release_year": "2019"
         },
         {
          "release_year": "2020"
         },
         {
          "release_year": "2020"
         },
         {
          "release_year": "2019"
         },
         {
          "release_year": "2020"
         },
         {
          "release_year": "2019"
         },
         {
          "release_year": "2020"
         },
         {
          "release_year": "2020"
         },
         {
          "release_year": "2020"
         },
         {
          "release_year": "2020"
         },
         {
          "release_year": "2019"
         },
         {
          "release_year": "2019"
         },
         {
          "release_year": "2020"
         },
         {
          "release_year": "2019"
         },
         {
          "release_year": "2019"
         },
         {
          "release_year": "2019"
         },
         {
          "release_year": "2020"
         },
         {
          "release_year": "2019"
         },
         {
          "release_year": "2020"
         },
         {
          "release_year": "2019"
         },
         {
          "release_year": "2020"
         },
         {
          "release_year": "2020"
         },
         {
          "release_year": "2020"
         },
         {
          "release_year": "2019"
         },
         {
          "release_year": "2020"
         },
         {
          "release_year": "2020"
         },
         {
          "release_year": "2020"
         },
         {
          "release_year": "2019"
         },
         {
          "release_year": "2020"
         },
         {
          "release_year": "2020"
         },
         {
          "release_year": "2019"
         },
         {
          "release_year": "2019"
         },
         {
          "release_year": "2020"
         },
         {
          "release_year": "2020"
         },
         {
          "release_year": "2019"
         },
         {
          "release_year": "2020"
         },
         {
          "release_year": "2020"
         },
         {
          "release_year": "2019"
         },
         {
          "release_year": "2020"
         },
         {
          "release_year": "2019"
         },
         {
          "release_year": "2020"
         },
         {
          "release_year": "2020"
         },
         {
          "release_year": "2020"
         },
         {
          "release_year": "2020"
         },
         {
          "release_year": "2019"
         },
         {
          "release_year": "2020"
         },
         {
          "release_year": "2019"
         },
         {
          "release_year": "2019"
         },
         {
          "release_year": "2019"
         },
         {
          "release_year": "2019"
         },
         {
          "release_year": "2019"
         },
         {
          "release_year": "2019"
         },
         {
          "release_year": "2019"
         },
         {
          "release_year": "2020"
         },
         {
          "release_year": "2019"
         },
         {
          "release_year": "2020"
         },
         {
          "release_year": "2020"
         },
         {
          "release_year": "2020"
         },
         {
          "release_year": "2019"
         },
         {
          "release_year": "2019"
         },
         {
          "release_year": "2020"
         },
         {
          "release_year": "2019"
         },
         {
          "release_year": "2020"
         },
         {
          "release_year": "2020"
         },
         {
          "release_year": "2019"
         },
         {
          "release_year": "2019"
         },
         {
          "release_year": "2020"
         },
         {
          "release_year": "2019"
         },
         {
          "release_year": "2019"
         },
         {
          "release_year": "2020"
         },
         {
          "release_year": "2020"
         },
         {
          "release_year": "2020"
         },
         {
          "release_year": "2019"
         },
         {
          "release_year": "2020"
         },
         {
          "release_year": "2020"
         },
         {
          "release_year": "2020"
         },
         {
          "release_year": "2019"
         },
         {
          "release_year": "2019"
         },
         {
          "release_year": "2019"
         },
         {
          "release_year": "2019"
         },
         {
          "release_year": "2020"
         },
         {
          "release_year": "2020"
         },
         {
          "release_year": "2020"
         },
         {
          "release_year": "2019"
         },
         {
          "release_year": "2020"
         },
         {
          "release_year": "2019"
         },
         {
          "release_year": "2020"
         },
         {
          "release_year": "2020"
         },
         {
          "release_year": "2019"
         },
         {
          "release_year": "2019"
         },
         {
          "release_year": "2019"
         },
         {
          "release_year": "2020"
         },
         {
          "release_year": "2020"
         },
         {
          "release_year": "2020"
         },
         {
          "release_year": "2020"
         },
         {
          "release_year": "2019"
         },
         {
          "release_year": "2019"
         },
         {
          "release_year": "2020"
         },
         {
          "release_year": "2020"
         },
         {
          "release_year": "2020"
         },
         {
          "release_year": "2019"
         },
         {
          "release_year": "2019"
         },
         {
          "release_year": "2019"
         },
         {
          "release_year": "2020"
         },
         {
          "release_year": "2019"
         },
         {
          "release_year": "2020"
         },
         {
          "release_year": "2020"
         },
         {
          "release_year": "2020"
         },
         {
          "release_year": "2020"
         },
         {
          "release_year": "2020"
         },
         {
          "release_year": "2020"
         },
         {
          "release_year": "2019"
         },
         {
          "release_year": "2020"
         },
         {
          "release_year": "2020"
         },
         {
          "release_year": "2019"
         },
         {
          "release_year": "2019"
         },
         {
          "release_year": "2019"
         },
         {
          "release_year": "2020"
         },
         {
          "release_year": "2020"
         },
         {
          "release_year": "2020"
         },
         {
          "release_year": "2019"
         },
         {
          "release_year": "2020"
         },
         {
          "release_year": "2019"
         },
         {
          "release_year": "2020"
         },
         {
          "release_year": "2019"
         },
         {
          "release_year": "2019"
         },
         {
          "release_year": "2019"
         },
         {
          "release_year": "2019"
         },
         {
          "release_year": "2020"
         },
         {
          "release_year": "2019"
         },
         {
          "release_year": "2020"
         },
         {
          "release_year": "2019"
         },
         {
          "release_year": "2020"
         },
         {
          "release_year": "2020"
         },
         {
          "release_year": "2020"
         },
         {
          "release_year": "2020"
         },
         {
          "release_year": "2019"
         },
         {
          "release_year": "2020"
         },
         {
          "release_year": "2019"
         },
         {
          "release_year": "2019"
         },
         {
          "release_year": "2020"
         },
         {
          "release_year": "2019"
         },
         {
          "release_year": "2019"
         },
         {
          "release_year": "2019"
         },
         {
          "release_year": "2019"
         },
         {
          "release_year": "2019"
         },
         {
          "release_year": "2019"
         },
         {
          "release_year": "2020"
         },
         {
          "release_year": "2020"
         },
         {
          "release_year": "2020"
         },
         {
          "release_year": "2020"
         },
         {
          "release_year": "2019"
         },
         {
          "release_year": "2020"
         },
         {
          "release_year": "2019"
         },
         {
          "release_year": "2019"
         },
         {
          "release_year": "2020"
         },
         {
          "release_year": "2019"
         },
         {
          "release_year": "2020"
         },
         {
          "release_year": "2020"
         },
         {
          "release_year": "2020"
         },
         {
          "release_year": "2020"
         },
         {
          "release_year": "2020"
         },
         {
          "release_year": "2019"
         },
         {
          "release_year": "2019"
         },
         {
          "release_year": "2020"
         },
         {
          "release_year": "2020"
         },
         {
          "release_year": "2019"
         },
         {
          "release_year": "2020"
         },
         {
          "release_year": "2020"
         },
         {
          "release_year": "2020"
         },
         {
          "release_year": "2019"
         },
         {
          "release_year": "2019"
         },
         {
          "release_year": "2020"
         },
         {
          "release_year": "2019"
         },
         {
          "release_year": "2020"
         },
         {
          "release_year": "2020"
         },
         {
          "release_year": "2019"
         },
         {
          "release_year": "2020"
         },
         {
          "release_year": "2020"
         },
         {
          "release_year": "2020"
         },
         {
          "release_year": "2019"
         },
         {
          "release_year": "2019"
         },
         {
          "release_year": "2020"
         },
         {
          "release_year": "2020"
         },
         {
          "release_year": "2020"
         },
         {
          "release_year": "2020"
         },
         {
          "release_year": "2020"
         },
         {
          "release_year": "2019"
         },
         {
          "release_year": "2019"
         },
         {
          "release_year": "2020"
         },
         {
          "release_year": "2019"
         },
         {
          "release_year": "2020"
         },
         {
          "release_year": "2019"
         },
         {
          "release_year": "2019"
         },
         {
          "release_year": "2020"
         },
         {
          "release_year": "2019"
         },
         {
          "release_year": "2019"
         },
         {
          "release_year": "2020"
         },
         {
          "release_year": "2019"
         },
         {
          "release_year": "2019"
         },
         {
          "release_year": "2019"
         },
         {
          "release_year": "2020"
         },
         {
          "release_year": "2020"
         },
         {
          "release_year": "2020"
         },
         {
          "release_year": "2020"
         },
         {
          "release_year": "2020"
         },
         {
          "release_year": "2020"
         },
         {
          "release_year": "2019"
         },
         {
          "release_year": "2019"
         },
         {
          "release_year": "2020"
         },
         {
          "release_year": "2019"
         },
         {
          "release_year": "2020"
         },
         {
          "release_year": "2020"
         },
         {
          "release_year": "2019"
         },
         {
          "release_year": "2020"
         },
         {
          "release_year": "2020"
         },
         {
          "release_year": "2019"
         },
         {
          "release_year": "2020"
         },
         {
          "release_year": "2020"
         },
         {
          "release_year": "2020"
         },
         {
          "release_year": "2020"
         },
         {
          "release_year": "2019"
         },
         {
          "release_year": "2020"
         },
         {
          "release_year": "2020"
         },
         {
          "release_year": "2020"
         },
         {
          "release_year": "2019"
         },
         {
          "release_year": "2019"
         },
         {
          "release_year": "2019"
         },
         {
          "release_year": "2020"
         },
         {
          "release_year": "2019"
         },
         {
          "release_year": "2019"
         },
         {
          "release_year": "2020"
         },
         {
          "release_year": "2019"
         },
         {
          "release_year": "2019"
         },
         {
          "release_year": "2020"
         },
         {
          "release_year": "2019"
         },
         {
          "release_year": "2020"
         },
         {
          "release_year": "2020"
         },
         {
          "release_year": "2020"
         },
         {
          "release_year": "2019"
         },
         {
          "release_year": "2020"
         },
         {
          "release_year": "2019"
         },
         {
          "release_year": "2020"
         },
         {
          "release_year": "2019"
         },
         {
          "release_year": "2020"
         },
         {
          "release_year": "2020"
         },
         {
          "release_year": "2019"
         },
         {
          "release_year": "2019"
         },
         {
          "release_year": "2020"
         },
         {
          "release_year": "2019"
         },
         {
          "release_year": "2019"
         },
         {
          "release_year": "2019"
         },
         {
          "release_year": "2019"
         },
         {
          "release_year": "2020"
         },
         {
          "release_year": "2020"
         },
         {
          "release_year": "2020"
         },
         {
          "release_year": "2019"
         },
         {
          "release_year": "2019"
         },
         {
          "release_year": "2020"
         },
         {
          "release_year": "2020"
         },
         {
          "release_year": "2020"
         },
         {
          "release_year": "2019"
         },
         {
          "release_year": "2019"
         },
         {
          "release_year": "2020"
         },
         {
          "release_year": "2020"
         },
         {
          "release_year": "2020"
         },
         {
          "release_year": "2020"
         },
         {
          "release_year": "2019"
         },
         {
          "release_year": "2020"
         },
         {
          "release_year": "2020"
         },
         {
          "release_year": "2019"
         },
         {
          "release_year": "2019"
         },
         {
          "release_year": "2020"
         },
         {
          "release_year": "2020"
         },
         {
          "release_year": "2019"
         },
         {
          "release_year": "2019"
         },
         {
          "release_year": "2019"
         },
         {
          "release_year": "2019"
         },
         {
          "release_year": "2019"
         },
         {
          "release_year": "2019"
         },
         {
          "release_year": "2019"
         },
         {
          "release_year": "2019"
         },
         {
          "release_year": "2019"
         },
         {
          "release_year": "2019"
         },
         {
          "release_year": "2020"
         },
         {
          "release_year": "2020"
         },
         {
          "release_year": "2020"
         },
         {
          "release_year": "2019"
         },
         {
          "release_year": "2019"
         },
         {
          "release_year": "2020"
         },
         {
          "release_year": "2020"
         },
         {
          "release_year": "2020"
         },
         {
          "release_year": "2019"
         },
         {
          "release_year": "2020"
         },
         {
          "release_year": "2020"
         },
         {
          "release_year": "2020"
         },
         {
          "release_year": "2019"
         },
         {
          "release_year": "2019"
         },
         {
          "release_year": "2020"
         },
         {
          "release_year": "2019"
         },
         {
          "release_year": "2019"
         },
         {
          "release_year": "2020"
         },
         {
          "release_year": "2019"
         },
         {
          "release_year": "2019"
         },
         {
          "release_year": "2019"
         },
         {
          "release_year": "2019"
         },
         {
          "release_year": "2019"
         },
         {
          "release_year": "2019"
         },
         {
          "release_year": "2019"
         },
         {
          "release_year": "2019"
         },
         {
          "release_year": "2020"
         },
         {
          "release_year": "2019"
         },
         {
          "release_year": "2019"
         },
         {
          "release_year": "2020"
         },
         {
          "release_year": "2019"
         },
         {
          "release_year": "2019"
         },
         {
          "release_year": "2020"
         },
         {
          "release_year": "2019"
         },
         {
          "release_year": "2019"
         },
         {
          "release_year": "2019"
         },
         {
          "release_year": "2019"
         },
         {
          "release_year": "2020"
         },
         {
          "release_year": "2019"
         },
         {
          "release_year": "2020"
         },
         {
          "release_year": "2020"
         },
         {
          "release_year": "2019"
         },
         {
          "release_year": "2020"
         },
         {
          "release_year": "2019"
         },
         {
          "release_year": "2020"
         },
         {
          "release_year": "2020"
         },
         {
          "release_year": "2019"
         },
         {
          "release_year": "2019"
         },
         {
          "release_year": "2020"
         },
         {
          "release_year": "2020"
         },
         {
          "release_year": "2019"
         },
         {
          "release_year": "2020"
         },
         {
          "release_year": "2020"
         },
         {
          "release_year": "2019"
         },
         {
          "release_year": "2019"
         },
         {
          "release_year": "2019"
         },
         {
          "release_year": "2020"
         },
         {
          "release_year": "2019"
         },
         {
          "release_year": "2019"
         },
         {
          "release_year": "2019"
         },
         {
          "release_year": "2020"
         },
         {
          "release_year": "2020"
         },
         {
          "release_year": "2020"
         },
         {
          "release_year": "2020"
         },
         {
          "release_year": "2020"
         },
         {
          "release_year": "2020"
         },
         {
          "release_year": "2020"
         },
         {
          "release_year": "2019"
         },
         {
          "release_year": "2019"
         },
         {
          "release_year": "2019"
         },
         {
          "release_year": "2020"
         },
         {
          "release_year": "2019"
         },
         {
          "release_year": "2019"
         },
         {
          "release_year": "2019"
         },
         {
          "release_year": "2019"
         },
         {
          "release_year": "2020"
         },
         {
          "release_year": "2019"
         },
         {
          "release_year": "2019"
         },
         {
          "release_year": "2020"
         },
         {
          "release_year": "2020"
         },
         {
          "release_year": "2019"
         },
         {
          "release_year": "2020"
         },
         {
          "release_year": "2020"
         },
         {
          "release_year": "2019"
         },
         {
          "release_year": "2020"
         },
         {
          "release_year": "2019"
         },
         {
          "release_year": "2019"
         },
         {
          "release_year": "2020"
         },
         {
          "release_year": "2019"
         },
         {
          "release_year": "2019"
         },
         {
          "release_year": "2020"
         },
         {
          "release_year": "2020"
         },
         {
          "release_year": "2019"
         },
         {
          "release_year": "2019"
         },
         {
          "release_year": "2020"
         },
         {
          "release_year": "2019"
         },
         {
          "release_year": "2019"
         },
         {
          "release_year": "2020"
         },
         {
          "release_year": "2020"
         },
         {
          "release_year": "2019"
         },
         {
          "release_year": "2020"
         },
         {
          "release_year": "2020"
         },
         {
          "release_year": "2020"
         },
         {
          "release_year": "2020"
         },
         {
          "release_year": "2020"
         },
         {
          "release_year": "2019"
         },
         {
          "release_year": "2019"
         },
         {
          "release_year": "2019"
         },
         {
          "release_year": "2020"
         },
         {
          "release_year": "2020"
         },
         {
          "release_year": "2020"
         },
         {
          "release_year": "2019"
         },
         {
          "release_year": "2019"
         },
         {
          "release_year": "2020"
         },
         {
          "release_year": "2020"
         },
         {
          "release_year": "2019"
         },
         {
          "release_year": "2019"
         },
         {
          "release_year": "2019"
         },
         {
          "release_year": "2020"
         },
         {
          "release_year": "2019"
         },
         {
          "release_year": "2019"
         },
         {
          "release_year": "2019"
         },
         {
          "release_year": "2020"
         },
         {
          "release_year": "2020"
         },
         {
          "release_year": "2020"
         },
         {
          "release_year": "2019"
         },
         {
          "release_year": "2019"
         },
         {
          "release_year": "2020"
         },
         {
          "release_year": "2019"
         },
         {
          "release_year": "2019"
         },
         {
          "release_year": "2020"
         },
         {
          "release_year": "2020"
         },
         {
          "release_year": "2019"
         },
         {
          "release_year": "2020"
         },
         {
          "release_year": "2020"
         },
         {
          "release_year": "2019"
         },
         {
          "release_year": "2019"
         },
         {
          "release_year": "2020"
         },
         {
          "release_year": "2020"
         },
         {
          "release_year": "2020"
         },
         {
          "release_year": "2020"
         },
         {
          "release_year": "2019"
         },
         {
          "release_year": "2019"
         },
         {
          "release_year": "2019"
         },
         {
          "release_year": "2020"
         },
         {
          "release_year": "2019"
         },
         {
          "release_year": "2020"
         },
         {
          "release_year": "2019"
         },
         {
          "release_year": "2020"
         },
         {
          "release_year": "2019"
         },
         {
          "release_year": "2020"
         },
         {
          "release_year": "2020"
         },
         {
          "release_year": "2020"
         },
         {
          "release_year": "2019"
         },
         {
          "release_year": "2020"
         },
         {
          "release_year": "2020"
         },
         {
          "release_year": "2020"
         },
         {
          "release_year": "2019"
         },
         {
          "release_year": "2019"
         },
         {
          "release_year": "2020"
         },
         {
          "release_year": "2020"
         },
         {
          "release_year": "2020"
         },
         {
          "release_year": "2019"
         },
         {
          "release_year": "2020"
         },
         {
          "release_year": "2020"
         },
         {
          "release_year": "2020"
         },
         {
          "release_year": "2019"
         },
         {
          "release_year": "2020"
         },
         {
          "release_year": "2020"
         },
         {
          "release_year": "2020"
         },
         {
          "release_year": "2020"
         },
         {
          "release_year": "2019"
         },
         {
          "release_year": "2020"
         },
         {
          "release_year": "2020"
         },
         {
          "release_year": "2020"
         },
         {
          "release_year": "2019"
         },
         {
          "release_year": "2020"
         },
         {
          "release_year": "2019"
         },
         {
          "release_year": "2019"
         },
         {
          "release_year": "2019"
         },
         {
          "release_year": "2019"
         },
         {
          "release_year": "2020"
         },
         {
          "release_year": "2019"
         },
         {
          "release_year": "2019"
         },
         {
          "release_year": "2019"
         },
         {
          "release_year": "2020"
         },
         {
          "release_year": "2020"
         },
         {
          "release_year": "2020"
         },
         {
          "release_year": "2020"
         },
         {
          "release_year": "2019"
         },
         {
          "release_year": "2020"
         },
         {
          "release_year": "2020"
         },
         {
          "release_year": "2019"
         },
         {
          "release_year": "2019"
         },
         {
          "release_year": "2020"
         },
         {
          "release_year": "2019"
         },
         {
          "release_year": "2020"
         },
         {
          "release_year": "2019"
         },
         {
          "release_year": "2019"
         },
         {
          "release_year": "2019"
         },
         {
          "release_year": "2020"
         },
         {
          "release_year": "2019"
         },
         {
          "release_year": "2019"
         },
         {
          "release_year": "2020"
         },
         {
          "release_year": "2020"
         },
         {
          "release_year": "2020"
         },
         {
          "release_year": "2019"
         },
         {
          "release_year": "2020"
         },
         {
          "release_year": "2019"
         },
         {
          "release_year": "2020"
         },
         {
          "release_year": "2019"
         },
         {
          "release_year": "2019"
         },
         {
          "release_year": "2020"
         },
         {
          "release_year": "2020"
         },
         {
          "release_year": "2019"
         },
         {
          "release_year": "2019"
         },
         {
          "release_year": "2020"
         },
         {
          "release_year": "2020"
         },
         {
          "release_year": "2019"
         },
         {
          "release_year": "2019"
         },
         {
          "release_year": "2020"
         },
         {
          "release_year": "2019"
         },
         {
          "release_year": "2019"
         },
         {
          "release_year": "2020"
         },
         {
          "release_year": "2020"
         },
         {
          "release_year": "2019"
         },
         {
          "release_year": "2020"
         },
         {
          "release_year": "2020"
         },
         {
          "release_year": "2020"
         },
         {
          "release_year": "2020"
         },
         {
          "release_year": "2020"
         },
         {
          "release_year": "2019"
         },
         {
          "release_year": "2020"
         },
         {
          "release_year": "2020"
         },
         {
          "release_year": "2019"
         },
         {
          "release_year": "2020"
         },
         {
          "release_year": "2020"
         },
         {
          "release_year": "2020"
         },
         {
          "release_year": "2019"
         },
         {
          "release_year": "2019"
         },
         {
          "release_year": "2019"
         },
         {
          "release_year": "2020"
         },
         {
          "release_year": "2020"
         },
         {
          "release_year": "2019"
         },
         {
          "release_year": "2020"
         },
         {
          "release_year": "2020"
         },
         {
          "release_year": "2019"
         },
         {
          "release_year": "2020"
         },
         {
          "release_year": "2019"
         },
         {
          "release_year": "2020"
         },
         {
          "release_year": "2020"
         },
         {
          "release_year": "2019"
         },
         {
          "release_year": "2020"
         },
         {
          "release_year": "2019"
         },
         {
          "release_year": "2019"
         },
         {
          "release_year": "2019"
         },
         {
          "release_year": "2020"
         },
         {
          "release_year": "2019"
         },
         {
          "release_year": "2019"
         },
         {
          "release_year": "2019"
         },
         {
          "release_year": "2020"
         },
         {
          "release_year": "2019"
         },
         {
          "release_year": "2020"
         },
         {
          "release_year": "2020"
         },
         {
          "release_year": "2020"
         },
         {
          "release_year": "2020"
         },
         {
          "release_year": "2020"
         },
         {
          "release_year": "2020"
         },
         {
          "release_year": "2019"
         },
         {
          "release_year": "2019"
         },
         {
          "release_year": "2019"
         },
         {
          "release_year": "2020"
         },
         {
          "release_year": "2020"
         },
         {
          "release_year": "2019"
         },
         {
          "release_year": "2020"
         },
         {
          "release_year": "2019"
         },
         {
          "release_year": "2019"
         },
         {
          "release_year": "2020"
         },
         {
          "release_year": "2019"
         },
         {
          "release_year": "2020"
         },
         {
          "release_year": "2019"
         },
         {
          "release_year": "2019"
         },
         {
          "release_year": "2019"
         },
         {
          "release_year": "2020"
         },
         {
          "release_year": "2020"
         },
         {
          "release_year": "2019"
         },
         {
          "release_year": "2020"
         },
         {
          "release_year": "2019"
         },
         {
          "release_year": "2019"
         },
         {
          "release_year": "2019"
         },
         {
          "release_year": "2020"
         },
         {
          "release_year": "2019"
         },
         {
          "release_year": "2019"
         },
         {
          "release_year": "2019"
         },
         {
          "release_year": "2020"
         },
         {
          "release_year": "2019"
         },
         {
          "release_year": "2019"
         },
         {
          "release_year": "2020"
         },
         {
          "release_year": "2020"
         },
         {
          "release_year": "2019"
         },
         {
          "release_year": "2020"
         },
         {
          "release_year": "2020"
         },
         {
          "release_year": "2019"
         },
         {
          "release_year": "2020"
         },
         {
          "release_year": "2020"
         },
         {
          "release_year": "2019"
         },
         {
          "release_year": "2020"
         },
         {
          "release_year": "2019"
         },
         {
          "release_year": "2020"
         },
         {
          "release_year": "2019"
         },
         {
          "release_year": "2019"
         },
         {
          "release_year": "2020"
         },
         {
          "release_year": "2020"
         },
         {
          "release_year": "2019"
         },
         {
          "release_year": "2019"
         },
         {
          "release_year": "2019"
         },
         {
          "release_year": "2019"
         },
         {
          "release_year": "2020"
         },
         {
          "release_year": "2020"
         },
         {
          "release_year": "2019"
         },
         {
          "release_year": "2019"
         },
         {
          "release_year": "2019"
         },
         {
          "release_year": "2020"
         },
         {
          "release_year": "2019"
         },
         {
          "release_year": "2019"
         },
         {
          "release_year": "2019"
         },
         {
          "release_year": "2020"
         },
         {
          "release_year": "2019"
         },
         {
          "release_year": "2020"
         },
         {
          "release_year": "2020"
         },
         {
          "release_year": "2019"
         },
         {
          "release_year": "2019"
         },
         {
          "release_year": "2019"
         },
         {
          "release_year": "2020"
         },
         {
          "release_year": "2020"
         },
         {
          "release_year": "2019"
         },
         {
          "release_year": "2019"
         },
         {
          "release_year": "2020"
         },
         {
          "release_year": "2019"
         },
         {
          "release_year": "2020"
         },
         {
          "release_year": "2020"
         },
         {
          "release_year": "2019"
         },
         {
          "release_year": "2019"
         },
         {
          "release_year": "2020"
         },
         {
          "release_year": "2019"
         },
         {
          "release_year": "2020"
         },
         {
          "release_year": "2020"
         },
         {
          "release_year": "2020"
         },
         {
          "release_year": "2020"
         },
         {
          "release_year": "2019"
         },
         {
          "release_year": "2020"
         },
         {
          "release_year": "2019"
         },
         {
          "release_year": "2020"
         },
         {
          "release_year": "2020"
         },
         {
          "release_year": "2019"
         },
         {
          "release_year": "2020"
         },
         {
          "release_year": "2020"
         },
         {
          "release_year": "2020"
         },
         {
          "release_year": "2020"
         },
         {
          "release_year": "2019"
         },
         {
          "release_year": "2020"
         },
         {
          "release_year": "2020"
         },
         {
          "release_year": "2019"
         },
         {
          "release_year": "2020"
         },
         {
          "release_year": "2020"
         },
         {
          "release_year": "2020"
         },
         {
          "release_year": "2020"
         },
         {
          "release_year": "2019"
         },
         {
          "release_year": "2019"
         },
         {
          "release_year": "2019"
         },
         {
          "release_year": "2019"
         },
         {
          "release_year": "2020"
         },
         {
          "release_year": "2019"
         },
         {
          "release_year": "2019"
         },
         {
          "release_year": "2019"
         },
         {
          "release_year": "2020"
         },
         {
          "release_year": "2019"
         },
         {
          "release_year": "2020"
         },
         {
          "release_year": "2020"
         },
         {
          "release_year": "2020"
         },
         {
          "release_year": "2019"
         },
         {
          "release_year": "2019"
         },
         {
          "release_year": "2019"
         },
         {
          "release_year": "2020"
         },
         {
          "release_year": "2019"
         },
         {
          "release_year": "2020"
         },
         {
          "release_year": "2019"
         },
         {
          "release_year": "2019"
         },
         {
          "release_year": "2020"
         },
         {
          "release_year": "2019"
         },
         {
          "release_year": "2019"
         },
         {
          "release_year": "2020"
         },
         {
          "release_year": "2019"
         },
         {
          "release_year": "2020"
         },
         {
          "release_year": "2020"
         },
         {
          "release_year": "2019"
         },
         {
          "release_year": "2020"
         },
         {
          "release_year": "2019"
         },
         {
          "release_year": "2019"
         },
         {
          "release_year": "2019"
         },
         {
          "release_year": "2019"
         },
         {
          "release_year": "2020"
         },
         {
          "release_year": "2020"
         },
         {
          "release_year": "2020"
         },
         {
          "release_year": "2019"
         },
         {
          "release_year": "2019"
         },
         {
          "release_year": "2020"
         },
         {
          "release_year": "2020"
         },
         {
          "release_year": "2020"
         },
         {
          "release_year": "2020"
         },
         {
          "release_year": "2020"
         },
         {
          "release_year": "2019"
         },
         {
          "release_year": "2020"
         },
         {
          "release_year": "2020"
         },
         {
          "release_year": "2020"
         },
         {
          "release_year": "2019"
         },
         {
          "release_year": "2019"
         },
         {
          "release_year": "2020"
         },
         {
          "release_year": "2020"
         },
         {
          "release_year": "2020"
         },
         {
          "release_year": "2019"
         },
         {
          "release_year": "2019"
         },
         {
          "release_year": "2019"
         },
         {
          "release_year": "2020"
         },
         {
          "release_year": "2020"
         },
         {
          "release_year": "2020"
         },
         {
          "release_year": "2019"
         },
         {
          "release_year": "2019"
         },
         {
          "release_year": "2019"
         },
         {
          "release_year": "2020"
         },
         {
          "release_year": "2020"
         },
         {
          "release_year": "2020"
         },
         {
          "release_year": "2020"
         },
         {
          "release_year": "2019"
         },
         {
          "release_year": "2020"
         },
         {
          "release_year": "2020"
         },
         {
          "release_year": "2019"
         },
         {
          "release_year": "2019"
         },
         {
          "release_year": "2019"
         },
         {
          "release_year": "2019"
         },
         {
          "release_year": "2019"
         },
         {
          "release_year": "2020"
         },
         {
          "release_year": "2020"
         },
         {
          "release_year": "2020"
         },
         {
          "release_year": "2019"
         },
         {
          "release_year": "2020"
         },
         {
          "release_year": "2019"
         },
         {
          "release_year": "2019"
         },
         {
          "release_year": "2019"
         },
         {
          "release_year": "2019"
         },
         {
          "release_year": "2020"
         },
         {
          "release_year": "2019"
         },
         {
          "release_year": "2019"
         },
         {
          "release_year": "2019"
         },
         {
          "release_year": "2020"
         },
         {
          "release_year": "2019"
         },
         {
          "release_year": "2020"
         },
         {
          "release_year": "2019"
         },
         {
          "release_year": "2019"
         },
         {
          "release_year": "2019"
         },
         {
          "release_year": "2019"
         },
         {
          "release_year": "2020"
         },
         {
          "release_year": "2019"
         },
         {
          "release_year": "2019"
         },
         {
          "release_year": "2020"
         },
         {
          "release_year": "2020"
         },
         {
          "release_year": "2020"
         },
         {
          "release_year": "2020"
         },
         {
          "release_year": "2019"
         },
         {
          "release_year": "2019"
         },
         {
          "release_year": "2019"
         },
         {
          "release_year": "2019"
         },
         {
          "release_year": "2019"
         },
         {
          "release_year": "2019"
         },
         {
          "release_year": "2020"
         },
         {
          "release_year": "2020"
         },
         {
          "release_year": "2020"
         },
         {
          "release_year": "2020"
         },
         {
          "release_year": "2019"
         },
         {
          "release_year": "2019"
         },
         {
          "release_year": "2020"
         },
         {
          "release_year": "2019"
         },
         {
          "release_year": "2019"
         },
         {
          "release_year": "2020"
         },
         {
          "release_year": "2019"
         },
         {
          "release_year": "2019"
         },
         {
          "release_year": "2020"
         },
         {
          "release_year": "2019"
         },
         {
          "release_year": "2020"
         },
         {
          "release_year": "2020"
         },
         {
          "release_year": "2020"
         },
         {
          "release_year": "2019"
         },
         {
          "release_year": "2020"
         },
         {
          "release_year": "2020"
         },
         {
          "release_year": "2020"
         },
         {
          "release_year": "2020"
         },
         {
          "release_year": "2019"
         },
         {
          "release_year": "2019"
         },
         {
          "release_year": "2019"
         },
         {
          "release_year": "2019"
         },
         {
          "release_year": "2019"
         },
         {
          "release_year": "2019"
         },
         {
          "release_year": "2020"
         },
         {
          "release_year": "2019"
         },
         {
          "release_year": "2019"
         },
         {
          "release_year": "2020"
         },
         {
          "release_year": "2020"
         },
         {
          "release_year": "2020"
         },
         {
          "release_year": "2020"
         },
         {
          "release_year": "2020"
         },
         {
          "release_year": "2020"
         },
         {
          "release_year": "2019"
         },
         {
          "release_year": "2020"
         },
         {
          "release_year": "2020"
         },
         {
          "release_year": "2019"
         },
         {
          "release_year": "2019"
         },
         {
          "release_year": "2020"
         },
         {
          "release_year": "2020"
         },
         {
          "release_year": "2019"
         },
         {
          "release_year": "2019"
         },
         {
          "release_year": "2019"
         },
         {
          "release_year": "2020"
         },
         {
          "release_year": "2020"
         },
         {
          "release_year": "2019"
         },
         {
          "release_year": "2020"
         },
         {
          "release_year": "2020"
         },
         {
          "release_year": "2020"
         },
         {
          "release_year": "2020"
         },
         {
          "release_year": "2019"
         },
         {
          "release_year": "2020"
         },
         {
          "release_year": "2020"
         },
         {
          "release_year": "2019"
         },
         {
          "release_year": "2019"
         },
         {
          "release_year": "2020"
         },
         {
          "release_year": "2019"
         },
         {
          "release_year": "2020"
         },
         {
          "release_year": "2020"
         },
         {
          "release_year": "2020"
         },
         {
          "release_year": "2019"
         },
         {
          "release_year": "2020"
         },
         {
          "release_year": "2020"
         },
         {
          "release_year": "2020"
         },
         {
          "release_year": "2019"
         },
         {
          "release_year": "2019"
         },
         {
          "release_year": "2019"
         },
         {
          "release_year": "2020"
         },
         {
          "release_year": "2019"
         },
         {
          "release_year": "2020"
         },
         {
          "release_year": "2019"
         },
         {
          "release_year": "2019"
         },
         {
          "release_year": "2019"
         },
         {
          "release_year": "2019"
         },
         {
          "release_year": "2020"
         },
         {
          "release_year": "2020"
         },
         {
          "release_year": "2020"
         },
         {
          "release_year": "2019"
         },
         {
          "release_year": "2019"
         },
         {
          "release_year": "2020"
         },
         {
          "release_year": "2020"
         },
         {
          "release_year": "2019"
         },
         {
          "release_year": "2019"
         },
         {
          "release_year": "2020"
         },
         {
          "release_year": "2020"
         },
         {
          "release_year": "2020"
         },
         {
          "release_year": "2020"
         },
         {
          "release_year": "2019"
         },
         {
          "release_year": "2019"
         },
         {
          "release_year": "2020"
         },
         {
          "release_year": "2019"
         },
         {
          "release_year": "2020"
         },
         {
          "release_year": "2019"
         },
         {
          "release_year": "2020"
         },
         {
          "release_year": "2020"
         },
         {
          "release_year": "2020"
         },
         {
          "release_year": "2019"
         },
         {
          "release_year": "2019"
         },
         {
          "release_year": "2019"
         },
         {
          "release_year": "2019"
         },
         {
          "release_year": "2020"
         },
         {
          "release_year": "2019"
         },
         {
          "release_year": "2019"
         },
         {
          "release_year": "2019"
         },
         {
          "release_year": "2019"
         },
         {
          "release_year": "2020"
         },
         {
          "release_year": "2019"
         },
         {
          "release_year": "2020"
         },
         {
          "release_year": "2019"
         },
         {
          "release_year": "2019"
         },
         {
          "release_year": "2019"
         },
         {
          "release_year": "2020"
         },
         {
          "release_year": "2020"
         },
         {
          "release_year": "2020"
         },
         {
          "release_year": "2019"
         },
         {
          "release_year": "2020"
         },
         {
          "release_year": "2020"
         },
         {
          "release_year": "2019"
         },
         {
          "release_year": "2020"
         },
         {
          "release_year": "2019"
         },
         {
          "release_year": "2020"
         },
         {
          "release_year": "2019"
         },
         {
          "release_year": "2020"
         },
         {
          "release_year": "2020"
         },
         {
          "release_year": "2019"
         },
         {
          "release_year": "2020"
         },
         {
          "release_year": "2020"
         },
         {
          "release_year": "2020"
         },
         {
          "release_year": "2019"
         },
         {
          "release_year": "2019"
         },
         {
          "release_year": "2019"
         },
         {
          "release_year": "2020"
         },
         {
          "release_year": "2020"
         },
         {
          "release_year": "2019"
         },
         {
          "release_year": "2019"
         },
         {
          "release_year": "2019"
         },
         {
          "release_year": "2020"
         },
         {
          "release_year": "2020"
         },
         {
          "release_year": "2020"
         },
         {
          "release_year": "2020"
         },
         {
          "release_year": "2020"
         },
         {
          "release_year": "2019"
         },
         {
          "release_year": "2019"
         },
         {
          "release_year": "2019"
         },
         {
          "release_year": "2019"
         },
         {
          "release_year": "2020"
         },
         {
          "release_year": "2019"
         },
         {
          "release_year": "2020"
         },
         {
          "release_year": "2019"
         },
         {
          "release_year": "2020"
         },
         {
          "release_year": "2020"
         },
         {
          "release_year": "2019"
         },
         {
          "release_year": "2020"
         },
         {
          "release_year": "2019"
         },
         {
          "release_year": "2019"
         },
         {
          "release_year": "2020"
         },
         {
          "release_year": "2020"
         },
         {
          "release_year": "2019"
         },
         {
          "release_year": "2019"
         },
         {
          "release_year": "2020"
         },
         {
          "release_year": "2020"
         },
         {
          "release_year": "2020"
         },
         {
          "release_year": "2020"
         },
         {
          "release_year": "2019"
         },
         {
          "release_year": "2019"
         },
         {
          "release_year": "2020"
         },
         {
          "release_year": "2020"
         },
         {
          "release_year": "2020"
         },
         {
          "release_year": "2019"
         },
         {
          "release_year": "2020"
         },
         {
          "release_year": "2019"
         },
         {
          "release_year": "2020"
         },
         {
          "release_year": "2019"
         },
         {
          "release_year": "2019"
         },
         {
          "release_year": "2019"
         },
         {
          "release_year": "2019"
         },
         {
          "release_year": "2019"
         },
         {
          "release_year": "2019"
         },
         {
          "release_year": "2020"
         },
         {
          "release_year": "2020"
         },
         {
          "release_year": "2020"
         },
         {
          "release_year": "2020"
         },
         {
          "release_year": "2020"
         },
         {
          "release_year": "2019"
         },
         {
          "release_year": "2020"
         },
         {
          "release_year": "2020"
         },
         {
          "release_year": "2020"
         },
         {
          "release_year": "2019"
         },
         {
          "release_year": "2020"
         },
         {
          "release_year": "2019"
         },
         {
          "release_year": "2020"
         },
         {
          "release_year": "2019"
         },
         {
          "release_year": "2020"
         },
         {
          "release_year": "2020"
         },
         {
          "release_year": "2020"
         },
         {
          "release_year": "2019"
         },
         {
          "release_year": "2019"
         },
         {
          "release_year": "2019"
         },
         {
          "release_year": "2019"
         },
         {
          "release_year": "2019"
         },
         {
          "release_year": "2019"
         },
         {
          "release_year": "2019"
         },
         {
          "release_year": "2019"
         },
         {
          "release_year": "2019"
         },
         {
          "release_year": "2020"
         },
         {
          "release_year": "2019"
         },
         {
          "release_year": "2020"
         },
         {
          "release_year": "2020"
         },
         {
          "release_year": "2020"
         },
         {
          "release_year": "2020"
         },
         {
          "release_year": "2019"
         },
         {
          "release_year": "2019"
         },
         {
          "release_year": "2020"
         },
         {
          "release_year": "2019"
         },
         {
          "release_year": "2020"
         },
         {
          "release_year": "2019"
         },
         {
          "release_year": "2019"
         },
         {
          "release_year": "2019"
         },
         {
          "release_year": "2020"
         },
         {
          "release_year": "2020"
         },
         {
          "release_year": "2019"
         },
         {
          "release_year": "2020"
         },
         {
          "release_year": "2020"
         },
         {
          "release_year": "2020"
         },
         {
          "release_year": "2020"
         },
         {
          "release_year": "2019"
         },
         {
          "release_year": "2019"
         },
         {
          "release_year": "2019"
         },
         {
          "release_year": "2019"
         },
         {
          "release_year": "2019"
         },
         {
          "release_year": "2019"
         },
         {
          "release_year": "2019"
         },
         {
          "release_year": "2020"
         },
         {
          "release_year": "2020"
         },
         {
          "release_year": "2019"
         },
         {
          "release_year": "2019"
         },
         {
          "release_year": "2019"
         },
         {
          "release_year": "2020"
         },
         {
          "release_year": "2019"
         },
         {
          "release_year": "2020"
         },
         {
          "release_year": "2020"
         },
         {
          "release_year": "2020"
         },
         {
          "release_year": "2019"
         },
         {
          "release_year": "2020"
         },
         {
          "release_year": "2019"
         },
         {
          "release_year": "2020"
         },
         {
          "release_year": "2019"
         },
         {
          "release_year": "2019"
         },
         {
          "release_year": "2020"
         },
         {
          "release_year": "2019"
         },
         {
          "release_year": "2019"
         },
         {
          "release_year": "2020"
         },
         {
          "release_year": "2019"
         },
         {
          "release_year": "2020"
         },
         {
          "release_year": "2020"
         },
         {
          "release_year": "2020"
         },
         {
          "release_year": "2019"
         },
         {
          "release_year": "2019"
         },
         {
          "release_year": "2019"
         },
         {
          "release_year": "2020"
         },
         {
          "release_year": "2020"
         },
         {
          "release_year": "2019"
         },
         {
          "release_year": "2019"
         },
         {
          "release_year": "2019"
         },
         {
          "release_year": "2020"
         },
         {
          "release_year": "2020"
         },
         {
          "release_year": "2019"
         },
         {
          "release_year": "2019"
         },
         {
          "release_year": "2019"
         },
         {
          "release_year": "2020"
         },
         {
          "release_year": "2020"
         },
         {
          "release_year": "2020"
         },
         {
          "release_year": "2020"
         },
         {
          "release_year": "2020"
         },
         {
          "release_year": "2019"
         },
         {
          "release_year": "2020"
         },
         {
          "release_year": "2020"
         },
         {
          "release_year": "2019"
         },
         {
          "release_year": "2019"
         },
         {
          "release_year": "2020"
         },
         {
          "release_year": "2020"
         },
         {
          "release_year": "2019"
         },
         {
          "release_year": "2020"
         },
         {
          "release_year": "2020"
         },
         {
          "release_year": "2019"
         },
         {
          "release_year": "2019"
         },
         {
          "release_year": "2020"
         },
         {
          "release_year": "2020"
         },
         {
          "release_year": "2019"
         },
         {
          "release_year": "2019"
         },
         {
          "release_year": "2019"
         },
         {
          "release_year": "2020"
         },
         {
          "release_year": "2019"
         },
         {
          "release_year": "2019"
         },
         {
          "release_year": "2020"
         },
         {
          "release_year": "2019"
         },
         {
          "release_year": "2019"
         },
         {
          "release_year": "2020"
         },
         {
          "release_year": "2020"
         },
         {
          "release_year": "2020"
         },
         {
          "release_year": "2020"
         },
         {
          "release_year": "2019"
         },
         {
          "release_year": "2020"
         },
         {
          "release_year": "2019"
         },
         {
          "release_year": "2020"
         },
         {
          "release_year": "2020"
         },
         {
          "release_year": "2019"
         },
         {
          "release_year": "2020"
         },
         {
          "release_year": "2020"
         },
         {
          "release_year": "2020"
         },
         {
          "release_year": "2020"
         },
         {
          "release_year": "2020"
         },
         {
          "release_year": "2020"
         },
         {
          "release_year": "2019"
         },
         {
          "release_year": "2020"
         },
         {
          "release_year": "2020"
         },
         {
          "release_year": "2020"
         },
         {
          "release_year": "2019"
         },
         {
          "release_year": "2020"
         },
         {
          "release_year": "2019"
         },
         {
          "release_year": "2020"
         },
         {
          "release_year": "2019"
         },
         {
          "release_year": "2019"
         },
         {
          "release_year": "2020"
         },
         {
          "release_year": "2019"
         },
         {
          "release_year": "2019"
         },
         {
          "release_year": "2019"
         },
         {
          "release_year": "2020"
         },
         {
          "release_year": "2020"
         },
         {
          "release_year": "2020"
         },
         {
          "release_year": "2020"
         },
         {
          "release_year": "2019"
         },
         {
          "release_year": "2020"
         },
         {
          "release_year": "2020"
         },
         {
          "release_year": "2020"
         },
         {
          "release_year": "2020"
         },
         {
          "release_year": "2020"
         },
         {
          "release_year": "2020"
         },
         {
          "release_year": "2020"
         },
         {
          "release_year": "2019"
         },
         {
          "release_year": "2019"
         },
         {
          "release_year": "2019"
         },
         {
          "release_year": "2020"
         },
         {
          "release_year": "2020"
         },
         {
          "release_year": "2020"
         },
         {
          "release_year": "2019"
         },
         {
          "release_year": "2019"
         },
         {
          "release_year": "2019"
         },
         {
          "release_year": "2019"
         },
         {
          "release_year": "2020"
         },
         {
          "release_year": "2019"
         },
         {
          "release_year": "2019"
         },
         {
          "release_year": "2020"
         },
         {
          "release_year": "2020"
         },
         {
          "release_year": "2020"
         },
         {
          "release_year": "2019"
         },
         {
          "release_year": "2019"
         },
         {
          "release_year": "2020"
         },
         {
          "release_year": "2020"
         },
         {
          "release_year": "2020"
         },
         {
          "release_year": "2020"
         },
         {
          "release_year": "2020"
         },
         {
          "release_year": "2020"
         },
         {
          "release_year": "2020"
         },
         {
          "release_year": "2019"
         },
         {
          "release_year": "2019"
         },
         {
          "release_year": "2019"
         },
         {
          "release_year": "2019"
         },
         {
          "release_year": "2019"
         },
         {
          "release_year": "2019"
         },
         {
          "release_year": "2020"
         },
         {
          "release_year": "2019"
         },
         {
          "release_year": "2020"
         },
         {
          "release_year": "2019"
         },
         {
          "release_year": "2020"
         },
         {
          "release_year": "2019"
         },
         {
          "release_year": "2020"
         },
         {
          "release_year": "2019"
         },
         {
          "release_year": "2019"
         },
         {
          "release_year": "2019"
         },
         {
          "release_year": "2019"
         },
         {
          "release_year": "2020"
         },
         {
          "release_year": "2019"
         },
         {
          "release_year": "2020"
         },
         {
          "release_year": "2019"
         },
         {
          "release_year": "2019"
         },
         {
          "release_year": "2019"
         },
         {
          "release_year": "2019"
         },
         {
          "release_year": "2019"
         },
         {
          "release_year": "2019"
         },
         {
          "release_year": "2019"
         },
         {
          "release_year": "2019"
         },
         {
          "release_year": "2019"
         },
         {
          "release_year": "2019"
         },
         {
          "release_year": "2019"
         },
         {
          "release_year": "2020"
         },
         {
          "release_year": "2019"
         },
         {
          "release_year": "2019"
         },
         {
          "release_year": "2019"
         },
         {
          "release_year": "2020"
         },
         {
          "release_year": "2019"
         },
         {
          "release_year": "2019"
         },
         {
          "release_year": "2020"
         },
         {
          "release_year": "2019"
         },
         {
          "release_year": "2020"
         },
         {
          "release_year": "2019"
         },
         {
          "release_year": "2020"
         },
         {
          "release_year": "2020"
         },
         {
          "release_year": "2019"
         },
         {
          "release_year": "2019"
         },
         {
          "release_year": "2019"
         },
         {
          "release_year": "2019"
         },
         {
          "release_year": "2019"
         },
         {
          "release_year": "2019"
         },
         {
          "release_year": "2020"
         },
         {
          "release_year": "2019"
         },
         {
          "release_year": "2019"
         },
         {
          "release_year": "2019"
         },
         {
          "release_year": "2020"
         },
         {
          "release_year": "2019"
         },
         {
          "release_year": "2019"
         },
         {
          "release_year": "2019"
         },
         {
          "release_year": "2019"
         },
         {
          "release_year": "2019"
         },
         {
          "release_year": "2019"
         },
         {
          "release_year": "2020"
         },
         {
          "release_year": "2020"
         },
         {
          "release_year": "2019"
         },
         {
          "release_year": "2020"
         },
         {
          "release_year": "2019"
         },
         {
          "release_year": "2020"
         },
         {
          "release_year": "2019"
         },
         {
          "release_year": "2019"
         },
         {
          "release_year": "2019"
         },
         {
          "release_year": "2019"
         },
         {
          "release_year": "2020"
         },
         {
          "release_year": "2019"
         },
         {
          "release_year": "2019"
         },
         {
          "release_year": "2019"
         },
         {
          "release_year": "2020"
         },
         {
          "release_year": "2019"
         },
         {
          "release_year": "2019"
         },
         {
          "release_year": "2020"
         },
         {
          "release_year": "2019"
         },
         {
          "release_year": "2020"
         },
         {
          "release_year": "2019"
         },
         {
          "release_year": "2020"
         },
         {
          "release_year": "2019"
         },
         {
          "release_year": "2019"
         },
         {
          "release_year": "2020"
         },
         {
          "release_year": "2019"
         },
         {
          "release_year": "2020"
         },
         {
          "release_year": "2020"
         },
         {
          "release_year": "2020"
         },
         {
          "release_year": "2019"
         },
         {
          "release_year": "2019"
         },
         {
          "release_year": "2020"
         },
         {
          "release_year": "2019"
         },
         {
          "release_year": "2019"
         },
         {
          "release_year": "2019"
         },
         {
          "release_year": "2020"
         },
         {
          "release_year": "2020"
         },
         {
          "release_year": "2020"
         },
         {
          "release_year": "2020"
         },
         {
          "release_year": "2019"
         },
         {
          "release_year": "2019"
         },
         {
          "release_year": "2020"
         },
         {
          "release_year": "2020"
         },
         {
          "release_year": "2019"
         },
         {
          "release_year": "2020"
         },
         {
          "release_year": "2019"
         },
         {
          "release_year": "2019"
         },
         {
          "release_year": "2019"
         },
         {
          "release_year": "2020"
         },
         {
          "release_year": "2020"
         },
         {
          "release_year": "2020"
         },
         {
          "release_year": "2019"
         },
         {
          "release_year": "2019"
         },
         {
          "release_year": "2020"
         },
         {
          "release_year": "2020"
         },
         {
          "release_year": "2019"
         },
         {
          "release_year": "2019"
         },
         {
          "release_year": "2020"
         },
         {
          "release_year": "2019"
         },
         {
          "release_year": "2019"
         },
         {
          "release_year": "2019"
         },
         {
          "release_year": "2020"
         },
         {
          "release_year": "2019"
         },
         {
          "release_year": "2019"
         },
         {
          "release_year": "2020"
         },
         {
          "release_year": "2020"
         },
         {
          "release_year": "2019"
         },
         {
          "release_year": "2020"
         },
         {
          "release_year": "2019"
         },
         {
          "release_year": "2020"
         },
         {
          "release_year": "2020"
         },
         {
          "release_year": "2020"
         },
         {
          "release_year": "2020"
         },
         {
          "release_year": "2019"
         },
         {
          "release_year": "2019"
         },
         {
          "release_year": "2020"
         },
         {
          "release_year": "2020"
         },
         {
          "release_year": "2020"
         },
         {
          "release_year": "2020"
         },
         {
          "release_year": "2020"
         },
         {
          "release_year": "2019"
         },
         {
          "release_year": "2019"
         },
         {
          "release_year": "2020"
         },
         {
          "release_year": "2019"
         },
         {
          "release_year": "2020"
         },
         {
          "release_year": "2019"
         },
         {
          "release_year": "2019"
         },
         {
          "release_year": "2020"
         },
         {
          "release_year": "2020"
         },
         {
          "release_year": "2019"
         },
         {
          "release_year": "2019"
         },
         {
          "release_year": "2020"
         },
         {
          "release_year": "2019"
         },
         {
          "release_year": "2020"
         },
         {
          "release_year": "2019"
         },
         {
          "release_year": "2019"
         },
         {
          "release_year": "2019"
         },
         {
          "release_year": "2020"
         },
         {
          "release_year": "2019"
         },
         {
          "release_year": "2019"
         },
         {
          "release_year": "2019"
         },
         {
          "release_year": "2020"
         },
         {
          "release_year": "2020"
         },
         {
          "release_year": "2019"
         },
         {
          "release_year": "2020"
         },
         {
          "release_year": "2019"
         },
         {
          "release_year": "2019"
         },
         {
          "release_year": "2019"
         },
         {
          "release_year": "2020"
         },
         {
          "release_year": "2020"
         },
         {
          "release_year": "2019"
         },
         {
          "release_year": "2019"
         },
         {
          "release_year": "2020"
         },
         {
          "release_year": "2019"
         },
         {
          "release_year": "2019"
         },
         {
          "release_year": "2019"
         },
         {
          "release_year": "2020"
         },
         {
          "release_year": "2019"
         },
         {
          "release_year": "2020"
         },
         {
          "release_year": "2019"
         },
         {
          "release_year": "2019"
         },
         {
          "release_year": "2019"
         },
         {
          "release_year": "2019"
         },
         {
          "release_year": "2020"
         },
         {
          "release_year": "2019"
         },
         {
          "release_year": "2019"
         },
         {
          "release_year": "2019"
         },
         {
          "release_year": "2019"
         },
         {
          "release_year": "2020"
         },
         {
          "release_year": "2020"
         },
         {
          "release_year": "2019"
         },
         {
          "release_year": "2019"
         },
         {
          "release_year": "2019"
         },
         {
          "release_year": "2020"
         },
         {
          "release_year": "2019"
         },
         {
          "release_year": "2019"
         },
         {
          "release_year": "2019"
         },
         {
          "release_year": "2020"
         },
         {
          "release_year": "2022"
         },
         {
          "release_year": "2022"
         },
         {
          "release_year": "2022"
         },
         {
          "release_year": "2021"
         },
         {
          "release_year": "2022"
         },
         {
          "release_year": "2022"
         },
         {
          "release_year": "2022"
         },
         {
          "release_year": "2022"
         },
         {
          "release_year": "2022"
         },
         {
          "release_year": "2022"
         },
         {
          "release_year": "2022"
         },
         {
          "release_year": "2022"
         },
         {
          "release_year": "2022"
         },
         {
          "release_year": "2022"
         },
         {
          "release_year": "2022"
         },
         {
          "release_year": "2022"
         },
         {
          "release_year": "2022"
         },
         {
          "release_year": "2022"
         },
         {
          "release_year": "2022"
         },
         {
          "release_year": "2022"
         },
         {
          "release_year": "2021"
         },
         {
          "release_year": "2022"
         },
         {
          "release_year": "2022"
         },
         {
          "release_year": "2022"
         },
         {
          "release_year": "2022"
         },
         {
          "release_year": "2022"
         },
         {
          "release_year": "2021"
         },
         {
          "release_year": "2021"
         },
         {
          "release_year": "2022"
         },
         {
          "release_year": "2022"
         },
         {
          "release_year": "2022"
         },
         {
          "release_year": "2022"
         },
         {
          "release_year": "2022"
         },
         {
          "release_year": "2021"
         },
         {
          "release_year": "2021"
         },
         {
          "release_year": "2021"
         },
         {
          "release_year": "2022"
         },
         {
          "release_year": "2022"
         },
         {
          "release_year": "2022"
         },
         {
          "release_year": "2021"
         },
         {
          "release_year": "2022"
         },
         {
          "release_year": "2022"
         },
         {
          "release_year": "2022"
         },
         {
          "release_year": "2022"
         },
         {
          "release_year": "2022"
         },
         {
          "release_year": "2021"
         },
         {
          "release_year": "2022"
         },
         {
          "release_year": "2022"
         },
         {
          "release_year": "2022"
         },
         {
          "release_year": "2022"
         },
         {
          "release_year": "2022"
         },
         {
          "release_year": "2021"
         },
         {
          "release_year": "2022"
         },
         {
          "release_year": "2021"
         },
         {
          "release_year": "2022"
         },
         {
          "release_year": "2021"
         },
         {
          "release_year": "2022"
         },
         {
          "release_year": "2022"
         },
         {
          "release_year": "2021"
         },
         {
          "release_year": "2022"
         },
         {
          "release_year": "2022"
         },
         {
          "release_year": "2022"
         },
         {
          "release_year": "2021"
         },
         {
          "release_year": "2022"
         },
         {
          "release_year": "2022"
         },
         {
          "release_year": "2022"
         },
         {
          "release_year": "2021"
         },
         {
          "release_year": "2022"
         },
         {
          "release_year": "2022"
         },
         {
          "release_year": "2022"
         },
         {
          "release_year": "2022"
         },
         {
          "release_year": "2021"
         },
         {
          "release_year": "2021"
         },
         {
          "release_year": "2021"
         },
         {
          "release_year": "2022"
         },
         {
          "release_year": "2022"
         },
         {
          "release_year": "2022"
         },
         {
          "release_year": "2021"
         },
         {
          "release_year": "2021"
         },
         {
          "release_year": "2022"
         },
         {
          "release_year": "2021"
         },
         {
          "release_year": "2022"
         },
         {
          "release_year": "2022"
         },
         {
          "release_year": "2022"
         },
         {
          "release_year": "2021"
         },
         {
          "release_year": "2022"
         },
         {
          "release_year": "2022"
         },
         {
          "release_year": "2021"
         },
         {
          "release_year": "2022"
         },
         {
          "release_year": "2022"
         },
         {
          "release_year": "2022"
         },
         {
          "release_year": "2022"
         },
         {
          "release_year": "2021"
         },
         {
          "release_year": "2021"
         },
         {
          "release_year": "2021"
         },
         {
          "release_year": "2022"
         },
         {
          "release_year": "2021"
         },
         {
          "release_year": "2022"
         },
         {
          "release_year": "2022"
         },
         {
          "release_year": "2022"
         },
         {
          "release_year": "2022"
         },
         {
          "release_year": "2021"
         },
         {
          "release_year": "2021"
         },
         {
          "release_year": "2022"
         },
         {
          "release_year": "2022"
         },
         {
          "release_year": "2022"
         },
         {
          "release_year": "2021"
         },
         {
          "release_year": "2022"
         },
         {
          "release_year": "2021"
         },
         {
          "release_year": "2022"
         },
         {
          "release_year": "2021"
         },
         {
          "release_year": "2022"
         },
         {
          "release_year": "2022"
         },
         {
          "release_year": "2022"
         },
         {
          "release_year": "2021"
         },
         {
          "release_year": "2022"
         },
         {
          "release_year": "2022"
         },
         {
          "release_year": "2022"
         },
         {
          "release_year": "2021"
         },
         {
          "release_year": "2022"
         },
         {
          "release_year": "2022"
         },
         {
          "release_year": "2022"
         },
         {
          "release_year": "2022"
         },
         {
          "release_year": "2021"
         },
         {
          "release_year": "2021"
         },
         {
          "release_year": "2022"
         },
         {
          "release_year": "2021"
         },
         {
          "release_year": "2021"
         },
         {
          "release_year": "2021"
         },
         {
          "release_year": "2022"
         },
         {
          "release_year": "2021"
         },
         {
          "release_year": "2022"
         },
         {
          "release_year": "2021"
         },
         {
          "release_year": "2022"
         },
         {
          "release_year": "2021"
         },
         {
          "release_year": "2021"
         },
         {
          "release_year": "2021"
         },
         {
          "release_year": "2021"
         },
         {
          "release_year": "2022"
         },
         {
          "release_year": "2021"
         },
         {
          "release_year": "2021"
         },
         {
          "release_year": "2021"
         },
         {
          "release_year": "2021"
         },
         {
          "release_year": "2022"
         },
         {
          "release_year": "2022"
         },
         {
          "release_year": "2022"
         },
         {
          "release_year": "2022"
         },
         {
          "release_year": "2021"
         },
         {
          "release_year": "2022"
         },
         {
          "release_year": "2022"
         },
         {
          "release_year": "2022"
         },
         {
          "release_year": "2021"
         },
         {
          "release_year": "2022"
         },
         {
          "release_year": "2022"
         },
         {
          "release_year": "2021"
         },
         {
          "release_year": "2022"
         },
         {
          "release_year": "2021"
         },
         {
          "release_year": "2021"
         },
         {
          "release_year": "2021"
         },
         {
          "release_year": "2021"
         },
         {
          "release_year": "2022"
         },
         {
          "release_year": "2022"
         },
         {
          "release_year": "2021"
         },
         {
          "release_year": "2021"
         },
         {
          "release_year": "2021"
         },
         {
          "release_year": "2021"
         },
         {
          "release_year": "2022"
         },
         {
          "release_year": "2022"
         },
         {
          "release_year": "2021"
         },
         {
          "release_year": "2022"
         },
         {
          "release_year": "2021"
         },
         {
          "release_year": "2022"
         },
         {
          "release_year": "2022"
         },
         {
          "release_year": "2021"
         },
         {
          "release_year": "2021"
         },
         {
          "release_year": "2021"
         },
         {
          "release_year": "2021"
         },
         {
          "release_year": "2021"
         },
         {
          "release_year": "2021"
         },
         {
          "release_year": "2022"
         },
         {
          "release_year": "2021"
         },
         {
          "release_year": "2021"
         },
         {
          "release_year": "2022"
         },
         {
          "release_year": "2022"
         },
         {
          "release_year": "2022"
         },
         {
          "release_year": "2021"
         },
         {
          "release_year": "2022"
         },
         {
          "release_year": "2021"
         },
         {
          "release_year": "2021"
         },
         {
          "release_year": "2021"
         },
         {
          "release_year": "2021"
         },
         {
          "release_year": "2021"
         },
         {
          "release_year": "2021"
         },
         {
          "release_year": "2021"
         },
         {
          "release_year": "2021"
         },
         {
          "release_year": "2022"
         },
         {
          "release_year": "2022"
         },
         {
          "release_year": "2021"
         },
         {
          "release_year": "2022"
         },
         {
          "release_year": "2021"
         },
         {
          "release_year": "2022"
         },
         {
          "release_year": "2022"
         },
         {
          "release_year": "2022"
         },
         {
          "release_year": "2021"
         },
         {
          "release_year": "2022"
         },
         {
          "release_year": "2021"
         },
         {
          "release_year": "2022"
         },
         {
          "release_year": "2022"
         },
         {
          "release_year": "2021"
         },
         {
          "release_year": "2021"
         },
         {
          "release_year": "2021"
         },
         {
          "release_year": "2021"
         },
         {
          "release_year": "2022"
         },
         {
          "release_year": "2022"
         },
         {
          "release_year": "2022"
         },
         {
          "release_year": "2021"
         },
         {
          "release_year": "2021"
         },
         {
          "release_year": "2021"
         },
         {
          "release_year": "2022"
         },
         {
          "release_year": "2021"
         },
         {
          "release_year": "2021"
         },
         {
          "release_year": "2021"
         },
         {
          "release_year": "2021"
         },
         {
          "release_year": "2021"
         },
         {
          "release_year": "2022"
         },
         {
          "release_year": "2022"
         },
         {
          "release_year": "2021"
         },
         {
          "release_year": "2022"
         },
         {
          "release_year": "2021"
         },
         {
          "release_year": "2022"
         },
         {
          "release_year": "2022"
         },
         {
          "release_year": "2022"
         },
         {
          "release_year": "2022"
         },
         {
          "release_year": "2022"
         },
         {
          "release_year": "2022"
         },
         {
          "release_year": "2021"
         },
         {
          "release_year": "2022"
         },
         {
          "release_year": "2021"
         },
         {
          "release_year": "2021"
         },
         {
          "release_year": "2021"
         },
         {
          "release_year": "2022"
         },
         {
          "release_year": "2022"
         },
         {
          "release_year": "2022"
         },
         {
          "release_year": "2022"
         },
         {
          "release_year": "2022"
         },
         {
          "release_year": "2021"
         },
         {
          "release_year": "2021"
         },
         {
          "release_year": "2022"
         },
         {
          "release_year": "2022"
         },
         {
          "release_year": "2021"
         },
         {
          "release_year": "2022"
         },
         {
          "release_year": "2021"
         },
         {
          "release_year": "2022"
         },
         {
          "release_year": "2021"
         },
         {
          "release_year": "2022"
         },
         {
          "release_year": "2021"
         },
         {
          "release_year": "2022"
         },
         {
          "release_year": "2021"
         },
         {
          "release_year": "2021"
         },
         {
          "release_year": "2022"
         },
         {
          "release_year": "2021"
         },
         {
          "release_year": "2021"
         },
         {
          "release_year": "2022"
         },
         {
          "release_year": "2021"
         },
         {
          "release_year": "2021"
         },
         {
          "release_year": "2022"
         },
         {
          "release_year": "2022"
         },
         {
          "release_year": "2022"
         },
         {
          "release_year": "2021"
         },
         {
          "release_year": "2021"
         },
         {
          "release_year": "2021"
         },
         {
          "release_year": "2021"
         },
         {
          "release_year": "2021"
         },
         {
          "release_year": "2022"
         },
         {
          "release_year": "2022"
         },
         {
          "release_year": "2022"
         },
         {
          "release_year": "2021"
         },
         {
          "release_year": "2022"
         },
         {
          "release_year": "2021"
         },
         {
          "release_year": "2021"
         },
         {
          "release_year": "2021"
         },
         {
          "release_year": "2021"
         },
         {
          "release_year": "2021"
         },
         {
          "release_year": "2022"
         },
         {
          "release_year": "2021"
         },
         {
          "release_year": "2022"
         },
         {
          "release_year": "2022"
         },
         {
          "release_year": "2021"
         },
         {
          "release_year": "2021"
         },
         {
          "release_year": "2021"
         },
         {
          "release_year": "2022"
         },
         {
          "release_year": "2021"
         },
         {
          "release_year": "2021"
         },
         {
          "release_year": "2022"
         },
         {
          "release_year": "2022"
         },
         {
          "release_year": "2021"
         },
         {
          "release_year": "2022"
         },
         {
          "release_year": "2022"
         },
         {
          "release_year": "2021"
         },
         {
          "release_year": "2022"
         },
         {
          "release_year": "2021"
         },
         {
          "release_year": "2021"
         },
         {
          "release_year": "2021"
         },
         {
          "release_year": "2022"
         },
         {
          "release_year": "2021"
         },
         {
          "release_year": "2022"
         },
         {
          "release_year": "2021"
         },
         {
          "release_year": "2022"
         },
         {
          "release_year": "2022"
         },
         {
          "release_year": "2021"
         },
         {
          "release_year": "2021"
         },
         {
          "release_year": "2021"
         },
         {
          "release_year": "2021"
         },
         {
          "release_year": "2021"
         },
         {
          "release_year": "2021"
         },
         {
          "release_year": "2022"
         },
         {
          "release_year": "2021"
         },
         {
          "release_year": "2021"
         },
         {
          "release_year": "2022"
         },
         {
          "release_year": "2022"
         },
         {
          "release_year": "2021"
         },
         {
          "release_year": "2021"
         },
         {
          "release_year": "2021"
         },
         {
          "release_year": "2021"
         },
         {
          "release_year": "2022"
         },
         {
          "release_year": "2021"
         },
         {
          "release_year": "2021"
         },
         {
          "release_year": "2021"
         },
         {
          "release_year": "2022"
         },
         {
          "release_year": "2021"
         },
         {
          "release_year": "2021"
         },
         {
          "release_year": "2022"
         },
         {
          "release_year": "2022"
         },
         {
          "release_year": "2021"
         },
         {
          "release_year": "2022"
         },
         {
          "release_year": "2021"
         },
         {
          "release_year": "2021"
         },
         {
          "release_year": "2021"
         },
         {
          "release_year": "2021"
         },
         {
          "release_year": "2021"
         },
         {
          "release_year": "2021"
         },
         {
          "release_year": "2022"
         },
         {
          "release_year": "2022"
         },
         {
          "release_year": "2022"
         },
         {
          "release_year": "2021"
         },
         {
          "release_year": "2021"
         },
         {
          "release_year": "2022"
         },
         {
          "release_year": "2022"
         },
         {
          "release_year": "2021"
         },
         {
          "release_year": "2021"
         },
         {
          "release_year": "2021"
         },
         {
          "release_year": "2021"
         },
         {
          "release_year": "2021"
         },
         {
          "release_year": "2022"
         },
         {
          "release_year": "2021"
         },
         {
          "release_year": "2021"
         },
         {
          "release_year": "2021"
         },
         {
          "release_year": "2022"
         },
         {
          "release_year": "2021"
         },
         {
          "release_year": "2021"
         },
         {
          "release_year": "2021"
         },
         {
          "release_year": "2021"
         },
         {
          "release_year": "2021"
         },
         {
          "release_year": "2021"
         },
         {
          "release_year": "2021"
         },
         {
          "release_year": "2022"
         },
         {
          "release_year": "2022"
         },
         {
          "release_year": "2022"
         },
         {
          "release_year": "2022"
         },
         {
          "release_year": "2022"
         },
         {
          "release_year": "2021"
         },
         {
          "release_year": "2021"
         },
         {
          "release_year": "2021"
         },
         {
          "release_year": "2021"
         },
         {
          "release_year": "2022"
         },
         {
          "release_year": "2022"
         },
         {
          "release_year": "2021"
         },
         {
          "release_year": "2021"
         },
         {
          "release_year": "2021"
         },
         {
          "release_year": "2021"
         },
         {
          "release_year": "2021"
         },
         {
          "release_year": "2022"
         },
         {
          "release_year": "2022"
         },
         {
          "release_year": "2021"
         },
         {
          "release_year": "2021"
         },
         {
          "release_year": "2021"
         },
         {
          "release_year": "2021"
         },
         {
          "release_year": "2022"
         },
         {
          "release_year": "2021"
         },
         {
          "release_year": "2022"
         },
         {
          "release_year": "2022"
         },
         {
          "release_year": "2021"
         },
         {
          "release_year": "2022"
         },
         {
          "release_year": "2021"
         },
         {
          "release_year": "2021"
         },
         {
          "release_year": "2021"
         },
         {
          "release_year": "2021"
         },
         {
          "release_year": "2021"
         },
         {
          "release_year": "2022"
         },
         {
          "release_year": "2021"
         },
         {
          "release_year": "2021"
         },
         {
          "release_year": "2022"
         },
         {
          "release_year": "2021"
         },
         {
          "release_year": "2021"
         },
         {
          "release_year": "2021"
         },
         {
          "release_year": "2021"
         },
         {
          "release_year": "2021"
         },
         {
          "release_year": "2021"
         },
         {
          "release_year": "2021"
         },
         {
          "release_year": "2021"
         },
         {
          "release_year": "2021"
         },
         {
          "release_year": "2022"
         },
         {
          "release_year": "2021"
         },
         {
          "release_year": "2021"
         },
         {
          "release_year": "2022"
         },
         {
          "release_year": "2022"
         },
         {
          "release_year": "2022"
         },
         {
          "release_year": "2022"
         },
         {
          "release_year": "2022"
         },
         {
          "release_year": "2022"
         },
         {
          "release_year": "2021"
         },
         {
          "release_year": "2021"
         },
         {
          "release_year": "2021"
         },
         {
          "release_year": "2022"
         },
         {
          "release_year": "2021"
         },
         {
          "release_year": "2021"
         },
         {
          "release_year": "2022"
         },
         {
          "release_year": "2021"
         },
         {
          "release_year": "2021"
         },
         {
          "release_year": "2022"
         },
         {
          "release_year": "2021"
         },
         {
          "release_year": "2022"
         },
         {
          "release_year": "2021"
         },
         {
          "release_year": "2022"
         },
         {
          "release_year": "2021"
         },
         {
          "release_year": "2022"
         },
         {
          "release_year": "2021"
         },
         {
          "release_year": "2021"
         },
         {
          "release_year": "2021"
         },
         {
          "release_year": "2022"
         },
         {
          "release_year": "2021"
         },
         {
          "release_year": "2022"
         },
         {
          "release_year": "2022"
         },
         {
          "release_year": "2021"
         },
         {
          "release_year": "2022"
         },
         {
          "release_year": "2021"
         },
         {
          "release_year": "2021"
         },
         {
          "release_year": "2021"
         },
         {
          "release_year": "2021"
         },
         {
          "release_year": "2022"
         },
         {
          "release_year": "2022"
         },
         {
          "release_year": "2022"
         },
         {
          "release_year": "2022"
         },
         {
          "release_year": "2021"
         },
         {
          "release_year": "2022"
         },
         {
          "release_year": "2021"
         },
         {
          "release_year": "2021"
         },
         {
          "release_year": "2021"
         },
         {
          "release_year": "2021"
         },
         {
          "release_year": "2021"
         },
         {
          "release_year": "2022"
         },
         {
          "release_year": "2022"
         },
         {
          "release_year": "2022"
         },
         {
          "release_year": "2021"
         },
         {
          "release_year": "2021"
         },
         {
          "release_year": "2021"
         },
         {
          "release_year": "2021"
         },
         {
          "release_year": "2021"
         },
         {
          "release_year": "2021"
         },
         {
          "release_year": "2021"
         },
         {
          "release_year": "2021"
         },
         {
          "release_year": "2021"
         },
         {
          "release_year": "2021"
         },
         {
          "release_year": "2021"
         },
         {
          "release_year": "2022"
         },
         {
          "release_year": "2021"
         },
         {
          "release_year": "2021"
         },
         {
          "release_year": "2022"
         },
         {
          "release_year": "2021"
         },
         {
          "release_year": "2021"
         },
         {
          "release_year": "2021"
         },
         {
          "release_year": "2022"
         },
         {
          "release_year": "2022"
         },
         {
          "release_year": "2021"
         },
         {
          "release_year": "2021"
         },
         {
          "release_year": "2022"
         },
         {
          "release_year": "2021"
         },
         {
          "release_year": "2022"
         },
         {
          "release_year": "2021"
         },
         {
          "release_year": "2022"
         },
         {
          "release_year": "2021"
         },
         {
          "release_year": "2021"
         },
         {
          "release_year": "2021"
         },
         {
          "release_year": "2021"
         },
         {
          "release_year": "2021"
         },
         {
          "release_year": "2021"
         },
         {
          "release_year": "2022"
         },
         {
          "release_year": "2021"
         },
         {
          "release_year": "2021"
         },
         {
          "release_year": "2021"
         },
         {
          "release_year": "2021"
         },
         {
          "release_year": "2021"
         },
         {
          "release_year": "2021"
         },
         {
          "release_year": "2022"
         },
         {
          "release_year": "2021"
         },
         {
          "release_year": "2021"
         },
         {
          "release_year": "2022"
         },
         {
          "release_year": "2021"
         },
         {
          "release_year": "2021"
         },
         {
          "release_year": "2021"
         },
         {
          "release_year": "2021"
         },
         {
          "release_year": "2021"
         },
         {
          "release_year": "2021"
         },
         {
          "release_year": "2021"
         },
         {
          "release_year": "2022"
         },
         {
          "release_year": "2021"
         },
         {
          "release_year": "2021"
         },
         {
          "release_year": "2022"
         },
         {
          "release_year": "2021"
         },
         {
          "release_year": "2021"
         },
         {
          "release_year": "2022"
         },
         {
          "release_year": "2022"
         },
         {
          "release_year": "2021"
         },
         {
          "release_year": "2021"
         },
         {
          "release_year": "2021"
         },
         {
          "release_year": "2021"
         },
         {
          "release_year": "2021"
         },
         {
          "release_year": "2022"
         },
         {
          "release_year": "2021"
         },
         {
          "release_year": "2021"
         },
         {
          "release_year": "2021"
         },
         {
          "release_year": "2022"
         },
         {
          "release_year": "2021"
         },
         {
          "release_year": "2021"
         },
         {
          "release_year": "2021"
         },
         {
          "release_year": "2021"
         },
         {
          "release_year": "2022"
         },
         {
          "release_year": "2021"
         },
         {
          "release_year": "2021"
         },
         {
          "release_year": "2021"
         },
         {
          "release_year": "2022"
         },
         {
          "release_year": "2021"
         },
         {
          "release_year": "2021"
         },
         {
          "release_year": "2022"
         },
         {
          "release_year": "2021"
         },
         {
          "release_year": "2021"
         },
         {
          "release_year": "2021"
         },
         {
          "release_year": "2021"
         },
         {
          "release_year": "2021"
         },
         {
          "release_year": "2022"
         },
         {
          "release_year": "2022"
         },
         {
          "release_year": "2021"
         },
         {
          "release_year": "2021"
         },
         {
          "release_year": "2021"
         },
         {
          "release_year": "2021"
         },
         {
          "release_year": "2021"
         },
         {
          "release_year": "2021"
         },
         {
          "release_year": "2022"
         },
         {
          "release_year": "2021"
         },
         {
          "release_year": "2021"
         },
         {
          "release_year": "2022"
         },
         {
          "release_year": "2021"
         },
         {
          "release_year": "2021"
         },
         {
          "release_year": "2022"
         },
         {
          "release_year": "2021"
         },
         {
          "release_year": "2021"
         },
         {
          "release_year": "2022"
         },
         {
          "release_year": "2021"
         },
         {
          "release_year": "2022"
         },
         {
          "release_year": "2022"
         },
         {
          "release_year": "2021"
         },
         {
          "release_year": "2021"
         },
         {
          "release_year": "2022"
         },
         {
          "release_year": "2022"
         },
         {
          "release_year": "2022"
         },
         {
          "release_year": "2021"
         },
         {
          "release_year": "2022"
         },
         {
          "release_year": "2022"
         },
         {
          "release_year": "2021"
         },
         {
          "release_year": "2021"
         },
         {
          "release_year": "2021"
         },
         {
          "release_year": "2021"
         },
         {
          "release_year": "2022"
         },
         {
          "release_year": "2021"
         },
         {
          "release_year": "2021"
         },
         {
          "release_year": "2022"
         },
         {
          "release_year": "2021"
         },
         {
          "release_year": "2022"
         },
         {
          "release_year": "2021"
         },
         {
          "release_year": "2022"
         },
         {
          "release_year": "2021"
         },
         {
          "release_year": "2021"
         },
         {
          "release_year": "2022"
         },
         {
          "release_year": "2021"
         },
         {
          "release_year": "2021"
         },
         {
          "release_year": "2021"
         },
         {
          "release_year": "2021"
         },
         {
          "release_year": "2022"
         },
         {
          "release_year": "2022"
         },
         {
          "release_year": "2021"
         },
         {
          "release_year": "2021"
         },
         {
          "release_year": "2021"
         },
         {
          "release_year": "2021"
         },
         {
          "release_year": "2021"
         },
         {
          "release_year": "2022"
         },
         {
          "release_year": "2021"
         },
         {
          "release_year": "2021"
         },
         {
          "release_year": "2021"
         },
         {
          "release_year": "2021"
         },
         {
          "release_year": "2022"
         },
         {
          "release_year": "2022"
         },
         {
          "release_year": "2021"
         },
         {
          "release_year": "2021"
         },
         {
          "release_year": "2021"
         },
         {
          "release_year": "2022"
         },
         {
          "release_year": "2021"
         },
         {
          "release_year": "2021"
         },
         {
          "release_year": "2021"
         },
         {
          "release_year": "2021"
         },
         {
          "release_year": "2021"
         },
         {
          "release_year": "2022"
         },
         {
          "release_year": "2021"
         },
         {
          "release_year": "2021"
         },
         {
          "release_year": "2022"
         },
         {
          "release_year": "2021"
         },
         {
          "release_year": "2021"
         },
         {
          "release_year": "2021"
         },
         {
          "release_year": "2022"
         },
         {
          "release_year": "2021"
         },
         {
          "release_year": "2021"
         },
         {
          "release_year": "2021"
         },
         {
          "release_year": "2021"
         },
         {
          "release_year": "2021"
         },
         {
          "release_year": "2021"
         },
         {
          "release_year": "2021"
         },
         {
          "release_year": "2021"
         },
         {
          "release_year": "2021"
         },
         {
          "release_year": "2021"
         },
         {
          "release_year": "2022"
         },
         {
          "release_year": "2021"
         },
         {
          "release_year": "2021"
         },
         {
          "release_year": "2021"
         },
         {
          "release_year": "2021"
         },
         {
          "release_year": "2021"
         },
         {
          "release_year": "2021"
         },
         {
          "release_year": "2022"
         },
         {
          "release_year": "2021"
         },
         {
          "release_year": "2022"
         },
         {
          "release_year": "2021"
         },
         {
          "release_year": "2021"
         },
         {
          "release_year": "2021"
         },
         {
          "release_year": "2021"
         },
         {
          "release_year": "2021"
         },
         {
          "release_year": "2021"
         },
         {
          "release_year": "2021"
         },
         {
          "release_year": "2021"
         },
         {
          "release_year": "2021"
         },
         {
          "release_year": "2021"
         },
         {
          "release_year": "2021"
         },
         {
          "release_year": "2021"
         },
         {
          "release_year": "2022"
         },
         {
          "release_year": "2022"
         },
         {
          "release_year": "2021"
         },
         {
          "release_year": "2021"
         },
         {
          "release_year": "2021"
         },
         {
          "release_year": "2021"
         },
         {
          "release_year": "2021"
         },
         {
          "release_year": "2021"
         },
         {
          "release_year": "2021"
         },
         {
          "release_year": "2022"
         },
         {
          "release_year": "2021"
         },
         {
          "release_year": "2021"
         },
         {
          "release_year": "2021"
         },
         {
          "release_year": "2021"
         },
         {
          "release_year": "2021"
         },
         {
          "release_year": "2021"
         },
         {
          "release_year": "2021"
         },
         {
          "release_year": "2022"
         },
         {
          "release_year": "2022"
         },
         {
          "release_year": "2021"
         },
         {
          "release_year": "2021"
         },
         {
          "release_year": "2021"
         },
         {
          "release_year": "2021"
         },
         {
          "release_year": "2022"
         },
         {
          "release_year": "2021"
         },
         {
          "release_year": "2021"
         },
         {
          "release_year": "2022"
         },
         {
          "release_year": "2021"
         },
         {
          "release_year": "2021"
         },
         {
          "release_year": "2022"
         },
         {
          "release_year": "2021"
         },
         {
          "release_year": "2021"
         },
         {
          "release_year": "2022"
         },
         {
          "release_year": "2021"
         },
         {
          "release_year": "2021"
         },
         {
          "release_year": "2021"
         },
         {
          "release_year": "2021"
         },
         {
          "release_year": "2021"
         },
         {
          "release_year": "2022"
         },
         {
          "release_year": "2021"
         },
         {
          "release_year": "2021"
         },
         {
          "release_year": "2021"
         },
         {
          "release_year": "2022"
         },
         {
          "release_year": "2021"
         },
         {
          "release_year": "2021"
         },
         {
          "release_year": "2021"
         },
         {
          "release_year": "2021"
         },
         {
          "release_year": "2021"
         },
         {
          "release_year": "2021"
         },
         {
          "release_year": "2021"
         },
         {
          "release_year": "2021"
         },
         {
          "release_year": "2021"
         },
         {
          "release_year": "2022"
         },
         {
          "release_year": "2021"
         },
         {
          "release_year": "2021"
         },
         {
          "release_year": "2022"
         },
         {
          "release_year": "2021"
         },
         {
          "release_year": "2021"
         },
         {
          "release_year": "2022"
         },
         {
          "release_year": "2022"
         },
         {
          "release_year": "2021"
         },
         {
          "release_year": "2021"
         },
         {
          "release_year": "2021"
         },
         {
          "release_year": "2022"
         },
         {
          "release_year": "2021"
         },
         {
          "release_year": "2021"
         },
         {
          "release_year": "2022"
         },
         {
          "release_year": "2021"
         },
         {
          "release_year": "2021"
         },
         {
          "release_year": "2022"
         },
         {
          "release_year": "2021"
         },
         {
          "release_year": "2021"
         },
         {
          "release_year": "2021"
         },
         {
          "release_year": "2021"
         },
         {
          "release_year": "2021"
         },
         {
          "release_year": "2021"
         },
         {
          "release_year": "2021"
         },
         {
          "release_year": "2021"
         },
         {
          "release_year": "2021"
         },
         {
          "release_year": "2021"
         },
         {
          "release_year": "2021"
         },
         {
          "release_year": "2021"
         },
         {
          "release_year": "2022"
         },
         {
          "release_year": "2021"
         },
         {
          "release_year": "2021"
         },
         {
          "release_year": "2021"
         },
         {
          "release_year": "2021"
         },
         {
          "release_year": "2022"
         },
         {
          "release_year": "2022"
         },
         {
          "release_year": "2021"
         },
         {
          "release_year": "2022"
         },
         {
          "release_year": "2021"
         },
         {
          "release_year": "2021"
         },
         {
          "release_year": "2021"
         },
         {
          "release_year": "2021"
         },
         {
          "release_year": "2021"
         },
         {
          "release_year": "2021"
         },
         {
          "release_year": "2021"
         },
         {
          "release_year": "2021"
         },
         {
          "release_year": "2022"
         },
         {
          "release_year": "2021"
         },
         {
          "release_year": "2021"
         },
         {
          "release_year": "2022"
         },
         {
          "release_year": "2021"
         },
         {
          "release_year": "2022"
         },
         {
          "release_year": "2022"
         },
         {
          "release_year": "2021"
         },
         {
          "release_year": "2021"
         },
         {
          "release_year": "2022"
         },
         {
          "release_year": "2021"
         },
         {
          "release_year": "2022"
         },
         {
          "release_year": "2021"
         },
         {
          "release_year": "2022"
         },
         {
          "release_year": "2021"
         },
         {
          "release_year": "2021"
         },
         {
          "release_year": "2021"
         },
         {
          "release_year": "2021"
         },
         {
          "release_year": "2021"
         },
         {
          "release_year": "2021"
         },
         {
          "release_year": "2022"
         },
         {
          "release_year": "2021"
         },
         {
          "release_year": "2021"
         },
         {
          "release_year": "2021"
         },
         {
          "release_year": "2021"
         },
         {
          "release_year": "2022"
         },
         {
          "release_year": "2021"
         },
         {
          "release_year": "2022"
         },
         {
          "release_year": "2021"
         },
         {
          "release_year": "2021"
         },
         {
          "release_year": "2021"
         },
         {
          "release_year": "2021"
         },
         {
          "release_year": "2021"
         },
         {
          "release_year": "2021"
         },
         {
          "release_year": "2021"
         },
         {
          "release_year": "2021"
         },
         {
          "release_year": "2021"
         },
         {
          "release_year": "2021"
         },
         {
          "release_year": "2021"
         },
         {
          "release_year": "2021"
         },
         {
          "release_year": "2021"
         },
         {
          "release_year": "2022"
         },
         {
          "release_year": "2021"
         },
         {
          "release_year": "2021"
         },
         {
          "release_year": "2021"
         },
         {
          "release_year": "2021"
         },
         {
          "release_year": "2021"
         },
         {
          "release_year": "2022"
         },
         {
          "release_year": "2021"
         },
         {
          "release_year": "2021"
         },
         {
          "release_year": "2022"
         },
         {
          "release_year": "2022"
         },
         {
          "release_year": "2021"
         },
         {
          "release_year": "2021"
         },
         {
          "release_year": "2021"
         },
         {
          "release_year": "2021"
         },
         {
          "release_year": "2021"
         },
         {
          "release_year": "2021"
         },
         {
          "release_year": "2021"
         },
         {
          "release_year": "2021"
         },
         {
          "release_year": "2022"
         },
         {
          "release_year": "2021"
         },
         {
          "release_year": "2022"
         },
         {
          "release_year": "2021"
         },
         {
          "release_year": "2021"
         },
         {
          "release_year": "2021"
         },
         {
          "release_year": "2021"
         },
         {
          "release_year": "2021"
         },
         {
          "release_year": "2021"
         },
         {
          "release_year": "2021"
         },
         {
          "release_year": "2021"
         },
         {
          "release_year": "2021"
         },
         {
          "release_year": "2021"
         },
         {
          "release_year": "2021"
         },
         {
          "release_year": "2021"
         },
         {
          "release_year": "2022"
         },
         {
          "release_year": "2021"
         },
         {
          "release_year": "2022"
         },
         {
          "release_year": "2021"
         },
         {
          "release_year": "2021"
         },
         {
          "release_year": "2021"
         },
         {
          "release_year": "2021"
         },
         {
          "release_year": "2021"
         },
         {
          "release_year": "2022"
         },
         {
          "release_year": "2021"
         },
         {
          "release_year": "2021"
         },
         {
          "release_year": "2021"
         },
         {
          "release_year": "2021"
         },
         {
          "release_year": "2021"
         },
         {
          "release_year": "2021"
         },
         {
          "release_year": "2021"
         },
         {
          "release_year": "2021"
         },
         {
          "release_year": "2021"
         },
         {
          "release_year": "2021"
         },
         {
          "release_year": "2022"
         },
         {
          "release_year": "2021"
         },
         {
          "release_year": "2022"
         },
         {
          "release_year": "2021"
         },
         {
          "release_year": "2021"
         },
         {
          "release_year": "2021"
         },
         {
          "release_year": "2021"
         },
         {
          "release_year": "2021"
         },
         {
          "release_year": "2022"
         },
         {
          "release_year": "2022"
         },
         {
          "release_year": "2021"
         },
         {
          "release_year": "2021"
         },
         {
          "release_year": "2022"
         },
         {
          "release_year": "2021"
         },
         {
          "release_year": "2021"
         },
         {
          "release_year": "2021"
         },
         {
          "release_year": "2022"
         },
         {
          "release_year": "2021"
         },
         {
          "release_year": "2021"
         },
         {
          "release_year": "2021"
         },
         {
          "release_year": "2021"
         },
         {
          "release_year": "2021"
         },
         {
          "release_year": "2021"
         },
         {
          "release_year": "2021"
         },
         {
          "release_year": "2021"
         },
         {
          "release_year": "2021"
         },
         {
          "release_year": "2022"
         },
         {
          "release_year": "2021"
         },
         {
          "release_year": "2022"
         },
         {
          "release_year": "2021"
         },
         {
          "release_year": "2022"
         },
         {
          "release_year": "2021"
         },
         {
          "release_year": "2021"
         },
         {
          "release_year": "2021"
         },
         {
          "release_year": "2021"
         },
         {
          "release_year": "2021"
         },
         {
          "release_year": "2022"
         },
         {
          "release_year": "2021"
         },
         {
          "release_year": "2021"
         },
         {
          "release_year": "2021"
         },
         {
          "release_year": "2022"
         },
         {
          "release_year": "2021"
         },
         {
          "release_year": "2022"
         },
         {
          "release_year": "2021"
         },
         {
          "release_year": "2021"
         },
         {
          "release_year": "2021"
         },
         {
          "release_year": "2021"
         },
         {
          "release_year": "2022"
         },
         {
          "release_year": "2021"
         },
         {
          "release_year": "2021"
         },
         {
          "release_year": "2022"
         },
         {
          "release_year": "2022"
         },
         {
          "release_year": "2021"
         },
         {
          "release_year": "2022"
         },
         {
          "release_year": "2021"
         },
         {
          "release_year": "2021"
         },
         {
          "release_year": "2021"
         },
         {
          "release_year": "2021"
         },
         {
          "release_year": "2022"
         },
         {
          "release_year": "2022"
         },
         {
          "release_year": "2021"
         },
         {
          "release_year": "2021"
         },
         {
          "release_year": "2021"
         },
         {
          "release_year": "2022"
         },
         {
          "release_year": "2021"
         },
         {
          "release_year": "2021"
         },
         {
          "release_year": "2021"
         },
         {
          "release_year": "2022"
         },
         {
          "release_year": "2021"
         },
         {
          "release_year": "2021"
         },
         {
          "release_year": "2021"
         },
         {
          "release_year": "2021"
         },
         {
          "release_year": "2021"
         },
         {
          "release_year": "2022"
         },
         {
          "release_year": "2021"
         },
         {
          "release_year": "2022"
         },
         {
          "release_year": "2021"
         },
         {
          "release_year": "2021"
         },
         {
          "release_year": "2021"
         },
         {
          "release_year": "2021"
         },
         {
          "release_year": "2022"
         },
         {
          "release_year": "2021"
         },
         {
          "release_year": "2021"
         },
         {
          "release_year": "2021"
         },
         {
          "release_year": "2022"
         },
         {
          "release_year": "2021"
         },
         {
          "release_year": "2021"
         },
         {
          "release_year": "2021"
         },
         {
          "release_year": "2022"
         },
         {
          "release_year": "2021"
         },
         {
          "release_year": "2021"
         },
         {
          "release_year": "2021"
         },
         {
          "release_year": "2021"
         },
         {
          "release_year": "2021"
         },
         {
          "release_year": "2021"
         },
         {
          "release_year": "2022"
         },
         {
          "release_year": "2022"
         },
         {
          "release_year": "2021"
         },
         {
          "release_year": "2021"
         },
         {
          "release_year": "2021"
         },
         {
          "release_year": "2021"
         },
         {
          "release_year": "2021"
         },
         {
          "release_year": "2021"
         },
         {
          "release_year": "2021"
         },
         {
          "release_year": "2021"
         },
         {
          "release_year": "2021"
         },
         {
          "release_year": "2021"
         },
         {
          "release_year": "2021"
         },
         {
          "release_year": "2021"
         },
         {
          "release_year": "2022"
         },
         {
          "release_year": "2021"
         },
         {
          "release_year": "2021"
         },
         {
          "release_year": "2022"
         },
         {
          "release_year": "2021"
         },
         {
          "release_year": "2021"
         },
         {
          "release_year": "2021"
         },
         {
          "release_year": "2021"
         },
         {
          "release_year": "2021"
         },
         {
          "release_year": "2021"
         },
         {
          "release_year": "2022"
         },
         {
          "release_year": "2021"
         },
         {
          "release_year": "2021"
         },
         {
          "release_year": "2021"
         },
         {
          "release_year": "2022"
         },
         {
          "release_year": "2021"
         },
         {
          "release_year": "2021"
         },
         {
          "release_year": "2021"
         },
         {
          "release_year": "2021"
         },
         {
          "release_year": "2021"
         },
         {
          "release_year": "2022"
         },
         {
          "release_year": "2021"
         },
         {
          "release_year": "2021"
         },
         {
          "release_year": "2021"
         },
         {
          "release_year": "2021"
         },
         {
          "release_year": "2022"
         },
         {
          "release_year": "2021"
         },
         {
          "release_year": "2021"
         },
         {
          "release_year": "2021"
         },
         {
          "release_year": "2021"
         },
         {
          "release_year": "2021"
         },
         {
          "release_year": "2021"
         },
         {
          "release_year": "2022"
         },
         {
          "release_year": "2021"
         },
         {
          "release_year": "2021"
         },
         {
          "release_year": "2021"
         },
         {
          "release_year": "2021"
         },
         {
          "release_year": "2021"
         },
         {
          "release_year": "2022"
         },
         {
          "release_year": "2022"
         },
         {
          "release_year": "2021"
         },
         {
          "release_year": "2021"
         },
         {
          "release_year": "2021"
         },
         {
          "release_year": "2021"
         },
         {
          "release_year": "2021"
         },
         {
          "release_year": "2021"
         },
         {
          "release_year": "2021"
         },
         {
          "release_year": "2021"
         },
         {
          "release_year": "2021"
         },
         {
          "release_year": "2022"
         },
         {
          "release_year": "2021"
         },
         {
          "release_year": "2021"
         },
         {
          "release_year": "2021"
         },
         {
          "release_year": "2021"
         },
         {
          "release_year": "2021"
         },
         {
          "release_year": "2021"
         },
         {
          "release_year": "2022"
         },
         {
          "release_year": "2021"
         },
         {
          "release_year": "2021"
         },
         {
          "release_year": "2021"
         },
         {
          "release_year": "2021"
         },
         {
          "release_year": "2022"
         },
         {
          "release_year": "2021"
         },
         {
          "release_year": "2021"
         },
         {
          "release_year": "2021"
         },
         {
          "release_year": "2021"
         },
         {
          "release_year": "2021"
         },
         {
          "release_year": "2021"
         },
         {
          "release_year": "2021"
         },
         {
          "release_year": "2021"
         },
         {
          "release_year": "2021"
         },
         {
          "release_year": "2022"
         },
         {
          "release_year": "2021"
         },
         {
          "release_year": "2021"
         },
         {
          "release_year": "2021"
         },
         {
          "release_year": "2021"
         },
         {
          "release_year": "2021"
         },
         {
          "release_year": "2021"
         },
         {
          "release_year": "2021"
         },
         {
          "release_year": "2021"
         },
         {
          "release_year": "2021"
         },
         {
          "release_year": "2021"
         },
         {
          "release_year": "2021"
         },
         {
          "release_year": "2021"
         },
         {
          "release_year": "2021"
         },
         {
          "release_year": "2022"
         },
         {
          "release_year": "2021"
         },
         {
          "release_year": "2021"
         },
         {
          "release_year": "2021"
         },
         {
          "release_year": "2021"
         },
         {
          "release_year": "2022"
         },
         {
          "release_year": "2021"
         },
         {
          "release_year": "2021"
         },
         {
          "release_year": "2021"
         },
         {
          "release_year": "2021"
         },
         {
          "release_year": "2021"
         },
         {
          "release_year": "2021"
         },
         {
          "release_year": "2021"
         },
         {
          "release_year": "2021"
         },
         {
          "release_year": "2021"
         },
         {
          "release_year": "2021"
         },
         {
          "release_year": "2021"
         },
         {
          "release_year": "2021"
         },
         {
          "release_year": "2022"
         },
         {
          "release_year": "2021"
         },
         {
          "release_year": "2021"
         },
         {
          "release_year": "2022"
         },
         {
          "release_year": "2021"
         },
         {
          "release_year": "2021"
         },
         {
          "release_year": "2021"
         },
         {
          "release_year": "2022"
         },
         {
          "release_year": "2021"
         },
         {
          "release_year": "2021"
         },
         {
          "release_year": "2021"
         },
         {
          "release_year": "2021"
         },
         {
          "release_year": "2021"
         },
         {
          "release_year": "2021"
         },
         {
          "release_year": "2021"
         },
         {
          "release_year": "2021"
         },
         {
          "release_year": "2022"
         },
         {
          "release_year": "2021"
         },
         {
          "release_year": "2021"
         },
         {
          "release_year": "2021"
         },
         {
          "release_year": "2021"
         },
         {
          "release_year": "2021"
         },
         {
          "release_year": "2021"
         },
         {
          "release_year": "2021"
         },
         {
          "release_year": "2021"
         },
         {
          "release_year": "2022"
         },
         {
          "release_year": "2021"
         },
         {
          "release_year": "2021"
         },
         {
          "release_year": "2021"
         },
         {
          "release_year": "2021"
         },
         {
          "release_year": "2021"
         },
         {
          "release_year": "2021"
         },
         {
          "release_year": "2021"
         },
         {
          "release_year": "2021"
         },
         {
          "release_year": "2021"
         },
         {
          "release_year": "2021"
         },
         {
          "release_year": "2021"
         },
         {
          "release_year": "2021"
         },
         {
          "release_year": "2021"
         },
         {
          "release_year": "2021"
         },
         {
          "release_year": "2021"
         },
         {
          "release_year": "2021"
         },
         {
          "release_year": "2021"
         },
         {
          "release_year": "2022"
         },
         {
          "release_year": "2021"
         },
         {
          "release_year": "2022"
         },
         {
          "release_year": "2021"
         },
         {
          "release_year": "2021"
         },
         {
          "release_year": "2021"
         },
         {
          "release_year": "2021"
         },
         {
          "release_year": "2021"
         },
         {
          "release_year": "2022"
         },
         {
          "release_year": "2021"
         },
         {
          "release_year": "2021"
         },
         {
          "release_year": "2021"
         },
         {
          "release_year": "2021"
         },
         {
          "release_year": "2021"
         },
         {
          "release_year": "2021"
         },
         {
          "release_year": "2021"
         },
         {
          "release_year": "2021"
         },
         {
          "release_year": "2021"
         },
         {
          "release_year": "2021"
         },
         {
          "release_year": "2021"
         },
         {
          "release_year": "2021"
         },
         {
          "release_year": "2021"
         },
         {
          "release_year": "2021"
         },
         {
          "release_year": "2021"
         },
         {
          "release_year": "2021"
         },
         {
          "release_year": "2021"
         },
         {
          "release_year": "2021"
         },
         {
          "release_year": "2021"
         },
         {
          "release_year": "2021"
         },
         {
          "release_year": "2021"
         },
         {
          "release_year": "2021"
         },
         {
          "release_year": "2021"
         },
         {
          "release_year": "2021"
         },
         {
          "release_year": "2021"
         },
         {
          "release_year": "2021"
         },
         {
          "release_year": "2021"
         },
         {
          "release_year": "2022"
         },
         {
          "release_year": "2022"
         },
         {
          "release_year": "2021"
         },
         {
          "release_year": "2021"
         },
         {
          "release_year": "2021"
         },
         {
          "release_year": "2021"
         },
         {
          "release_year": "2021"
         },
         {
          "release_year": "2021"
         },
         {
          "release_year": "2021"
         },
         {
          "release_year": "2021"
         },
         {
          "release_year": "2021"
         }
        ]
       },
       "encoding": {
        "x": {
         "field": "release_year",
         "type": "nominal"
        },
        "y": {
         "aggregate": "count",
         "type": "quantitative"
        }
       },
       "mark": {
        "type": "bar"
       }
      },
      "image/png": "[encoded data removed]",
      "text/plain": [
       "<VegaLite 5 object>\n",
       "\n",
       "If you see this message, it means the renderer has not been properly enabled\n",
       "for the frontend that you are using. For more information, see\n",
       "https://altair-viz.github.io/user_guide/display_frontends.html#troubleshooting\n"
      ]
     },
     "execution_count": 5,
     "metadata": {},
     "output_type": "execute_result"
    }
   ],
   "source": [
    "# let's use 4, 10 and 40 years as our period times so that populous areas get more focus\n",
    "alt.Chart(movie_df[[\"release_year\"]].astype(str)).mark_bar().encode(\n",
    "    x=alt.X(\"release_year\"), y=\"count()\"\n",
    ")"
   ]
  },
  {
   "cell_type": "markdown",
   "id": "4405f9b4-8109-4cd1-ab80-9df69ee75671",
   "metadata": {},
   "source": [
    "## Set up Superlinked"
   ]
  },
  {
   "cell_type": "code",
   "execution_count": 6,
   "id": "363d1bfb-a842-49b6-a822-99db1f18daa8",
   "metadata": {},
   "outputs": [],
   "source": [
    "# accommodate our inputs in a typed schema\n",
    "class MovieSchema(sl.Schema):\n",
    "    description: sl.String\n",
    "    title: sl.String\n",
    "    release_timestamp: sl.Timestamp\n",
    "    genres: sl.String\n",
    "    id: sl.IdField"
   ]
  },
  {
   "cell_type": "code",
   "execution_count": 7,
   "id": "7b17ee72-539f-459a-ab8e-f1918579987d",
   "metadata": {},
   "outputs": [],
   "source": [
    "movie = MovieSchema()"
   ]
  },
  {
   "cell_type": "code",
   "execution_count": 8,
   "id": "abba40ea-a250-4b12-ad4b-ef90155c3175",
   "metadata": {},
   "outputs": [],
   "source": [
    "# textual fields are embedded using a sentence-transformers model\n",
    "description_space = sl.TextSimilaritySpace(\n",
    "    text=movie.description, model=\"sentence-transformers/paraphrase-MiniLM-L3-v2\"\n",
    ")\n",
    "title_space = sl.TextSimilaritySpace(\n",
    "    text=movie.title, model=\"sentence-transformers/paraphrase-MiniLM-L3-v2\"\n",
    ")\n",
    "genre_space = sl.TextSimilaritySpace(\n",
    "    text=movie.genres, model=\"sentence-transformers/paraphrase-MiniLM-L3-v2\"\n",
    ")\n",
    "# release date are encoded using our recency space\n",
    "# periodtimes aim to reflect notable breaks in our scores\n",
    "recency_space = sl.RecencySpace(\n",
    "    timestamp=movie.release_timestamp,\n",
    "    period_time_list=[\n",
    "        sl.PeriodTime(timedelta(days=4 * YEAR_IN_DAYS)),\n",
    "        sl.PeriodTime(timedelta(days=10 * YEAR_IN_DAYS)),\n",
    "        sl.PeriodTime(timedelta(days=40 * YEAR_IN_DAYS)),\n",
    "    ],\n",
    "    negative_filter=-0.25,\n",
    ")"
   ]
  },
  {
   "cell_type": "code",
   "execution_count": 9,
   "id": "88e05778-8ab1-49c9-922d-cd825c65b93a",
   "metadata": {},
   "outputs": [],
   "source": [
    "movie_index = sl.Index(\n",
    "    spaces=[description_space, title_space, genre_space, recency_space]\n",
    ")"
   ]
  },
  {
   "cell_type": "code",
   "execution_count": 10,
   "id": "b56927bf-503c-4f08-98c4-f5f9a49690af",
   "metadata": {},
   "outputs": [],
   "source": [
    "query_text_param = sl.Param(\"query_text\")\n",
    "\n",
    "simple_query = (\n",
    "    sl.Query(\n",
    "        movie_index,\n",
    "        weights={\n",
    "            description_space: sl.Param(\"description_weight\"),\n",
    "            title_space: sl.Param(\"title_weight\"),\n",
    "            genre_space: sl.Param(\"genre_weight\"),\n",
    "            recency_space: sl.Param(\"recency_weight\"),\n",
    "        },\n",
    "    )\n",
    "    .find(movie)\n",
    "    .similar(description_space, query_text_param)\n",
    "    .similar(title_space, query_text_param)\n",
    "    .similar(genre_space, query_text_param)\n",
    "    .limit(sl.Param(\"limit\"))\n",
    ")\n",
    "\n",
    "advanced_query = (\n",
    "    sl.Query(\n",
    "        movie_index,\n",
    "        weights={\n",
    "            description_space: sl.Param(\"description_weight\"),\n",
    "            title_space: sl.Param(\"title_weight\"),\n",
    "            genre_space: sl.Param(\"genre_weight\"),\n",
    "            recency_space: sl.Param(\"recency_weight\"),\n",
    "        },\n",
    "    )\n",
    "    .find(movie)\n",
    "    .similar(description_space, sl.Param(\"description_query_text\"))\n",
    "    .similar(title_space, sl.Param(\"title_query_text\"))\n",
    "    .similar(genre_space, sl.Param(\"genre_query_text\"))\n",
    "    .limit(sl.Param(\"limit\"))\n",
    ")"
   ]
  },
  {
   "cell_type": "code",
   "execution_count": 11,
   "id": "22069eb1-16d6-40db-b5ba-127fa1efa86e",
   "metadata": {},
   "outputs": [],
   "source": [
    "df_parser = sl.DataFrameParser(\n",
    "    schema=movie, mapping={movie.release_timestamp: \"timestamp\"}\n",
    ")"
   ]
  },
  {
   "cell_type": "code",
   "execution_count": 12,
   "id": "14335931-ba95-45ec-8cb6-19f5e4905fbd",
   "metadata": {},
   "outputs": [],
   "source": [
    "source: sl.InMemorySource = sl.InMemorySource(movie, parser=df_parser)\n",
    "executor: sl.InMemoryExecutor = sl.InMemoryExecutor(\n",
    "    sources=[source], indices=[movie_index], context_data=EXECUTOR_DATA\n",
    ")\n",
    "app: sl.InMemoryApp = executor.run()"
   ]
  },
  {
   "cell_type": "code",
   "execution_count": 13,
   "id": "683cbd59-0744-4cd9-9a36-18814be79760",
   "metadata": {},
   "outputs": [],
   "source": [
    "source.put([movie_df])"
   ]
  },
  {
   "cell_type": "markdown",
   "id": "09bcc1e1-91d1-400f-87c9-bfcda1bddded",
   "metadata": {},
   "source": [
    "## Understanding recency"
   ]
  },
  {
   "cell_type": "markdown",
   "id": "576214c2-8303-45d0-a5ae-8cffe5e70e42",
   "metadata": {},
   "source": [
    "Recency can seem quite complex at first, let's see how the score looks like for the relevant time periods"
   ]
  },
  {
   "cell_type": "code",
   "execution_count": 14,
   "id": "0bd07652-ebd9-4676-97b2-96eecd0b6089",
   "metadata": {},
   "outputs": [
    {
     "data": {
      "application/vnd.vegalite.v5+json": {
       "$schema": "https://vega.github.io/schema/vega-lite/v5.16.3.json",
       "config": {
        "view": {
         "continuousHeight": 300,
         "continuousWidth": 300
        }
       },
       "data": {
        "name": "data-84741a471811e5fdbd9cfa83a71eee9b"
       },
       "datasets": {
        "data-84741a471811e5fdbd9cfa83a71eee9b": [
         {
          "date": "1979-01-11T23:59:00",
          "score": -0.25
         },
         {
          "date": "1979-01-28T01:48:32.972973",
          "score": -0.25
         },
         {
          "date": "1979-02-13T03:38:05.945946",
          "score": -0.25
         },
         {
          "date": "1979-03-01T05:27:38.918919",
          "score": -0.25
         },
         {
          "date": "1979-03-17T07:17:11.891892",
          "score": -0.25
         },
         {
          "date": "1979-04-02T09:06:44.864865",
          "score": -0.25
         },
         {
          "date": "1979-04-18T10:56:17.837838",
          "score": -0.25
         },
         {
          "date": "1979-05-04T12:45:50.810811",
          "score": -0.25
         },
         {
          "date": "1979-05-20T14:35:23.783784",
          "score": -0.25
         },
         {
          "date": "1979-06-05T16:24:56.756757",
          "score": -0.25
         },
         {
          "date": "1979-06-21T18:14:29.729730",
          "score": -0.25
         },
         {
          "date": "1979-07-07T20:04:02.702703",
          "score": -0.25
         },
         {
          "date": "1979-07-23T21:53:35.675676",
          "score": -0.25
         },
         {
          "date": "1979-08-08T23:43:08.648649",
          "score": -0.25
         },
         {
          "date": "1979-08-25T01:32:41.621622",
          "score": -0.25
         },
         {
          "date": "1979-09-10T03:22:14.594595",
          "score": -0.25
         },
         {
          "date": "1979-09-26T05:11:47.567568",
          "score": -0.25
         },
         {
          "date": "1979-10-12T07:01:20.540541",
          "score": -0.25
         },
         {
          "date": "1979-10-28T08:50:53.513514",
          "score": -0.25
         },
         {
          "date": "1979-11-13T10:40:26.486486",
          "score": -0.25
         },
         {
          "date": "1979-11-29T12:29:59.459459",
          "score": -0.25
         },
         {
          "date": "1979-12-15T14:19:32.432432",
          "score": -0.25
         },
         {
          "date": "1979-12-31T16:09:05.405405",
          "score": -0.25
         },
         {
          "date": "1980-01-16T17:58:38.378378",
          "score": -0.25
         },
         {
          "date": "1980-02-01T19:48:11.351351",
          "score": -0.25
         },
         {
          "date": "1980-02-17T21:37:44.324324",
          "score": -0.25
         },
         {
          "date": "1980-03-04T23:27:17.297297",
          "score": -0.25
         },
         {
          "date": "1980-03-21T01:16:50.270270",
          "score": -0.25
         },
         {
          "date": "1980-04-06T04:06:23.243243",
          "score": -0.25
         },
         {
          "date": "1980-04-22T05:55:56.216216",
          "score": -0.25
         },
         {
          "date": "1980-05-08T07:45:29.189189",
          "score": -0.25
         },
         {
          "date": "1980-05-24T09:35:02.162162",
          "score": -0.25
         },
         {
          "date": "1980-06-09T11:24:35.135135",
          "score": -0.25
         },
         {
          "date": "1980-06-25T13:14:08.108108",
          "score": -0.25
         },
         {
          "date": "1980-07-11T15:03:41.081081",
          "score": -0.25
         },
         {
          "date": "1980-07-27T16:53:14.054054",
          "score": -0.25
         },
         {
          "date": "1980-08-12T18:42:47.027027",
          "score": -0.25
         },
         {
          "date": "1980-08-28T20:32:20",
          "score": -0.25
         },
         {
          "date": "1980-09-13T22:21:52.972973",
          "score": -0.25
         },
         {
          "date": "1980-09-29T23:11:25.945946",
          "score": -0.25
         },
         {
          "date": "1980-10-16T01:00:58.918919",
          "score": -0.25
         },
         {
          "date": "1980-11-01T02:50:31.891892",
          "score": -0.25
         },
         {
          "date": "1980-11-17T04:40:04.864865",
          "score": -0.25
         },
         {
          "date": "1980-12-03T06:29:37.837838",
          "score": -0.25
         },
         {
          "date": "1980-12-19T08:19:10.810811",
          "score": -0.25
         },
         {
          "date": "1981-01-04T10:08:43.783784",
          "score": -0.25
         },
         {
          "date": "1981-01-20T11:58:16.756757",
          "score": -0.25
         },
         {
          "date": "1981-02-05T13:47:49.729730",
          "score": -0.25
         },
         {
          "date": "1981-02-21T15:37:22.702703",
          "score": -0.25
         },
         {
          "date": "1981-03-09T17:26:55.675676",
          "score": -0.25
         },
         {
          "date": "1981-03-25T19:16:28.648649",
          "score": -0.25
         },
         {
          "date": "1981-04-10T22:06:01.621622",
          "score": -0.25
         },
         {
          "date": "1981-04-26T23:55:34.594595",
          "score": -0.25
         },
         {
          "date": "1981-05-13T01:45:07.567568",
          "score": -0.25
         },
         {
          "date": "1981-05-29T03:34:40.540541",
          "score": -0.25
         },
         {
          "date": "1981-06-14T05:24:13.513514",
          "score": -0.25
         },
         {
          "date": "1981-06-30T07:13:46.486486",
          "score": -0.25
         },
         {
          "date": "1981-07-16T09:03:19.459459",
          "score": -0.25
         },
         {
          "date": "1981-08-01T10:52:52.432432",
          "score": -0.25
         },
         {
          "date": "1981-08-17T12:42:25.405405",
          "score": -0.25
         },
         {
          "date": "1981-09-02T14:31:58.378378",
          "score": -0.25
         },
         {
          "date": "1981-09-18T16:21:31.351351",
          "score": -0.25
         },
         {
          "date": "1981-10-04T17:11:04.324324",
          "score": -0.25
         },
         {
          "date": "1981-10-20T19:00:37.297297",
          "score": -0.25
         },
         {
          "date": "1981-11-05T20:50:10.270270",
          "score": -0.25
         },
         {
          "date": "1981-11-21T22:39:43.243243",
          "score": -0.25
         },
         {
          "date": "1981-12-08T00:29:16.216216",
          "score": -0.25
         },
         {
          "date": "1981-12-24T02:18:49.189189",
          "score": -0.25
         },
         {
          "date": "1982-01-09T04:08:22.162162",
          "score": -0.25
         },
         {
          "date": "1982-01-25T05:57:55.135135",
          "score": -0.25
         },
         {
          "date": "1982-02-10T07:47:28.108108",
          "score": -0.25
         },
         {
          "date": "1982-02-26T09:37:01.081081",
          "score": -0.25
         },
         {
          "date": "1982-03-14T11:26:34.054054",
          "score": -0.25
         },
         {
          "date": "1982-03-30T14:16:07.027027",
          "score": -0.25
         },
         {
          "date": "1982-04-15T16:05:40",
          "score": -0.25
         },
         {
          "date": "1982-05-01T17:55:12.972973",
          "score": -0.25
         },
         {
          "date": "1982-05-17T19:44:45.945946",
          "score": -0.25
         },
         {
          "date": "1982-06-02T21:34:18.918919",
          "score": -0.25
         },
         {
          "date": "1982-06-18T23:23:51.891892",
          "score": -0.25
         },
         {
          "date": "1982-07-05T01:13:24.864865",
          "score": -0.25
         },
         {
          "date": "1982-07-21T03:02:57.837838",
          "score": -0.25
         },
         {
          "date": "1982-08-06T04:52:30.810811",
          "score": -0.25
         },
         {
          "date": "1982-08-22T06:42:03.783784",
          "score": -0.25
         },
         {
          "date": "1982-09-07T08:31:36.756757",
          "score": -0.25
         },
         {
          "date": "1982-09-23T10:21:09.729730",
          "score": -0.25
         },
         {
          "date": "1982-10-09T11:10:42.702703",
          "score": -0.25
         },
         {
          "date": "1982-10-25T13:00:15.675676",
          "score": -0.25
         },
         {
          "date": "1982-11-10T14:49:48.648649",
          "score": -0.25
         },
         {
          "date": "1982-11-26T16:39:21.621622",
          "score": -0.25
         },
         {
          "date": "1982-12-12T18:28:54.594595",
          "score": -0.25
         },
         {
          "date": "1982-12-28T20:18:27.567568",
          "score": -0.25
         },
         {
          "date": "1983-01-13T22:08:00.540541",
          "score": 0.00010482457797165618
         },
         {
          "date": "1983-01-29T23:57:33.513514",
          "score": 0.0006813592935629607
         },
         {
          "date": "1983-02-15T01:47:06.486486",
          "score": 0.0012578919708440244
         },
         {
          "date": "1983-03-03T03:36:39.459459",
          "score": 0.0018344208850979262
         },
         {
          "date": "1983-03-19T05:26:12.432432",
          "score": 0.0024109443116181396
         },
         {
          "date": "1983-04-04T08:15:45.405405",
          "score": 0.0029874605257147785
         },
         {
          "date": "1983-04-20T10:05:18.378378",
          "score": 0.003563967802719795
         },
         {
          "date": "1983-05-06T11:54:51.351351",
          "score": 0.004140464417991921
         },
         {
          "date": "1983-05-22T13:44:24.324324",
          "score": 0.004716948646920745
         },
         {
          "date": "1983-06-07T15:33:57.297297",
          "score": 0.00529341876493418
         },
         {
          "date": "1983-06-23T17:23:30.270270",
          "score": 0.005869873047502037
         },
         {
          "date": "1983-07-09T19:13:03.243243",
          "score": 0.006446309770141059
         },
         {
          "date": "1983-07-25T21:02:36.216216",
          "score": 0.007022727208421076
         },
         {
          "date": "1983-08-10T22:52:09.189189",
          "score": 0.007599123637969206
         },
         {
          "date": "1983-08-27T00:41:42.162162",
          "score": 0.008175497334475404
         },
         {
          "date": "1983-09-12T02:31:15.135135",
          "score": 0.008751846573698364
         },
         {
          "date": "1983-09-28T03:20:48.108108",
          "score": 0.009328169631468493
         },
         {
          "date": "1983-10-14T05:10:21.081081",
          "score": 0.009904464783695955
         },
         {
          "date": "1983-10-30T06:59:54.054054",
          "score": 0.01048073030637351
         },
         {
          "date": "1983-11-15T08:49:27.027027",
          "score": 0.011056964475583216
         },
         {
          "date": "1983-12-01T10:39:00",
          "score": 0.011633165567500225
         },
         {
          "date": "1983-12-17T12:28:32.972973",
          "score": 0.012209331858399206
         },
         {
          "date": "1984-01-02T14:18:05.945946",
          "score": 0.01278546162465883
         },
         {
          "date": "1984-01-18T16:07:38.918919",
          "score": 0.013361553142766807
         },
         {
          "date": "1984-02-03T17:57:11.891892",
          "score": 0.013937604689325214
         },
         {
          "date": "1984-02-19T19:46:44.864865",
          "score": 0.014513614541056048
         },
         {
          "date": "1984-03-06T21:36:17.837838",
          "score": 0.015089580974806492
         },
         {
          "date": "1984-03-22T23:25:50.810811",
          "score": 0.015665502267551784
         },
         {
          "date": "1984-04-08T02:15:23.783784",
          "score": 0.016241376696403954
         },
         {
          "date": "1984-04-24T04:04:56.756757",
          "score": 0.01681720253861492
         },
         {
          "date": "1984-05-10T05:54:29.729730",
          "score": 0.017392978071581522
         },
         {
          "date": "1984-05-26T07:44:02.702703",
          "score": 0.017968701572851124
         },
         {
          "date": "1984-06-11T09:33:35.675676",
          "score": 0.01854437132012713
         },
         {
          "date": "1984-06-27T11:23:08.648649",
          "score": 0.019119985591273606
         },
         {
          "date": "1984-07-13T13:12:41.621622",
          "score": 0.019695542664320713
         },
         {
          "date": "1984-07-29T15:02:14.594595",
          "score": 0.02027104081746872
         },
         {
          "date": "1984-08-14T16:51:47.567568",
          "score": 0.020846478329095607
         },
         {
          "date": "1984-08-30T18:41:20.540541",
          "score": 0.021421853477759923
         },
         {
          "date": "1984-09-15T20:30:53.513514",
          "score": 0.02199716454220683
         },
         {
          "date": "1984-10-01T21:20:26.486486",
          "score": 0.02257240980137347
         },
         {
          "date": "1984-10-17T23:09:59.459459",
          "score": 0.023147587534393874
         },
         {
          "date": "1984-11-03T00:59:32.432432",
          "score": 0.023722696020603628
         },
         {
          "date": "1984-11-19T02:49:05.405405",
          "score": 0.02429773353954602
         },
         {
          "date": "1984-12-05T04:38:38.378378",
          "score": 0.024872698370976106
         },
         {
          "date": "1984-12-21T06:28:11.351351",
          "score": 0.025447588794867262
         },
         {
          "date": "1985-01-06T08:17:44.324324",
          "score": 0.026022403091414122
         },
         {
          "date": "1985-01-22T10:07:17.297297",
          "score": 0.026597139541039913
         },
         {
          "date": "1985-02-07T11:56:50.270270",
          "score": 0.027171796424400877
         },
         {
          "date": "1985-02-23T13:46:23.243243",
          "score": 0.02774637202239086
         },
         {
          "date": "1985-03-11T15:35:56.216216",
          "score": 0.02832086461614722
         },
         {
          "date": "1985-03-27T17:25:29.189189",
          "score": 0.028895272487055205
         },
         {
          "date": "1985-04-12T20:15:02.162162",
          "score": 0.0294695939167539
         },
         {
          "date": "1985-04-28T22:04:35.135135",
          "score": 0.030043827187141377
         },
         {
          "date": "1985-05-14T23:54:08.108108",
          "score": 0.03061797058037783
         },
         {
          "date": "1985-05-31T01:43:41.081081",
          "score": 0.031192022378893895
         },
         {
          "date": "1985-06-16T03:33:14.054054",
          "score": 0.03176598086539393
         },
         {
          "date": "1985-07-02T05:22:47.027027",
          "score": 0.03233984432286102
         },
         {
          "date": "1985-07-18T07:12:20",
          "score": 0.03291361103456243
         },
         {
          "date": "1985-08-03T09:01:52.972973",
          "score": 0.033487279284055836
         },
         {
          "date": "1985-08-19T10:51:25.945946",
          "score": 0.034060847355192395
         },
         {
          "date": "1985-09-04T12:40:58.918919",
          "score": 0.03463431353212326
         },
         {
          "date": "1985-09-20T14:30:31.891892",
          "score": 0.035207676099304724
         },
         {
          "date": "1985-10-06T15:20:04.864865",
          "score": 0.035780933341502966
         },
         {
          "date": "1985-10-22T17:09:37.837838",
          "score": 0.0363540835437985
         },
         {
          "date": "1985-11-07T18:59:10.810811",
          "score": 0.03692712499159262
         },
         {
          "date": "1985-11-23T20:48:43.783784",
          "score": 0.037500055970612504
         },
         {
          "date": "1985-12-09T22:38:16.756757",
          "score": 0.038072874766915066
         },
         {
          "date": "1985-12-26T00:27:49.729730",
          "score": 0.038645579666892804
         },
         {
          "date": "1986-01-11T02:17:22.702703",
          "score": 0.03921816895727946
         },
         {
          "date": "1986-01-27T04:06:55.675676",
          "score": 0.039790640925154025
         },
         {
          "date": "1986-02-12T05:56:28.648649",
          "score": 0.04036299385794697
         },
         {
          "date": "1986-02-28T07:46:01.621622",
          "score": 0.04093522604344504
         },
         {
          "date": "1986-03-16T09:35:34.594595",
          "score": 0.04150733576979509
         },
         {
          "date": "1986-04-01T12:25:07.567568",
          "score": 0.04207932132551134
         },
         {
          "date": "1986-04-17T14:14:40.540541",
          "score": 0.04265118099947904
         },
         {
          "date": "1986-05-03T16:04:13.513514",
          "score": 0.043222913080960414
         },
         {
          "date": "1986-05-19T17:53:46.486486",
          "score": 0.043794515859598815
         },
         {
          "date": "1986-06-04T19:43:19.459459",
          "score": 0.04436598762542494
         },
         {
          "date": "1986-06-20T21:32:52.432432",
          "score": 0.04493732666886127
         },
         {
          "date": "1986-07-06T23:22:25.405405",
          "score": 0.04550853128072697
         },
         {
          "date": "1986-07-23T01:11:58.378378",
          "score": 0.04607959975224396
         },
         {
          "date": "1986-08-08T03:01:31.351351",
          "score": 0.04665053037504123
         },
         {
          "date": "1986-08-24T04:51:04.324324",
          "score": 0.04722132144115949
         },
         {
          "date": "1986-09-09T06:40:37.297297",
          "score": 0.047791971243057556
         },
         {
          "date": "1986-09-25T08:30:10.270270",
          "score": 0.048362478073616946
         },
         {
          "date": "1986-10-11T09:19:43.243243",
          "score": 0.048932840226146856
         },
         {
          "date": "1986-10-27T11:09:16.216216",
          "score": 0.049503055994388825
         },
         {
          "date": "1986-11-12T12:58:49.189189",
          "score": 0.05007312367252295
         },
         {
          "date": "1986-11-28T14:48:22.162162",
          "score": 0.050643041555171665
         },
         {
          "date": "1986-12-14T16:37:55.135135",
          "score": 0.051212807937406485
         },
         {
          "date": "1986-12-30T18:27:28.108108",
          "score": 0.05178242111475062
         },
         {
          "date": "1987-01-15T20:17:01.081081",
          "score": 0.052351879383187125
         },
         {
          "date": "1987-01-31T22:06:34.054054",
          "score": 0.05292118103916167
         },
         {
          "date": "1987-02-16T23:56:07.027027",
          "score": 0.0534903243795885
         },
         {
          "date": "1987-03-05T01:45:40",
          "score": 0.054059307701855665
         },
         {
          "date": "1987-03-21T03:35:12.972973",
          "score": 0.054628129303830104
         },
         {
          "date": "1987-04-06T06:24:45.945946",
          "score": 0.05519678748386186
         },
         {
          "date": "1987-04-22T08:14:18.918919",
          "score": 0.055765280540790614
         },
         {
          "date": "1987-05-08T10:03:51.891892",
          "score": 0.056333606773949545
         },
         {
          "date": "1987-05-24T11:53:24.864865",
          "score": 0.05690176448317075
         },
         {
          "date": "1987-06-09T13:42:57.837838",
          "score": 0.05746975196879171
         },
         {
          "date": "1987-06-25T15:32:30.810811",
          "score": 0.058037567531656925
         },
         {
          "date": "1987-07-11T17:22:03.783784",
          "score": 0.058605209473127126
         },
         {
          "date": "1987-07-27T19:11:36.756757",
          "score": 0.059172676095081506
         },
         {
          "date": "1987-08-12T21:01:09.729730",
          "score": 0.059739965699924284
         },
         {
          "date": "1987-08-28T22:50:42.702703",
          "score": 0.06030707659058879
         },
         {
          "date": "1987-09-14T00:40:15.675676",
          "score": 0.06087400707054286
         },
         {
          "date": "1987-09-30T01:29:48.648649",
          "score": 0.0614407554437953
         },
         {
          "date": "1987-10-16T03:19:21.621622",
          "score": 0.06200732001489742
         },
         {
          "date": "1987-11-01T05:08:54.594595",
          "score": 0.0625736990889524
         },
         {
          "date": "1987-11-17T06:58:27.567568",
          "score": 0.0631398909716173
         },
         {
          "date": "1987-12-03T08:48:00.540541",
          "score": 0.06370589396910975
         },
         {
          "date": "1987-12-19T10:37:33.513514",
          "score": 0.06427170638821189
         },
         {
          "date": "1988-01-04T12:27:06.486486",
          "score": 0.06483732653627643
         },
         {
          "date": "1988-01-20T14:16:39.459460",
          "score": 0.06540275272123121
         },
         {
          "date": "1988-02-05T16:06:12.432432",
          "score": 0.06596798325158387
         },
         {
          "date": "1988-02-21T17:55:45.405405",
          "score": 0.06653301643642803
         },
         {
          "date": "1988-03-08T19:45:18.378378",
          "score": 0.06709785058544715
         },
         {
          "date": "1988-03-24T21:34:51.351351",
          "score": 0.06766248400892061
         },
         {
          "date": "1988-04-10T00:24:24.324324",
          "score": 0.06822691501772722
         },
         {
          "date": "1988-04-26T02:13:57.297297",
          "score": 0.06879114192335246
         },
         {
          "date": "1988-05-12T04:03:30.270270",
          "score": 0.06935516303789213
         },
         {
          "date": "1988-05-28T05:53:03.243243",
          "score": 0.06991897667405729
         },
         {
          "date": "1988-06-13T07:42:36.216216",
          "score": 0.0704825811451801
         },
         {
          "date": "1988-06-29T09:32:09.189189",
          "score": 0.07104597476521804
         },
         {
          "date": "1988-07-15T11:21:42.162162",
          "score": 0.07160915584875965
         },
         {
          "date": "1988-07-31T13:11:15.135135",
          "score": 0.07217212271102966
         },
         {
          "date": "1988-08-16T15:00:48.108108",
          "score": 0.07273487366789246
         },
         {
          "date": "1988-09-01T16:50:21.081081",
          "score": 0.07329740703585934
         },
         {
          "date": "1988-09-17T18:39:54.054054",
          "score": 0.07385972113209206
         },
         {
          "date": "1988-10-03T19:29:27.027027",
          "score": 0.07442181427440885
         },
         {
          "date": "1988-10-19T21:19:00",
          "score": 0.07498368478128825
         },
         {
          "date": "1988-11-04T23:08:32.972973",
          "score": 0.07554533097187534
         },
         {
          "date": "1988-11-21T00:58:05.945946",
          "score": 0.07610675116598621
         },
         {
          "date": "1988-12-07T02:47:38.918919",
          "score": 0.07666794368411275
         },
         {
          "date": "1988-12-23T04:37:11.891892",
          "score": 0.0772289068474279
         },
         {
          "date": "1989-01-08T06:26:44.864865",
          "score": 0.07778963897779112
         },
         {
          "date": "1989-01-24T08:16:17.837838",
          "score": 0.07835013839775332
         },
         {
          "date": "1989-02-09T10:05:50.810811",
          "score": 0.07891040343055995
         },
         {
          "date": "1989-02-25T11:55:23.783784",
          "score": 0.0794704324001593
         },
         {
          "date": "1989-03-13T13:44:56.756757",
          "score": 0.08003022363120545
         },
         {
          "date": "1989-03-29T16:34:29.729730",
          "score": 0.08058977544906334
         },
         {
          "date": "1989-04-14T18:24:02.702703",
          "score": 0.08114908617981423
         },
         {
          "date": "1989-04-30T20:13:35.675676",
          "score": 0.08170815415026078
         },
         {
          "date": "1989-05-16T22:03:08.648649",
          "score": 0.08226697768793237
         },
         {
          "date": "1989-06-01T23:52:41.621622",
          "score": 0.08282555512108783
         },
         {
          "date": "1989-06-18T01:42:14.594595",
          "score": 0.08338388477872404
         },
         {
          "date": "1989-07-04T03:31:47.567568",
          "score": 0.0839419649905786
         },
         {
          "date": "1989-07-20T05:21:20.540541",
          "score": 0.0844997940871349
         },
         {
          "date": "1989-08-05T07:10:53.513514",
          "score": 0.08505737039962813
         },
         {
          "date": "1989-08-21T09:00:26.486486",
          "score": 0.0856146922600492
         },
         {
          "date": "1989-09-06T10:49:59.459460",
          "score": 0.08617175800115068
         },
         {
          "date": "1989-09-22T12:39:32.432432",
          "score": 0.08672856595645083
         },
         {
          "date": "1989-10-08T13:29:05.405405",
          "score": 0.08728511446023964
         },
         {
          "date": "1989-10-24T15:18:38.378378",
          "score": 0.08784140184758267
         },
         {
          "date": "1989-11-09T17:08:11.351351",
          "score": 0.08839742645432752
         },
         {
          "date": "1989-11-25T18:57:44.324324",
          "score": 0.08895318661710654
         },
         {
          "date": "1989-12-11T20:47:17.297297",
          "score": 0.08950868067334407
         },
         {
          "date": "1989-12-27T22:36:50.270270",
          "score": 0.0900639069612606
         },
         {
          "date": "1990-01-13T00:26:23.243243",
          "score": 0.09061886381987753
         },
         {
          "date": "1990-01-29T02:15:56.216216",
          "score": 0.0911735495890221
         },
         {
          "date": "1990-02-14T04:05:29.189189",
          "score": 0.09172796260933237
         },
         {
          "date": "1990-03-02T05:55:02.162162",
          "score": 0.09228210122226278
         },
         {
          "date": "1990-03-18T07:44:35.135135",
          "score": 0.09283596377008882
         },
         {
          "date": "1990-04-03T10:34:08.108108",
          "score": 0.09338954859591088
         },
         {
          "date": "1990-04-19T12:23:41.081081",
          "score": 0.0939428540436608
         },
         {
          "date": "1990-05-05T14:13:14.054054",
          "score": 0.09449587845810649
         },
         {
          "date": "1990-05-21T16:02:47.027027",
          "score": 0.09504862018485608
         },
         {
          "date": "1990-06-06T17:52:20",
          "score": 0.09560107757036326
         },
         {
          "date": "1990-06-22T19:41:52.972973",
          "score": 0.09615324896193317
         },
         {
          "date": "1990-07-08T21:31:25.945946",
          "score": 0.09670513270772568
         },
         {
          "date": "1990-07-24T23:20:58.918919",
          "score": 0.09725672715676129
         },
         {
          "date": "1990-08-10T01:10:31.891892",
          "score": 0.09780803065892635
         },
         {
          "date": "1990-08-26T03:00:04.864865",
          "score": 0.09835904156497706
         },
         {
          "date": "1990-09-11T04:49:37.837838",
          "score": 0.09890975822654575
         },
         {
          "date": "1990-09-27T06:39:10.810811",
          "score": 0.09946017899614358
         },
         {
          "date": "1990-10-13T07:28:43.783784",
          "score": 0.10001030222716835
         },
         {
          "date": "1990-10-29T09:18:16.756757",
          "score": 0.10056012627390712
         },
         {
          "date": "1990-11-14T11:07:49.729730",
          "score": 0.10110964949154214
         },
         {
          "date": "1990-11-30T12:57:22.702703",
          "score": 0.10165887023615587
         },
         {
          "date": "1990-12-16T14:46:55.675676",
          "score": 0.10220778686473518
         },
         {
          "date": "1991-01-01T16:36:28.648649",
          "score": 0.10275639773517747
         },
         {
          "date": "1991-01-17T18:26:01.621622",
          "score": 0.10330470120629348
         },
         {
          "date": "1991-02-02T20:15:34.594595",
          "score": 0.10385269563781493
         },
         {
          "date": "1991-02-18T22:05:07.567568",
          "score": 0.10440037939039719
         },
         {
          "date": "1991-03-06T23:54:40.540541",
          "score": 0.10494775082562567
         },
         {
          "date": "1991-03-23T01:44:13.513514",
          "score": 0.10549480830601951
         },
         {
          "date": "1991-04-08T04:33:46.486486",
          "score": 0.10604155019503722
         },
         {
          "date": "1991-04-24T06:23:19.459460",
          "score": 0.10658797485708162
         },
         {
          "date": "1991-05-10T08:12:52.432432",
          "score": 0.1071340806575045
         },
         {
          "date": "1991-05-26T10:02:25.405405",
          "score": 0.10767986596261114
         },
         {
          "date": "1991-06-11T11:51:58.378378",
          "score": 0.10822532913966625
         },
         {
          "date": "1991-06-27T13:41:31.351351",
          "score": 0.1087704685568979
         },
         {
          "date": "1991-07-13T15:31:04.324324",
          "score": 0.1093152825835019
         },
         {
          "date": "1991-07-29T17:20:37.297297",
          "score": 0.10985976958964862
         },
         {
          "date": "1991-08-14T19:10:10.270270",
          "score": 0.11040392794648653
         },
         {
          "date": "1991-08-30T20:59:43.243243",
          "score": 0.11094775602614684
         },
         {
          "date": "1991-09-15T22:49:16.216216",
          "score": 0.11149125220174888
         },
         {
          "date": "1991-10-01T23:38:49.189189",
          "score": 0.11203441484740514
         },
         {
          "date": "1991-10-18T01:28:22.162162",
          "score": 0.11257724233822586
         },
         {
          "date": "1991-11-03T03:17:55.135135",
          "score": 0.11311973305032393
         },
         {
          "date": "1991-11-19T05:07:28.108108",
          "score": 0.11366188536081889
         },
         {
          "date": "1991-12-05T06:57:01.081081",
          "score": 0.11420369764784384
         },
         {
          "date": "1991-12-21T08:46:34.054054",
          "score": 0.11474516829054845
         },
         {
          "date": "1992-01-06T10:36:07.027027",
          "score": 0.11528629566910432
         },
         {
          "date": "1992-01-22T12:25:40",
          "score": 0.11582707816471036
         },
         {
          "date": "1992-02-07T14:15:12.972973",
          "score": 0.11636751415959705
         },
         {
          "date": "1992-02-23T16:04:45.945946",
          "score": 0.11690760203703116
         },
         {
          "date": "1992-03-10T17:54:18.918919",
          "score": 0.1174473401813213
         },
         {
          "date": "1992-03-26T19:43:51.891892",
          "score": 0.11798672697782199
         },
         {
          "date": "1992-04-11T22:33:24.864865",
          "score": 0.11852576081293868
         },
         {
          "date": "1992-04-28T00:22:57.837838",
          "score": 0.11906444007413393
         },
         {
          "date": "1992-05-14T02:12:30.810811",
          "score": 0.11960276314992879
         },
         {
          "date": "1992-05-30T04:02:03.783784",
          "score": 0.12014072842991178
         },
         {
          "date": "1992-06-15T05:51:36.756757",
          "score": 0.12067833430474088
         },
         {
          "date": "1992-07-01T07:41:09.729730",
          "score": 0.12121557916614976
         },
         {
          "date": "1992-07-17T09:30:42.702703",
          "score": 0.12175246140695155
         },
         {
          "date": "1992-08-02T11:20:15.675676",
          "score": 0.12228897942104444
         },
         {
          "date": "1992-08-18T13:09:48.648649",
          "score": 0.12282513160341686
         },
         {
          "date": "1992-09-03T14:59:21.621622",
          "score": 0.1233609163501498
         },
         {
          "date": "1992-09-19T16:48:54.594595",
          "score": 0.12389633205842518
         },
         {
          "date": "1992-10-05T17:38:27.567568",
          "score": 0.12443137712652855
         },
         {
          "date": "1992-10-21T19:28:00.540541",
          "score": 0.1249660499538538
         },
         {
          "date": "1992-11-06T21:17:33.513514",
          "score": 0.12550034894090856
         },
         {
          "date": "1992-11-22T23:07:06.486486",
          "score": 0.12603427248931917
         },
         {
          "date": "1992-12-09T00:56:39.459460",
          "score": 0.12656781900183467
         },
         {
          "date": "1992-12-25T02:46:12.432432",
          "score": 0.1271009868823319
         },
         {
          "date": "1993-01-10T04:35:45.405405",
          "score": 0.12763377453582103
         },
         {
          "date": "1993-01-26T06:25:18.378378",
          "score": 0.12816618036844943
         },
         {
          "date": "1993-02-11T08:14:51.351351",
          "score": 0.12869820278750674
         },
         {
          "date": "1993-02-27T10:04:24.324324",
          "score": 0.12922984020142864
         },
         {
          "date": "1993-03-15T11:53:57.297297",
          "score": 0.12976109101980393
         },
         {
          "date": "1993-03-31T14:43:30.270270",
          "score": 0.13029195365337717
         },
         {
          "date": "1993-04-16T16:33:03.243243",
          "score": 0.1308224265140545
         },
         {
          "date": "1993-05-02T18:22:36.216216",
          "score": 0.13135250801490794
         },
         {
          "date": "1993-05-18T20:12:09.189189",
          "score": 0.13188219657018055
         },
         {
          "date": "1993-06-03T22:01:42.162162",
          "score": 0.13241149059529023
         },
         {
          "date": "1993-06-19T23:51:15.135135",
          "score": 0.1329403885068364
         },
         {
          "date": "1993-07-06T01:40:48.108108",
          "score": 0.13346888872260154
         },
         {
          "date": "1993-07-22T03:30:21.081081",
          "score": 0.1339969896615592
         },
         {
          "date": "1993-08-07T05:19:54.054054",
          "score": 0.13452468974387724
         },
         {
          "date": "1993-08-23T07:09:27.027027",
          "score": 0.13505198739092286
         },
         {
          "date": "1993-09-08T08:59:00",
          "score": 0.13557888102526666
         },
         {
          "date": "1993-09-24T10:48:32.972973",
          "score": 0.13610536907068796
         },
         {
          "date": "1993-10-10T11:38:05.945946",
          "score": 0.1366314499521797
         },
         {
          "date": "1993-10-26T13:27:38.918919",
          "score": 0.13715712209595263
         },
         {
          "date": "1993-11-11T15:17:11.891892",
          "score": 0.1376823839294401
         },
         {
          "date": "1993-11-27T17:06:44.864865",
          "score": 0.13820723388130346
         },
         {
          "date": "1993-12-13T18:56:17.837838",
          "score": 0.13873167038143588
         },
         {
          "date": "1993-12-29T20:45:50.810811",
          "score": 0.13925569186096712
         },
         {
          "date": "1994-01-14T22:35:23.783784",
          "score": 0.13977929675226874
         },
         {
          "date": "1994-01-31T00:24:56.756757",
          "score": 0.1403024834889588
         },
         {
          "date": "1994-02-16T02:14:29.729730",
          "score": 0.14082525050590586
         },
         {
          "date": "1994-03-04T04:04:02.702703",
          "score": 0.14134759623923446
         },
         {
          "date": "1994-03-20T05:53:35.675676",
          "score": 0.14186951912632909
         },
         {
          "date": "1994-04-05T08:43:08.648649",
          "score": 0.14239101760583953
         },
         {
          "date": "1994-04-21T10:32:41.621622",
          "score": 0.1429120901176847
         },
         {
          "date": "1994-05-07T12:22:14.594595",
          "score": 0.14343273510305812
         },
         {
          "date": "1994-05-23T14:11:47.567568",
          "score": 0.1439529510044325
         },
         {
          "date": "1994-06-08T16:01:20.540541",
          "score": 0.1444727362655638
         },
         {
          "date": "1994-06-24T17:50:53.513514",
          "score": 0.14499208933149652
         },
         {
          "date": "1994-07-10T19:40:26.486486",
          "score": 0.1455110086485679
         },
         {
          "date": "1994-07-26T21:29:59.459460",
          "score": 0.14602949266441262
         },
         {
          "date": "1994-08-11T23:19:32.432432",
          "score": 0.1465475398279678
         },
         {
          "date": "1994-08-28T01:09:05.405405",
          "score": 0.14706514858947786
         },
         {
          "date": "1994-09-13T02:58:38.378378",
          "score": 0.1475823174004979
         },
         {
          "date": "1994-09-29T03:48:11.351351",
          "score": 0.14809904471389979
         },
         {
          "date": "1994-10-15T05:37:44.324324",
          "score": 0.14861532898387533
         },
         {
          "date": "1994-10-31T07:27:17.297297",
          "score": 0.14913116866594248
         },
         {
          "date": "1994-11-16T09:16:50.270270",
          "score": 0.1496465622169488
         },
         {
          "date": "1994-12-02T11:06:23.243243",
          "score": 0.15016150809507667
         },
         {
          "date": "1994-12-18T12:55:56.216216",
          "score": 0.15067600475984802
         },
         {
          "date": "1995-01-03T14:45:29.189189",
          "score": 0.1511900506721278
         },
         {
          "date": "1995-01-19T16:35:02.162162",
          "score": 0.15170364429413016
         },
         {
          "date": "1995-02-04T18:24:35.135135",
          "score": 0.15221678408942224
         },
         {
          "date": "1995-02-20T20:14:08.108108",
          "score": 0.1527294685229276
         },
         {
          "date": "1995-03-08T22:03:41.081081",
          "score": 0.1532416960609337
         },
         {
          "date": "1995-03-24T23:53:14.054054",
          "score": 0.15375346517109365
         },
         {
          "date": "1995-04-10T02:42:47.027027",
          "score": 0.15426477432243296
         },
         {
          "date": "1995-04-26T04:32:20",
          "score": 0.1547756219853522
         },
         {
          "date": "1995-05-12T06:21:52.972973",
          "score": 0.1552860066316331
         },
         {
          "date": "1995-05-28T08:11:25.945946",
          "score": 0.15579592673444223
         },
         {
          "date": "1995-06-13T10:00:58.918919",
          "score": 0.15630538076833578
         },
         {
          "date": "1995-06-29T11:50:31.891892",
          "score": 0.15681436720926456
         },
         {
          "date": "1995-07-15T13:40:04.864865",
          "score": 0.15732288453457774
         },
         {
          "date": "1995-07-31T15:29:37.837838",
          "score": 0.15783093122302866
         },
         {
          "date": "1995-08-16T17:19:10.810811",
          "score": 0.15833850575477726
         },
         {
          "date": "1995-09-01T19:08:43.783784",
          "score": 0.15884560661139727
         },
         {
          "date": "1995-09-17T20:58:16.756757",
          "score": 0.1593522322758786
         },
         {
          "date": "1995-10-03T21:47:49.729730",
          "score": 0.15985838123263327
         },
         {
          "date": "1995-10-19T23:37:22.702703",
          "score": 0.16036405196749903
         },
         {
          "date": "1995-11-05T01:26:55.675676",
          "score": 0.16086924296774419
         },
         {
          "date": "1995-11-21T03:16:28.648649",
          "score": 0.16137395272207292
         },
         {
          "date": "1995-12-07T05:06:01.621622",
          "score": 0.16187817972062768
         },
         {
          "date": "1995-12-23T06:55:34.594595",
          "score": 0.16238192245499644
         },
         {
          "date": "1996-01-08T08:45:07.567568",
          "score": 0.16288517941821512
         },
         {
          "date": "1996-01-24T10:34:40.540541",
          "score": 0.1633879491047733
         },
         {
          "date": "1996-02-09T12:24:13.513514",
          "score": 0.16389023001061792
         },
         {
          "date": "1996-02-25T14:13:46.486487",
          "score": 0.16439202063315808
         },
         {
          "date": "1996-03-12T16:03:19.459459",
          "score": 0.1648933194712701
         },
         {
          "date": "1996-03-28T17:52:52.432432",
          "score": 0.16539412502530057
         },
         {
          "date": "1996-04-13T20:42:25.405405",
          "score": 0.16589443579707297
         },
         {
          "date": "1996-04-29T22:31:58.378378",
          "score": 0.16639425028988983
         },
         {
          "date": "1996-05-16T00:21:31.351351",
          "score": 0.16689356700853944
         },
         {
          "date": "1996-06-01T02:11:04.324324",
          "score": 0.16739238445929766
         },
         {
          "date": "1996-06-17T04:00:37.297297",
          "score": 0.16789070114993496
         },
         {
          "date": "1996-07-03T05:50:10.270270",
          "score": 0.16838851558972
         },
         {
          "date": "1996-07-19T07:39:43.243243",
          "score": 0.16888582628942325
         },
         {
          "date": "1996-08-04T09:29:16.216216",
          "score": 0.1693826317613229
         },
         {
          "date": "1996-08-20T11:18:49.189189",
          "score": 0.16987893051920808
         },
         {
          "date": "1996-09-05T13:08:22.162162",
          "score": 0.17037472107838383
         },
         {
          "date": "1996-09-21T14:57:55.135135",
          "score": 0.17087000195567573
         },
         {
          "date": "1996-10-07T16:47:28.108108",
          "score": 0.1713647716694333
         },
         {
          "date": "1996-10-23T18:37:01.081081",
          "score": 0.1718590287395359
         },
         {
          "date": "1996-11-08T19:26:34.054054",
          "score": 0.17235277168739677
         },
         {
          "date": "1996-11-24T21:16:07.027027",
          "score": 0.17284599903596642
         },
         {
          "date": "1996-12-10T23:05:40",
          "score": 0.1733387093097384
         },
         {
          "date": "1996-12-27T00:55:12.972973",
          "score": 0.17383090103475274
         },
         {
          "date": "1997-01-12T02:44:45.945946",
          "score": 0.17432257273860066
         },
         {
          "date": "1997-01-28T04:34:18.918919",
          "score": 0.17481372295042952
         },
         {
          "date": "1997-02-13T06:23:51.891892",
          "score": 0.17530435020094615
         },
         {
          "date": "1997-03-01T08:13:24.864865",
          "score": 0.17579445302242241
         },
         {
          "date": "1997-03-17T10:02:57.837838",
          "score": 0.17628402994869866
         },
         {
          "date": "1997-04-02T12:52:30.810811",
          "score": 0.17677307951518834
         },
         {
          "date": "1997-04-18T14:42:03.783784",
          "score": 0.17726160025888282
         },
         {
          "date": "1997-05-04T16:31:36.756757",
          "score": 0.1777495907183553
         },
         {
          "date": "1997-05-20T18:21:09.729730",
          "score": 0.17823704943376556
         },
         {
          "date": "1997-06-05T20:10:42.702703",
          "score": 0.17872397494686382
         },
         {
          "date": "1997-06-21T22:00:15.675676",
          "score": 0.17921036580099564
         },
         {
          "date": "1997-07-07T23:49:48.648649",
          "score": 0.17969622054110596
         },
         {
          "date": "1997-07-24T01:39:21.621622",
          "score": 0.1801815377137434
         },
         {
          "date": "1997-08-09T03:28:54.594595",
          "score": 0.18066631586706464
         },
         {
          "date": "1997-08-25T05:18:27.567568",
          "score": 0.18115055355083928
         },
         {
          "date": "1997-09-10T07:08:00.540541",
          "score": 0.18163424931645342
         },
         {
          "date": "1997-09-26T08:57:33.513514",
          "score": 0.18211740171691432
         },
         {
          "date": "1997-10-12T10:47:06.486487",
          "score": 0.182600009306855
         },
         {
          "date": "1997-10-28T11:36:39.459459",
          "score": 0.18308207064253804
         },
         {
          "date": "1997-11-13T13:26:12.432432",
          "score": 0.18356358428185998
         },
         {
          "date": "1997-11-29T15:15:45.405405",
          "score": 0.1840445487843565
         },
         {
          "date": "1997-12-15T17:05:18.378378",
          "score": 0.18452496271120555
         },
         {
          "date": "1997-12-31T18:54:51.351351",
          "score": 0.18500482462523252
         },
         {
          "date": "1998-01-16T20:44:24.324324",
          "score": 0.1854841330909129
         },
         {
          "date": "1998-02-01T22:33:57.297297",
          "score": 0.18596288667437957
         },
         {
          "date": "1998-02-18T00:23:30.270270",
          "score": 0.18644108394342424
         },
         {
          "date": "1998-03-06T02:13:03.243243",
          "score": 0.1869187234675032
         },
         {
          "date": "1998-03-22T04:02:36.216216",
          "score": 0.18739580381774165
         },
         {
          "date": "1998-04-07T06:52:09.189189",
          "score": 0.18787232356693692
         },
         {
          "date": "1998-04-23T08:41:42.162162",
          "score": 0.18834828128956355
         },
         {
          "date": "1998-05-09T10:31:15.135135",
          "score": 0.18882367556177815
         },
         {
          "date": "1998-05-25T12:20:48.108108",
          "score": 0.18929850496142137
         },
         {
          "date": "1998-06-10T14:10:21.081081",
          "score": 0.18977276806802476
         },
         {
          "date": "1998-06-26T15:59:54.054054",
          "score": 0.1902464634628142
         },
         {
          "date": "1998-07-12T17:49:27.027027",
          "score": 0.1907195897287134
         },
         {
          "date": "1998-07-28T19:39:00",
          "score": 0.19119214545034866
         },
         {
          "date": "1998-08-13T21:28:32.972973",
          "score": 0.19166412921405304
         },
         {
          "date": "1998-08-29T23:18:05.945946",
          "score": 0.19213553960787103
         },
         {
          "date": "1998-09-15T01:07:38.918919",
          "score": 0.1926063752215618
         },
         {
          "date": "1998-10-01T02:57:11.891892",
          "score": 0.19307663464660452
         },
         {
          "date": "1998-10-17T04:46:44.864865",
          "score": 0.1935463164762017
         },
         {
          "date": "1998-11-02T05:36:17.837838",
          "score": 0.19401541930528407
         },
         {
          "date": "1998-11-18T07:25:50.810811",
          "score": 0.19448394173051392
         },
         {
          "date": "1998-12-04T09:15:23.783784",
          "score": 0.19495188235029023
         },
         {
          "date": "1998-12-20T11:04:56.756757",
          "score": 0.19541923976475262
         },
         {
          "date": "1999-01-05T12:54:29.729730",
          "score": 0.19588601257578495
         },
         {
          "date": "1999-01-21T14:44:02.702703",
          "score": 0.19635219938702045
         },
         {
          "date": "1999-02-06T16:33:35.675676",
          "score": 0.19681779880384492
         },
         {
          "date": "1999-02-22T18:23:08.648649",
          "score": 0.19728280943340154
         },
         {
          "date": "1999-03-10T20:12:41.621622",
          "score": 0.19774722988459517
         },
         {
          "date": "1999-03-26T22:02:14.594595",
          "score": 0.1982110587680956
         },
         {
          "date": "1999-04-12T00:51:47.567568",
          "score": 0.1986742946963428
         },
         {
          "date": "1999-04-28T02:41:20.540541",
          "score": 0.19913693628355023
         },
         {
          "date": "1999-05-14T04:30:53.513514",
          "score": 0.1995989821457099
         },
         {
          "date": "1999-05-30T06:20:26.486487",
          "score": 0.2000604309005954
         },
         {
          "date": "1999-06-15T08:09:59.459459",
          "score": 0.20052128116776663
         },
         {
          "date": "1999-07-01T09:59:32.432432",
          "score": 0.20098153156857412
         },
         {
          "date": "1999-07-17T11:49:05.405405",
          "score": 0.20144118072616318
         },
         {
          "date": "1999-08-02T13:38:38.378378",
          "score": 0.20190022726547704
         },
         {
          "date": "1999-08-18T15:28:11.351351",
          "score": 0.20235866981326267
         },
         {
          "date": "1999-09-03T17:17:44.324324",
          "score": 0.20281650699807247
         },
         {
          "date": "1999-09-19T19:07:17.297297",
          "score": 0.20327373745027086
         },
         {
          "date": "1999-10-05T20:56:50.270270",
          "score": 0.20373035980203735
         },
         {
          "date": "1999-10-21T22:46:23.243243",
          "score": 0.20418637268736997
         },
         {
          "date": "1999-11-06T23:35:56.216216",
          "score": 0.20464177474209083
         },
         {
          "date": "1999-11-23T01:25:29.189189",
          "score": 0.2050965646038486
         },
         {
          "date": "1999-12-09T03:15:02.162162",
          "score": 0.20555074091212377
         },
         {
          "date": "1999-12-25T05:04:35.135135",
          "score": 0.20600430230823252
         },
         {
          "date": "2000-01-10T06:54:08.108108",
          "score": 0.2064572474353293
         },
         {
          "date": "2000-01-26T08:43:41.081081",
          "score": 0.2069095749384135
         },
         {
          "date": "2000-02-11T10:33:14.054054",
          "score": 0.20736128346433197
         },
         {
          "date": "2000-02-27T12:22:47.027027",
          "score": 0.20781237166178282
         },
         {
          "date": "2000-03-14T14:12:20",
          "score": 0.20826283818131996
         },
         {
          "date": "2000-03-30T17:01:52.972973",
          "score": 0.2087126816753574
         },
         {
          "date": "2000-04-15T18:51:25.945946",
          "score": 0.20916190079817248
         },
         {
          "date": "2000-05-01T20:40:58.918919",
          "score": 0.20961049420591088
         },
         {
          "date": "2000-05-17T22:30:31.891892",
          "score": 0.21005846055658975
         },
         {
          "date": "2000-06-03T00:20:04.864865",
          "score": 0.21050579851010237
         },
         {
          "date": "2000-06-19T02:09:37.837838",
          "score": 0.21095250672822144
         },
         {
          "date": "2000-07-05T03:59:10.810811",
          "score": 0.2113985838746039
         },
         {
          "date": "2000-07-21T05:48:43.783784",
          "score": 0.21184402861479468
         },
         {
          "date": "2000-08-06T07:38:16.756757",
          "score": 0.21228883961623027
         },
         {
          "date": "2000-08-22T09:27:49.729730",
          "score": 0.21273301554824325
         },
         {
          "date": "2000-09-07T11:17:22.702703",
          "score": 0.21317655508206587
         },
         {
          "date": "2000-09-23T13:06:55.675676",
          "score": 0.21361945689083411
         },
         {
          "date": "2000-10-09T14:56:28.648649",
          "score": 0.21406171964959214
         },
         {
          "date": "2000-10-25T16:46:01.621622",
          "score": 0.2145033420352955
         },
         {
          "date": "2000-11-10T17:35:34.594595",
          "score": 0.21494432272681532
         },
         {
          "date": "2000-11-26T19:25:07.567568",
          "score": 0.21538466040494259
         },
         {
          "date": "2000-12-12T21:14:40.540541",
          "score": 0.2158243537523921
         },
         {
          "date": "2000-12-28T23:04:13.513514",
          "score": 0.21626340145380582
         },
         {
          "date": "2001-01-14T00:53:46.486487",
          "score": 0.21670180219575727
         },
         {
          "date": "2001-01-30T02:43:19.459459",
          "score": 0.2171395546667556
         },
         {
          "date": "2001-02-15T04:32:52.432432",
          "score": 0.21757665755724884
         },
         {
          "date": "2001-03-03T06:22:25.405405",
          "score": 0.21801310955962883
         },
         {
          "date": "2001-03-19T08:11:58.378378",
          "score": 0.2184489093682343
         },
         {
          "date": "2001-04-04T11:01:31.351351",
          "score": 0.21888405567935523
         },
         {
          "date": "2001-04-20T12:51:04.324324",
          "score": 0.2193185471912356
         },
         {
          "date": "2001-05-06T14:40:37.297297",
          "score": 0.21975238260407948
         },
         {
          "date": "2001-05-22T16:30:10.270270",
          "score": 0.22018556062005293
         },
         {
          "date": "2001-06-07T18:19:43.243243",
          "score": 0.22061807994328925
         },
         {
          "date": "2001-06-23T20:09:16.216216",
          "score": 0.22104993927989167
         },
         {
          "date": "2001-07-09T21:58:49.189189",
          "score": 0.22148113733793814
         },
         {
          "date": "2001-07-25T23:48:22.162162",
          "score": 0.2219116728274847
         },
         {
          "date": "2001-08-11T01:37:55.135135",
          "score": 0.22234154446056967
         },
         {
          "date": "2001-08-27T03:27:28.108108",
          "score": 0.22277075095121673
         },
         {
          "date": "2001-09-12T05:17:01.081081",
          "score": 0.22319929101543978
         },
         {
          "date": "2001-09-28T07:06:34.054054",
          "score": 0.22362716337124677
         },
         {
          "date": "2001-10-14T08:56:07.027027",
          "score": 0.2240543667386425
         },
         {
          "date": "2001-10-30T09:45:40",
          "score": 0.2244808998396334
         },
         {
          "date": "2001-11-15T11:35:12.972973",
          "score": 0.22490676139823082
         },
         {
          "date": "2001-12-01T13:24:45.945946",
          "score": 0.22533195014045507
         },
         {
          "date": "2001-12-17T15:14:18.918919",
          "score": 0.22575646479433947
         },
         {
          "date": "2002-01-02T17:03:51.891892",
          "score": 0.22618030408993356
         },
         {
          "date": "2002-01-18T18:53:24.864865",
          "score": 0.22660346675930776
         },
         {
          "date": "2002-02-03T20:42:57.837838",
          "score": 0.2270259515365556
         },
         {
          "date": "2002-02-19T22:32:30.810811",
          "score": 0.22744775715779977
         },
         {
          "date": "2002-03-08T00:22:03.783784",
          "score": 0.22786888236119382
         },
         {
          "date": "2002-03-24T02:11:36.756757",
          "score": 0.22828932588692738
         },
         {
          "date": "2002-04-09T05:01:09.729730",
          "score": 0.22870908647722896
         },
         {
          "date": "2002-04-25T06:50:42.702703",
          "score": 0.22912816287637
         },
         {
          "date": "2002-05-11T08:40:15.675676",
          "score": 0.22954655383066927
         },
         {
          "date": "2002-05-27T10:29:48.648649",
          "score": 0.22996425808849552
         },
         {
          "date": "2002-06-12T12:19:21.621622",
          "score": 0.23038127440027217
         },
         {
          "date": "2002-06-28T14:08:54.594595",
          "score": 0.2307976015184801
         },
         {
          "date": "2002-07-14T15:58:27.567568",
          "score": 0.23121323819766262
         },
         {
          "date": "2002-07-30T17:48:00.540541",
          "score": 0.2316281831944281
         },
         {
          "date": "2002-08-15T19:37:33.513514",
          "score": 0.2320424352674541
         },
         {
          "date": "2002-08-31T21:27:06.486487",
          "score": 0.23245599317749138
         },
         {
          "date": "2002-09-16T23:16:39.459459",
          "score": 0.23286885568736693
         },
         {
          "date": "2002-10-03T01:06:12.432432",
          "score": 0.2332810215619882
         },
         {
          "date": "2002-10-19T02:55:45.405405",
          "score": 0.23369248956834704
         },
         {
          "date": "2002-11-04T03:45:18.378378",
          "score": 0.23410325847552244
         },
         {
          "date": "2002-11-20T05:34:51.351351",
          "score": 0.23451332705468514
         },
         {
          "date": "2002-12-06T07:24:24.324324",
          "score": 0.23492269407910038
         },
         {
          "date": "2002-12-22T09:13:57.297297",
          "score": 0.23533135832413277
         },
         {
          "date": "2003-01-07T11:03:30.270270",
          "score": 0.23573931856724875
         },
         {
          "date": "2003-01-23T12:53:03.243243",
          "score": 0.2361465735880215
         },
         {
          "date": "2003-02-08T14:42:36.216216",
          "score": 0.23655312216813346
         },
         {
          "date": "2003-02-24T16:32:09.189189",
          "score": 0.2369589630913804
         },
         {
          "date": "2003-03-12T18:21:42.162162",
          "score": 0.23736409514367499
         },
         {
          "date": "2003-03-28T20:11:15.135135",
          "score": 0.2377685171130512
         },
         {
          "date": "2003-04-13T23:00:48.108108",
          "score": 0.2381722277896659
         },
         {
          "date": "2003-04-30T00:50:21.081081",
          "score": 0.23857522596580483
         },
         {
          "date": "2003-05-16T02:39:54.054054",
          "score": 0.23897751043588517
         },
         {
          "date": "2003-06-01T04:29:27.027027",
          "score": 0.23937907999645902
         },
         {
          "date": "2003-06-17T06:19:00",
          "score": 0.23977993344621704
         },
         {
          "date": "2003-07-03T08:08:32.972973",
          "score": 0.2401800695859921
         },
         {
          "date": "2003-07-19T09:58:05.945946",
          "score": 0.24057948721876332
         },
         {
          "date": "2003-08-04T11:47:38.918919",
          "score": 0.24097818514965877
         },
         {
          "date": "2003-08-20T13:37:11.891892",
          "score": 0.24137616218595997
         },
         {
          "date": "2003-09-05T15:26:44.864865",
          "score": 0.24177341713710482
         },
         {
          "date": "2003-09-21T17:16:17.837838",
          "score": 0.24216994881469114
         },
         {
          "date": "2003-10-07T19:05:50.810811",
          "score": 0.24256575603248073
         },
         {
          "date": "2003-10-23T20:55:23.783784",
          "score": 0.24296083760640275
         },
         {
          "date": "2003-11-08T21:44:56.756757",
          "score": 0.24335519235455685
         },
         {
          "date": "2003-11-24T23:34:29.729730",
          "score": 0.24374881909721707
         },
         {
          "date": "2003-12-11T01:24:02.702703",
          "score": 0.24414171665683554
         },
         {
          "date": "2003-12-27T03:13:35.675676",
          "score": 0.2445338838580455
         },
         {
          "date": "2004-01-12T05:03:08.648649",
          "score": 0.24492531952766528
         },
         {
          "date": "2004-01-28T06:52:41.621622",
          "score": 0.24531602249470116
         },
         {
          "date": "2004-02-13T08:42:14.594594",
          "score": 0.24570599159035206
         },
         {
          "date": "2004-02-29T10:31:47.567568",
          "score": 0.2460952256480117
         },
         {
          "date": "2004-03-16T12:21:20.540541",
          "score": 0.24648372350327288
         },
         {
          "date": "2004-04-01T15:10:53.513514",
          "score": 0.246871483993931
         },
         {
          "date": "2004-04-17T17:00:26.486486",
          "score": 0.24725850595998689
         },
         {
          "date": "2004-05-03T18:49:59.459460",
          "score": 0.2476447882436511
         },
         {
          "date": "2004-05-19T20:39:32.432432",
          "score": 0.24803032968934652
         },
         {
          "date": "2004-06-04T22:29:05.405406",
          "score": 0.24841512914371297
         },
         {
          "date": "2004-06-21T00:18:38.378378",
          "score": 0.2487991854556092
         },
         {
          "date": "2004-07-07T02:08:11.351351",
          "score": 0.24918249747611768
         },
         {
          "date": "2004-07-23T03:57:44.324324",
          "score": 0.2495650640585473
         },
         {
          "date": "2004-08-08T05:47:17.297297",
          "score": 0.24994688405843632
         },
         {
          "date": "2004-08-24T07:36:50.270270",
          "score": 0.2503279563335572
         },
         {
          "date": "2004-09-09T09:26:23.243243",
          "score": 0.25070827974391935
         },
         {
          "date": "2004-09-25T11:15:56.216216",
          "score": 0.25108785315177184
         },
         {
          "date": "2004-10-11T13:05:29.189189",
          "score": 0.25146667542160767
         },
         {
          "date": "2004-10-27T14:55:02.162162",
          "score": 0.25184474542016727
         },
         {
          "date": "2004-11-12T15:44:35.135135",
          "score": 0.2522220620164405
         },
         {
          "date": "2004-11-28T17:34:08.108108",
          "score": 0.2525986240816719
         },
         {
          "date": "2004-12-14T19:23:41.081081",
          "score": 0.2529744304893629
         },
         {
          "date": "2004-12-30T21:13:14.054054",
          "score": 0.253349480115276
         },
         {
          "date": "2005-01-15T23:02:47.027027",
          "score": 0.25372377183743705
         },
         {
          "date": "2005-02-01T00:52:20",
          "score": 0.25409730453613927
         },
         {
          "date": "2005-02-17T02:41:52.972973",
          "score": 0.25447007709394676
         },
         {
          "date": "2005-03-05T04:31:25.945946",
          "score": 0.2548420883956974
         },
         {
          "date": "2005-03-21T06:20:58.918919",
          "score": 0.25521333732850665
         },
         {
          "date": "2005-04-06T09:10:31.891892",
          "score": 0.25558382278177033
         },
         {
          "date": "2005-04-22T11:00:04.864865",
          "score": 0.25595354364716827
         },
         {
          "date": "2005-05-08T12:49:37.837838",
          "score": 0.2563224988186679
         },
         {
          "date": "2005-05-24T14:39:10.810811",
          "score": 0.2566906871925271
         },
         {
          "date": "2005-06-09T16:28:43.783784",
          "score": 0.25705810766729725
         },
         {
          "date": "2005-06-25T18:18:16.756757",
          "score": 0.25742475914382734
         },
         {
          "date": "2005-07-11T20:07:49.729730",
          "score": 0.257790640525267
         },
         {
          "date": "2005-07-27T21:57:22.702703",
          "score": 0.25815575071706925
         },
         {
          "date": "2005-08-12T23:46:55.675676",
          "score": 0.2585200886269944
         },
         {
          "date": "2005-08-29T01:36:28.648649",
          "score": 0.25888365316511264
         },
         {
          "date": "2005-09-14T03:26:01.621622",
          "score": 0.25924644324380836
         },
         {
          "date": "2005-09-30T05:15:34.594594",
          "score": 0.25960845777778246
         },
         {
          "date": "2005-10-16T07:05:07.567568",
          "score": 0.25996969568405565
         },
         {
          "date": "2005-11-01T07:54:40.540541",
          "score": 0.2603301558819725
         },
         {
          "date": "2005-11-17T09:44:13.513514",
          "score": 0.2606898372932037
         },
         {
          "date": "2005-12-03T11:33:46.486486",
          "score": 0.26104873884174995
         },
         {
          "date": "2005-12-19T13:23:19.459460",
          "score": 0.2614068594539445
         },
         {
          "date": "2006-01-04T15:12:52.432432",
          "score": 0.2617641980584576
         },
         {
          "date": "2006-01-20T17:02:25.405406",
          "score": 0.26212075358629805
         },
         {
          "date": "2006-02-05T18:51:58.378378",
          "score": 0.26247652497081786
         },
         {
          "date": "2006-02-21T20:41:31.351351",
          "score": 0.2628315111477146
         },
         {
          "date": "2006-03-09T22:31:04.324324",
          "score": 0.2631857110550348
         },
         {
          "date": "2006-03-26T00:20:37.297297",
          "score": 0.26353912363317694
         },
         {
          "date": "2006-04-11T03:10:10.270270",
          "score": 0.26389174782489505
         },
         {
          "date": "2006-04-27T04:59:43.243243",
          "score": 0.2642435825753019
         },
         {
          "date": "2006-05-13T06:49:16.216216",
          "score": 0.26459462683187146
         },
         {
          "date": "2006-05-29T08:38:49.189189",
          "score": 0.26494487954444285
         },
         {
          "date": "2006-06-14T10:28:22.162162",
          "score": 0.26529433966522303
         },
         {
          "date": "2006-06-30T12:17:55.135135",
          "score": 0.2656430061487894
         },
         {
          "date": "2006-07-16T14:07:28.108108",
          "score": 0.2659908779520944
         },
         {
          "date": "2006-08-01T15:57:01.081081",
          "score": 0.26633795403446736
         },
         {
          "date": "2006-08-17T17:46:34.054054",
          "score": 0.2666842333576184
         },
         {
          "date": "2006-09-02T19:36:07.027027",
          "score": 0.26702971488564076
         },
         {
          "date": "2006-09-18T21:25:40",
          "score": 0.2673743975850146
         },
         {
          "date": "2006-10-04T23:15:12.972973",
          "score": 0.2677182804246094
         },
         {
          "date": "2006-10-21T01:04:45.945946",
          "score": 0.26806136237568806
         },
         {
          "date": "2006-11-06T01:54:18.918919",
          "score": 0.2684036424119088
         },
         {
          "date": "2006-11-22T03:43:51.891892",
          "score": 0.26874511950932906
         },
         {
          "date": "2006-12-08T05:33:24.864865",
          "score": 0.26908579264640836
         },
         {
          "date": "2006-12-24T07:22:57.837838",
          "score": 0.26942566080401115
         },
         {
          "date": "2007-01-09T09:12:30.810811",
          "score": 0.26976472296541015
         },
         {
          "date": "2007-01-25T11:02:03.783784",
          "score": 0.27010297811628886
         },
         {
          "date": "2007-02-10T12:51:36.756757",
          "score": 0.27044042524474554
         },
         {
          "date": "2007-02-26T14:41:09.729730",
          "score": 0.2707770633412953
         },
         {
          "date": "2007-03-14T16:30:42.702703",
          "score": 0.2711128913988736
         },
         {
          "date": "2007-03-30T19:20:15.675676",
          "score": 0.27144790841283933
         },
         {
          "date": "2007-04-15T21:09:48.648649",
          "score": 0.27178211338097724
         },
         {
          "date": "2007-05-01T22:59:21.621622",
          "score": 0.27211550530350176
         },
         {
          "date": "2007-05-18T00:48:54.594594",
          "score": 0.2724480831830592
         },
         {
          "date": "2007-06-03T02:38:27.567568",
          "score": 0.2727798460247315
         },
         {
          "date": "2007-06-19T04:28:00.540541",
          "score": 0.27311079283603856
         },
         {
          "date": "2007-07-05T06:17:33.513514",
          "score": 0.2734409226269414
         },
         {
          "date": "2007-07-21T08:07:06.486486",
          "score": 0.27377023440984555
         },
         {
          "date": "2007-08-06T09:56:39.459460",
          "score": 0.274098727199603
         },
         {
          "date": "2007-08-22T11:46:12.432432",
          "score": 0.2744264000135166
         },
         {
          "date": "2007-09-07T13:35:45.405406",
          "score": 0.2747532518713417
         },
         {
          "date": "2007-09-23T15:25:18.378378",
          "score": 0.2750792817952895
         },
         {
          "date": "2007-10-09T17:14:51.351351",
          "score": 0.2754044888100302
         },
         {
          "date": "2007-10-25T19:04:24.324324",
          "score": 0.27572887194269613
         },
         {
          "date": "2007-11-10T19:53:57.297297",
          "score": 0.2760524302228832
         },
         {
          "date": "2007-11-26T21:43:30.270270",
          "score": 0.27637516268265583
         },
         {
          "date": "2007-12-12T23:33:03.243243",
          "score": 0.2766970683565489
         },
         {
          "date": "2007-12-29T01:22:36.216216",
          "score": 0.2770181462815704
         },
         {
          "date": "2008-01-14T03:12:09.189189",
          "score": 0.27733839549720446
         },
         {
          "date": "2008-01-30T05:01:42.162162",
          "score": 0.2776578150454147
         },
         {
          "date": "2008-02-15T06:51:15.135135",
          "score": 0.2779764039706461
         },
         {
          "date": "2008-03-02T08:40:48.108108",
          "score": 0.278294161319829
         },
         {
          "date": "2008-03-18T10:30:21.081081",
          "score": 0.2786110861423811
         },
         {
          "date": "2008-04-03T13:19:54.054054",
          "score": 0.2789271774902112
         },
         {
          "date": "2008-04-19T15:09:27.027027",
          "score": 0.27924243441772084
         },
         {
          "date": "2008-05-05T16:59:00",
          "score": 0.27955685598180796
         },
         {
          "date": "2008-05-21T18:48:32.972973",
          "score": 0.27987044124186966
         },
         {
          "date": "2008-06-06T20:38:05.945946",
          "score": 0.28018318925980473
         },
         {
          "date": "2008-06-22T22:27:38.918919",
          "score": 0.28049509910001663
         },
         {
          "date": "2008-07-09T00:17:11.891892",
          "score": 0.28080616982941625
         },
         {
          "date": "2008-07-25T02:06:44.864865",
          "score": 0.28111640051742476
         },
         {
          "date": "2008-08-10T03:56:17.837838",
          "score": 0.2814257902359762
         },
         {
          "date": "2008-08-26T05:45:50.810811",
          "score": 0.2817343380595207
         },
         {
          "date": "2008-09-11T07:35:23.783784",
          "score": 0.28204204306502656
         },
         {
          "date": "2008-09-27T09:24:56.756757",
          "score": 0.2823489043319836
         },
         {
          "date": "2008-10-13T11:14:29.729730",
          "score": 0.28265492094240574
         },
         {
          "date": "2008-10-29T12:04:02.702703",
          "score": 0.28296009198083377
         },
         {
          "date": "2008-11-14T13:53:35.675676",
          "score": 0.2832644165343379
         },
         {
          "date": "2008-11-30T15:43:08.648649",
          "score": 0.2835678936925206
         },
         {
          "date": "2008-12-16T17:32:41.621622",
          "score": 0.28387052254751943
         },
         {
          "date": "2009-01-01T19:22:14.594594",
          "score": 0.28417230219400974
         },
         {
          "date": "2009-01-17T21:11:47.567568",
          "score": 0.2844732317292073
         },
         {
          "date": "2009-02-02T23:01:20.540541",
          "score": 0.28477331025287084
         },
         {
          "date": "2009-02-19T00:50:53.513514",
          "score": 0.2850725368673052
         },
         {
          "date": "2009-03-07T02:40:26.486486",
          "score": 0.2853709106773634
         },
         {
          "date": "2009-03-23T04:29:59.459460",
          "score": 0.28566843079045
         },
         {
          "date": "2009-04-08T07:19:32.432432",
          "score": 0.28596509631652334
         },
         {
          "date": "2009-04-24T09:09:05.405406",
          "score": 0.28626090636809814
         },
         {
          "date": "2009-05-10T10:58:38.378378",
          "score": 0.28655586006024825
         },
         {
          "date": "2009-05-26T12:48:11.351351",
          "score": 0.2868499565106097
         },
         {
          "date": "2009-06-11T14:37:44.324324",
          "score": 0.2871431948393828
         },
         {
          "date": "2009-06-27T16:27:17.297297",
          "score": 0.28743557416933446
         },
         {
          "date": "2009-07-13T18:16:50.270270",
          "score": 0.28772709362580207
         },
         {
          "date": "2009-07-29T20:06:23.243243",
          "score": 0.2880177523366952
         },
         {
          "date": "2009-08-14T21:55:56.216216",
          "score": 0.2883075494324981
         },
         {
          "date": "2009-08-30T23:45:29.189189",
          "score": 0.2885964840462727
         },
         {
          "date": "2009-09-16T01:35:02.162162",
          "score": 0.28888455531366136
         },
         {
          "date": "2009-10-02T03:24:35.135135",
          "score": 0.2891717623728885
         },
         {
          "date": "2009-10-18T05:14:08.108108",
          "score": 0.2894581043647643
         },
         {
          "date": "2009-11-03T06:03:41.081081",
          "score": 0.28974358043268683
         },
         {
          "date": "2009-11-19T07:53:14.054054",
          "score": 0.29002818972264477
         },
         {
          "date": "2009-12-05T09:42:47.027027",
          "score": 0.29031193138321926
         },
         {
          "date": "2009-12-21T11:32:20",
          "score": 0.2905948045655874
         },
         {
          "date": "2010-01-06T13:21:52.972973",
          "score": 0.29087680842352437
         },
         {
          "date": "2010-01-22T15:11:25.945946",
          "score": 0.2911579421134056
         },
         {
          "date": "2010-02-07T17:00:58.918919",
          "score": 0.2914382047942101
         },
         {
          "date": "2010-02-23T18:50:31.891892",
          "score": 0.29171759562752236
         },
         {
          "date": "2010-03-11T20:40:04.864865",
          "score": 0.29199611377753487
         },
         {
          "date": "2010-03-27T22:29:37.837838",
          "score": 0.29227375841105113
         },
         {
          "date": "2010-04-13T01:19:10.810811",
          "score": 0.2925505286974875
         },
         {
          "date": "2010-04-29T03:08:43.783784",
          "score": 0.2928264238088759
         },
         {
          "date": "2010-05-15T04:58:16.756757",
          "score": 0.2931014429198668
         },
         {
          "date": "2010-05-31T06:47:49.729730",
          "score": 0.2933755852077308
         },
         {
          "date": "2010-06-16T08:37:22.702703",
          "score": 0.2936488498523619
         },
         {
          "date": "2010-07-02T10:26:55.675676",
          "score": 0.2939212360362795
         },
         {
          "date": "2010-07-18T12:16:28.648649",
          "score": 0.2941927429446306
         },
         {
          "date": "2010-08-03T14:06:01.621622",
          "score": 0.29446336976519305
         },
         {
          "date": "2010-08-19T15:55:34.594594",
          "score": 0.2947331156883774
         },
         {
          "date": "2010-09-04T17:45:07.567568",
          "score": 0.29500197990722915
         },
         {
          "date": "2010-09-20T19:34:40.540541",
          "score": 0.29526996161743196
         },
         {
          "date": "2010-10-06T21:24:13.513514",
          "score": 0.2955370600173089
         },
         {
          "date": "2010-10-22T23:13:46.486486",
          "score": 0.29580327430782627
         },
         {
          "date": "2010-11-08T00:03:19.459460",
          "score": 0.29606860369259436
         },
         {
          "date": "2010-11-24T01:52:52.432432",
          "score": 0.2963330473778714
         },
         {
          "date": "2010-12-10T03:42:25.405406",
          "score": 0.296596604572565
         },
         {
          "date": "2010-12-26T05:31:58.378378",
          "score": 0.29685927448823446
         },
         {
          "date": "2011-01-11T07:21:31.351351",
          "score": 0.29712105633909375
         },
         {
          "date": "2011-01-27T09:11:04.324324",
          "score": 0.29738194934201345
         },
         {
          "date": "2011-02-12T11:00:37.297297",
          "score": 0.2976419527165229
         },
         {
          "date": "2011-02-28T12:50:10.270270",
          "score": 0.29790106568481295
         },
         {
          "date": "2011-03-16T14:39:43.243243",
          "score": 0.2981592874717384
         },
         {
          "date": "2011-04-01T17:29:16.216216",
          "score": 0.2984166173048197
         },
         {
          "date": "2011-04-17T19:18:49.189189",
          "score": 0.29867305441424585
         },
         {
          "date": "2011-05-03T21:08:22.162162",
          "score": 0.29892859803287647
         },
         {
          "date": "2011-05-19T22:57:55.135135",
          "score": 0.29918324739624347
         },
         {
          "date": "2011-06-05T00:47:28.108108",
          "score": 0.29943700174255483
         },
         {
          "date": "2011-06-21T02:37:01.081081",
          "score": 0.29968986031269546
         },
         {
          "date": "2011-07-07T04:26:34.054054",
          "score": 0.29994182235023026
         },
         {
          "date": "2011-07-23T06:16:07.027027",
          "score": 0.30019288710140607
         },
         {
          "date": "2011-08-08T08:05:40",
          "score": 0.30044305381515407
         },
         {
          "date": "2011-08-24T09:55:12.972973",
          "score": 0.3006923217430917
         },
         {
          "date": "2011-09-09T11:44:45.945946",
          "score": 0.3009406901395254
         },
         {
          "date": "2011-09-25T13:34:18.918919",
          "score": 0.3011881582614525
         },
         {
          "date": "2011-10-11T15:23:51.891892",
          "score": 0.30143472536856347
         },
         {
          "date": "2011-10-27T17:13:24.864865",
          "score": 0.3016803907232444
         },
         {
          "date": "2011-11-12T18:02:57.837838",
          "score": 0.3019251535905787
         },
         {
          "date": "2011-11-28T19:52:30.810811",
          "score": 0.30216901323835
         },
         {
          "date": "2011-12-14T21:42:03.783784",
          "score": 0.30241196893704336
         },
         {
          "date": "2011-12-30T23:31:36.756757",
          "score": 0.3026540199598487
         },
         {
          "date": "2012-01-16T01:21:09.729730",
          "score": 0.30289516558266194
         },
         {
          "date": "2012-02-01T03:10:42.702703",
          "score": 0.3031354050840873
         },
         {
          "date": "2012-02-17T05:00:15.675676",
          "score": 0.3033747377454405
         },
         {
          "date": "2012-03-04T06:49:48.648649",
          "score": 0.3036131628507491
         },
         {
          "date": "2012-03-20T08:39:21.621622",
          "score": 0.3038506796867564
         },
         {
          "date": "2012-04-05T11:28:54.594594",
          "score": 0.3040872875429224
         },
         {
          "date": "2012-04-21T13:18:27.567568",
          "score": 0.30432298571142663
         },
         {
          "date": "2012-05-07T15:08:00.540541",
          "score": 0.3045577734871698
         },
         {
          "date": "2012-05-23T16:57:33.513514",
          "score": 0.3047916501677761
         },
         {
          "date": "2012-06-08T18:47:06.486486",
          "score": 0.3050246150535954
         },
         {
          "date": "2012-06-24T20:36:39.459460",
          "score": 0.305256667447705
         },
         {
          "date": "2012-07-10T22:26:12.432432",
          "score": 0.30548780665591235
         },
         {
          "date": "2012-07-27T00:15:45.405406",
          "score": 0.30571803198675646
         },
         {
          "date": "2012-08-12T02:05:18.378378",
          "score": 0.3059473427515102
         },
         {
          "date": "2012-08-28T03:54:51.351351",
          "score": 0.30617573826418243
         },
         {
          "date": "2012-09-13T05:44:24.324324",
          "score": 0.30640321784152036
         },
         {
          "date": "2012-09-29T07:33:57.297297",
          "score": 0.3066297808030105
         },
         {
          "date": "2012-10-15T09:23:30.270270",
          "score": 0.30685542647088204
         },
         {
          "date": "2012-10-31T10:13:03.243243",
          "score": 0.30708015417010814
         },
         {
          "date": "2012-11-16T12:02:36.216216",
          "score": 0.30730396322840836
         },
         {
          "date": "2012-12-02T13:52:09.189189",
          "score": 0.30752685297624976
         },
         {
          "date": "2012-12-18T15:41:42.162162",
          "score": 0.3077488227468504
         },
         {
          "date": "2013-01-03T17:31:15.135135",
          "score": 0.3080746964541523
         },
         {
          "date": "2013-01-19T19:20:48.108108",
          "score": 0.3106009440145803
         },
         {
          "date": "2013-02-04T21:10:21.081081",
          "score": 0.3131261542155968
         },
         {
          "date": "2013-02-20T22:59:54.054054",
          "score": 0.3156502160259817
         },
         {
          "date": "2013-03-09T00:49:27.027027",
          "score": 0.3181730184280825
         },
         {
          "date": "2013-03-25T02:39:00",
          "score": 0.32069445042309624
         },
         {
          "date": "2013-04-10T05:28:32.972973",
          "score": 0.3232144010363563
         },
         {
          "date": "2013-04-26T07:18:05.945946",
          "score": 0.32573275932261264
         },
         {
          "date": "2013-05-12T09:07:38.918919",
          "score": 0.3282494143713136
         },
         {
          "date": "2013-05-28T10:57:11.891892",
          "score": 0.33076425531188774
         },
         {
          "date": "2013-06-13T12:46:44.864865",
          "score": 0.3332771713190188
         },
         {
          "date": "2013-06-29T14:36:17.837838",
          "score": 0.33578805161792596
         },
         {
          "date": "2013-07-15T16:25:50.810811",
          "score": 0.3382967854896293
         },
         {
          "date": "2013-07-31T18:15:23.783784",
          "score": 0.3408032622762325
         },
         {
          "date": "2013-08-16T20:04:56.756757",
          "score": 0.3433073713861825
         },
         {
          "date": "2013-09-01T21:54:29.729730",
          "score": 0.3458090022995382
         },
         {
          "date": "2013-09-17T23:44:02.702703",
          "score": 0.3483080445732327
         },
         {
          "date": "2013-10-04T01:33:35.675676",
          "score": 0.35080438784632945
         },
         {
          "date": "2013-10-20T03:23:08.648649",
          "score": 0.35329792184528214
         },
         {
          "date": "2013-11-05T04:12:41.621622",
          "score": 0.35578853638917474
         },
         {
          "date": "2013-11-21T06:02:14.594595",
          "score": 0.3582761213949814
         },
         {
          "date": "2013-12-07T07:51:47.567568",
          "score": 0.3607605668827985
         },
         {
          "date": "2013-12-23T09:41:20.540540",
          "score": 0.3632417629810862
         },
         {
          "date": "2014-01-08T11:30:53.513514",
          "score": 0.36571959993189723
         },
         {
          "date": "2014-01-24T13:20:26.486486",
          "score": 0.3681939680961056
         },
         {
          "date": "2014-02-09T15:09:59.459460",
          "score": 0.3706647579586275
         },
         {
          "date": "2014-02-25T16:59:32.432432",
          "score": 0.373131860133635
         },
         {
          "date": "2014-03-13T18:49:05.405406",
          "score": 0.3755951653697672
         },
         {
          "date": "2014-03-29T20:38:38.378378",
          "score": 0.3780545645553311
         },
         {
          "date": "2014-04-14T23:28:11.351351",
          "score": 0.38050994872350086
         },
         {
          "date": "2014-05-01T01:17:44.324324",
          "score": 0.3829612090575002
         },
         {
          "date": "2014-05-17T03:07:17.297297",
          "score": 0.38540823689579423
         },
         {
          "date": "2014-06-02T04:56:50.270270",
          "score": 0.38785092373725905
         },
         {
          "date": "2014-06-18T06:46:23.243243",
          "score": 0.3902891612463501
         },
         {
          "date": "2014-07-04T08:35:56.216216",
          "score": 0.3927228412582621
         },
         {
          "date": "2014-07-20T10:25:29.189189",
          "score": 0.39515185578408046
         },
         {
          "date": "2014-08-05T12:15:02.162162",
          "score": 0.39757609701592667
         },
         {
          "date": "2014-08-21T14:04:35.135135",
          "score": 0.39999545733208675
         },
         {
          "date": "2014-09-06T15:54:08.108108",
          "score": 0.4024098293021471
         },
         {
          "date": "2014-09-22T17:43:41.081081",
          "score": 0.4048191056921045
         },
         {
          "date": "2014-10-08T19:33:14.054054",
          "score": 0.40722317946947556
         },
         {
          "date": "2014-10-24T21:22:47.027027",
          "score": 0.4096219438083961
         },
         {
          "date": "2014-11-09T22:12:20",
          "score": 0.41201529209470816
         },
         {
          "date": "2014-11-26T00:01:52.972973",
          "score": 0.4144031179310397
         },
         {
          "date": "2014-12-12T01:51:25.945946",
          "score": 0.41678531514187156
         },
         {
          "date": "2014-12-28T03:40:58.918919",
          "score": 0.41916177777859626
         },
         {
          "date": "2015-01-13T05:30:31.891892",
          "score": 0.42153240012456517
         },
         {
          "date": "2015-01-29T07:20:04.864865",
          "score": 0.42389707670012317
         },
         {
          "date": "2015-02-14T09:09:37.837838",
          "score": 0.4262557022676368
         },
         {
          "date": "2015-03-02T10:59:10.810811",
          "score": 0.4286081718364995
         },
         {
          "date": "2015-03-18T12:48:43.783784",
          "score": 0.4309543806681447
         },
         {
          "date": "2015-04-03T15:38:16.756757",
          "score": 0.43329422428102754
         },
         {
          "date": "2015-04-19T17:27:49.729730",
          "score": 0.43562759845560445
         },
         {
          "date": "2015-05-05T19:17:22.702703",
          "score": 0.43795439923929963
         },
         {
          "date": "2015-05-21T21:06:55.675676",
          "score": 0.44027452295145514
         },
         {
          "date": "2015-06-06T22:56:28.648649",
          "score": 0.44258786618827434
         },
         {
          "date": "2015-06-23T00:46:01.621622",
          "score": 0.4448943258277405
         },
         {
          "date": "2015-07-09T02:35:34.594595",
          "score": 0.4471937990345409
         },
         {
          "date": "2015-07-25T04:25:07.567568",
          "score": 0.44948618326495743
         },
         {
          "date": "2015-08-10T06:14:40.540541",
          "score": 0.4517713762717574
         },
         {
          "date": "2015-08-26T08:04:13.513514",
          "score": 0.45404927610906254
         },
         {
          "date": "2015-09-11T09:53:46.486486",
          "score": 0.4563197811372065
         },
         {
          "date": "2015-09-27T11:43:19.459460",
          "score": 0.4585827900275794
         },
         {
          "date": "2015-10-13T13:32:52.432432",
          "score": 0.4608382017674544
         },
         {
          "date": "2015-10-29T14:22:25.405406",
          "score": 0.4630859156648012
         },
         {
          "date": "2015-11-14T16:11:58.378378",
          "score": 0.46532583135308325
         },
         {
          "date": "2015-11-30T18:01:31.351351",
          "score": 0.46755784879604295
         },
         {
          "date": "2015-12-16T19:51:04.324324",
          "score": 0.4697818682924613
         },
         {
          "date": "2016-01-01T21:40:37.297297",
          "score": 0.4719977904809178
         },
         {
          "date": "2016-01-17T23:30:10.270270",
          "score": 0.4742055163445198
         },
         {
          "date": "2016-02-03T01:19:43.243243",
          "score": 0.4764049472156213
         },
         {
          "date": "2016-02-19T03:09:16.216216",
          "score": 0.47859598478052573
         },
         {
          "date": "2016-03-06T04:58:49.189189",
          "score": 0.4807785310841697
         },
         {
          "date": "2016-03-22T06:48:22.162162",
          "score": 0.4829524885347937
         },
         {
          "date": "2016-04-07T09:37:55.135135",
          "score": 0.48511775990858497
         },
         {
          "date": "2016-04-23T11:27:28.108108",
          "score": 0.48727424835432187
         },
         {
          "date": "2016-05-09T13:17:01.081081",
          "score": 0.4894218573979808
         },
         {
          "date": "2016-05-25T15:06:34.054054",
          "score": 0.49156049094733734
         },
         {
          "date": "2016-06-10T16:56:07.027027",
          "score": 0.4936900532965444
         },
         {
          "date": "2016-06-26T18:45:40",
          "score": 0.4958104491306933
         },
         {
          "date": "2016-07-12T20:35:12.972973",
          "score": 0.49792158353035676
         },
         {
          "date": "2016-07-28T22:24:45.945946",
          "score": 0.5000233619761119
         },
         {
          "date": "2016-08-14T00:14:18.918919",
          "score": 0.5021156903530445
         },
         {
          "date": "2016-08-30T02:03:51.891892",
          "score": 0.5041984749552361
         },
         {
          "date": "2016-09-15T03:53:24.864865",
          "score": 0.5062716224902274
         },
         {
          "date": "2016-10-01T05:42:57.837838",
          "score": 0.5083350400834682
         },
         {
          "date": "2016-10-17T07:32:30.810811",
          "score": 0.5103886352827365
         },
         {
          "date": "2016-11-02T08:22:03.783784",
          "score": 0.5124323160625543
         },
         {
          "date": "2016-11-18T10:11:36.756757",
          "score": 0.5144659908285668
         },
         {
          "date": "2016-12-04T12:01:09.729730",
          "score": 0.516489568421911
         },
         {
          "date": "2016-12-20T13:50:42.702703",
          "score": 0.518502958123559
         },
         {
          "date": "2017-01-05T15:40:15.675676",
          "score": 0.5205060696586418
         },
         {
          "date": "2017-01-21T17:29:48.648649",
          "score": 0.5224988132007549
         },
         {
          "date": "2017-02-06T19:19:21.621622",
          "score": 0.5244810993762322
         },
         {
          "date": "2017-02-22T21:08:54.594595",
          "score": 0.5264528392684165
         },
         {
          "date": "2017-03-10T22:58:27.567568",
          "score": 0.528413944421889
         },
         {
          "date": "2017-03-27T01:48:00.540541",
          "score": 0.53036432684669
         },
         {
          "date": "2017-04-12T03:37:33.513514",
          "score": 0.5323038990225103
         },
         {
          "date": "2017-04-28T05:27:06.486486",
          "score": 0.5342325739028647
         },
         {
          "date": "2017-05-14T07:16:39.459460",
          "score": 0.5361502649192401
         },
         {
          "date": "2017-05-30T09:06:12.432432",
          "score": 0.5380568859852222
         },
         {
          "date": "2017-06-15T10:55:45.405406",
          "score": 0.5399523515005986
         },
         {
          "date": "2017-07-01T12:45:18.378378",
          "score": 0.54183657635544
         },
         {
          "date": "2017-07-17T14:34:51.351351",
          "score": 0.5437094759341567
         },
         {
          "date": "2017-08-02T16:24:24.324324",
          "score": 0.5455709661195293
         },
         {
          "date": "2017-08-18T18:13:57.297297",
          "score": 0.5474209632967231
         },
         {
          "date": "2017-09-03T20:03:30.270270",
          "score": 0.5492593843572715
         },
         {
          "date": "2017-09-19T21:53:03.243243",
          "score": 0.5510861467030375
         },
         {
          "date": "2017-10-05T23:42:36.216216",
          "score": 0.5529011682501512
         },
         {
          "date": "2017-10-22T01:32:09.189189",
          "score": 0.5547043674329227
         },
         {
          "date": "2017-11-07T02:21:42.162162",
          "score": 0.556495663207732
         },
         {
          "date": "2017-11-23T04:11:15.135135",
          "score": 0.5582749750568866
         },
         {
          "date": "2017-12-09T06:00:48.108108",
          "score": 0.5600422229924684
         },
         {
          "date": "2017-12-25T07:50:21.081081",
          "score": 0.5617973275601404
         },
         {
          "date": "2018-01-10T09:39:54.054054",
          "score": 0.5635402098429366
         },
         {
          "date": "2018-01-26T11:29:27.027027",
          "score": 0.565270791465024
         },
         {
          "date": "2018-02-11T13:19:00",
          "score": 0.5669889945954385
         },
         {
          "date": "2018-02-27T15:08:32.972973",
          "score": 0.5686947419517957
         },
         {
          "date": "2018-03-15T16:58:05.945946",
          "score": 0.5703879568039748
         },
         {
          "date": "2018-03-31T19:47:38.918919",
          "score": 0.5720685629777764
         },
         {
          "date": "2018-04-16T21:37:11.891892",
          "score": 0.573736484858555
         },
         {
          "date": "2018-05-02T23:26:44.864865",
          "score": 0.5753916473948224
         },
         {
          "date": "2018-05-19T01:16:17.837838",
          "score": 0.5770339761018278
         },
         {
          "date": "2018-06-04T03:05:50.810811",
          "score": 0.5786633970651034
         },
         {
          "date": "2018-06-20T04:55:23.783784",
          "score": 0.5802798369439968
         },
         {
          "date": "2018-07-06T06:44:56.756757",
          "score": 0.5818832229751598
         },
         {
          "date": "2018-07-22T08:34:29.729730",
          "score": 0.5834734829760224
         },
         {
          "date": "2018-08-07T10:24:02.702703",
          "score": 0.585050545348231
         },
         {
          "date": "2018-08-23T12:13:35.675676",
          "score": 0.5866143390810629
         },
         {
          "date": "2018-09-08T14:03:08.648649",
          "score": 0.5881647937548139
         },
         {
          "date": "2018-09-24T15:52:41.621622",
          "score": 0.5897018395441497
         },
         {
          "date": "2018-10-10T17:42:14.594595",
          "score": 0.5912254072214427
         },
         {
          "date": "2018-10-26T19:31:47.567568",
          "score": 0.5927354281600674
         },
         {
          "date": "2018-11-11T20:21:20.540541",
          "score": 0.5942318343376737
         },
         {
          "date": "2018-11-27T22:10:53.513514",
          "score": 0.59571455833943
         },
         {
          "date": "2018-12-14T00:00:26.486486",
          "score": 0.5971835333612374
         },
         {
          "date": "2018-12-30T01:49:59.459460",
          "score": 0.5986386932129147
         },
         {
          "date": "2019-01-15T03:39:32.432432",
          "score": 0.6047969209682741
         },
         {
          "date": "2019-01-31T05:29:05.405406",
          "score": 0.611988036040021
         },
         {
          "date": "2019-02-16T07:18:38.378378",
          "score": 0.6191620058165896
         },
         {
          "date": "2019-03-04T09:08:11.351351",
          "score": 0.6263170433199332
         },
         {
          "date": "2019-03-20T10:57:44.324324",
          "score": 0.6334513636548047
         },
         {
          "date": "2019-04-05T13:47:17.297297",
          "score": 0.6405631845268733
         },
         {
          "date": "2019-04-21T15:36:50.270270",
          "score": 0.6476507267601641
         },
         {
          "date": "2019-05-07T17:26:23.243243",
          "score": 0.6547122148137595
         },
         {
          "date": "2019-05-23T19:15:56.216216",
          "score": 0.6617458772975617
         },
         {
          "date": "2019-06-08T21:05:29.189189",
          "score": 0.6687499474869745
         },
         {
          "date": "2019-06-24T22:55:02.162162",
          "score": 0.6757226638363627
         },
         {
          "date": "2019-07-11T00:44:35.135135",
          "score": 0.6826622704910931
         },
         {
          "date": "2019-07-27T02:34:08.108108",
          "score": 0.6895670177980907
         },
         {
          "date": "2019-08-12T04:23:41.081081",
          "score": 0.6964351628146521
         },
         {
          "date": "2019-08-28T06:13:14.054054",
          "score": 0.7032649698154405
         },
         {
          "date": "2019-09-13T08:02:47.027027",
          "score": 0.7100547107974865
         },
         {
          "date": "2019-09-29T09:52:20",
          "score": 0.7168026659830384
         },
         {
          "date": "2019-10-15T11:41:52.972973",
          "score": 0.7235071243201234
         },
         {
          "date": "2019-10-31T12:31:25.945946",
          "score": 0.7301663839806664
         },
         {
          "date": "2019-11-16T14:20:58.918919",
          "score": 0.7367787528560134
         },
         {
          "date": "2019-12-02T16:10:31.891892",
          "score": 0.7433425490497223
         },
         {
          "date": "2019-12-18T18:00:04.864865",
          "score": 0.7498561013674607
         },
         {
          "date": "2020-01-03T19:49:37.837838",
          "score": 0.7563177498038848
         },
         {
          "date": "2020-01-19T21:39:10.810811",
          "score": 0.762725846026313
         },
         {
          "date": "2020-02-04T23:28:43.783784",
          "score": 0.7690787538551278
         },
         {
          "date": "2020-02-21T01:18:16.756757",
          "score": 0.7753748497406672
         },
         {
          "date": "2020-03-08T03:07:49.729730",
          "score": 0.7816125232365332
         },
         {
          "date": "2020-03-24T04:57:22.702703",
          "score": 0.78779017746915
         },
         {
          "date": "2020-04-09T07:46:55.675676",
          "score": 0.7939062296034347
         },
         {
          "date": "2020-04-25T09:36:28.648649",
          "score": 0.7999591113044482
         },
         {
          "date": "2020-05-11T11:26:01.621622",
          "score": 0.8059472691948587
         },
         {
          "date": "2020-05-27T13:15:34.594595",
          "score": 0.8118691653081546
         },
         {
          "date": "2020-06-12T15:05:07.567568",
          "score": 0.8177232775373735
         },
         {
          "date": "2020-06-28T16:54:40.540541",
          "score": 0.8235081000792913
         },
         {
          "date": "2020-07-14T18:44:13.513514",
          "score": 0.8292221438739016
         },
         {
          "date": "2020-07-30T20:33:46.486486",
          "score": 0.834863937039067
         },
         {
          "date": "2020-08-15T22:23:19.459460",
          "score": 0.8404320253002099
         },
         {
          "date": "2020-09-01T00:12:52.432432",
          "score": 0.8459249724149118
         },
         {
          "date": "2020-09-17T02:02:25.405406",
          "score": 0.8513413605923007
         },
         {
          "date": "2020-10-03T03:51:58.378378",
          "score": 0.8566797909070963
         },
         {
          "date": "2020-10-19T05:41:31.351351",
          "score": 0.8619388837081956
         },
         {
          "date": "2020-11-04T06:31:04.324324",
          "score": 0.8671172790216566
         },
         {
          "date": "2020-11-20T08:20:37.297297",
          "score": 0.8722136369480095
         },
         {
          "date": "2020-12-06T10:10:10.270270",
          "score": 0.8772266380537118
         },
         {
          "date": "2020-12-22T11:59:43.243243",
          "score": 0.8821549837566789
         },
         {
          "date": "2021-01-07T13:49:16.216216",
          "score": 0.8869973967057546
         },
         {
          "date": "2021-01-23T15:38:49.189189",
          "score": 0.8917526211540165
         },
         {
          "date": "2021-02-08T17:28:22.162162",
          "score": 0.8964194233258025
         },
         {
          "date": "2021-02-24T19:17:55.135135",
          "score": 0.9009965917773319
         },
         {
          "date": "2021-03-12T21:07:28.108108",
          "score": 0.9054829377508641
         },
         {
          "date": "2021-03-28T23:57:01.081081",
          "score": 0.9098772955222206
         },
         {
          "date": "2021-04-14T01:46:34.054054",
          "score": 0.9141785227416203
         },
         {
          "date": "2021-04-30T03:36:07.027027",
          "score": 0.9183855007677013
         },
         {
          "date": "2021-05-16T05:25:40",
          "score": 0.9224971349946386
         },
         {
          "date": "2021-06-01T07:15:12.972973",
          "score": 0.9265123551722542
         },
         {
          "date": "2021-06-17T09:04:45.945946",
          "score": 0.930430115719032
         },
         {
          "date": "2021-07-03T10:54:18.918919",
          "score": 0.9342493960279361
         },
         {
          "date": "2021-07-19T12:43:51.891892",
          "score": 0.9379692007649447
         },
         {
          "date": "2021-08-04T14:33:24.864865",
          "score": 0.9415885601602149
         },
         {
          "date": "2021-08-20T16:22:57.837838",
          "score": 0.945106530291785
         },
         {
          "date": "2021-09-05T18:12:30.810811",
          "score": 0.9485221933617235
         },
         {
          "date": "2021-09-21T20:02:03.783784",
          "score": 0.9518346579646747
         },
         {
          "date": "2021-10-07T21:51:36.756757",
          "score": 0.9550430593486717
         },
         {
          "date": "2021-10-23T23:41:09.729730",
          "score": 0.9581465596681803
         },
         {
          "date": "2021-11-09T00:30:42.702703",
          "score": 0.9611443482292767
         },
         {
          "date": "2021-11-25T02:20:15.675676",
          "score": 0.964035641726894
         },
         {
          "date": "2021-12-11T04:09:48.648649",
          "score": 0.9668196844740675
         },
         {
          "date": "2021-12-27T05:59:21.621622",
          "score": 0.9694957486230962
         },
         {
          "date": "2022-01-12T07:48:54.594595",
          "score": 0.9720631343785873
         },
         {
          "date": "2022-01-28T09:38:27.567568",
          "score": 0.974521170202279
         },
         {
          "date": "2022-02-13T11:28:00.540541",
          "score": 0.9768692130096093
         },
         {
          "date": "2022-03-01T13:17:33.513514",
          "score": 0.9791066483579641
         },
         {
          "date": "2022-03-17T15:07:06.486486",
          "score": 0.9812328906265464
         },
         {
          "date": "2022-04-02T17:56:39.459460",
          "score": 0.983247383187813
         },
         {
          "date": "2022-04-18T19:46:12.432432",
          "score": 0.9851495985704328
         },
         {
          "date": "2022-05-04T21:35:45.405406",
          "score": 0.9869390386137111
         },
         {
          "date": "2022-05-20T23:25:18.378378",
          "score": 0.9886152346134387
         },
         {
          "date": "2022-06-06T01:14:51.351351",
          "score": 0.9901777474591219
         },
         {
          "date": "2022-06-22T03:04:24.324324",
          "score": 0.9916261677625451
         },
         {
          "date": "2022-07-08T04:53:57.297297",
          "score": 0.9929601159776463
         },
         {
          "date": "2022-07-24T06:43:30.270270",
          "score": 0.994179242511645
         },
         {
          "date": "2022-08-09T08:33:03.243243",
          "score": 0.9952832278274083
         },
         {
          "date": "2022-08-25T10:22:36.216216",
          "score": 0.9962717825370168
         },
         {
          "date": "2022-09-10T12:12:09.189189",
          "score": 0.9971446474865036
         },
         {
          "date": "2022-09-26T14:01:42.162162",
          "score": 0.9979015938317417
         },
         {
          "date": "2022-10-12T15:51:15.135135",
          "score": 0.9985424231054558
         },
         {
          "date": "2022-10-28T17:40:48.108108",
          "score": 0.999066967275342
         },
         {
          "date": "2022-11-13T18:30:21.081081",
          "score": 0.9994750887932731
         },
         {
          "date": "2022-11-29T20:19:54.054054",
          "score": 0.9997666806355772
         },
         {
          "date": "2022-12-15T22:09:27.027027",
          "score": 0.9999416663343806
         },
         {
          "date": "2022-12-31T23:59:00",
          "score": 1
         }
        ]
       },
       "encoding": {
        "tooltip": [
         {
          "field": "date",
          "type": "temporal"
         }
        ],
        "x": {
         "field": "date",
         "title": "Date",
         "type": "temporal"
        },
        "y": {
         "field": "score",
         "title": "Recency score",
         "type": "quantitative"
        }
       },
       "height": 380,
       "mark": {
        "color": "black",
        "filled": true,
        "size": 10,
        "type": "point"
       },
       "title": "Recency scores (unit weight)",
       "width": 500
      },
      "image/png": "[encoded data removed]",
      "text/plain": [
       "<VegaLite 5 object>\n",
       "\n",
       "If you see this message, it means the renderer has not been properly enabled\n",
       "for the frontend that you are using. For more information, see\n",
       "https://altair-viz.github.io/user_guide/display_frontends.html#troubleshooting\n"
      ]
     },
     "execution_count": 14,
     "metadata": {},
     "output_type": "execute_result"
    }
   ],
   "source": [
    "recency_plotter = sl.RecencyPlotter(recency_space, context_data=EXECUTOR_DATA)\n",
    "chart = recency_plotter.plot_recency_curve()\n",
    "chart"
   ]
  },
  {
   "cell_type": "markdown",
   "id": "93c93476-cf28-4661-a793-f74d7c21b972",
   "metadata": {},
   "source": [
    "notice the breaks in the score at 4, 10 and 40 years - those are our period times. Titles older than 40 years get `negative_filter` score."
   ]
  },
  {
   "cell_type": "markdown",
   "id": "2ec1f453-6ec2-42e8-88b2-1c6692e9d57a",
   "metadata": {},
   "source": [
    "## Run queries"
   ]
  },
  {
   "cell_type": "markdown",
   "id": "c86b136f-467a-4618-88b9-cab92b798beb",
   "metadata": {},
   "source": [
    "Let's define a quick util function to present our results in the notebook"
   ]
  },
  {
   "cell_type": "code",
   "execution_count": 15,
   "id": "a3b1a5a9-7b81-4dff-82bb-9cb92abd58e2",
   "metadata": {},
   "outputs": [],
   "source": [
    "def present_result(\n",
    "    result_to_present: sl.Result,\n",
    "    cols_to_keep: list[str] | None = None,\n",
    ") -> pd.DataFrame:\n",
    "    if cols_to_keep is None:\n",
    "        cols_to_keep = [\n",
    "            \"description\",\n",
    "            \"title\",\n",
    "            \"genres\",\n",
    "            \"release_year\",\n",
    "            \"id\",\n",
    "            \"similarity_score\",\n",
    "        ]\n",
    "    # parse result to dataframe\n",
    "    df: pd.DataFrame = result_to_present.to_pandas()\n",
    "    # transform timestamp back to release year\n",
    "    df[\"release_year\"] = [\n",
    "        datetime.fromtimestamp(timestamp).year for timestamp in df[\"release_timestamp\"]\n",
    "    ]\n",
    "    return df[cols_to_keep]"
   ]
  },
  {
   "cell_type": "markdown",
   "id": "65a1932e-4e84-4f84-bcdd-83eba95cb3cc",
   "metadata": {},
   "source": [
    "### Search with user queries"
   ]
  },
  {
   "cell_type": "markdown",
   "id": "de462025-40fb-4371-8160-9a315ab9e872",
   "metadata": {},
   "source": [
    "With the simple query, I can search with my text in all of the fields"
   ]
  },
  {
   "cell_type": "code",
   "execution_count": 16,
   "id": "d2ba2245-1d76-4283-a9f6-58179f5f7f7c",
   "metadata": {},
   "outputs": [
    {
     "data": {
      "text/html": [
       "<div>\n",
       "<style scoped>\n",
       "    .dataframe tbody tr th:only-of-type {\n",
       "        vertical-align: middle;\n",
       "    }\n",
       "\n",
       "    .dataframe tbody tr th {\n",
       "        vertical-align: top;\n",
       "    }\n",
       "\n",
       "    .dataframe thead th {\n",
       "        text-align: right;\n",
       "    }\n",
       "</style>\n",
       "<table border=\"1\" class=\"dataframe\">\n",
       "  <thead>\n",
       "    <tr style=\"text-align: right;\">\n",
       "      <th></th>\n",
       "      <th>description</th>\n",
       "      <th>title</th>\n",
       "      <th>genres</th>\n",
       "      <th>release_year</th>\n",
       "      <th>id</th>\n",
       "      <th>similarity_score</th>\n",
       "    </tr>\n",
       "  </thead>\n",
       "  <tbody>\n",
       "    <tr>\n",
       "      <th>0</th>\n",
       "      <td>When a group of people meets at the same party, they form four different relationships, each experiencing similar phases of love.</td>\n",
       "      <td>Love, Surreal and Odd</td>\n",
       "      <td>comedy romance</td>\n",
       "      <td>2017</td>\n",
       "      <td>tm313118</td>\n",
       "      <td>0.543277</td>\n",
       "    </tr>\n",
       "    <tr>\n",
       "      <th>1</th>\n",
       "      <td>'Love Actually' follows the lives of eight very different couples dealing with their love lives, in various loosely and interrelated tales, all set during a frantic month before Christma...</td>\n",
       "      <td>Love Actually</td>\n",
       "      <td>drama comedy romance</td>\n",
       "      <td>2003</td>\n",
       "      <td>tm133767</td>\n",
       "      <td>0.523199</td>\n",
       "    </tr>\n",
       "    <tr>\n",
       "      <th>2</th>\n",
       "      <td>A young woman develops romantic feelings for her best friend, but problems arise when another gal enters the picture.</td>\n",
       "      <td>Must Be... Love</td>\n",
       "      <td>comedy romance</td>\n",
       "      <td>2013</td>\n",
       "      <td>tm188290</td>\n",
       "      <td>0.507749</td>\n",
       "    </tr>\n",
       "    <tr>\n",
       "      <th>3</th>\n",
       "      <td>Romantic anthology web series revolving around 12 stories of 12 months of young people on their paths to love.</td>\n",
       "      <td>Love Daily</td>\n",
       "      <td>drama romance</td>\n",
       "      <td>2018</td>\n",
       "      <td>ts90869</td>\n",
       "      <td>0.505947</td>\n",
       "    </tr>\n",
       "    <tr>\n",
       "      <th>4</th>\n",
       "      <td>Love You, is a 2011 Taiwanese drama starring Joseph Chang, Rainie Yang, Kingone Wang, Tiffany Hsu, Alien Huang and Tom Price. It is the second installment of the Fated to Love You trilog...</td>\n",
       "      <td>Drunken to Love You</td>\n",
       "      <td>comedy drama romance</td>\n",
       "      <td>2011</td>\n",
       "      <td>ts44064</td>\n",
       "      <td>0.502316</td>\n",
       "    </tr>\n",
       "    <tr>\n",
       "      <th>5</th>\n",
       "      <td>Laida Magtalas is a modern-day Belle who works hard to provide for her family while hoping that someday she will meet her prince charming and that they will live happily ever after toget...</td>\n",
       "      <td>A Very Special Love</td>\n",
       "      <td>comedy drama romance</td>\n",
       "      <td>2008</td>\n",
       "      <td>tm28024</td>\n",
       "      <td>0.502180</td>\n",
       "    </tr>\n",
       "    <tr>\n",
       "      <th>6</th>\n",
       "      <td>It tells the love story of two childhood sweethearts that spans 19 years. Chen Xiao Xi is a cute and small girl with a lot of positive energy. She gets to know Jiang Chen, a tall and pro...</td>\n",
       "      <td>A Love So Beautiful</td>\n",
       "      <td>comedy romance</td>\n",
       "      <td>2017</td>\n",
       "      <td>ts77034</td>\n",
       "      <td>0.497101</td>\n",
       "    </tr>\n",
       "    <tr>\n",
       "      <th>7</th>\n",
       "      <td>Christina's love life is stuck in neutral. After years of avoiding the hazards of a meaningful relationship, one night while club-hopping with her girlfriends, she meets Peter, her perfe...</td>\n",
       "      <td>The Sweetest Thing</td>\n",
       "      <td>comedy romance</td>\n",
       "      <td>2002</td>\n",
       "      <td>tm111600</td>\n",
       "      <td>0.495610</td>\n",
       "    </tr>\n",
       "    <tr>\n",
       "      <th>8</th>\n",
       "      <td>Mike Birbiglia shares a lifetime of romantic blunders and misunderstandings. On this painfully honest but hilarious journey, Birbiglia struggles to find reason in an area where it may be...</td>\n",
       "      <td>Mike Birbiglia: My Girlfriend's Boyfriend</td>\n",
       "      <td>comedy documentation romance</td>\n",
       "      <td>2013</td>\n",
       "      <td>tm171965</td>\n",
       "      <td>0.495530</td>\n",
       "    </tr>\n",
       "    <tr>\n",
       "      <th>9</th>\n",
       "      <td>An LA girl, unlucky in love, falls for an East Coast guy on a dating app and decides to surprise him for the holidays, only to discover that she's been catfished. This lighthearted roman...</td>\n",
       "      <td>Love Hard</td>\n",
       "      <td>romance comedy</td>\n",
       "      <td>2021</td>\n",
       "      <td>tm1093099</td>\n",
       "      <td>0.488398</td>\n",
       "    </tr>\n",
       "  </tbody>\n",
       "</table>\n",
       "</div>"
      ],
      "text/plain": [
       "                                                                                                                                                                                     description  \\\n",
       "0                                                              When a group of people meets at the same party, they form four different relationships, each experiencing similar phases of love.   \n",
       "1  'Love Actually' follows the lives of eight very different couples dealing with their love lives, in various loosely and interrelated tales, all set during a frantic month before Christma...   \n",
       "2                                                                          A young woman develops romantic feelings for her best friend, but problems arise when another gal enters the picture.   \n",
       "3                                                                                 Romantic anthology web series revolving around 12 stories of 12 months of young people on their paths to love.   \n",
       "4  Love You, is a 2011 Taiwanese drama starring Joseph Chang, Rainie Yang, Kingone Wang, Tiffany Hsu, Alien Huang and Tom Price. It is the second installment of the Fated to Love You trilog...   \n",
       "5  Laida Magtalas is a modern-day Belle who works hard to provide for her family while hoping that someday she will meet her prince charming and that they will live happily ever after toget...   \n",
       "6  It tells the love story of two childhood sweethearts that spans 19 years. Chen Xiao Xi is a cute and small girl with a lot of positive energy. She gets to know Jiang Chen, a tall and pro...   \n",
       "7  Christina's love life is stuck in neutral. After years of avoiding the hazards of a meaningful relationship, one night while club-hopping with her girlfriends, she meets Peter, her perfe...   \n",
       "8  Mike Birbiglia shares a lifetime of romantic blunders and misunderstandings. On this painfully honest but hilarious journey, Birbiglia struggles to find reason in an area where it may be...   \n",
       "9  An LA girl, unlucky in love, falls for an East Coast guy on a dating app and decides to surprise him for the holidays, only to discover that she's been catfished. This lighthearted roman...   \n",
       "\n",
       "                                       title                        genres  \\\n",
       "0                      Love, Surreal and Odd                comedy romance   \n",
       "1                              Love Actually          drama comedy romance   \n",
       "2                            Must Be... Love                comedy romance   \n",
       "3                                 Love Daily                 drama romance   \n",
       "4                        Drunken to Love You          comedy drama romance   \n",
       "5                        A Very Special Love          comedy drama romance   \n",
       "6                        A Love So Beautiful                comedy romance   \n",
       "7                         The Sweetest Thing                comedy romance   \n",
       "8  Mike Birbiglia: My Girlfriend's Boyfriend  comedy documentation romance   \n",
       "9                                  Love Hard                romance comedy   \n",
       "\n",
       "   release_year         id  similarity_score  \n",
       "0          2017   tm313118          0.543277  \n",
       "1          2003   tm133767          0.523199  \n",
       "2          2013   tm188290          0.507749  \n",
       "3          2018    ts90869          0.505947  \n",
       "4          2011    ts44064          0.502316  \n",
       "5          2008    tm28024          0.502180  \n",
       "6          2017    ts77034          0.497101  \n",
       "7          2002   tm111600          0.495610  \n",
       "8          2013   tm171965          0.495530  \n",
       "9          2021  tm1093099          0.488398  "
      ]
     },
     "execution_count": 16,
     "metadata": {},
     "output_type": "execute_result"
    }
   ],
   "source": [
    "result: sl.Result = app.query(\n",
    "    simple_query,\n",
    "    query_text=\"Heartfelt romantic comedy\",\n",
    "    description_weight=1,\n",
    "    title_weight=1,\n",
    "    genre_weight=1,\n",
    "    recency_weight=0,\n",
    "    limit=TOP_N,\n",
    ")\n",
    "\n",
    "present_result(result)"
   ]
  },
  {
   "cell_type": "markdown",
   "id": "c12fa8c1-c013-44be-a326-a0dffa2e7d22",
   "metadata": {},
   "source": [
    "After looking at the results, I see some titles I have already seen. I can bias towards recent titles by upweighting recency. Weights are normalized to have unit sum, so you don't have to worry about how you set them."
   ]
  },
  {
   "cell_type": "code",
   "execution_count": 17,
   "id": "5941b41e-c2de-40df-b156-eed523b75c69",
   "metadata": {},
   "outputs": [
    {
     "data": {
      "text/html": [
       "<div>\n",
       "<style scoped>\n",
       "    .dataframe tbody tr th:only-of-type {\n",
       "        vertical-align: middle;\n",
       "    }\n",
       "\n",
       "    .dataframe tbody tr th {\n",
       "        vertical-align: top;\n",
       "    }\n",
       "\n",
       "    .dataframe thead th {\n",
       "        text-align: right;\n",
       "    }\n",
       "</style>\n",
       "<table border=\"1\" class=\"dataframe\">\n",
       "  <thead>\n",
       "    <tr style=\"text-align: right;\">\n",
       "      <th></th>\n",
       "      <th>description</th>\n",
       "      <th>title</th>\n",
       "      <th>genres</th>\n",
       "      <th>release_year</th>\n",
       "      <th>id</th>\n",
       "      <th>similarity_score</th>\n",
       "    </tr>\n",
       "  </thead>\n",
       "  <tbody>\n",
       "    <tr>\n",
       "      <th>0</th>\n",
       "      <td>In this romantic comedy, several friends, each dealing with unhappy love lives, turn to each other for help - but not always with the best results.</td>\n",
       "      <td>F*ck Love Too</td>\n",
       "      <td>comedy romance</td>\n",
       "      <td>2022</td>\n",
       "      <td>tm1203307</td>\n",
       "      <td>0.367203</td>\n",
       "    </tr>\n",
       "    <tr>\n",
       "      <th>1</th>\n",
       "      <td>Fidelity tells a story of marital fidelity, in particular the one of Carlo and Margherita, a young couple who needs to face the deflagrant consequences of an alleged betrayal. Their rela...</td>\n",
       "      <td>Devotion, a Story of Love and Desire</td>\n",
       "      <td>drama romance</td>\n",
       "      <td>2022</td>\n",
       "      <td>ts280892</td>\n",
       "      <td>0.359400</td>\n",
       "    </tr>\n",
       "    <tr>\n",
       "      <th>2</th>\n",
       "      <td>This black humor pan-Arabic anthology series is about love in general – and relationships in particular.</td>\n",
       "      <td>Love, Life &amp; Everything in Between</td>\n",
       "      <td>comedy drama romance</td>\n",
       "      <td>2022</td>\n",
       "      <td>ts329711</td>\n",
       "      <td>0.358947</td>\n",
       "    </tr>\n",
       "    <tr>\n",
       "      <th>3</th>\n",
       "      <td>A relatable romance drama about a couple in their 30s preparing for marriage. While they were expecting a happy ending like something out of a fairy tale, the reality of their preparatio...</td>\n",
       "      <td>Welcome to Wedding Hell</td>\n",
       "      <td>drama romance</td>\n",
       "      <td>2022</td>\n",
       "      <td>ts344043</td>\n",
       "      <td>0.354152</td>\n",
       "    </tr>\n",
       "    <tr>\n",
       "      <th>4</th>\n",
       "      <td>An ad executive and a fashion designer-blogger don't believe in love, so they place a bet to make the other fall head over heels - with unusual tactics.</td>\n",
       "      <td>Love Tactics</td>\n",
       "      <td>comedy romance</td>\n",
       "      <td>2022</td>\n",
       "      <td>tm1152224</td>\n",
       "      <td>0.352390</td>\n",
       "    </tr>\n",
       "    <tr>\n",
       "      <th>5</th>\n",
       "      <td>Often (mis)guided by a cheeky imaginary wizard, an awkward and lonely 20-something struggles to get out of his own way in his quest for a girlfriend.</td>\n",
       "      <td>Eternally Confused and Eager for Love</td>\n",
       "      <td>comedy romance</td>\n",
       "      <td>2022</td>\n",
       "      <td>ts330012</td>\n",
       "      <td>0.351561</td>\n",
       "    </tr>\n",
       "    <tr>\n",
       "      <th>6</th>\n",
       "      <td>An LA girl, unlucky in love, falls for an East Coast guy on a dating app and decides to surprise him for the holidays, only to discover that she's been catfished. This lighthearted roman...</td>\n",
       "      <td>Love Hard</td>\n",
       "      <td>romance comedy</td>\n",
       "      <td>2021</td>\n",
       "      <td>tm1093099</td>\n",
       "      <td>0.348037</td>\n",
       "    </tr>\n",
       "    <tr>\n",
       "      <th>7</th>\n",
       "      <td>Guille decides it's time to take the next step and that's how she looks to marry her sweetheart, but things get complicated and nothing goes as planned.</td>\n",
       "      <td>Let's Tie the Knot, Honey!</td>\n",
       "      <td>comedy romance</td>\n",
       "      <td>2022</td>\n",
       "      <td>tm1204412</td>\n",
       "      <td>0.347946</td>\n",
       "    </tr>\n",
       "    <tr>\n",
       "      <th>8</th>\n",
       "      <td>Aspiring pop star Erica ends up as the entertainment at her ex-fiancé’s wedding after reluctantly taking a gig at a luxurious island resort while in the wake of a music career meltdown.</td>\n",
       "      <td>Resort to Love</td>\n",
       "      <td>romance comedy</td>\n",
       "      <td>2021</td>\n",
       "      <td>tm1037704</td>\n",
       "      <td>0.346568</td>\n",
       "    </tr>\n",
       "    <tr>\n",
       "      <th>9</th>\n",
       "      <td>A modern love story set in the near future where an AI building is powered by human feelings. Due to a software glitch, it falls in love with a real girl, escapes the building into the b...</td>\n",
       "      <td>AI Love You</td>\n",
       "      <td>scifi comedy romance drama</td>\n",
       "      <td>2022</td>\n",
       "      <td>tm1160424</td>\n",
       "      <td>0.345295</td>\n",
       "    </tr>\n",
       "  </tbody>\n",
       "</table>\n",
       "</div>"
      ],
      "text/plain": [
       "                                                                                                                                                                                     description  \\\n",
       "0                                            In this romantic comedy, several friends, each dealing with unhappy love lives, turn to each other for help - but not always with the best results.   \n",
       "1  Fidelity tells a story of marital fidelity, in particular the one of Carlo and Margherita, a young couple who needs to face the deflagrant consequences of an alleged betrayal. Their rela...   \n",
       "2                                                                                       This black humor pan-Arabic anthology series is about love in general – and relationships in particular.   \n",
       "3  A relatable romance drama about a couple in their 30s preparing for marriage. While they were expecting a happy ending like something out of a fairy tale, the reality of their preparatio...   \n",
       "4                                       An ad executive and a fashion designer-blogger don't believe in love, so they place a bet to make the other fall head over heels - with unusual tactics.   \n",
       "5                                          Often (mis)guided by a cheeky imaginary wizard, an awkward and lonely 20-something struggles to get out of his own way in his quest for a girlfriend.   \n",
       "6  An LA girl, unlucky in love, falls for an East Coast guy on a dating app and decides to surprise him for the holidays, only to discover that she's been catfished. This lighthearted roman...   \n",
       "7                                       Guille decides it's time to take the next step and that's how she looks to marry her sweetheart, but things get complicated and nothing goes as planned.   \n",
       "8      Aspiring pop star Erica ends up as the entertainment at her ex-fiancé’s wedding after reluctantly taking a gig at a luxurious island resort while in the wake of a music career meltdown.   \n",
       "9  A modern love story set in the near future where an AI building is powered by human feelings. Due to a software glitch, it falls in love with a real girl, escapes the building into the b...   \n",
       "\n",
       "                                   title                      genres  \\\n",
       "0                          F*ck Love Too              comedy romance   \n",
       "1   Devotion, a Story of Love and Desire               drama romance   \n",
       "2     Love, Life & Everything in Between        comedy drama romance   \n",
       "3                Welcome to Wedding Hell               drama romance   \n",
       "4                           Love Tactics              comedy romance   \n",
       "5  Eternally Confused and Eager for Love              comedy romance   \n",
       "6                              Love Hard              romance comedy   \n",
       "7             Let's Tie the Knot, Honey!              comedy romance   \n",
       "8                         Resort to Love              romance comedy   \n",
       "9                            AI Love You  scifi comedy romance drama   \n",
       "\n",
       "   release_year         id  similarity_score  \n",
       "0          2022  tm1203307          0.367203  \n",
       "1          2022   ts280892          0.359400  \n",
       "2          2022   ts329711          0.358947  \n",
       "3          2022   ts344043          0.354152  \n",
       "4          2022  tm1152224          0.352390  \n",
       "5          2022   ts330012          0.351561  \n",
       "6          2021  tm1093099          0.348037  \n",
       "7          2022  tm1204412          0.347946  \n",
       "8          2021  tm1037704          0.346568  \n",
       "9          2022  tm1160424          0.345295  "
      ]
     },
     "execution_count": 17,
     "metadata": {},
     "output_type": "execute_result"
    }
   ],
   "source": [
    "second_result: sl.Result = app.query(\n",
    "    simple_query,\n",
    "    query_text=\"Heartfelt romantic comedy\",\n",
    "    description_weight=1,\n",
    "    title_weight=1,\n",
    "    genre_weight=1,\n",
    "    recency_weight=3,\n",
    "    limit=TOP_N,\n",
    ")\n",
    "\n",
    "present_result(second_result)"
   ]
  },
  {
   "cell_type": "markdown",
   "id": "f4a22174-d438-4b43-9e86-5fe883f139f8",
   "metadata": {},
   "source": [
    "Still using the simple query, I can give more weight to spaces if I think my query is more related to that space - matches there should count more. Here I give additional weight to the genre, leave the description as is, and downweight the title as my query text is mostly a genre with some additional context. I keep recency with unit weight too, as I would like my results to be a bit biased towards recent movies."
   ]
  },
  {
   "cell_type": "code",
   "execution_count": 18,
   "id": "4f5cfd0d-dfe6-40aa-9688-9e427f4890bf",
   "metadata": {},
   "outputs": [
    {
     "data": {
      "text/html": [
       "<div>\n",
       "<style scoped>\n",
       "    .dataframe tbody tr th:only-of-type {\n",
       "        vertical-align: middle;\n",
       "    }\n",
       "\n",
       "    .dataframe tbody tr th {\n",
       "        vertical-align: top;\n",
       "    }\n",
       "\n",
       "    .dataframe thead th {\n",
       "        text-align: right;\n",
       "    }\n",
       "</style>\n",
       "<table border=\"1\" class=\"dataframe\">\n",
       "  <thead>\n",
       "    <tr style=\"text-align: right;\">\n",
       "      <th></th>\n",
       "      <th>description</th>\n",
       "      <th>title</th>\n",
       "      <th>genres</th>\n",
       "      <th>release_year</th>\n",
       "      <th>id</th>\n",
       "      <th>similarity_score</th>\n",
       "    </tr>\n",
       "  </thead>\n",
       "  <tbody>\n",
       "    <tr>\n",
       "      <th>0</th>\n",
       "      <td>In this romantic comedy, several friends, each dealing with unhappy love lives, turn to each other for help - but not always with the best results.</td>\n",
       "      <td>F*ck Love Too</td>\n",
       "      <td>comedy romance</td>\n",
       "      <td>2022</td>\n",
       "      <td>tm1203307</td>\n",
       "      <td>0.523558</td>\n",
       "    </tr>\n",
       "    <tr>\n",
       "      <th>1</th>\n",
       "      <td>An LA girl, unlucky in love, falls for an East Coast guy on a dating app and decides to surprise him for the holidays, only to discover that she's been catfished. This lighthearted roman...</td>\n",
       "      <td>Love Hard</td>\n",
       "      <td>romance comedy</td>\n",
       "      <td>2021</td>\n",
       "      <td>tm1093099</td>\n",
       "      <td>0.497132</td>\n",
       "    </tr>\n",
       "    <tr>\n",
       "      <th>2</th>\n",
       "      <td>A relatable romance drama about a couple in their 30s preparing for marriage. While they were expecting a happy ending like something out of a fairy tale, the reality of their preparatio...</td>\n",
       "      <td>Welcome to Wedding Hell</td>\n",
       "      <td>drama romance</td>\n",
       "      <td>2022</td>\n",
       "      <td>ts344043</td>\n",
       "      <td>0.487172</td>\n",
       "    </tr>\n",
       "    <tr>\n",
       "      <th>3</th>\n",
       "      <td>This black humor pan-Arabic anthology series is about love in general – and relationships in particular.</td>\n",
       "      <td>Love, Life &amp; Everything in Between</td>\n",
       "      <td>comedy drama romance</td>\n",
       "      <td>2022</td>\n",
       "      <td>ts329711</td>\n",
       "      <td>0.484842</td>\n",
       "    </tr>\n",
       "    <tr>\n",
       "      <th>4</th>\n",
       "      <td>Short films follow young adults as they navigate the gamut of emotions that come with finding romantic connection in unexpected places.</td>\n",
       "      <td>Feels Like Ishq</td>\n",
       "      <td>drama romance comedy</td>\n",
       "      <td>2021</td>\n",
       "      <td>ts283610</td>\n",
       "      <td>0.483909</td>\n",
       "    </tr>\n",
       "    <tr>\n",
       "      <th>5</th>\n",
       "      <td>Incurable romantic Lotte's life is upended when her plans for a picture-perfect wedding unravel--just as her self-absorbed sister gets engaged.</td>\n",
       "      <td>Just Say Yes</td>\n",
       "      <td>comedy romance</td>\n",
       "      <td>2021</td>\n",
       "      <td>tm904862</td>\n",
       "      <td>0.481923</td>\n",
       "    </tr>\n",
       "    <tr>\n",
       "      <th>6</th>\n",
       "      <td>In pursuit of both success and validation, a group of tech-savvy individuals juggle intimate encounters, first impressions and romantic opportunities.</td>\n",
       "      <td>Slay</td>\n",
       "      <td>romance comedy</td>\n",
       "      <td>2021</td>\n",
       "      <td>tm1038025</td>\n",
       "      <td>0.481751</td>\n",
       "    </tr>\n",
       "    <tr>\n",
       "      <th>7</th>\n",
       "      <td>In this rom-com challenging the concept of soulmates, parallel storylines portray four single friends as they pair up in different couple combinations.</td>\n",
       "      <td>Four to Dinner</td>\n",
       "      <td>comedy romance</td>\n",
       "      <td>2022</td>\n",
       "      <td>tm1137862</td>\n",
       "      <td>0.477245</td>\n",
       "    </tr>\n",
       "    <tr>\n",
       "      <th>8</th>\n",
       "      <td>Aspiring pop star Erica ends up as the entertainment at her ex-fiancé’s wedding after reluctantly taking a gig at a luxurious island resort while in the wake of a music career meltdown.</td>\n",
       "      <td>Resort to Love</td>\n",
       "      <td>romance comedy</td>\n",
       "      <td>2021</td>\n",
       "      <td>tm1037704</td>\n",
       "      <td>0.476527</td>\n",
       "    </tr>\n",
       "    <tr>\n",
       "      <th>9</th>\n",
       "      <td>Guille decides it's time to take the next step and that's how she looks to marry her sweetheart, but things get complicated and nothing goes as planned.</td>\n",
       "      <td>Let's Tie the Knot, Honey!</td>\n",
       "      <td>comedy romance</td>\n",
       "      <td>2022</td>\n",
       "      <td>tm1204412</td>\n",
       "      <td>0.474851</td>\n",
       "    </tr>\n",
       "  </tbody>\n",
       "</table>\n",
       "</div>"
      ],
      "text/plain": [
       "                                                                                                                                                                                     description  \\\n",
       "0                                            In this romantic comedy, several friends, each dealing with unhappy love lives, turn to each other for help - but not always with the best results.   \n",
       "1  An LA girl, unlucky in love, falls for an East Coast guy on a dating app and decides to surprise him for the holidays, only to discover that she's been catfished. This lighthearted roman...   \n",
       "2  A relatable romance drama about a couple in their 30s preparing for marriage. While they were expecting a happy ending like something out of a fairy tale, the reality of their preparatio...   \n",
       "3                                                                                       This black humor pan-Arabic anthology series is about love in general – and relationships in particular.   \n",
       "4                                                        Short films follow young adults as they navigate the gamut of emotions that come with finding romantic connection in unexpected places.   \n",
       "5                                                Incurable romantic Lotte's life is upended when her plans for a picture-perfect wedding unravel--just as her self-absorbed sister gets engaged.   \n",
       "6                                         In pursuit of both success and validation, a group of tech-savvy individuals juggle intimate encounters, first impressions and romantic opportunities.   \n",
       "7                                        In this rom-com challenging the concept of soulmates, parallel storylines portray four single friends as they pair up in different couple combinations.   \n",
       "8      Aspiring pop star Erica ends up as the entertainment at her ex-fiancé’s wedding after reluctantly taking a gig at a luxurious island resort while in the wake of a music career meltdown.   \n",
       "9                                       Guille decides it's time to take the next step and that's how she looks to marry her sweetheart, but things get complicated and nothing goes as planned.   \n",
       "\n",
       "                                title                genres  release_year  \\\n",
       "0                       F*ck Love Too        comedy romance          2022   \n",
       "1                           Love Hard        romance comedy          2021   \n",
       "2             Welcome to Wedding Hell         drama romance          2022   \n",
       "3  Love, Life & Everything in Between  comedy drama romance          2022   \n",
       "4                     Feels Like Ishq  drama romance comedy          2021   \n",
       "5                        Just Say Yes        comedy romance          2021   \n",
       "6                                Slay        romance comedy          2021   \n",
       "7                      Four to Dinner        comedy romance          2022   \n",
       "8                      Resort to Love        romance comedy          2021   \n",
       "9          Let's Tie the Knot, Honey!        comedy romance          2022   \n",
       "\n",
       "          id  similarity_score  \n",
       "0  tm1203307          0.523558  \n",
       "1  tm1093099          0.497132  \n",
       "2   ts344043          0.487172  \n",
       "3   ts329711          0.484842  \n",
       "4   ts283610          0.483909  \n",
       "5   tm904862          0.481923  \n",
       "6  tm1038025          0.481751  \n",
       "7  tm1137862          0.477245  \n",
       "8  tm1037704          0.476527  \n",
       "9  tm1204412          0.474851  "
      ]
     },
     "execution_count": 18,
     "metadata": {},
     "output_type": "execute_result"
    }
   ],
   "source": [
    "result = app.query(\n",
    "    simple_query,\n",
    "    query_text=\"Heartfelt romantic comedy\",\n",
    "    description_weight=1,\n",
    "    title_weight=0.1,\n",
    "    genre_weight=2,\n",
    "    recency_weight=1,\n",
    "    limit=TOP_N,\n",
    ")\n",
    "\n",
    "present_result(result)"
   ]
  },
  {
   "cell_type": "markdown",
   "id": "7f213c52-900a-4a1b-9e02-9d681df7735b",
   "metadata": {},
   "source": [
    "With the advanced query, I can even supply different search terms for each attribute of the movie."
   ]
  },
  {
   "cell_type": "code",
   "execution_count": 19,
   "id": "1734d57b-5dbc-4c4c-a777-8be6717c3e6b",
   "metadata": {},
   "outputs": [
    {
     "data": {
      "text/html": [
       "<div>\n",
       "<style scoped>\n",
       "    .dataframe tbody tr th:only-of-type {\n",
       "        vertical-align: middle;\n",
       "    }\n",
       "\n",
       "    .dataframe tbody tr th {\n",
       "        vertical-align: top;\n",
       "    }\n",
       "\n",
       "    .dataframe thead th {\n",
       "        text-align: right;\n",
       "    }\n",
       "</style>\n",
       "<table border=\"1\" class=\"dataframe\">\n",
       "  <thead>\n",
       "    <tr style=\"text-align: right;\">\n",
       "      <th></th>\n",
       "      <th>description</th>\n",
       "      <th>title</th>\n",
       "      <th>genres</th>\n",
       "      <th>release_year</th>\n",
       "      <th>id</th>\n",
       "      <th>similarity_score</th>\n",
       "    </tr>\n",
       "  </thead>\n",
       "  <tbody>\n",
       "    <tr>\n",
       "      <th>0</th>\n",
       "      <td>'Love Actually' follows the lives of eight very different couples dealing with their love lives, in various loosely and interrelated tales, all set during a frantic month before Christma...</td>\n",
       "      <td>Love Actually</td>\n",
       "      <td>drama comedy romance</td>\n",
       "      <td>2003</td>\n",
       "      <td>tm133767</td>\n",
       "      <td>0.685763</td>\n",
       "    </tr>\n",
       "    <tr>\n",
       "      <th>1</th>\n",
       "      <td>Rebellious Mickey and good-natured Gus navigate the thrills and agonies of modern relationships.</td>\n",
       "      <td>Love</td>\n",
       "      <td>comedy drama romance</td>\n",
       "      <td>2016</td>\n",
       "      <td>ts38511</td>\n",
       "      <td>0.653285</td>\n",
       "    </tr>\n",
       "    <tr>\n",
       "      <th>2</th>\n",
       "      <td>An LA girl, unlucky in love, falls for an East Coast guy on a dating app and decides to surprise him for the holidays, only to discover that she's been catfished. This lighthearted roman...</td>\n",
       "      <td>Love Hard</td>\n",
       "      <td>romance comedy</td>\n",
       "      <td>2021</td>\n",
       "      <td>tm1093099</td>\n",
       "      <td>0.607638</td>\n",
       "    </tr>\n",
       "    <tr>\n",
       "      <th>3</th>\n",
       "      <td>Romantic anthology web series revolving around 12 stories of 12 months of young people on their paths to love.</td>\n",
       "      <td>Love Daily</td>\n",
       "      <td>drama romance</td>\n",
       "      <td>2018</td>\n",
       "      <td>ts90869</td>\n",
       "      <td>0.606869</td>\n",
       "    </tr>\n",
       "    <tr>\n",
       "      <th>4</th>\n",
       "      <td>Adam and Marklin’s 5-year relationship has gone from a passionate flame to a simmer, forcing them to reconcile with each other’s shortcomings while their friends endlessly search for lov...</td>\n",
       "      <td>Almost Love</td>\n",
       "      <td>comedy drama romance</td>\n",
       "      <td>2019</td>\n",
       "      <td>tm472195</td>\n",
       "      <td>0.603985</td>\n",
       "    </tr>\n",
       "    <tr>\n",
       "      <th>5</th>\n",
       "      <td>Laida Magtalas is a modern-day Belle who works hard to provide for her family while hoping that someday she will meet her prince charming and that they will live happily ever after toget...</td>\n",
       "      <td>A Very Special Love</td>\n",
       "      <td>comedy drama romance</td>\n",
       "      <td>2008</td>\n",
       "      <td>tm28024</td>\n",
       "      <td>0.598140</td>\n",
       "    </tr>\n",
       "    <tr>\n",
       "      <th>6</th>\n",
       "      <td>A rising black painter tries to break into a competitive art world while balancing an unexpected romance with an ambitious law student.</td>\n",
       "      <td>Really Love</td>\n",
       "      <td>romance drama</td>\n",
       "      <td>2020</td>\n",
       "      <td>tm946360</td>\n",
       "      <td>0.592896</td>\n",
       "    </tr>\n",
       "    <tr>\n",
       "      <th>7</th>\n",
       "      <td>Two young kids fall in love with each other. But the passion is too consuming for the parents of Jade. The parents try to stop them from seeing each other. But when this doesn't work, Da...</td>\n",
       "      <td>Endless Love</td>\n",
       "      <td>romance drama</td>\n",
       "      <td>1981</td>\n",
       "      <td>tm130586</td>\n",
       "      <td>0.590470</td>\n",
       "    </tr>\n",
       "    <tr>\n",
       "      <th>8</th>\n",
       "      <td>A young woman develops romantic feelings for her best friend, but problems arise when another gal enters the picture.</td>\n",
       "      <td>Must Be... Love</td>\n",
       "      <td>comedy romance</td>\n",
       "      <td>2013</td>\n",
       "      <td>tm188290</td>\n",
       "      <td>0.577796</td>\n",
       "    </tr>\n",
       "    <tr>\n",
       "      <th>9</th>\n",
       "      <td>Near by Christmas, in an old and charming town in Transylvania, Sebastian and Aprilia start a beautiful love story. However, nothing is as simple as it would seem. Being influenced by th...</td>\n",
       "      <td>Love Is a Story</td>\n",
       "      <td>romance european comedy</td>\n",
       "      <td>2015</td>\n",
       "      <td>tm368725</td>\n",
       "      <td>0.577175</td>\n",
       "    </tr>\n",
       "  </tbody>\n",
       "</table>\n",
       "</div>"
      ],
      "text/plain": [
       "                                                                                                                                                                                     description  \\\n",
       "0  'Love Actually' follows the lives of eight very different couples dealing with their love lives, in various loosely and interrelated tales, all set during a frantic month before Christma...   \n",
       "1                                                                                               Rebellious Mickey and good-natured Gus navigate the thrills and agonies of modern relationships.   \n",
       "2  An LA girl, unlucky in love, falls for an East Coast guy on a dating app and decides to surprise him for the holidays, only to discover that she's been catfished. This lighthearted roman...   \n",
       "3                                                                                 Romantic anthology web series revolving around 12 stories of 12 months of young people on their paths to love.   \n",
       "4  Adam and Marklin’s 5-year relationship has gone from a passionate flame to a simmer, forcing them to reconcile with each other’s shortcomings while their friends endlessly search for lov...   \n",
       "5  Laida Magtalas is a modern-day Belle who works hard to provide for her family while hoping that someday she will meet her prince charming and that they will live happily ever after toget...   \n",
       "6                                                        A rising black painter tries to break into a competitive art world while balancing an unexpected romance with an ambitious law student.   \n",
       "7  Two young kids fall in love with each other. But the passion is too consuming for the parents of Jade. The parents try to stop them from seeing each other. But when this doesn't work, Da...   \n",
       "8                                                                          A young woman develops romantic feelings for her best friend, but problems arise when another gal enters the picture.   \n",
       "9  Near by Christmas, in an old and charming town in Transylvania, Sebastian and Aprilia start a beautiful love story. However, nothing is as simple as it would seem. Being influenced by th...   \n",
       "\n",
       "                 title                   genres  release_year         id  \\\n",
       "0        Love Actually     drama comedy romance          2003   tm133767   \n",
       "1                 Love     comedy drama romance          2016    ts38511   \n",
       "2            Love Hard           romance comedy          2021  tm1093099   \n",
       "3           Love Daily            drama romance          2018    ts90869   \n",
       "4          Almost Love     comedy drama romance          2019   tm472195   \n",
       "5  A Very Special Love     comedy drama romance          2008    tm28024   \n",
       "6          Really Love            romance drama          2020   tm946360   \n",
       "7         Endless Love            romance drama          1981   tm130586   \n",
       "8      Must Be... Love           comedy romance          2013   tm188290   \n",
       "9      Love Is a Story  romance european comedy          2015   tm368725   \n",
       "\n",
       "   similarity_score  \n",
       "0          0.685763  \n",
       "1          0.653285  \n",
       "2          0.607638  \n",
       "3          0.606869  \n",
       "4          0.603985  \n",
       "5          0.598140  \n",
       "6          0.592896  \n",
       "7          0.590470  \n",
       "8          0.577796  \n",
       "9          0.577175  "
      ]
     },
     "execution_count": 19,
     "metadata": {},
     "output_type": "execute_result"
    }
   ],
   "source": [
    "result = app.query(\n",
    "    advanced_query,\n",
    "    description_query_text=\"Heartfelt lovely romantic comedy for a cold autumn evening.\",\n",
    "    title_query_text=\"love\",\n",
    "    genre_query_text=\"drama comedy romantic\",\n",
    "    description_weight=1,\n",
    "    title_weight=1,\n",
    "    genre_weight=1,\n",
    "    recency_weight=0,\n",
    "    limit=TOP_N,\n",
    ")\n",
    "\n",
    "present_result(result)"
   ]
  },
  {
   "cell_type": "markdown",
   "id": "c37b470e-760c-41c2-bcea-416f77898087",
   "metadata": {},
   "source": [
    "And even give different weights to each subsearch if I really do care that the title is related to love but I am not really emotionally attached to my description of the movie I would want to see."
   ]
  },
  {
   "cell_type": "code",
   "execution_count": 20,
   "id": "e2982995-08f7-4ac9-8398-925d8227591b",
   "metadata": {},
   "outputs": [
    {
     "data": {
      "text/html": [
       "<div>\n",
       "<style scoped>\n",
       "    .dataframe tbody tr th:only-of-type {\n",
       "        vertical-align: middle;\n",
       "    }\n",
       "\n",
       "    .dataframe tbody tr th {\n",
       "        vertical-align: top;\n",
       "    }\n",
       "\n",
       "    .dataframe thead th {\n",
       "        text-align: right;\n",
       "    }\n",
       "</style>\n",
       "<table border=\"1\" class=\"dataframe\">\n",
       "  <thead>\n",
       "    <tr style=\"text-align: right;\">\n",
       "      <th></th>\n",
       "      <th>description</th>\n",
       "      <th>title</th>\n",
       "      <th>genres</th>\n",
       "      <th>release_year</th>\n",
       "      <th>id</th>\n",
       "      <th>similarity_score</th>\n",
       "    </tr>\n",
       "  </thead>\n",
       "  <tbody>\n",
       "    <tr>\n",
       "      <th>0</th>\n",
       "      <td>Rebellious Mickey and good-natured Gus navigate the thrills and agonies of modern relationships.</td>\n",
       "      <td>Love</td>\n",
       "      <td>comedy drama romance</td>\n",
       "      <td>2016</td>\n",
       "      <td>ts38511</td>\n",
       "      <td>0.655329</td>\n",
       "    </tr>\n",
       "    <tr>\n",
       "      <th>1</th>\n",
       "      <td>'Love Actually' follows the lives of eight very different couples dealing with their love lives, in various loosely and interrelated tales, all set during a frantic month before Christma...</td>\n",
       "      <td>Love Actually</td>\n",
       "      <td>drama comedy romance</td>\n",
       "      <td>2003</td>\n",
       "      <td>tm133767</td>\n",
       "      <td>0.612040</td>\n",
       "    </tr>\n",
       "    <tr>\n",
       "      <th>2</th>\n",
       "      <td>The story of a family and the various situations navigated by a husband and wife.</td>\n",
       "      <td>Love</td>\n",
       "      <td>thriller drama</td>\n",
       "      <td>2020</td>\n",
       "      <td>tm946277</td>\n",
       "      <td>0.585873</td>\n",
       "    </tr>\n",
       "    <tr>\n",
       "      <th>3</th>\n",
       "      <td>Adam and Marklin’s 5-year relationship has gone from a passionate flame to a simmer, forcing them to reconcile with each other’s shortcomings while their friends endlessly search for lov...</td>\n",
       "      <td>Almost Love</td>\n",
       "      <td>comedy drama romance</td>\n",
       "      <td>2019</td>\n",
       "      <td>tm472195</td>\n",
       "      <td>0.558795</td>\n",
       "    </tr>\n",
       "    <tr>\n",
       "      <th>4</th>\n",
       "      <td>A rising black painter tries to break into a competitive art world while balancing an unexpected romance with an ambitious law student.</td>\n",
       "      <td>Really Love</td>\n",
       "      <td>romance drama</td>\n",
       "      <td>2020</td>\n",
       "      <td>tm946360</td>\n",
       "      <td>0.554694</td>\n",
       "    </tr>\n",
       "    <tr>\n",
       "      <th>5</th>\n",
       "      <td>Two young kids fall in love with each other. But the passion is too consuming for the parents of Jade. The parents try to stop them from seeing each other. But when this doesn't work, Da...</td>\n",
       "      <td>Endless Love</td>\n",
       "      <td>romance drama</td>\n",
       "      <td>1981</td>\n",
       "      <td>tm130586</td>\n",
       "      <td>0.552415</td>\n",
       "    </tr>\n",
       "    <tr>\n",
       "      <th>6</th>\n",
       "      <td>The story of Richard and Mildred Loving, an interracial couple, whose challenge of their anti-miscegenation arrest for their marriage in Virginia led to a legal battle that would end at ...</td>\n",
       "      <td>Loving</td>\n",
       "      <td>drama romance</td>\n",
       "      <td>2016</td>\n",
       "      <td>tm219233</td>\n",
       "      <td>0.551597</td>\n",
       "    </tr>\n",
       "    <tr>\n",
       "      <th>7</th>\n",
       "      <td>Laida Magtalas is a modern-day Belle who works hard to provide for her family while hoping that someday she will meet her prince charming and that they will live happily ever after toget...</td>\n",
       "      <td>A Very Special Love</td>\n",
       "      <td>comedy drama romance</td>\n",
       "      <td>2008</td>\n",
       "      <td>tm28024</td>\n",
       "      <td>0.541631</td>\n",
       "    </tr>\n",
       "    <tr>\n",
       "      <th>8</th>\n",
       "      <td>Love, Now is a 72 episode Taiwanese idol romance drama television series created and developed by SETTV. It stars Annie Chen, George Hu as the main leads and Bobby Dou, Harry Chang from ...</td>\n",
       "      <td>Love, Now</td>\n",
       "      <td>drama</td>\n",
       "      <td>2012</td>\n",
       "      <td>ts69208</td>\n",
       "      <td>0.535823</td>\n",
       "    </tr>\n",
       "    <tr>\n",
       "      <th>9</th>\n",
       "      <td>Ian Montes is a picture of success. Despite being a son of a shipping tycoon, Ian refused to just ride in his father's empire. He built his own real estate company and earned his first m...</td>\n",
       "      <td>A Love Story</td>\n",
       "      <td>drama romance</td>\n",
       "      <td>2007</td>\n",
       "      <td>tm76399</td>\n",
       "      <td>0.529553</td>\n",
       "    </tr>\n",
       "  </tbody>\n",
       "</table>\n",
       "</div>"
      ],
      "text/plain": [
       "                                                                                                                                                                                     description  \\\n",
       "0                                                                                               Rebellious Mickey and good-natured Gus navigate the thrills and agonies of modern relationships.   \n",
       "1  'Love Actually' follows the lives of eight very different couples dealing with their love lives, in various loosely and interrelated tales, all set during a frantic month before Christma...   \n",
       "2                                                                                                              The story of a family and the various situations navigated by a husband and wife.   \n",
       "3  Adam and Marklin’s 5-year relationship has gone from a passionate flame to a simmer, forcing them to reconcile with each other’s shortcomings while their friends endlessly search for lov...   \n",
       "4                                                        A rising black painter tries to break into a competitive art world while balancing an unexpected romance with an ambitious law student.   \n",
       "5  Two young kids fall in love with each other. But the passion is too consuming for the parents of Jade. The parents try to stop them from seeing each other. But when this doesn't work, Da...   \n",
       "6  The story of Richard and Mildred Loving, an interracial couple, whose challenge of their anti-miscegenation arrest for their marriage in Virginia led to a legal battle that would end at ...   \n",
       "7  Laida Magtalas is a modern-day Belle who works hard to provide for her family while hoping that someday she will meet her prince charming and that they will live happily ever after toget...   \n",
       "8  Love, Now is a 72 episode Taiwanese idol romance drama television series created and developed by SETTV. It stars Annie Chen, George Hu as the main leads and Bobby Dou, Harry Chang from ...   \n",
       "9  Ian Montes is a picture of success. Despite being a son of a shipping tycoon, Ian refused to just ride in his father's empire. He built his own real estate company and earned his first m...   \n",
       "\n",
       "                 title                genres  release_year        id  \\\n",
       "0                 Love  comedy drama romance          2016   ts38511   \n",
       "1        Love Actually  drama comedy romance          2003  tm133767   \n",
       "2                 Love        thriller drama          2020  tm946277   \n",
       "3          Almost Love  comedy drama romance          2019  tm472195   \n",
       "4          Really Love         romance drama          2020  tm946360   \n",
       "5         Endless Love         romance drama          1981  tm130586   \n",
       "6               Loving         drama romance          2016  tm219233   \n",
       "7  A Very Special Love  comedy drama romance          2008   tm28024   \n",
       "8            Love, Now                 drama          2012   ts69208   \n",
       "9         A Love Story         drama romance          2007   tm76399   \n",
       "\n",
       "   similarity_score  \n",
       "0          0.655329  \n",
       "1          0.612040  \n",
       "2          0.585873  \n",
       "3          0.558795  \n",
       "4          0.554694  \n",
       "5          0.552415  \n",
       "6          0.551597  \n",
       "7          0.541631  \n",
       "8          0.535823  \n",
       "9          0.529553  "
      ]
     },
     "execution_count": 20,
     "metadata": {},
     "output_type": "execute_result"
    }
   ],
   "source": [
    "result = app.query(\n",
    "    advanced_query,\n",
    "    description_query_text=\"Heartfelt lovely romantic comedy for a cold autumn evening.\",\n",
    "    title_query_text=\"love\",\n",
    "    genre_query_text=\"drama comedy romantic\",\n",
    "    description_weight=0.2,\n",
    "    title_weight=3,\n",
    "    genre_weight=1,\n",
    "    recency_weight=0,\n",
    "    limit=TOP_N,\n",
    ")\n",
    "\n",
    "present_result(result)"
   ]
  },
  {
   "cell_type": "markdown",
   "id": "cb343f08-4c5b-4dee-a41f-0944f81aeddd",
   "metadata": {},
   "source": [
    "Then I can bias again towards recent movies"
   ]
  },
  {
   "cell_type": "code",
   "execution_count": 21,
   "id": "852cdad9-c8aa-4f0c-84e5-b39975d654d6",
   "metadata": {},
   "outputs": [
    {
     "data": {
      "text/html": [
       "<div>\n",
       "<style scoped>\n",
       "    .dataframe tbody tr th:only-of-type {\n",
       "        vertical-align: middle;\n",
       "    }\n",
       "\n",
       "    .dataframe tbody tr th {\n",
       "        vertical-align: top;\n",
       "    }\n",
       "\n",
       "    .dataframe thead th {\n",
       "        text-align: right;\n",
       "    }\n",
       "</style>\n",
       "<table border=\"1\" class=\"dataframe\">\n",
       "  <thead>\n",
       "    <tr style=\"text-align: right;\">\n",
       "      <th></th>\n",
       "      <th>description</th>\n",
       "      <th>title</th>\n",
       "      <th>genres</th>\n",
       "      <th>release_year</th>\n",
       "      <th>id</th>\n",
       "      <th>similarity_score</th>\n",
       "    </tr>\n",
       "  </thead>\n",
       "  <tbody>\n",
       "    <tr>\n",
       "      <th>0</th>\n",
       "      <td>After his ad agency goes bankrupt, an indebted Fırat falls for a singer at a yoga retreat and joins her on a journey of self-realization.</td>\n",
       "      <td>Doom of Love</td>\n",
       "      <td>romance drama</td>\n",
       "      <td>2022</td>\n",
       "      <td>tm1218702</td>\n",
       "      <td>0.373493</td>\n",
       "    </tr>\n",
       "    <tr>\n",
       "      <th>1</th>\n",
       "      <td>An ad executive and a fashion designer-blogger don't believe in love, so they place a bet to make the other fall head over heels - with unusual tactics.</td>\n",
       "      <td>Love Tactics</td>\n",
       "      <td>comedy romance</td>\n",
       "      <td>2022</td>\n",
       "      <td>tm1152224</td>\n",
       "      <td>0.372208</td>\n",
       "    </tr>\n",
       "    <tr>\n",
       "      <th>2</th>\n",
       "      <td>An LA girl, unlucky in love, falls for an East Coast guy on a dating app and decides to surprise him for the holidays, only to discover that she's been catfished. This lighthearted roman...</td>\n",
       "      <td>Love Hard</td>\n",
       "      <td>romance comedy</td>\n",
       "      <td>2021</td>\n",
       "      <td>tm1093099</td>\n",
       "      <td>0.370368</td>\n",
       "    </tr>\n",
       "    <tr>\n",
       "      <th>3</th>\n",
       "      <td>Fidelity tells a story of marital fidelity, in particular the one of Carlo and Margherita, a young couple who needs to face the deflagrant consequences of an alleged betrayal. Their rela...</td>\n",
       "      <td>Devotion, a Story of Love and Desire</td>\n",
       "      <td>drama romance</td>\n",
       "      <td>2022</td>\n",
       "      <td>ts280892</td>\n",
       "      <td>0.366119</td>\n",
       "    </tr>\n",
       "    <tr>\n",
       "      <th>4</th>\n",
       "      <td>This black humor pan-Arabic anthology series is about love in general – and relationships in particular.</td>\n",
       "      <td>Love, Life &amp; Everything in Between</td>\n",
       "      <td>comedy drama romance</td>\n",
       "      <td>2022</td>\n",
       "      <td>ts329711</td>\n",
       "      <td>0.363568</td>\n",
       "    </tr>\n",
       "    <tr>\n",
       "      <th>5</th>\n",
       "      <td>A modern love story set in the near future where an AI building is powered by human feelings. Due to a software glitch, it falls in love with a real girl, escapes the building into the b...</td>\n",
       "      <td>AI Love You</td>\n",
       "      <td>scifi comedy romance drama</td>\n",
       "      <td>2022</td>\n",
       "      <td>tm1160424</td>\n",
       "      <td>0.360696</td>\n",
       "    </tr>\n",
       "    <tr>\n",
       "      <th>6</th>\n",
       "      <td>Often (mis)guided by a cheeky imaginary wizard, an awkward and lonely 20-something struggles to get out of his own way in his quest for a girlfriend.</td>\n",
       "      <td>Eternally Confused and Eager for Love</td>\n",
       "      <td>comedy romance</td>\n",
       "      <td>2022</td>\n",
       "      <td>ts330012</td>\n",
       "      <td>0.360192</td>\n",
       "    </tr>\n",
       "    <tr>\n",
       "      <th>7</th>\n",
       "      <td>The story of a family and the various situations navigated by a husband and wife.</td>\n",
       "      <td>Love</td>\n",
       "      <td>thriller drama</td>\n",
       "      <td>2020</td>\n",
       "      <td>tm946277</td>\n",
       "      <td>0.356950</td>\n",
       "    </tr>\n",
       "    <tr>\n",
       "      <th>8</th>\n",
       "      <td>Fashion assistant Maca has just about got her life together after a devastating breakup, when Leo, the man who broke her heart returns. Seeking support from best friends, Adriana and Jim...</td>\n",
       "      <td>Sounds Like Love</td>\n",
       "      <td>comedy music romance drama</td>\n",
       "      <td>2021</td>\n",
       "      <td>tm876608</td>\n",
       "      <td>0.352082</td>\n",
       "    </tr>\n",
       "    <tr>\n",
       "      <th>9</th>\n",
       "      <td>Haruto Asakura falls in love with hairdresser Misaki Ariake and asks her out. Watching Misaki Ariake work hard to achieve what she wants, Haruto Asakura, who almost gave up his dream to ...</td>\n",
       "      <td>Love Like the Falling Petals</td>\n",
       "      <td>drama romance</td>\n",
       "      <td>2022</td>\n",
       "      <td>tm1119015</td>\n",
       "      <td>0.348676</td>\n",
       "    </tr>\n",
       "  </tbody>\n",
       "</table>\n",
       "</div>"
      ],
      "text/plain": [
       "                                                                                                                                                                                     description  \\\n",
       "0                                                      After his ad agency goes bankrupt, an indebted Fırat falls for a singer at a yoga retreat and joins her on a journey of self-realization.   \n",
       "1                                       An ad executive and a fashion designer-blogger don't believe in love, so they place a bet to make the other fall head over heels - with unusual tactics.   \n",
       "2  An LA girl, unlucky in love, falls for an East Coast guy on a dating app and decides to surprise him for the holidays, only to discover that she's been catfished. This lighthearted roman...   \n",
       "3  Fidelity tells a story of marital fidelity, in particular the one of Carlo and Margherita, a young couple who needs to face the deflagrant consequences of an alleged betrayal. Their rela...   \n",
       "4                                                                                       This black humor pan-Arabic anthology series is about love in general – and relationships in particular.   \n",
       "5  A modern love story set in the near future where an AI building is powered by human feelings. Due to a software glitch, it falls in love with a real girl, escapes the building into the b...   \n",
       "6                                          Often (mis)guided by a cheeky imaginary wizard, an awkward and lonely 20-something struggles to get out of his own way in his quest for a girlfriend.   \n",
       "7                                                                                                              The story of a family and the various situations navigated by a husband and wife.   \n",
       "8  Fashion assistant Maca has just about got her life together after a devastating breakup, when Leo, the man who broke her heart returns. Seeking support from best friends, Adriana and Jim...   \n",
       "9  Haruto Asakura falls in love with hairdresser Misaki Ariake and asks her out. Watching Misaki Ariake work hard to achieve what she wants, Haruto Asakura, who almost gave up his dream to ...   \n",
       "\n",
       "                                   title                      genres  \\\n",
       "0                           Doom of Love               romance drama   \n",
       "1                           Love Tactics              comedy romance   \n",
       "2                              Love Hard              romance comedy   \n",
       "3   Devotion, a Story of Love and Desire               drama romance   \n",
       "4     Love, Life & Everything in Between        comedy drama romance   \n",
       "5                            AI Love You  scifi comedy romance drama   \n",
       "6  Eternally Confused and Eager for Love              comedy romance   \n",
       "7                                   Love              thriller drama   \n",
       "8                       Sounds Like Love  comedy music romance drama   \n",
       "9           Love Like the Falling Petals               drama romance   \n",
       "\n",
       "   release_year         id  similarity_score  \n",
       "0          2022  tm1218702          0.373493  \n",
       "1          2022  tm1152224          0.372208  \n",
       "2          2021  tm1093099          0.370368  \n",
       "3          2022   ts280892          0.366119  \n",
       "4          2022   ts329711          0.363568  \n",
       "5          2022  tm1160424          0.360696  \n",
       "6          2022   ts330012          0.360192  \n",
       "7          2020   tm946277          0.356950  \n",
       "8          2021   tm876608          0.352082  \n",
       "9          2022  tm1119015          0.348676  "
      ]
     },
     "execution_count": 21,
     "metadata": {},
     "output_type": "execute_result"
    }
   ],
   "source": [
    "result = app.query(\n",
    "    advanced_query,\n",
    "    description_query_text=\"Heartfelt lovely romantic comedy for a cold autumn evening.\",\n",
    "    title_query_text=\"love\",\n",
    "    genre_query_text=\"drama comedy romantic\",\n",
    "    description_weight=0.2,\n",
    "    title_weight=3,\n",
    "    genre_weight=1,\n",
    "    recency_weight=5,\n",
    "    limit=TOP_N,\n",
    ")\n",
    "\n",
    "present_result(result)"
   ]
  },
  {
   "cell_type": "markdown",
   "id": "04219f19-6857-4822-bf61-32f3893df736",
   "metadata": {},
   "source": [
    "Or maybe to older ones"
   ]
  },
  {
   "cell_type": "code",
   "execution_count": 22,
   "id": "7033a82a-5f04-4c7b-aa7c-e3122d8c7709",
   "metadata": {},
   "outputs": [
    {
     "data": {
      "text/html": [
       "<div>\n",
       "<style scoped>\n",
       "    .dataframe tbody tr th:only-of-type {\n",
       "        vertical-align: middle;\n",
       "    }\n",
       "\n",
       "    .dataframe tbody tr th {\n",
       "        vertical-align: top;\n",
       "    }\n",
       "\n",
       "    .dataframe thead th {\n",
       "        text-align: right;\n",
       "    }\n",
       "</style>\n",
       "<table border=\"1\" class=\"dataframe\">\n",
       "  <thead>\n",
       "    <tr style=\"text-align: right;\">\n",
       "      <th></th>\n",
       "      <th>description</th>\n",
       "      <th>title</th>\n",
       "      <th>genres</th>\n",
       "      <th>release_year</th>\n",
       "      <th>id</th>\n",
       "      <th>similarity_score</th>\n",
       "    </tr>\n",
       "  </thead>\n",
       "  <tbody>\n",
       "    <tr>\n",
       "      <th>0</th>\n",
       "      <td>Two young kids fall in love with each other. But the passion is too consuming for the parents of Jade. The parents try to stop them from seeing each other. But when this doesn't work, Da...</td>\n",
       "      <td>Endless Love</td>\n",
       "      <td>romance drama</td>\n",
       "      <td>1981</td>\n",
       "      <td>tm130586</td>\n",
       "      <td>0.300280</td>\n",
       "    </tr>\n",
       "    <tr>\n",
       "      <th>1</th>\n",
       "      <td>Anil, a street singer, is humiliated and driven out of Bombay along with his mother. However, he soon becomes a famous performer but the enemies from his past try to destroy his hard-ear...</td>\n",
       "      <td>Disco Dancer</td>\n",
       "      <td>drama romance</td>\n",
       "      <td>1982</td>\n",
       "      <td>tm52815</td>\n",
       "      <td>0.258539</td>\n",
       "    </tr>\n",
       "    <tr>\n",
       "      <th>2</th>\n",
       "      <td>An honest man dreams of a better life for his family, but a childhood friend leads him into a world of crime that keeps happiness just out of reach.</td>\n",
       "      <td>Ujala</td>\n",
       "      <td>romance crime drama</td>\n",
       "      <td>1959</td>\n",
       "      <td>tm358653</td>\n",
       "      <td>0.257860</td>\n",
       "    </tr>\n",
       "    <tr>\n",
       "      <th>3</th>\n",
       "      <td>Two talented song-and-dance men team up after the war to become one of the hottest acts in show business. In time they befriend and become romantically involved with the beautiful Haynes...</td>\n",
       "      <td>White Christmas</td>\n",
       "      <td>romance comedy</td>\n",
       "      <td>1954</td>\n",
       "      <td>tm16479</td>\n",
       "      <td>0.254693</td>\n",
       "    </tr>\n",
       "    <tr>\n",
       "      <th>4</th>\n",
       "      <td>Brian Cohen is an average young Jewish man, but through a series of ridiculous events, he gains a reputation as the Messiah. When he's not dodging his followers or being scolded by his s...</td>\n",
       "      <td>Life of Brian</td>\n",
       "      <td>comedy</td>\n",
       "      <td>1979</td>\n",
       "      <td>tm70993</td>\n",
       "      <td>0.252692</td>\n",
       "    </tr>\n",
       "    <tr>\n",
       "      <th>5</th>\n",
       "      <td>Geeky student Arnie Cunningham falls for Christine, a rusty 1958 Plymouth Fury, and becomes obsessed with restoring the classic automobile to her former glory. As the car changes, so doe...</td>\n",
       "      <td>Christine</td>\n",
       "      <td>horror thriller european</td>\n",
       "      <td>1983</td>\n",
       "      <td>tm54450</td>\n",
       "      <td>0.252198</td>\n",
       "    </tr>\n",
       "    <tr>\n",
       "      <th>6</th>\n",
       "      <td>Maharaj Brajbhan lives a wealthy lifestyle in Bharatpur, India along with his wife, Badi Rani, but have been unable to conceive for Bharatpur, and have no choice but to leave it's reigns...</td>\n",
       "      <td>Bandie</td>\n",
       "      <td>drama action romance</td>\n",
       "      <td>1978</td>\n",
       "      <td>tm16812</td>\n",
       "      <td>0.251707</td>\n",
       "    </tr>\n",
       "    <tr>\n",
       "      <th>7</th>\n",
       "      <td>Two small children and a ship's cook survive a shipwreck and find safety on an idyllic tropical island. Soon, however, the cook dies and the young boy and girl are left on their own. Day...</td>\n",
       "      <td>The Blue Lagoon</td>\n",
       "      <td>romance action drama</td>\n",
       "      <td>1980</td>\n",
       "      <td>tm98978</td>\n",
       "      <td>0.247627</td>\n",
       "    </tr>\n",
       "    <tr>\n",
       "      <th>8</th>\n",
       "      <td>In the 1930s, bored waitress Bonnie Parker falls in love with an ex-con named Clyde Barrow and together they start a violent crime spree through the country, stealing cars and robbing ba...</td>\n",
       "      <td>Bonnie and Clyde</td>\n",
       "      <td>crime drama action</td>\n",
       "      <td>1967</td>\n",
       "      <td>tm119281</td>\n",
       "      <td>0.247115</td>\n",
       "    </tr>\n",
       "    <tr>\n",
       "      <th>9</th>\n",
       "      <td>Ragab, a poor sailor, returns home to Alexandria after three years of absence, during which he tried to save money to marry his one true love, Hamedah. But there's trouble on the harbor,...</td>\n",
       "      <td>Dark Waters</td>\n",
       "      <td>action drama romance thriller</td>\n",
       "      <td>1956</td>\n",
       "      <td>tm204541</td>\n",
       "      <td>0.246552</td>\n",
       "    </tr>\n",
       "  </tbody>\n",
       "</table>\n",
       "</div>"
      ],
      "text/plain": [
       "                                                                                                                                                                                     description  \\\n",
       "0  Two young kids fall in love with each other. But the passion is too consuming for the parents of Jade. The parents try to stop them from seeing each other. But when this doesn't work, Da...   \n",
       "1  Anil, a street singer, is humiliated and driven out of Bombay along with his mother. However, he soon becomes a famous performer but the enemies from his past try to destroy his hard-ear...   \n",
       "2                                           An honest man dreams of a better life for his family, but a childhood friend leads him into a world of crime that keeps happiness just out of reach.   \n",
       "3  Two talented song-and-dance men team up after the war to become one of the hottest acts in show business. In time they befriend and become romantically involved with the beautiful Haynes...   \n",
       "4  Brian Cohen is an average young Jewish man, but through a series of ridiculous events, he gains a reputation as the Messiah. When he's not dodging his followers or being scolded by his s...   \n",
       "5  Geeky student Arnie Cunningham falls for Christine, a rusty 1958 Plymouth Fury, and becomes obsessed with restoring the classic automobile to her former glory. As the car changes, so doe...   \n",
       "6  Maharaj Brajbhan lives a wealthy lifestyle in Bharatpur, India along with his wife, Badi Rani, but have been unable to conceive for Bharatpur, and have no choice but to leave it's reigns...   \n",
       "7  Two small children and a ship's cook survive a shipwreck and find safety on an idyllic tropical island. Soon, however, the cook dies and the young boy and girl are left on their own. Day...   \n",
       "8  In the 1930s, bored waitress Bonnie Parker falls in love with an ex-con named Clyde Barrow and together they start a violent crime spree through the country, stealing cars and robbing ba...   \n",
       "9  Ragab, a poor sailor, returns home to Alexandria after three years of absence, during which he tried to save money to marry his one true love, Hamedah. But there's trouble on the harbor,...   \n",
       "\n",
       "              title                         genres  release_year        id  \\\n",
       "0      Endless Love                  romance drama          1981  tm130586   \n",
       "1      Disco Dancer                  drama romance          1982   tm52815   \n",
       "2             Ujala            romance crime drama          1959  tm358653   \n",
       "3   White Christmas                 romance comedy          1954   tm16479   \n",
       "4     Life of Brian                         comedy          1979   tm70993   \n",
       "5         Christine       horror thriller european          1983   tm54450   \n",
       "6            Bandie           drama action romance          1978   tm16812   \n",
       "7   The Blue Lagoon           romance action drama          1980   tm98978   \n",
       "8  Bonnie and Clyde             crime drama action          1967  tm119281   \n",
       "9       Dark Waters  action drama romance thriller          1956  tm204541   \n",
       "\n",
       "   similarity_score  \n",
       "0          0.300280  \n",
       "1          0.258539  \n",
       "2          0.257860  \n",
       "3          0.254693  \n",
       "4          0.252692  \n",
       "5          0.252198  \n",
       "6          0.251707  \n",
       "7          0.247627  \n",
       "8          0.247115  \n",
       "9          0.246552  "
      ]
     },
     "execution_count": 22,
     "metadata": {},
     "output_type": "execute_result"
    }
   ],
   "source": [
    "result = app.query(\n",
    "    advanced_query,\n",
    "    description_query_text=\"Heartfelt lovely romantic comedy for a cold autumn evening.\",\n",
    "    title_query_text=\"love\",\n",
    "    genre_query_text=\"drama comedy romantic\",\n",
    "    description_weight=0.2,\n",
    "    title_weight=3,\n",
    "    genre_weight=1,\n",
    "    recency_weight=-10,\n",
    "    limit=TOP_N,\n",
    ")\n",
    "\n",
    "present_result(result)"
   ]
  },
  {
   "cell_type": "markdown",
   "id": "9a922c32-891a-4826-ab0e-fc5f091e4791",
   "metadata": {},
   "source": [
    "notice that every movie before 1984 has the same recency score as our largest period time is 40 years."
   ]
  },
  {
   "cell_type": "markdown",
   "id": "6c86e22d-77d0-41a8-bc94-526bf341622a",
   "metadata": {},
   "source": [
    "### Search with a movie and queries\n",
    "\n",
    "Now I found a movie in the last result set that I have already seen but I would love something similar. White Christmas (1954) is a story about people forming a rock-band and of course there is some love along the way. It has the id \"tm16479\".\n",
    "\n",
    "I can query my dataset using this movie, too! Let's adjust the defined query first:"
   ]
  },
  {
   "cell_type": "code",
   "execution_count": 23,
   "id": "bd21e6cf-c901-469c-a59f-7aa0905e8157",
   "metadata": {},
   "outputs": [],
   "source": [
    "with_movie_query = advanced_query.with_vector(movie, sl.Param(\"movie_id\"))"
   ]
  },
  {
   "cell_type": "markdown",
   "id": "5ec8badd-1082-4512-8953-c2c6e187f653",
   "metadata": {},
   "source": [
    "with this modification, I can add a movie from the dataset to the search.\n",
    "\n",
    "Let's first just focus on movies with similar descriptions. The first result will of course be the movie we are searching with."
   ]
  },
  {
   "cell_type": "code",
   "execution_count": 24,
   "id": "c957320a-9ab2-4377-b14b-48d6e7e564b6",
   "metadata": {},
   "outputs": [
    {
     "data": {
      "text/html": [
       "<div>\n",
       "<style scoped>\n",
       "    .dataframe tbody tr th:only-of-type {\n",
       "        vertical-align: middle;\n",
       "    }\n",
       "\n",
       "    .dataframe tbody tr th {\n",
       "        vertical-align: top;\n",
       "    }\n",
       "\n",
       "    .dataframe thead th {\n",
       "        text-align: right;\n",
       "    }\n",
       "</style>\n",
       "<table border=\"1\" class=\"dataframe\">\n",
       "  <thead>\n",
       "    <tr style=\"text-align: right;\">\n",
       "      <th></th>\n",
       "      <th>description</th>\n",
       "      <th>title</th>\n",
       "      <th>genres</th>\n",
       "      <th>release_year</th>\n",
       "      <th>id</th>\n",
       "      <th>similarity_score</th>\n",
       "    </tr>\n",
       "  </thead>\n",
       "  <tbody>\n",
       "    <tr>\n",
       "      <th>0</th>\n",
       "      <td>Two talented song-and-dance men team up after the war to become one of the hottest acts in show business. In time they befriend and become romantically involved with the beautiful Haynes...</td>\n",
       "      <td>White Christmas</td>\n",
       "      <td>romance comedy</td>\n",
       "      <td>1954</td>\n",
       "      <td>tm16479</td>\n",
       "      <td>0.320335</td>\n",
       "    </tr>\n",
       "    <tr>\n",
       "      <th>1</th>\n",
       "      <td>On a bet, a gridiron hero at John Hughes High School sets out to turn a bespectacled plain Jane into a beautiful and popular prom queen in this outrageous send-up of the teen movies of t...</td>\n",
       "      <td>Not Another Teen Movie</td>\n",
       "      <td>comedy</td>\n",
       "      <td>2001</td>\n",
       "      <td>tm58382</td>\n",
       "      <td>0.197771</td>\n",
       "    </tr>\n",
       "    <tr>\n",
       "      <th>2</th>\n",
       "      <td>A visionary, innovator, and originator who defied categorization and embodied the word cool—a foray into the life and career of musical and cultural icon Miles Davis.</td>\n",
       "      <td>Miles Davis: Birth of the Cool</td>\n",
       "      <td>documentation music</td>\n",
       "      <td>2019</td>\n",
       "      <td>tm446625</td>\n",
       "      <td>0.195352</td>\n",
       "    </tr>\n",
       "    <tr>\n",
       "      <th>3</th>\n",
       "      <td>A loud poem. A whimsical western tale of music and love.</td>\n",
       "      <td>Paradox</td>\n",
       "      <td>western fantasy music</td>\n",
       "      <td>2018</td>\n",
       "      <td>tm370440</td>\n",
       "      <td>0.193642</td>\n",
       "    </tr>\n",
       "    <tr>\n",
       "      <th>4</th>\n",
       "      <td>A dream of the hope for intimacy and love in a brutal, divisive world.</td>\n",
       "      <td>Condom Lead</td>\n",
       "      <td>drama</td>\n",
       "      <td>2013</td>\n",
       "      <td>tm1036195</td>\n",
       "      <td>0.189571</td>\n",
       "    </tr>\n",
       "    <tr>\n",
       "      <th>5</th>\n",
       "      <td>Comedies Honest, introspective comic Simon Amstell digs deep and delivers a uniquely vulnerable stand-up set on love, ego, intimacy and ayahuasca.</td>\n",
       "      <td>Simon Amstell: Set Free</td>\n",
       "      <td>comedy</td>\n",
       "      <td>2019</td>\n",
       "      <td>tm825952</td>\n",
       "      <td>0.187296</td>\n",
       "    </tr>\n",
       "    <tr>\n",
       "      <th>6</th>\n",
       "      <td>Trip, a young roadie for Metallica, is sent on an urgent mission during the band's show. But what seems like a simple assignment turns into a surreal adventure.</td>\n",
       "      <td>Metallica: Through the Never</td>\n",
       "      <td>music</td>\n",
       "      <td>2013</td>\n",
       "      <td>tm171228</td>\n",
       "      <td>0.186985</td>\n",
       "    </tr>\n",
       "    <tr>\n",
       "      <th>7</th>\n",
       "      <td>Sing along and dance with Bailey, Franny, Kip, Lulu and Tilly in this collection of music videos that will get you in the mood to move and groove!</td>\n",
       "      <td>Word Party Songs</td>\n",
       "      <td>animation family</td>\n",
       "      <td>2020</td>\n",
       "      <td>ts251607</td>\n",
       "      <td>0.185923</td>\n",
       "    </tr>\n",
       "    <tr>\n",
       "      <th>8</th>\n",
       "      <td>Shoaib's life takes a precarious turn when he finds himself pitted against a younger contemporary - not just in \"business\", but in love...</td>\n",
       "      <td>Once Upon a Time in Mumbai Dobaara!</td>\n",
       "      <td>action crime drama romance</td>\n",
       "      <td>2013</td>\n",
       "      <td>tm181550</td>\n",
       "      <td>0.185790</td>\n",
       "    </tr>\n",
       "    <tr>\n",
       "      <th>9</th>\n",
       "      <td>Ronny Chieng (\"The Daily Show,\" \"Crazy Rich Asians\") takes center stage in this stand-up special and riffs on modern American life and more.</td>\n",
       "      <td>Ronny Chieng: Asian Comedian Destroys America!</td>\n",
       "      <td>comedy</td>\n",
       "      <td>2019</td>\n",
       "      <td>tm844662</td>\n",
       "      <td>0.183472</td>\n",
       "    </tr>\n",
       "  </tbody>\n",
       "</table>\n",
       "</div>"
      ],
      "text/plain": [
       "                                                                                                                                                                                     description  \\\n",
       "0  Two talented song-and-dance men team up after the war to become one of the hottest acts in show business. In time they befriend and become romantically involved with the beautiful Haynes...   \n",
       "1  On a bet, a gridiron hero at John Hughes High School sets out to turn a bespectacled plain Jane into a beautiful and popular prom queen in this outrageous send-up of the teen movies of t...   \n",
       "2                         A visionary, innovator, and originator who defied categorization and embodied the word cool—a foray into the life and career of musical and cultural icon Miles Davis.   \n",
       "3                                                                                                                                       A loud poem. A whimsical western tale of music and love.   \n",
       "4                                                                                                                         A dream of the hope for intimacy and love in a brutal, divisive world.   \n",
       "5                                             Comedies Honest, introspective comic Simon Amstell digs deep and delivers a uniquely vulnerable stand-up set on love, ego, intimacy and ayahuasca.   \n",
       "6                               Trip, a young roadie for Metallica, is sent on an urgent mission during the band's show. But what seems like a simple assignment turns into a surreal adventure.   \n",
       "7                                             Sing along and dance with Bailey, Franny, Kip, Lulu and Tilly in this collection of music videos that will get you in the mood to move and groove!   \n",
       "8                                                     Shoaib's life takes a precarious turn when he finds himself pitted against a younger contemporary - not just in \"business\", but in love...   \n",
       "9                                                   Ronny Chieng (\"The Daily Show,\" \"Crazy Rich Asians\") takes center stage in this stand-up special and riffs on modern American life and more.   \n",
       "\n",
       "                                            title                      genres  \\\n",
       "0                                 White Christmas              romance comedy   \n",
       "1                          Not Another Teen Movie                      comedy   \n",
       "2                  Miles Davis: Birth of the Cool         documentation music   \n",
       "3                                         Paradox       western fantasy music   \n",
       "4                                     Condom Lead                       drama   \n",
       "5                         Simon Amstell: Set Free                      comedy   \n",
       "6                    Metallica: Through the Never                       music   \n",
       "7                                Word Party Songs            animation family   \n",
       "8             Once Upon a Time in Mumbai Dobaara!  action crime drama romance   \n",
       "9  Ronny Chieng: Asian Comedian Destroys America!                      comedy   \n",
       "\n",
       "   release_year         id  similarity_score  \n",
       "0          1954    tm16479          0.320335  \n",
       "1          2001    tm58382          0.197771  \n",
       "2          2019   tm446625          0.195352  \n",
       "3          2018   tm370440          0.193642  \n",
       "4          2013  tm1036195          0.189571  \n",
       "5          2019   tm825952          0.187296  \n",
       "6          2013   tm171228          0.186985  \n",
       "7          2020   ts251607          0.185923  \n",
       "8          2013   tm181550          0.185790  \n",
       "9          2019   tm844662          0.183472  "
      ]
     },
     "execution_count": 24,
     "metadata": {},
     "output_type": "execute_result"
    }
   ],
   "source": [
    "result = app.query(\n",
    "    with_movie_query,\n",
    "    description_query_text=\"\",\n",
    "    title_query_text=\"\",\n",
    "    genre_query_text=\"\",\n",
    "    description_weight=1,\n",
    "    title_weight=0,\n",
    "    genre_weight=0,\n",
    "    recency_weight=0,\n",
    "    movie_id=\"tm16479\",\n",
    "    limit=TOP_N,\n",
    ")\n",
    "\n",
    "present_result(result)"
   ]
  },
  {
   "cell_type": "markdown",
   "id": "e164bc36-ac70-4dae-a00e-062c5f68fa28",
   "metadata": {},
   "source": [
    "I got back movies that focus more on the rock-band aspect of the movie. With query parameters I can try to skew the results to be more related to family."
   ]
  },
  {
   "cell_type": "code",
   "execution_count": 25,
   "id": "0ddcf7ae-70fe-453b-8ea0-8af274ec4ee5",
   "metadata": {},
   "outputs": [
    {
     "data": {
      "text/html": [
       "<div>\n",
       "<style scoped>\n",
       "    .dataframe tbody tr th:only-of-type {\n",
       "        vertical-align: middle;\n",
       "    }\n",
       "\n",
       "    .dataframe tbody tr th {\n",
       "        vertical-align: top;\n",
       "    }\n",
       "\n",
       "    .dataframe thead th {\n",
       "        text-align: right;\n",
       "    }\n",
       "</style>\n",
       "<table border=\"1\" class=\"dataframe\">\n",
       "  <thead>\n",
       "    <tr style=\"text-align: right;\">\n",
       "      <th></th>\n",
       "      <th>description</th>\n",
       "      <th>title</th>\n",
       "      <th>genres</th>\n",
       "      <th>release_year</th>\n",
       "      <th>id</th>\n",
       "      <th>similarity_score</th>\n",
       "    </tr>\n",
       "  </thead>\n",
       "  <tbody>\n",
       "    <tr>\n",
       "      <th>0</th>\n",
       "      <td>Two talented song-and-dance men team up after the war to become one of the hottest acts in show business. In time they befriend and become romantically involved with the beautiful Haynes...</td>\n",
       "      <td>White Christmas</td>\n",
       "      <td>romance comedy</td>\n",
       "      <td>1954</td>\n",
       "      <td>tm16479</td>\n",
       "      <td>0.348183</td>\n",
       "    </tr>\n",
       "    <tr>\n",
       "      <th>1</th>\n",
       "      <td>A new couple, their exes and their children navigate the emotional challenges and tricky logistics of blended family life in this Swedish dramedy.</td>\n",
       "      <td>Bonus Family</td>\n",
       "      <td>drama comedy reality family documentation music european</td>\n",
       "      <td>2017</td>\n",
       "      <td>ts55939</td>\n",
       "      <td>0.301302</td>\n",
       "    </tr>\n",
       "    <tr>\n",
       "      <th>2</th>\n",
       "      <td>An estranged family gathers together in New York for an event celebrating the artistic work of their father.</td>\n",
       "      <td>The Meyerowitz Stories (New and Selected)</td>\n",
       "      <td>comedy drama</td>\n",
       "      <td>2017</td>\n",
       "      <td>tm244206</td>\n",
       "      <td>0.300274</td>\n",
       "    </tr>\n",
       "    <tr>\n",
       "      <th>3</th>\n",
       "      <td>Reunited in their hometown for their father's funeral, two self-interested brothers meet a peculiar woman who shares a huge secret about their family.</td>\n",
       "      <td>The Bros</td>\n",
       "      <td>comedy fantasy</td>\n",
       "      <td>2017</td>\n",
       "      <td>tm357708</td>\n",
       "      <td>0.297017</td>\n",
       "    </tr>\n",
       "    <tr>\n",
       "      <th>4</th>\n",
       "      <td>Years after his father disowns his adopted brother for marrying a woman of lower social standing, a young man goes on a mission to reunite his family.</td>\n",
       "      <td>Kabhi Khushi Kabhie Gham</td>\n",
       "      <td>drama romance</td>\n",
       "      <td>2001</td>\n",
       "      <td>tm36475</td>\n",
       "      <td>0.294985</td>\n",
       "    </tr>\n",
       "    <tr>\n",
       "      <th>5</th>\n",
       "      <td>Three grown siblings must rethink their idea of family when they learn their parents are getting divorced and have their eyes on new partners.</td>\n",
       "      <td>Love Storm</td>\n",
       "      <td>family</td>\n",
       "      <td>2016</td>\n",
       "      <td>ts83449</td>\n",
       "      <td>0.291048</td>\n",
       "    </tr>\n",
       "    <tr>\n",
       "      <th>6</th>\n",
       "      <td>A dramatic story about a girl and her giving father.</td>\n",
       "      <td>Sen Benim HerŞeyimsin</td>\n",
       "      <td>comedy</td>\n",
       "      <td>2016</td>\n",
       "      <td>tm311456</td>\n",
       "      <td>0.286462</td>\n",
       "    </tr>\n",
       "    <tr>\n",
       "      <th>7</th>\n",
       "      <td>Estranged family members re-unite to determine whether to pull the family patriarch out of life support or not.</td>\n",
       "      <td>Dedemin Fişi</td>\n",
       "      <td>comedy family</td>\n",
       "      <td>2016</td>\n",
       "      <td>tm233121</td>\n",
       "      <td>0.282727</td>\n",
       "    </tr>\n",
       "    <tr>\n",
       "      <th>8</th>\n",
       "      <td>The story of a family and the various situations navigated by a husband and wife.</td>\n",
       "      <td>Love</td>\n",
       "      <td>thriller drama</td>\n",
       "      <td>2020</td>\n",
       "      <td>tm946277</td>\n",
       "      <td>0.279838</td>\n",
       "    </tr>\n",
       "    <tr>\n",
       "      <th>9</th>\n",
       "      <td>Three prosperous women -- including a mother and her daughter -- fall for a seductive man in Colombia's Coffee Triangle.</td>\n",
       "      <td>Playing with Fire</td>\n",
       "      <td>drama</td>\n",
       "      <td>2019</td>\n",
       "      <td>ts87680</td>\n",
       "      <td>0.272556</td>\n",
       "    </tr>\n",
       "  </tbody>\n",
       "</table>\n",
       "</div>"
      ],
      "text/plain": [
       "                                                                                                                                                                                     description  \\\n",
       "0  Two talented song-and-dance men team up after the war to become one of the hottest acts in show business. In time they befriend and become romantically involved with the beautiful Haynes...   \n",
       "1                                             A new couple, their exes and their children navigate the emotional challenges and tricky logistics of blended family life in this Swedish dramedy.   \n",
       "2                                                                                   An estranged family gathers together in New York for an event celebrating the artistic work of their father.   \n",
       "3                                         Reunited in their hometown for their father's funeral, two self-interested brothers meet a peculiar woman who shares a huge secret about their family.   \n",
       "4                                         Years after his father disowns his adopted brother for marrying a woman of lower social standing, a young man goes on a mission to reunite his family.   \n",
       "5                                                 Three grown siblings must rethink their idea of family when they learn their parents are getting divorced and have their eyes on new partners.   \n",
       "6                                                                                                                                           A dramatic story about a girl and her giving father.   \n",
       "7                                                                                Estranged family members re-unite to determine whether to pull the family patriarch out of life support or not.   \n",
       "8                                                                                                              The story of a family and the various situations navigated by a husband and wife.   \n",
       "9                                                                       Three prosperous women -- including a mother and her daughter -- fall for a seductive man in Colombia's Coffee Triangle.   \n",
       "\n",
       "                                       title  \\\n",
       "0                            White Christmas   \n",
       "1                               Bonus Family   \n",
       "2  The Meyerowitz Stories (New and Selected)   \n",
       "3                                   The Bros   \n",
       "4                   Kabhi Khushi Kabhie Gham   \n",
       "5                                 Love Storm   \n",
       "6                      Sen Benim HerŞeyimsin   \n",
       "7                               Dedemin Fişi   \n",
       "8                                       Love   \n",
       "9                          Playing with Fire   \n",
       "\n",
       "                                                     genres  release_year  \\\n",
       "0                                            romance comedy          1954   \n",
       "1  drama comedy reality family documentation music european          2017   \n",
       "2                                              comedy drama          2017   \n",
       "3                                            comedy fantasy          2017   \n",
       "4                                             drama romance          2001   \n",
       "5                                                    family          2016   \n",
       "6                                                    comedy          2016   \n",
       "7                                             comedy family          2016   \n",
       "8                                            thriller drama          2020   \n",
       "9                                                     drama          2019   \n",
       "\n",
       "         id  similarity_score  \n",
       "0   tm16479          0.348183  \n",
       "1   ts55939          0.301302  \n",
       "2  tm244206          0.300274  \n",
       "3  tm357708          0.297017  \n",
       "4   tm36475          0.294985  \n",
       "5   ts83449          0.291048  \n",
       "6  tm311456          0.286462  \n",
       "7  tm233121          0.282727  \n",
       "8  tm946277          0.279838  \n",
       "9   ts87680          0.272556  "
      ]
     },
     "execution_count": 25,
     "metadata": {},
     "output_type": "execute_result"
    }
   ],
   "source": [
    "result = app.query(\n",
    "    with_movie_query,\n",
    "    description_query_text=\"family\",\n",
    "    title_query_text=\"\",\n",
    "    genre_query_text=\"\",\n",
    "    description_weight=1,\n",
    "    title_weight=0,\n",
    "    genre_weight=0,\n",
    "    recency_weight=0,\n",
    "    description_query_weight=1,\n",
    "    movie_id=\"tm16479\",\n",
    "    limit=TOP_N,\n",
    ")\n",
    "\n",
    "present_result(result)"
   ]
  },
  {
   "cell_type": "markdown",
   "id": "b72f2b5e-2ee4-47e2-93d9-9ce0ca79e1b6",
   "metadata": {},
   "source": [
    "Taking a closer look at the description of these result movies, we can see that they share some aspect of the movie we are searching with - blended together with some notion of family:"
   ]
  },
  {
   "cell_type": "markdown",
   "id": "33d4cb73-1924-4653-89cc-5541a21a6fb5",
   "metadata": {},
   "source": [
    "After all, this evening I am in the mood for something light - I can also skew the results towards a specific genre: comedy"
   ]
  },
  {
   "cell_type": "code",
   "execution_count": 26,
   "id": "2efc1e79-2d13-4fae-bdf5-77a1e3d5d0c6",
   "metadata": {},
   "outputs": [
    {
     "data": {
      "text/html": [
       "<div>\n",
       "<style scoped>\n",
       "    .dataframe tbody tr th:only-of-type {\n",
       "        vertical-align: middle;\n",
       "    }\n",
       "\n",
       "    .dataframe tbody tr th {\n",
       "        vertical-align: top;\n",
       "    }\n",
       "\n",
       "    .dataframe thead th {\n",
       "        text-align: right;\n",
       "    }\n",
       "</style>\n",
       "<table border=\"1\" class=\"dataframe\">\n",
       "  <thead>\n",
       "    <tr style=\"text-align: right;\">\n",
       "      <th></th>\n",
       "      <th>description</th>\n",
       "      <th>title</th>\n",
       "      <th>genres</th>\n",
       "      <th>release_year</th>\n",
       "      <th>id</th>\n",
       "      <th>similarity_score</th>\n",
       "    </tr>\n",
       "  </thead>\n",
       "  <tbody>\n",
       "    <tr>\n",
       "      <th>0</th>\n",
       "      <td>Two talented song-and-dance men team up after the war to become one of the hottest acts in show business. In time they befriend and become romantically involved with the beautiful Haynes...</td>\n",
       "      <td>White Christmas</td>\n",
       "      <td>romance comedy</td>\n",
       "      <td>1954</td>\n",
       "      <td>tm16479</td>\n",
       "      <td>0.599050</td>\n",
       "    </tr>\n",
       "    <tr>\n",
       "      <th>1</th>\n",
       "      <td>On a bet, a gridiron hero at John Hughes High School sets out to turn a bespectacled plain Jane into a beautiful and popular prom queen in this outrageous send-up of the teen movies of t...</td>\n",
       "      <td>Not Another Teen Movie</td>\n",
       "      <td>comedy</td>\n",
       "      <td>2001</td>\n",
       "      <td>tm58382</td>\n",
       "      <td>0.566562</td>\n",
       "    </tr>\n",
       "    <tr>\n",
       "      <th>2</th>\n",
       "      <td>Get ready to scream with laughter! Sam Kinison's primal scream will echo down through the comedy hall of fame summing up so much of modernity's horror and stupidity. This concert was tap...</td>\n",
       "      <td>Sam Kinison: Family Entertainment Hour</td>\n",
       "      <td>comedy</td>\n",
       "      <td>1991</td>\n",
       "      <td>tm8687</td>\n",
       "      <td>0.558721</td>\n",
       "    </tr>\n",
       "    <tr>\n",
       "      <th>3</th>\n",
       "      <td>Brian Cohen is an average young Jewish man, but through a series of ridiculous events, he gains a reputation as the Messiah. When he's not dodging his followers or being scolded by his s...</td>\n",
       "      <td>Life of Brian</td>\n",
       "      <td>comedy</td>\n",
       "      <td>1979</td>\n",
       "      <td>tm70993</td>\n",
       "      <td>0.552322</td>\n",
       "    </tr>\n",
       "    <tr>\n",
       "      <th>4</th>\n",
       "      <td>Nerdy accountant Harold and his irrepressible friend, Kumar, get stoned watching television and find themselves utterly bewitched by a commercial for White Castle. Convinced there must b...</td>\n",
       "      <td>Harold &amp; Kumar Go to White Castle</td>\n",
       "      <td>comedy</td>\n",
       "      <td>2004</td>\n",
       "      <td>tm89036</td>\n",
       "      <td>0.550538</td>\n",
       "    </tr>\n",
       "    <tr>\n",
       "      <th>5</th>\n",
       "      <td>A sitcom about a British-Nigerian family living in Peckham, covering themes such as financial worries, Bayo Adebanjo's insistence on instilling African style discipline on his children, ...</td>\n",
       "      <td>Meet the Adebanjos</td>\n",
       "      <td>comedy</td>\n",
       "      <td>2012</td>\n",
       "      <td>ts167724</td>\n",
       "      <td>0.548235</td>\n",
       "    </tr>\n",
       "    <tr>\n",
       "      <th>6</th>\n",
       "      <td>Comedic pianist Tim Minchin performs a host of his catchy songs that touch on everything from the Middle East to the healing power of canvas bags.</td>\n",
       "      <td>Tim Minchin: So F**king Rock Live</td>\n",
       "      <td>comedy</td>\n",
       "      <td>2008</td>\n",
       "      <td>tm41953</td>\n",
       "      <td>0.548067</td>\n",
       "    </tr>\n",
       "    <tr>\n",
       "      <th>7</th>\n",
       "      <td>\"Say goodnight to the bad guys\" picks up where \"A Sh*t river runs through it\" left off. it's a year after the events of A.S.R.R.T.I and Ricky, Julian, and bubbles are rich with cash, but...</td>\n",
       "      <td>Trailer Park Boys: Say Goodnight to the Bad Guys</td>\n",
       "      <td>comedy</td>\n",
       "      <td>2008</td>\n",
       "      <td>tm56428</td>\n",
       "      <td>0.547606</td>\n",
       "    </tr>\n",
       "    <tr>\n",
       "      <th>8</th>\n",
       "      <td>What About Dick? begins with the birth of a sex toy invented in Shagistan in 1898 by Deepak Rushdie Obi Ben Kingsley (Eddie Izzard), and tells the story of the subsequent decline of the ...</td>\n",
       "      <td>What About Dick?</td>\n",
       "      <td>comedy</td>\n",
       "      <td>2012</td>\n",
       "      <td>tm72251</td>\n",
       "      <td>0.543357</td>\n",
       "    </tr>\n",
       "    <tr>\n",
       "      <th>9</th>\n",
       "      <td>A sitcom about the Ojo family, a newly-rich family that moves into a classy Lagos neighborhood. Each episode revolves around the hilarious antics of Mrs. Ojo and her obsession with keepi...</td>\n",
       "      <td>Ojo's in d' House</td>\n",
       "      <td>comedy</td>\n",
       "      <td>2013</td>\n",
       "      <td>ts261583</td>\n",
       "      <td>0.541752</td>\n",
       "    </tr>\n",
       "  </tbody>\n",
       "</table>\n",
       "</div>"
      ],
      "text/plain": [
       "                                                                                                                                                                                     description  \\\n",
       "0  Two talented song-and-dance men team up after the war to become one of the hottest acts in show business. In time they befriend and become romantically involved with the beautiful Haynes...   \n",
       "1  On a bet, a gridiron hero at John Hughes High School sets out to turn a bespectacled plain Jane into a beautiful and popular prom queen in this outrageous send-up of the teen movies of t...   \n",
       "2  Get ready to scream with laughter! Sam Kinison's primal scream will echo down through the comedy hall of fame summing up so much of modernity's horror and stupidity. This concert was tap...   \n",
       "3  Brian Cohen is an average young Jewish man, but through a series of ridiculous events, he gains a reputation as the Messiah. When he's not dodging his followers or being scolded by his s...   \n",
       "4  Nerdy accountant Harold and his irrepressible friend, Kumar, get stoned watching television and find themselves utterly bewitched by a commercial for White Castle. Convinced there must b...   \n",
       "5  A sitcom about a British-Nigerian family living in Peckham, covering themes such as financial worries, Bayo Adebanjo's insistence on instilling African style discipline on his children, ...   \n",
       "6                                             Comedic pianist Tim Minchin performs a host of his catchy songs that touch on everything from the Middle East to the healing power of canvas bags.   \n",
       "7  \"Say goodnight to the bad guys\" picks up where \"A Sh*t river runs through it\" left off. it's a year after the events of A.S.R.R.T.I and Ricky, Julian, and bubbles are rich with cash, but...   \n",
       "8  What About Dick? begins with the birth of a sex toy invented in Shagistan in 1898 by Deepak Rushdie Obi Ben Kingsley (Eddie Izzard), and tells the story of the subsequent decline of the ...   \n",
       "9  A sitcom about the Ojo family, a newly-rich family that moves into a classy Lagos neighborhood. Each episode revolves around the hilarious antics of Mrs. Ojo and her obsession with keepi...   \n",
       "\n",
       "                                              title          genres  \\\n",
       "0                                   White Christmas  romance comedy   \n",
       "1                            Not Another Teen Movie          comedy   \n",
       "2            Sam Kinison: Family Entertainment Hour          comedy   \n",
       "3                                     Life of Brian          comedy   \n",
       "4                 Harold & Kumar Go to White Castle          comedy   \n",
       "5                                Meet the Adebanjos          comedy   \n",
       "6                 Tim Minchin: So F**king Rock Live          comedy   \n",
       "7  Trailer Park Boys: Say Goodnight to the Bad Guys          comedy   \n",
       "8                                  What About Dick?          comedy   \n",
       "9                                 Ojo's in d' House          comedy   \n",
       "\n",
       "   release_year        id  similarity_score  \n",
       "0          1954   tm16479          0.599050  \n",
       "1          2001   tm58382          0.566562  \n",
       "2          1991    tm8687          0.558721  \n",
       "3          1979   tm70993          0.552322  \n",
       "4          2004   tm89036          0.550538  \n",
       "5          2012  ts167724          0.548235  \n",
       "6          2008   tm41953          0.548067  \n",
       "7          2008   tm56428          0.547606  \n",
       "8          2012   tm72251          0.543357  \n",
       "9          2013  ts261583          0.541752  "
      ]
     },
     "execution_count": 26,
     "metadata": {},
     "output_type": "execute_result"
    }
   ],
   "source": [
    "result = app.query(\n",
    "    with_movie_query,\n",
    "    description_query_text=\"\",\n",
    "    title_query_text=\"\",\n",
    "    genre_query_text=\"comedy\",\n",
    "    description_weight=1,\n",
    "    title_weight=0,\n",
    "    genre_weight=2,\n",
    "    recency_weight=0,\n",
    "    description_query_weight=1,\n",
    "    movie_id=\"tm16479\",\n",
    "    limit=TOP_N,\n",
    ")\n",
    "\n",
    "present_result(result)"
   ]
  }
 ],
 "metadata": {
  "kernelspec": {
   "display_name": "Python 3 (ipykernel)",
   "language": "python",
   "name": "python3"
  },
  "language_info": {
   "codemirror_mode": {
    "name": "ipython",
    "version": 3
   },
   "file_extension": ".py",
   "mimetype": "text/x-python",
   "name": "python",
   "nbconvert_exporter": "python",
   "pygments_lexer": "ipython3",
   "version": "3.10.9"
  }
 },
 "nbformat": 4,
 "nbformat_minor": 5
}
